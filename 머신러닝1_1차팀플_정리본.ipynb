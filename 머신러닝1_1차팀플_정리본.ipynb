{
  "nbformat": 4,
  "nbformat_minor": 0,
  "metadata": {
    "colab": {
      "provenance": [],
      "authorship_tag": "ABX9TyN4sLWYDN+iz2tMx6DtN7oq",
      "include_colab_link": true
    },
    "kernelspec": {
      "name": "python3",
      "display_name": "Python 3"
    },
    "language_info": {
      "name": "python"
    }
  },
  "cells": [
    {
      "cell_type": "markdown",
      "metadata": {
        "id": "view-in-github",
        "colab_type": "text"
      },
      "source": [
        "<a href=\"https://colab.research.google.com/github/daeun118/MachineLearning1/blob/main/%EB%A8%B8%EC%8B%A0%EB%9F%AC%EB%8B%9D1_1%EC%B0%A8%ED%8C%80%ED%94%8C_%EC%A0%95%EB%A6%AC%EB%B3%B8.ipynb\" target=\"_parent\"><img src=\"https://colab.research.google.com/assets/colab-badge.svg\" alt=\"Open In Colab\"/></a>"
      ]
    },
    {
      "cell_type": "code",
      "execution_count": 1,
      "metadata": {
        "id": "AK8nYggmxE2A"
      },
      "outputs": [],
      "source": [
        "import numpy as np\n",
        "import pandas as pd\n",
        "import seaborn as sns\n",
        "import matplotlib.pyplot as plt\n",
        "from sklearn.preprocessing import StandardScaler\n",
        "from sklearn.model_selection import train_test_split\n",
        "from xgboost import XGBClassifier\n",
        "from sklearn.metrics import accuracy_score\n",
        "from sklearn.model_selection import GridSearchCV\n",
        "from sklearn.model_selection import train_test_split\n",
        "from xgboost import XGBClassifier\n"
      ]
    },
    {
      "cell_type": "code",
      "source": [
        "# 구글드라이브 마운트\n",
        "from google.colab import drive\n",
        "drive.mount('/content/drive')"
      ],
      "metadata": {
        "colab": {
          "base_uri": "https://localhost:8080/"
        },
        "id": "w8TsqSyXxJpa",
        "outputId": "02778f13-423c-4044-8bea-c0e2334e2f3f"
      },
      "execution_count": 2,
      "outputs": [
        {
          "output_type": "stream",
          "name": "stdout",
          "text": [
            "Mounted at /content/drive\n"
          ]
        }
      ]
    },
    {
      "cell_type": "code",
      "source": [
        "data = np.load(\"/content/drive/MyDrive/train.npy\", allow_pickle=True)\n",
        "data = data.item()\n",
        "data_input = data['input']"
      ],
      "metadata": {
        "id": "sgOR-u0KxPbY"
      },
      "execution_count": 3,
      "outputs": []
    },
    {
      "cell_type": "code",
      "source": [
        "labels = data['label']"
      ],
      "metadata": {
        "id": "cbgm1BTcxRPh"
      },
      "execution_count": 4,
      "outputs": []
    },
    {
      "cell_type": "code",
      "source": [
        "data_input"
      ],
      "metadata": {
        "colab": {
          "base_uri": "https://localhost:8080/"
        },
        "collapsed": true,
        "id": "A2-ax9E6xTn8",
        "outputId": "9541c3b3-2f32-4884-e5f7-b741bd5521c3"
      },
      "execution_count": 5,
      "outputs": [
        {
          "output_type": "execute_result",
          "data": {
            "text/plain": [
              "array([[[[-2.8890e+00],\n",
              "         [-7.9550e+00],\n",
              "         [-1.6170e+00],\n",
              "         ...,\n",
              "         [ 1.9430e+00],\n",
              "         [-3.0920e+00],\n",
              "         [-1.7090e+00]],\n",
              "\n",
              "        [[-3.3770e+00],\n",
              "         [-8.9310e+00],\n",
              "         [-1.6170e+00],\n",
              "         ...,\n",
              "         [ 2.9200e+00],\n",
              "         [-3.0920e+00],\n",
              "         [ 2.4400e-01]],\n",
              "\n",
              "        [[-3.3770e+00],\n",
              "         [-8.9310e+00],\n",
              "         [-1.5300e-01],\n",
              "         ...,\n",
              "         [ 3.4080e+00],\n",
              "         [-3.0920e+00],\n",
              "         [ 2.1970e+00]],\n",
              "\n",
              "        ...,\n",
              "\n",
              "        [[ 5.9000e+00],\n",
              "         [ 3.7640e+00],\n",
              "         [-8.9420e+00],\n",
              "         ...,\n",
              "         [-1.0000e-02],\n",
              "         [ 5.2080e+00],\n",
              "         [-1.9775e+01]],\n",
              "\n",
              "        [[ 5.4120e+00],\n",
              "         [ 3.2760e+00],\n",
              "         [-1.0895e+01],\n",
              "         ...,\n",
              "         [-1.0000e-02],\n",
              "         [ 5.2080e+00],\n",
              "         [-2.1240e+01]],\n",
              "\n",
              "        [[ 5.9000e+00],\n",
              "         [ 2.7870e+00],\n",
              "         [-1.1383e+01],\n",
              "         ...,\n",
              "         [-1.0000e-02],\n",
              "         [ 5.6970e+00],\n",
              "         [-2.2217e+01]]],\n",
              "\n",
              "\n",
              "       [[[-3.8660e+00],\n",
              "         [-4.8220e+00],\n",
              "         [-7.7210e+00],\n",
              "         ...,\n",
              "         [-5.0900e-01],\n",
              "         [-4.2010e+00],\n",
              "         [-1.1090e+00]],\n",
              "\n",
              "        [[-4.8420e+00],\n",
              "         [-5.7980e+00],\n",
              "         [-1.0162e+01],\n",
              "         ...,\n",
              "         [-1.4850e+00],\n",
              "         [-4.6900e+00],\n",
              "         [-1.5970e+00]],\n",
              "\n",
              "        [[-6.7950e+00],\n",
              "         [-7.2630e+00],\n",
              "         [-1.1627e+01],\n",
              "         ...,\n",
              "         [-1.9730e+00],\n",
              "         [-6.1540e+00],\n",
              "         [-2.5740e+00]],\n",
              "\n",
              "        ...,\n",
              "\n",
              "        [[-4.6834e+01],\n",
              "         [-2.5330e+01],\n",
              "         [-3.5065e+01],\n",
              "         ...,\n",
              "         [ 1.9330e+00],\n",
              "         [-4.5705e+01],\n",
              "         [-3.5500e+00]],\n",
              "\n",
              "        [[-4.8787e+01],\n",
              "         [-2.8259e+01],\n",
              "         [-3.5065e+01],\n",
              "         ...,\n",
              "         [ 2.4210e+00],\n",
              "         [-4.8147e+01],\n",
              "         [-3.0620e+00]],\n",
              "\n",
              "        [[-5.0741e+01],\n",
              "         [-3.0212e+01],\n",
              "         [-3.5065e+01],\n",
              "         ...,\n",
              "         [ 2.9090e+00],\n",
              "         [-4.9611e+01],\n",
              "         [-3.5500e+00]]],\n",
              "\n",
              "\n",
              "       [[[-1.1600e+00],\n",
              "         [-8.8400e+00],\n",
              "         [-1.3330e+00],\n",
              "         ...,\n",
              "         [ 8.7500e-01],\n",
              "         [-7.8300e-01],\n",
              "         [ 2.6250e+00]],\n",
              "\n",
              "        [[-4.5780e+00],\n",
              "         [-1.0305e+01],\n",
              "         [-4.7510e+00],\n",
              "         ...,\n",
              "         [ 8.7500e-01],\n",
              "         [-4.6900e+00],\n",
              "         [-3.0500e-01]],\n",
              "\n",
              "        [[-6.5310e+00],\n",
              "         [-9.3280e+00],\n",
              "         [-6.7040e+00],\n",
              "         ...,\n",
              "         [-1.0200e-01],\n",
              "         [-6.6430e+00],\n",
              "         [-2.2580e+00]],\n",
              "\n",
              "        ...,\n",
              "\n",
              "        [[ 1.6418e+01],\n",
              "         [ 1.3133e+01],\n",
              "         [ 3.0620e+00],\n",
              "         ...,\n",
              "         [-4.4960e+00],\n",
              "         [ 1.6795e+01],\n",
              "         [ 1.0437e+01]],\n",
              "\n",
              "        [[ 1.5442e+01],\n",
              "         [ 1.2644e+01],\n",
              "         [ 1.3200e-01],\n",
              "         ...,\n",
              "         [-4.0080e+00],\n",
              "         [ 1.5330e+01],\n",
              "         [ 8.9720e+00]],\n",
              "\n",
              "        [[ 1.5442e+01],\n",
              "         [ 1.1180e+01],\n",
              "         [-8.4400e-01],\n",
              "         ...,\n",
              "         [-3.5200e+00],\n",
              "         [ 1.4842e+01],\n",
              "         [ 9.4600e+00]]],\n",
              "\n",
              "\n",
              "       ...,\n",
              "\n",
              "\n",
              "       [[[-1.4950e+00],\n",
              "         [-3.0110e+00],\n",
              "         [-9.0500e-01],\n",
              "         ...,\n",
              "         [-1.5060e+00],\n",
              "         [ 8.2300e+00],\n",
              "         [ 4.9030e+00]],\n",
              "\n",
              "        [[ 9.4600e-01],\n",
              "         [ 3.3370e+00],\n",
              "         [-4.1700e-01],\n",
              "         ...,\n",
              "         [-1.5060e+00],\n",
              "         [ 4.8120e+00],\n",
              "         [ 7.8330e+00]],\n",
              "\n",
              "        [[ 4.8520e+00],\n",
              "         [ 1.0173e+01],\n",
              "         [ 2.5130e+00],\n",
              "         ...,\n",
              "         [-1.5060e+00],\n",
              "         [ 1.8820e+00],\n",
              "         [ 1.1739e+01]],\n",
              "\n",
              "        ...,\n",
              "\n",
              "        [[-1.1749e+01],\n",
              "         [ 3.3370e+00],\n",
              "         [-1.2136e+01],\n",
              "         ...,\n",
              "         [-1.9940e+00],\n",
              "         [-1.5360e+00],\n",
              "         [-8.7690e+00]],\n",
              "\n",
              "        [[-1.0284e+01],\n",
              "         [ 6.7550e+00],\n",
              "         [-1.0671e+01],\n",
              "         ...,\n",
              "         [-1.5060e+00],\n",
              "         [-4.4660e+00],\n",
              "         [-6.3270e+00]],\n",
              "\n",
              "        [[-1.2238e+01],\n",
              "         [ 6.2660e+00],\n",
              "         [-1.0671e+01],\n",
              "         ...,\n",
              "         [-5.2900e-01],\n",
              "         [-6.4190e+00],\n",
              "         [-5.8390e+00]]],\n",
              "\n",
              "\n",
              "       [[[ 5.0860e+00],\n",
              "         [ 5.5540e+00],\n",
              "         [-2.8890e+00],\n",
              "         ...,\n",
              "         [-2.3400e-01],\n",
              "         [ 3.4990e+00],\n",
              "         [ 3.4590e+00]],\n",
              "\n",
              "        [[ 7.0390e+00],\n",
              "         [ 7.0190e+00],\n",
              "         [ 4.9240e+00],\n",
              "         ...,\n",
              "         [ 2.5400e-01],\n",
              "         [ 3.9880e+00],\n",
              "         [ 7.3650e+00]],\n",
              "\n",
              "        [[ 8.9930e+00],\n",
              "         [ 1.0925e+01],\n",
              "         [ 1.4689e+01],\n",
              "         ...,\n",
              "         [ 2.5400e-01],\n",
              "         [ 4.9640e+00],\n",
              "         [ 1.0783e+01]],\n",
              "\n",
              "        ...,\n",
              "\n",
              "        [[-1.0050e+01],\n",
              "         [-6.1650e+00],\n",
              "         [-6.3070e+00],\n",
              "         ...,\n",
              "         [-7.5580e+00],\n",
              "         [-1.2614e+01],\n",
              "         [-2.0955e+01]],\n",
              "\n",
              "        [[-8.0970e+00],\n",
              "         [-2.7470e+00],\n",
              "         [-7.2840e+00],\n",
              "         ...,\n",
              "         [-7.0700e+00],\n",
              "         [-1.0661e+01],\n",
              "         [-1.9979e+01]],\n",
              "\n",
              "        [[-4.1910e+00],\n",
              "         [-2.7470e+00],\n",
              "         [-4.8420e+00],\n",
              "         ...,\n",
              "         [-6.5820e+00],\n",
              "         [-1.0173e+01],\n",
              "         [-1.6561e+01]]],\n",
              "\n",
              "\n",
              "       [[[ 1.6480e+00],\n",
              "         [-1.9630e+00],\n",
              "         [ 1.8210e+00],\n",
              "         ...,\n",
              "         [ 1.8010e+00],\n",
              "         [ 3.7030e+00],\n",
              "         [-4.8800e-01]],\n",
              "\n",
              "        [[-7.9300e-01],\n",
              "         [-1.9630e+00],\n",
              "         [ 1.8210e+00],\n",
              "         ...,\n",
              "         [ 1.8010e+00],\n",
              "         [ 6.6320e+00],\n",
              "         [-1.9530e+00]],\n",
              "\n",
              "        [[-2.2580e+00],\n",
              "         [-9.8700e-01],\n",
              "         [ 1.8210e+00],\n",
              "         ...,\n",
              "         [ 2.2890e+00],\n",
              "         [ 7.6090e+00],\n",
              "         [-3.4180e+00]],\n",
              "\n",
              "        ...,\n",
              "\n",
              "        [[ 1.4343e+01],\n",
              "         [ 2.1474e+01],\n",
              "         [ 1.1587e+01],\n",
              "         ...,\n",
              "         [-5.0350e+00],\n",
              "         [-3.4871e+01],\n",
              "         [-1.9530e+00]],\n",
              "\n",
              "        [[ 1.4343e+01],\n",
              "         [ 2.1474e+01],\n",
              "         [ 1.2563e+01],\n",
              "         ...,\n",
              "         [-5.5240e+00],\n",
              "         [-3.5360e+01],\n",
              "         [-9.7700e-01]],\n",
              "\n",
              "        [[ 1.3855e+01],\n",
              "         [ 2.0498e+01],\n",
              "         [ 1.1098e+01],\n",
              "         ...,\n",
              "         [-5.5240e+00],\n",
              "         [-3.4383e+01],\n",
              "         [-4.8800e-01]]]])"
            ]
          },
          "metadata": {},
          "execution_count": 5
        }
      ]
    },
    {
      "cell_type": "code",
      "source": [
        "labels.shape"
      ],
      "metadata": {
        "colab": {
          "base_uri": "https://localhost:8080/"
        },
        "id": "bgP3Mo-mxUKY",
        "outputId": "0e93c807-ec8e-41fd-c123-e79173bf4b0d"
      },
      "execution_count": 6,
      "outputs": [
        {
          "output_type": "execute_result",
          "data": {
            "text/plain": [
              "(1080,)"
            ]
          },
          "metadata": {},
          "execution_count": 6
        }
      ]
    },
    {
      "cell_type": "code",
      "source": [
        "# 미리 스플릿\n",
        "X_train, X_valid, y_train, y_valid = train_test_split(data_input,labels , test_size=0.2, random_state=156)"
      ],
      "metadata": {
        "id": "UPypYA81xZRV"
      },
      "execution_count": 7,
      "outputs": []
    },
    {
      "cell_type": "code",
      "source": [
        "print(\"X_train.shape:\", X_train.shape)\n",
        "print(\"X_valid.shape:\", X_valid.shape)"
      ],
      "metadata": {
        "colab": {
          "base_uri": "https://localhost:8080/"
        },
        "id": "_YZnf0Drxbvr",
        "outputId": "99d57953-7202-4871-fed0-c1375eee9456"
      },
      "execution_count": 8,
      "outputs": [
        {
          "output_type": "stream",
          "name": "stdout",
          "text": [
            "X_train.shape: (864, 256, 64, 1)\n",
            "X_valid.shape: (216, 256, 64, 1)\n"
          ]
        }
      ]
    },
    {
      "cell_type": "markdown",
      "source": [
        "# 전처리"
      ],
      "metadata": {
        "id": "R3mHP60pxoPR"
      }
    },
    {
      "cell_type": "code",
      "source": [
        "y_valid.mean()"
      ],
      "metadata": {
        "colab": {
          "base_uri": "https://localhost:8080/"
        },
        "id": "tuu-ciuLxpfP",
        "outputId": "5914634e-abf7-4fbf-b7d1-6b56a03de57f"
      },
      "execution_count": 9,
      "outputs": [
        {
          "output_type": "execute_result",
          "data": {
            "text/plain": [
              "0.5"
            ]
          },
          "metadata": {},
          "execution_count": 9
        }
      ]
    },
    {
      "cell_type": "code",
      "source": [
        "y_train.shape"
      ],
      "metadata": {
        "colab": {
          "base_uri": "https://localhost:8080/"
        },
        "id": "mPftn35KxrAC",
        "outputId": "edf488d8-6991-4305-d3f7-988e700b0108"
      },
      "execution_count": 10,
      "outputs": [
        {
          "output_type": "execute_result",
          "data": {
            "text/plain": [
              "(864,)"
            ]
          },
          "metadata": {},
          "execution_count": 10
        }
      ]
    },
    {
      "cell_type": "code",
      "source": [
        "# X_train reshape\n",
        "\n",
        "X_train_1 = []\n",
        "for i in range(864):\n",
        "    data_input_m = X_train[i][:][:].squeeze().T\n",
        "    X_train_1.append(data_input_m)\n",
        "\n",
        "input_T_train = np.array(X_train_1)\n",
        "input_T_train.shape"
      ],
      "metadata": {
        "colab": {
          "base_uri": "https://localhost:8080/"
        },
        "id": "Dk_dS4ruxt3P",
        "outputId": "30dbe6d9-adab-417a-9bff-18b5353abaa0"
      },
      "execution_count": 11,
      "outputs": [
        {
          "output_type": "execute_result",
          "data": {
            "text/plain": [
              "(864, 64, 256)"
            ]
          },
          "metadata": {},
          "execution_count": 11
        }
      ]
    },
    {
      "cell_type": "code",
      "source": [
        "# X_valid reshape\n",
        "\n",
        "X_valid_1 = []\n",
        "for i in range(216):\n",
        "    data_input_m = X_valid[i][:][:].squeeze().T\n",
        "    X_valid_1.append(data_input_m)\n",
        "\n",
        "input_T_valid = np.array(X_valid_1)\n",
        "input_T_valid.shape"
      ],
      "metadata": {
        "colab": {
          "base_uri": "https://localhost:8080/"
        },
        "id": "vZ-OU2LSxxBg",
        "outputId": "d270e2ea-19df-433d-d4bb-7625ea88c4f3"
      },
      "execution_count": 12,
      "outputs": [
        {
          "output_type": "execute_result",
          "data": {
            "text/plain": [
              "(216, 64, 256)"
            ]
          },
          "metadata": {},
          "execution_count": 12
        }
      ]
    },
    {
      "cell_type": "code",
      "source": [
        "data_input_train = input_T_train.reshape(864*64,256)\n",
        "data_input_valid = input_T_valid.reshape(216*64,256)\n",
        "\n",
        "print(\"data_input_train shape:\", data_input_train.shape)\n",
        "print(\"data_input_valid shape:\", data_input_valid.shape)"
      ],
      "metadata": {
        "colab": {
          "base_uri": "https://localhost:8080/"
        },
        "id": "UCuq_cSnx46r",
        "outputId": "84338628-bfba-400d-df0d-fabdbf892fb0"
      },
      "execution_count": 13,
      "outputs": [
        {
          "output_type": "stream",
          "name": "stdout",
          "text": [
            "data_input_train shape: (55296, 256)\n",
            "data_input_valid shape: (13824, 256)\n"
          ]
        }
      ]
    },
    {
      "cell_type": "code",
      "source": [
        "# train label 확장\n",
        "\n",
        "repeated_arr_train = []\n",
        "for i in range(len(y_train)):\n",
        "    repeated_arr_train.extend(np.full(64, y_train[i]))\n",
        "\n",
        "labels_train = np.array(repeated_arr_train)\n",
        "labels_train.shape\n"
      ],
      "metadata": {
        "colab": {
          "base_uri": "https://localhost:8080/"
        },
        "id": "9N7pHcTjyKoj",
        "outputId": "9c9507a3-1be6-4346-a8b2-543bb467b791"
      },
      "execution_count": 14,
      "outputs": [
        {
          "output_type": "execute_result",
          "data": {
            "text/plain": [
              "(55296,)"
            ]
          },
          "metadata": {},
          "execution_count": 14
        }
      ]
    },
    {
      "cell_type": "code",
      "source": [
        "# valid label 확장\n",
        "\n",
        "repeated_arr_valid = []\n",
        "for i in range(len(y_valid)):\n",
        "    repeated_arr_valid.extend(np.full(64, y_valid[i]))\n",
        "\n",
        "labels_valid = np.array(repeated_arr_valid)\n",
        "labels_valid.shape"
      ],
      "metadata": {
        "colab": {
          "base_uri": "https://localhost:8080/"
        },
        "id": "TG05uhXXyL3R",
        "outputId": "7946a090-2f64-4d21-dab7-24c453d984b3"
      },
      "execution_count": 15,
      "outputs": [
        {
          "output_type": "execute_result",
          "data": {
            "text/plain": [
              "(13824,)"
            ]
          },
          "metadata": {},
          "execution_count": 15
        }
      ]
    },
    {
      "cell_type": "code",
      "source": [
        "print(\"labels_train.mean():\", labels_train.mean())\n",
        "print(\"labels_valid.mean():\", labels_valid.mean())"
      ],
      "metadata": {
        "colab": {
          "base_uri": "https://localhost:8080/"
        },
        "id": "U__4kL_kyOvc",
        "outputId": "978ccb94-d94d-4cdc-db7a-bff6b61eeaa6"
      },
      "execution_count": 16,
      "outputs": [
        {
          "output_type": "stream",
          "name": "stdout",
          "text": [
            "labels_train.mean(): 0.5\n",
            "labels_valid.mean(): 0.5\n"
          ]
        }
      ]
    },
    {
      "cell_type": "markdown",
      "source": [
        "## 노치 필터"
      ],
      "metadata": {
        "id": "lFsvJKPiyQla"
      }
    },
    {
      "cell_type": "code",
      "source": [
        "# 노치 필터\n",
        "\n",
        "import numpy as np\n",
        "from scipy.signal import iirnotch, filtfilt\n",
        "\n",
        "def apply_notch_filter(data, notch_freq, fs, quality_factor=30):\n",
        "    \"\"\"\n",
        "    주어진 데이터에 노치 필터를 적용하여 특정 주파수의 잡음을 제거합니다.\n",
        "\n",
        "    :param data: 필터링할 데이터 (numpy 배열)\n",
        "    :param notch_freq: 제거할 잡음의 주파수 (Hz)\n",
        "    :param fs: 샘플링 주파수 (Hz)\n",
        "    :param quality_factor: 노치 필터의 품질 계수 (높을수록 필터의 반응이 좁아집니다)\n",
        "    :return: 필터링된 데이터\n",
        "    \"\"\"\n",
        "    b, a = iirnotch(notch_freq, quality_factor, fs)\n",
        "    filtered_data = filtfilt(b, a, data)\n",
        "    return filtered_data"
      ],
      "metadata": {
        "id": "O4lkVp-IyTTx"
      },
      "execution_count": 18,
      "outputs": []
    },
    {
      "cell_type": "code",
      "source": [
        "# 샘플링 주파수 설정\n",
        "fs = 500\n",
        "\n",
        "# 노치 필터 적용\n",
        "# 특정 주파수의 전력선 잡음 필터링 - 국가에 따라 주로 50 또는 60 헤르츠\n",
        "\n",
        "notch_band_train = apply_notch_filter(data_input_train, 50, fs)\n",
        "notch_band_valid = apply_notch_filter(data_input_valid, 50, fs)\n",
        "\n",
        "notch_band_train = apply_notch_filter(notch_band_train, 60, fs)\n",
        "notch_band_valid = apply_notch_filter(notch_band_valid, 60, fs)"
      ],
      "metadata": {
        "id": "f2fJEyqyydGr"
      },
      "execution_count": 26,
      "outputs": []
    },
    {
      "cell_type": "markdown",
      "source": [
        "## FFT 변환"
      ],
      "metadata": {
        "id": "72dIRumFzA3e"
      }
    },
    {
      "cell_type": "code",
      "source": [
        "def fft(eeg_signal, sampling_rate):\n",
        "    \"\"\"\n",
        "    주어진 EEG 신호에 대한 FFT를 계산하고 주파수 및 해당 주파수 성분의 파워를 시각화합니다.\n",
        "\n",
        "    :param eeg_signal: EEG 신호 (1차원 numpy 배열)\n",
        "    :param sampling_rate: 샘플링 주파수 (Hz)\n",
        "    \"\"\"\n",
        "    n = len(eeg_signal)\n",
        "    T = 1 / sampling_rate\n",
        "    yf = np.fft.fft(eeg_signal)\n",
        "    xf = np.fft.fftfreq(n, T)[:n//2]\n",
        "    yf = 2.0/n * np.abs(yf[:n//2])\n",
        "    return yf"
      ],
      "metadata": {
        "id": "AgPPethCzAff"
      },
      "execution_count": 27,
      "outputs": []
    },
    {
      "cell_type": "code",
      "source": [
        "# train 데이터에 FFT 적용\n",
        "\n",
        "FFT_train = []\n",
        "\n",
        "# 여기서 각 행은 전체 EEG 시그널을 나타내며, 이를 FFT 함수에 전달\n",
        "for i in range(55296):\n",
        "    FFT_train.append(fft(notch_band_train[i], 500))  # 각 행 전체를 fft 함수에 전달"
      ],
      "metadata": {
        "id": "7dQuo1LizElR"
      },
      "execution_count": 28,
      "outputs": []
    },
    {
      "cell_type": "code",
      "source": [
        "# valid 데이터에 FFT 적용\n",
        "\n",
        "FFT_valid = []\n",
        "\n",
        "# 따라서, 216 * 64 = 13824 개의 행이 각각 하나의 채널 데이터를 나타냅니다.\n",
        "for i in range(13824):\n",
        "    FFT_valid.append(fft(notch_band_valid[i], 500))"
      ],
      "metadata": {
        "id": "0C29YJblzLA2"
      },
      "execution_count": 30,
      "outputs": []
    },
    {
      "cell_type": "code",
      "source": [
        "# 리스트 -> numpy array\n",
        "\n",
        "FFT_train = np.array(FFT_train)\n",
        "FFT_valid = np.array(FFT_valid)"
      ],
      "metadata": {
        "id": "tabdbpdIzQ5E"
      },
      "execution_count": 31,
      "outputs": []
    },
    {
      "cell_type": "code",
      "source": [
        "print(\"FFT_train shape:\", FFT_train.shape)\n",
        "print(\"FFT_valid shape:\", FFT_valid.shape)"
      ],
      "metadata": {
        "colab": {
          "base_uri": "https://localhost:8080/"
        },
        "id": "3w5-n7gazTTU",
        "outputId": "0fc78705-720b-450b-fd8e-aeafc67e7cb6"
      },
      "execution_count": 32,
      "outputs": [
        {
          "output_type": "stream",
          "name": "stdout",
          "text": [
            "FFT_train shape: (55296, 128)\n",
            "FFT_valid shape: (13824, 128)\n"
          ]
        }
      ]
    },
    {
      "cell_type": "markdown",
      "source": [
        "## band power"
      ],
      "metadata": {
        "id": "pLReWfDmz9_K"
      }
    },
    {
      "cell_type": "code",
      "source": [
        "# band power 함수 정의\n",
        "\n",
        "def enhanced_band_power(fft_data, sampling_rate):\n",
        "    \"\"\"\n",
        "    주파수 대역을 0.5Hz 간격으로 세분화하여 각 세그먼트의 평균 파워를 계산합니다.\n",
        "\n",
        "    :param fft_data: FFT 결과 (numpy 배열, 각 행이 하나의 채널의 FFT 결과)\n",
        "    :param sampling_rate: 샘플링 주파수 (Hz)\n",
        "    :return: 각 주파수 대역의 평균 파워를 포함하는 numpy 배열\n",
        "    \"\"\"\n",
        "    freqs = np.fft.fftfreq(fft_data.shape[1] * 2, 1 / sampling_rate)[:fft_data.shape[1]]\n",
        "    max_freq = sampling_rate / 2\n",
        "    num_bands = int(max_freq / 1)  # 0.5Hz 간격으로 분할\n",
        "\n",
        "    # 주파수 대역 정의\n",
        "    band_indices = [np.logical_and(freqs >= i*0.5, freqs < (i+1)*0.5) for i in range(num_bands)]\n",
        "\n",
        "    # 각 대역의 평균 파워 계산\n",
        "    band_powers = np.zeros((fft_data.shape[0], num_bands))\n",
        "    for i, idx in enumerate(band_indices):\n",
        "        if np.any(idx):\n",
        "            band_powers[:, i] = np.nanmean(fft_data[:, idx], axis=1)\n",
        "        else:\n",
        "            band_powers[:, i] = 0  # 데이터가 없는 경우 0 할당\n",
        "\n",
        "    return band_powers"
      ],
      "metadata": {
        "id": "iq33eSIC0Ayx"
      },
      "execution_count": 33,
      "outputs": []
    },
    {
      "cell_type": "code",
      "source": [
        "# FFT_train과 FFT_valid에 band_power 함수 적용\n",
        "band_power_train = np.vstack([enhanced_band_power(FFT_train[i * 64:(i + 1) * 64], 500) for i in range(864)])\n",
        "band_power_valid = np.vstack([enhanced_band_power(FFT_valid[i * 64:(i + 1) * 64], 500) for i in range(216)])\n",
        "\n",
        "print(\"band_power_train shape:\", band_power_train.shape)\n",
        "print(\"band_power_valid shape:\", band_power_valid.shape)\n"
      ],
      "metadata": {
        "colab": {
          "base_uri": "https://localhost:8080/"
        },
        "id": "f-98XacV0FtO",
        "outputId": "04a0fa18-9f8c-4f77-e97c-559ce050ee96"
      },
      "execution_count": 34,
      "outputs": [
        {
          "output_type": "stream",
          "name": "stdout",
          "text": [
            "band_power_train shape: (55296, 250)\n",
            "band_power_valid shape: (13824, 250)\n"
          ]
        }
      ]
    },
    {
      "cell_type": "markdown",
      "source": [
        "# 모델링"
      ],
      "metadata": {
        "id": "01afjHyf0NJa"
      }
    },
    {
      "cell_type": "code",
      "source": [
        "# XGBoost\n",
        "\n",
        "\n",
        "from xgboost import XGBClassifier\n",
        "from sklearn.metrics import accuracy_score\n",
        "\n",
        "# 모델 초기화\n",
        "XG_model = XGBClassifier(n_estimators=300, max_depth=9, learning_rate=0.1,\n",
        "                         subsample=0.5, colsample_bytree=1, gamma=1.5, reg_lambda=5,\n",
        "                         reg_alpha=5, min_child_weight=8, random_state=0)\n",
        "\n",
        "XG_model.fit(band_power_train, labels_train, early_stopping_rounds=50,\n",
        "              eval_metric=\"logloss\", eval_set=[(band_power_valid, labels_valid)], verbose=True)\n",
        "\n",
        "# 예측\n",
        "y_valid_pred_xg = XG_model.predict(band_power_valid)\n",
        "y_train_pred_xg = XG_model.predict(band_power_train) # train 정확도 확인용\n",
        "\n",
        "# accuracy 확인(train/val)\n",
        "train_accuracy_xg = accuracy_score(labels_train, y_train_pred_xg)\n",
        "valid_accuracy_xg = accuracy_score(labels_valid, y_valid_pred_xg)\n",
        "\n",
        "print(\"XGBoost train Accuracy:\", train_accuracy_xg)\n",
        "print(\"XGBoost Validation Accuracy:\", valid_accuracy_xg)\n",
        "\n",
        "# y_valid_pred_xg.mean()\n",
        "print()\n",
        "print(\"XGBoost y_valid_pred_xg.mean():\", y_valid_pred_xg.mean())"
      ],
      "metadata": {
        "colab": {
          "base_uri": "https://localhost:8080/"
        },
        "collapsed": true,
        "id": "EdVCU5780OqQ",
        "outputId": "97459389-8d6c-48d1-cd48-d6a09c5fa696"
      },
      "execution_count": 35,
      "outputs": [
        {
          "output_type": "stream",
          "name": "stderr",
          "text": [
            "/usr/local/lib/python3.10/dist-packages/xgboost/sklearn.py:889: UserWarning: `eval_metric` in `fit` method is deprecated for better compatibility with scikit-learn, use `eval_metric` in constructor or`set_params` instead.\n",
            "  warnings.warn(\n",
            "/usr/local/lib/python3.10/dist-packages/xgboost/sklearn.py:889: UserWarning: `early_stopping_rounds` in `fit` method is deprecated for better compatibility with scikit-learn, use `early_stopping_rounds` in constructor or`set_params` instead.\n",
            "  warnings.warn(\n"
          ]
        },
        {
          "output_type": "stream",
          "name": "stdout",
          "text": [
            "[0]\tvalidation_0-logloss:0.68262\n",
            "[1]\tvalidation_0-logloss:0.67328\n",
            "[2]\tvalidation_0-logloss:0.66470\n",
            "[3]\tvalidation_0-logloss:0.65827\n",
            "[4]\tvalidation_0-logloss:0.65230\n",
            "[5]\tvalidation_0-logloss:0.64651\n",
            "[6]\tvalidation_0-logloss:0.64189\n",
            "[7]\tvalidation_0-logloss:0.63757\n",
            "[8]\tvalidation_0-logloss:0.63345\n",
            "[9]\tvalidation_0-logloss:0.63004\n",
            "[10]\tvalidation_0-logloss:0.62653\n",
            "[11]\tvalidation_0-logloss:0.62458\n",
            "[12]\tvalidation_0-logloss:0.62200\n",
            "[13]\tvalidation_0-logloss:0.61958\n",
            "[14]\tvalidation_0-logloss:0.61660\n",
            "[15]\tvalidation_0-logloss:0.61442\n",
            "[16]\tvalidation_0-logloss:0.61306\n",
            "[17]\tvalidation_0-logloss:0.61074\n",
            "[18]\tvalidation_0-logloss:0.60879\n",
            "[19]\tvalidation_0-logloss:0.60715\n",
            "[20]\tvalidation_0-logloss:0.60566\n",
            "[21]\tvalidation_0-logloss:0.60417\n",
            "[22]\tvalidation_0-logloss:0.60272\n",
            "[23]\tvalidation_0-logloss:0.60150\n",
            "[24]\tvalidation_0-logloss:0.60026\n",
            "[25]\tvalidation_0-logloss:0.59941\n",
            "[26]\tvalidation_0-logloss:0.59845\n",
            "[27]\tvalidation_0-logloss:0.59724\n",
            "[28]\tvalidation_0-logloss:0.59631\n",
            "[29]\tvalidation_0-logloss:0.59458\n",
            "[30]\tvalidation_0-logloss:0.59384\n",
            "[31]\tvalidation_0-logloss:0.59269\n",
            "[32]\tvalidation_0-logloss:0.59167\n",
            "[33]\tvalidation_0-logloss:0.59021\n",
            "[34]\tvalidation_0-logloss:0.58954\n",
            "[35]\tvalidation_0-logloss:0.58903\n",
            "[36]\tvalidation_0-logloss:0.58801\n",
            "[37]\tvalidation_0-logloss:0.58689\n",
            "[38]\tvalidation_0-logloss:0.58574\n",
            "[39]\tvalidation_0-logloss:0.58456\n",
            "[40]\tvalidation_0-logloss:0.58360\n",
            "[41]\tvalidation_0-logloss:0.58322\n",
            "[42]\tvalidation_0-logloss:0.58238\n",
            "[43]\tvalidation_0-logloss:0.58152\n",
            "[44]\tvalidation_0-logloss:0.58081\n",
            "[45]\tvalidation_0-logloss:0.58033\n",
            "[46]\tvalidation_0-logloss:0.57949\n",
            "[47]\tvalidation_0-logloss:0.57864\n",
            "[48]\tvalidation_0-logloss:0.57785\n",
            "[49]\tvalidation_0-logloss:0.57709\n",
            "[50]\tvalidation_0-logloss:0.57637\n",
            "[51]\tvalidation_0-logloss:0.57601\n",
            "[52]\tvalidation_0-logloss:0.57510\n",
            "[53]\tvalidation_0-logloss:0.57503\n",
            "[54]\tvalidation_0-logloss:0.57439\n",
            "[55]\tvalidation_0-logloss:0.57376\n",
            "[56]\tvalidation_0-logloss:0.57312\n",
            "[57]\tvalidation_0-logloss:0.57257\n",
            "[58]\tvalidation_0-logloss:0.57179\n",
            "[59]\tvalidation_0-logloss:0.57133\n",
            "[60]\tvalidation_0-logloss:0.57097\n",
            "[61]\tvalidation_0-logloss:0.57014\n",
            "[62]\tvalidation_0-logloss:0.56978\n",
            "[63]\tvalidation_0-logloss:0.56953\n",
            "[64]\tvalidation_0-logloss:0.56919\n",
            "[65]\tvalidation_0-logloss:0.56926\n",
            "[66]\tvalidation_0-logloss:0.56862\n",
            "[67]\tvalidation_0-logloss:0.56817\n",
            "[68]\tvalidation_0-logloss:0.56740\n",
            "[69]\tvalidation_0-logloss:0.56647\n",
            "[70]\tvalidation_0-logloss:0.56654\n",
            "[71]\tvalidation_0-logloss:0.56591\n",
            "[72]\tvalidation_0-logloss:0.56579\n",
            "[73]\tvalidation_0-logloss:0.56506\n",
            "[74]\tvalidation_0-logloss:0.56485\n",
            "[75]\tvalidation_0-logloss:0.56467\n",
            "[76]\tvalidation_0-logloss:0.56463\n",
            "[77]\tvalidation_0-logloss:0.56459\n",
            "[78]\tvalidation_0-logloss:0.56438\n",
            "[79]\tvalidation_0-logloss:0.56422\n",
            "[80]\tvalidation_0-logloss:0.56384\n",
            "[81]\tvalidation_0-logloss:0.56368\n",
            "[82]\tvalidation_0-logloss:0.56340\n",
            "[83]\tvalidation_0-logloss:0.56354\n",
            "[84]\tvalidation_0-logloss:0.56335\n",
            "[85]\tvalidation_0-logloss:0.56305\n",
            "[86]\tvalidation_0-logloss:0.56257\n",
            "[87]\tvalidation_0-logloss:0.56212\n",
            "[88]\tvalidation_0-logloss:0.56199\n",
            "[89]\tvalidation_0-logloss:0.56184\n",
            "[90]\tvalidation_0-logloss:0.56178\n",
            "[91]\tvalidation_0-logloss:0.56139\n",
            "[92]\tvalidation_0-logloss:0.56123\n",
            "[93]\tvalidation_0-logloss:0.56067\n",
            "[94]\tvalidation_0-logloss:0.56029\n",
            "[95]\tvalidation_0-logloss:0.55986\n",
            "[96]\tvalidation_0-logloss:0.55988\n",
            "[97]\tvalidation_0-logloss:0.55988\n",
            "[98]\tvalidation_0-logloss:0.56019\n",
            "[99]\tvalidation_0-logloss:0.55989\n",
            "[100]\tvalidation_0-logloss:0.55983\n",
            "[101]\tvalidation_0-logloss:0.55965\n",
            "[102]\tvalidation_0-logloss:0.55961\n",
            "[103]\tvalidation_0-logloss:0.55951\n",
            "[104]\tvalidation_0-logloss:0.55947\n",
            "[105]\tvalidation_0-logloss:0.55938\n",
            "[106]\tvalidation_0-logloss:0.55939\n",
            "[107]\tvalidation_0-logloss:0.55891\n",
            "[108]\tvalidation_0-logloss:0.55882\n",
            "[109]\tvalidation_0-logloss:0.55869\n",
            "[110]\tvalidation_0-logloss:0.55814\n",
            "[111]\tvalidation_0-logloss:0.55812\n",
            "[112]\tvalidation_0-logloss:0.55803\n",
            "[113]\tvalidation_0-logloss:0.55819\n",
            "[114]\tvalidation_0-logloss:0.55806\n",
            "[115]\tvalidation_0-logloss:0.55791\n",
            "[116]\tvalidation_0-logloss:0.55791\n",
            "[117]\tvalidation_0-logloss:0.55818\n",
            "[118]\tvalidation_0-logloss:0.55798\n",
            "[119]\tvalidation_0-logloss:0.55768\n",
            "[120]\tvalidation_0-logloss:0.55768\n",
            "[121]\tvalidation_0-logloss:0.55759\n",
            "[122]\tvalidation_0-logloss:0.55775\n",
            "[123]\tvalidation_0-logloss:0.55753\n",
            "[124]\tvalidation_0-logloss:0.55753\n",
            "[125]\tvalidation_0-logloss:0.55724\n",
            "[126]\tvalidation_0-logloss:0.55716\n",
            "[127]\tvalidation_0-logloss:0.55686\n",
            "[128]\tvalidation_0-logloss:0.55713\n",
            "[129]\tvalidation_0-logloss:0.55726\n",
            "[130]\tvalidation_0-logloss:0.55694\n",
            "[131]\tvalidation_0-logloss:0.55695\n",
            "[132]\tvalidation_0-logloss:0.55694\n",
            "[133]\tvalidation_0-logloss:0.55687\n",
            "[134]\tvalidation_0-logloss:0.55677\n",
            "[135]\tvalidation_0-logloss:0.55701\n",
            "[136]\tvalidation_0-logloss:0.55703\n",
            "[137]\tvalidation_0-logloss:0.55706\n",
            "[138]\tvalidation_0-logloss:0.55734\n",
            "[139]\tvalidation_0-logloss:0.55740\n",
            "[140]\tvalidation_0-logloss:0.55753\n",
            "[141]\tvalidation_0-logloss:0.55768\n",
            "[142]\tvalidation_0-logloss:0.55745\n",
            "[143]\tvalidation_0-logloss:0.55760\n",
            "[144]\tvalidation_0-logloss:0.55742\n",
            "[145]\tvalidation_0-logloss:0.55742\n",
            "[146]\tvalidation_0-logloss:0.55736\n",
            "[147]\tvalidation_0-logloss:0.55708\n",
            "[148]\tvalidation_0-logloss:0.55706\n",
            "[149]\tvalidation_0-logloss:0.55689\n",
            "[150]\tvalidation_0-logloss:0.55671\n",
            "[151]\tvalidation_0-logloss:0.55668\n",
            "[152]\tvalidation_0-logloss:0.55658\n",
            "[153]\tvalidation_0-logloss:0.55639\n",
            "[154]\tvalidation_0-logloss:0.55639\n",
            "[155]\tvalidation_0-logloss:0.55627\n",
            "[156]\tvalidation_0-logloss:0.55663\n",
            "[157]\tvalidation_0-logloss:0.55647\n",
            "[158]\tvalidation_0-logloss:0.55642\n",
            "[159]\tvalidation_0-logloss:0.55658\n",
            "[160]\tvalidation_0-logloss:0.55664\n",
            "[161]\tvalidation_0-logloss:0.55672\n",
            "[162]\tvalidation_0-logloss:0.55690\n",
            "[163]\tvalidation_0-logloss:0.55680\n",
            "[164]\tvalidation_0-logloss:0.55688\n",
            "[165]\tvalidation_0-logloss:0.55679\n",
            "[166]\tvalidation_0-logloss:0.55688\n",
            "[167]\tvalidation_0-logloss:0.55693\n",
            "[168]\tvalidation_0-logloss:0.55721\n",
            "[169]\tvalidation_0-logloss:0.55741\n",
            "[170]\tvalidation_0-logloss:0.55732\n",
            "[171]\tvalidation_0-logloss:0.55744\n",
            "[172]\tvalidation_0-logloss:0.55724\n",
            "[173]\tvalidation_0-logloss:0.55705\n",
            "[174]\tvalidation_0-logloss:0.55728\n",
            "[175]\tvalidation_0-logloss:0.55717\n",
            "[176]\tvalidation_0-logloss:0.55749\n",
            "[177]\tvalidation_0-logloss:0.55752\n",
            "[178]\tvalidation_0-logloss:0.55759\n",
            "[179]\tvalidation_0-logloss:0.55777\n",
            "[180]\tvalidation_0-logloss:0.55786\n",
            "[181]\tvalidation_0-logloss:0.55779\n",
            "[182]\tvalidation_0-logloss:0.55779\n",
            "[183]\tvalidation_0-logloss:0.55793\n",
            "[184]\tvalidation_0-logloss:0.55793\n",
            "[185]\tvalidation_0-logloss:0.55799\n",
            "[186]\tvalidation_0-logloss:0.55776\n",
            "[187]\tvalidation_0-logloss:0.55752\n",
            "[188]\tvalidation_0-logloss:0.55728\n",
            "[189]\tvalidation_0-logloss:0.55765\n",
            "[190]\tvalidation_0-logloss:0.55778\n",
            "[191]\tvalidation_0-logloss:0.55784\n",
            "[192]\tvalidation_0-logloss:0.55780\n",
            "[193]\tvalidation_0-logloss:0.55762\n",
            "[194]\tvalidation_0-logloss:0.55761\n",
            "[195]\tvalidation_0-logloss:0.55769\n",
            "[196]\tvalidation_0-logloss:0.55761\n",
            "[197]\tvalidation_0-logloss:0.55732\n",
            "[198]\tvalidation_0-logloss:0.55729\n",
            "[199]\tvalidation_0-logloss:0.55704\n",
            "[200]\tvalidation_0-logloss:0.55691\n",
            "[201]\tvalidation_0-logloss:0.55690\n",
            "[202]\tvalidation_0-logloss:0.55663\n",
            "[203]\tvalidation_0-logloss:0.55688\n",
            "[204]\tvalidation_0-logloss:0.55713\n",
            "[205]\tvalidation_0-logloss:0.55737\n",
            "XGBoost train Accuracy: 0.8912760416666666\n",
            "XGBoost Validation Accuracy: 0.7116608796296297\n",
            "\n",
            "XGBoost y_valid_pred_xg.mean(): 0.5031828703703703\n"
          ]
        }
      ]
    },
    {
      "cell_type": "markdown",
      "source": [
        "## 혼동행렬"
      ],
      "metadata": {
        "id": "t40hFdFR0cv9"
      }
    },
    {
      "cell_type": "code",
      "source": [
        "\n",
        "from sklearn.metrics import confusion_matrix, f1_score, roc_curve, auc, RocCurveDisplay\n",
        "import matplotlib.pyplot as plt\n",
        "\n",
        "cm = confusion_matrix(labels_valid, y_valid_pred_xg)\n",
        "print(\"Confusion Matrix:\")\n",
        "print(cm)\n"
      ],
      "metadata": {
        "colab": {
          "base_uri": "https://localhost:8080/"
        },
        "id": "v1C4yCZ90bbR",
        "outputId": "c73ee16e-2c0d-4b45-9ca0-0236fccaee24"
      },
      "execution_count": 36,
      "outputs": [
        {
          "output_type": "stream",
          "name": "stdout",
          "text": [
            "Confusion Matrix:\n",
            "[[4897 2015]\n",
            " [1971 4941]]\n"
          ]
        }
      ]
    },
    {
      "cell_type": "markdown",
      "source": [
        "## ROC 커브"
      ],
      "metadata": {
        "id": "oFSc8VWO0fNR"
      }
    },
    {
      "cell_type": "code",
      "source": [
        "\n",
        "fpr, tpr, thresholds = roc_curve(labels_valid, XG_model.predict_proba(band_power_valid)[:, 1])\n",
        "roc_auc = auc(fpr, tpr)\n",
        "\n",
        "print(\"ROC AUC:\", roc_auc)\n",
        "plt.figure()\n",
        "lw = 2\n",
        "plt.plot(fpr, tpr, color='darkorange',\n",
        "         lw=lw, label='ROC curve (area = %0.2f)' % roc_auc)\n",
        "plt.plot([0, 1], [0, 1], color='navy', lw=lw, linestyle='--')\n",
        "plt.xlim([0.0, 1.0])\n",
        "plt.ylim([0.0, 1.05])\n",
        "plt.xlabel('False Positive Rate')\n",
        "plt.ylabel('True Positive Rate')\n",
        "plt.title('Receiver Operating Characteristic')\n",
        "plt.legend(loc=\"lower right\")\n",
        "plt.show()"
      ],
      "metadata": {
        "colab": {
          "base_uri": "https://localhost:8080/",
          "height": 491
        },
        "id": "R6JWhPfk0iIb",
        "outputId": "26e1d223-506c-46a4-ee86-1d6eff938796"
      },
      "execution_count": 37,
      "outputs": [
        {
          "output_type": "stream",
          "name": "stdout",
          "text": [
            "ROC AUC: 0.7857785009062339\n"
          ]
        },
        {
          "output_type": "display_data",
          "data": {
            "text/plain": [
              "<Figure size 640x480 with 1 Axes>"
            ],
            "image/png": "[encoded data removed]"
          },
          "metadata": {}
        }
      ]
    },
    {
      "cell_type": "markdown",
      "source": [
        "# Test Data에 적용"
      ],
      "metadata": {
        "id": "OJQvMVwB0nb1"
      }
    },
    {
      "cell_type": "code",
      "source": [
        "# test 파일 로드\n",
        "data_test = np.load(\"/content/drive/MyDrive/test.npy\", allow_pickle=True)\n",
        "data_test = data_test.item()\n",
        "data_input_test = data_test['input']"
      ],
      "metadata": {
        "id": "6lWdIJFp0qHJ"
      },
      "execution_count": 38,
      "outputs": []
    },
    {
      "cell_type": "code",
      "source": [
        "# 전치\n",
        "\n",
        "input_T_test = []\n",
        "for i in range(120):\n",
        "    data_input_m = data_input_test[i][:][:].squeeze().T\n",
        "    input_T_test.append(data_input_m)\n",
        "\n",
        "input_T_test = np.array(input_T_test)\n",
        "input_T_test.shape"
      ],
      "metadata": {
        "colab": {
          "base_uri": "https://localhost:8080/"
        },
        "id": "kATXjUxh0vhI",
        "outputId": "7a0b94d2-7ef2-43cc-f348-bfbe64964692"
      },
      "execution_count": 39,
      "outputs": [
        {
          "output_type": "execute_result",
          "data": {
            "text/plain": [
              "(120, 64, 256)"
            ]
          },
          "metadata": {},
          "execution_count": 39
        }
      ]
    },
    {
      "cell_type": "code",
      "source": [
        "data_input_test = input_T_test.reshape(120*64,256)\n",
        "data_input_test.shape"
      ],
      "metadata": {
        "colab": {
          "base_uri": "https://localhost:8080/"
        },
        "id": "kl_aOJ5P04_2",
        "outputId": "6dea2609-a2fb-4298-f8c3-78e4463843c2"
      },
      "execution_count": 40,
      "outputs": [
        {
          "output_type": "execute_result",
          "data": {
            "text/plain": [
              "(7680, 256)"
            ]
          },
          "metadata": {},
          "execution_count": 40
        }
      ]
    },
    {
      "cell_type": "code",
      "source": [
        "# 샘플링 주파수 설정 (예: 500 Hz)\n",
        "fs = 500\n",
        "\n",
        "# 노치 필터 적용\n",
        "notch_band_test = apply_notch_filter(data_input_test, 50, fs)\n",
        "\n",
        "notch_band_test = apply_notch_filter(notch_band_test, 60, fs)"
      ],
      "metadata": {
        "id": "1zLL1Iwz06Aa"
      },
      "execution_count": 41,
      "outputs": []
    },
    {
      "cell_type": "code",
      "source": [
        "FFT_test = []\n",
        "\n",
        "for i in range(7680):\n",
        "    FFT_test.append(fft(data_input_test[i], 500))"
      ],
      "metadata": {
        "id": "dU28aM-A1Boo"
      },
      "execution_count": 42,
      "outputs": []
    },
    {
      "cell_type": "code",
      "source": [
        "# 리스트 -> numpy array\n",
        "\n",
        "FFT_test = np.array(FFT_test)"
      ],
      "metadata": {
        "id": "ILDY4zR51HPH"
      },
      "execution_count": 43,
      "outputs": []
    },
    {
      "cell_type": "code",
      "source": [
        "# FFT_test에 band_power 함수 적용\n",
        "band_power_test = np.vstack([enhanced_band_power(FFT_test[i * 64:(i + 1) * 64], 500) for i in range(120)])\n",
        "\n",
        "print(\"band_power_test shape:\", band_power_test.shape)"
      ],
      "metadata": {
        "colab": {
          "base_uri": "https://localhost:8080/"
        },
        "id": "taGRcrzv1JQY",
        "outputId": "b80494f4-1012-46ab-a826-c327afb3a822"
      },
      "execution_count": 44,
      "outputs": [
        {
          "output_type": "stream",
          "name": "stdout",
          "text": [
            "band_power_test shape: (7680, 250)\n"
          ]
        }
      ]
    },
    {
      "cell_type": "code",
      "source": [
        "# predict\n",
        "\n",
        "y_test_pred_xg = XG_model.predict(band_power_test)\n",
        "print(\"y_test_pred_xg mean:\", y_test_pred_xg.mean())"
      ],
      "metadata": {
        "colab": {
          "base_uri": "https://localhost:8080/"
        },
        "id": "Z9M2DONU1LzK",
        "outputId": "6330c5a4-741b-4f78-ae5f-1940950ed09d"
      },
      "execution_count": 45,
      "outputs": [
        {
          "output_type": "stream",
          "name": "stdout",
          "text": [
            "y_test_pred_xg mean: 0.5536458333333333\n"
          ]
        }
      ]
    },
    {
      "cell_type": "code",
      "source": [
        "csv = list(y_test_pred_xg)\n",
        "len(csv)"
      ],
      "metadata": {
        "colab": {
          "base_uri": "https://localhost:8080/"
        },
        "id": "2p-s5Wp_1d9n",
        "outputId": "95ac83b3-afef-450b-bd48-3dccb9b009d8"
      },
      "execution_count": 46,
      "outputs": [
        {
          "output_type": "execute_result",
          "data": {
            "text/plain": [
              "7680"
            ]
          },
          "metadata": {},
          "execution_count": 46
        }
      ]
    },
    {
      "cell_type": "code",
      "source": [
        "# 64개씩 1그룹. 다수결로 라벨 결정\n",
        "\n",
        "answer = []\n",
        "\n",
        "for i in range(120):\n",
        "    pred = []\n",
        "    for s in range(64):\n",
        "        pred.append(csv[i*64+s])\n",
        "    if sum(pred)/len(pred) > 0.55:\n",
        "        answer.append(1)\n",
        "    else:\n",
        "        answer.append(0)\n",
        "\n",
        "len(answer)"
      ],
      "metadata": {
        "colab": {
          "base_uri": "https://localhost:8080/"
        },
        "id": "tieoJTLM1jbv",
        "outputId": "e3afcf62-feff-4e31-8b8b-0aae05e3c7a6"
      },
      "execution_count": 47,
      "outputs": [
        {
          "output_type": "execute_result",
          "data": {
            "text/plain": [
              "120"
            ]
          },
          "metadata": {},
          "execution_count": 47
        }
      ]
    },
    {
      "cell_type": "code",
      "source": [
        "test_pred = np.array(answer)\n",
        "test_pred.mean()"
      ],
      "metadata": {
        "colab": {
          "base_uri": "https://localhost:8080/"
        },
        "id": "btkW4LMs1q-g",
        "outputId": "991dcefe-6d94-4a0d-b6ea-87f9548d9e0a"
      },
      "execution_count": 48,
      "outputs": [
        {
          "output_type": "execute_result",
          "data": {
            "text/plain": [
              "0.5166666666666667"
            ]
          },
          "metadata": {},
          "execution_count": 48
        }
      ]
    },
    {
      "cell_type": "code",
      "source": [
        "# 제출하기\n",
        "\n",
        "id=np.arange(120)\n",
        "target=answer\n",
        "\n",
        "submission_df=pd.DataFrame({'ID':id, 'Target':target})\n",
        "\n",
        "submission_df"
      ],
      "metadata": {
        "colab": {
          "base_uri": "https://localhost:8080/",
          "height": 424
        },
        "id": "PIANMRR_1uHL",
        "outputId": "0e048e96-05d0-4e0c-f3f0-5c263ba9f9cc"
      },
      "execution_count": 49,
      "outputs": [
        {
          "output_type": "execute_result",
          "data": {
            "text/plain": [
              "      ID  Target\n",
              "0      0       1\n",
              "1      1       1\n",
              "2      2       1\n",
              "3      3       1\n",
              "4      4       1\n",
              "..   ...     ...\n",
              "115  115       0\n",
              "116  116       1\n",
              "117  117       0\n",
              "118  118       0\n",
              "119  119       0\n",
              "\n",
              "[120 rows x 2 columns]"
            ],
            "text/html": [
              "\n",
              "  <div id=\"df-e1d6b95c-22ee-4f4f-8195-9c77e27a1b15\" class=\"colab-df-container\">\n",
              "    <div>\n",
              "<style scoped>\n",
              "    .dataframe tbody tr th:only-of-type {\n",
              "        vertical-align: middle;\n",
              "    }\n",
              "\n",
              "    .dataframe tbody tr th {\n",
              "        vertical-align: top;\n",
              "    }\n",
              "\n",
              "    .dataframe thead th {\n",
              "        text-align: right;\n",
              "    }\n",
              "</style>\n",
              "<table border=\"1\" class=\"dataframe\">\n",
              "  <thead>\n",
              "    <tr style=\"text-align: right;\">\n",
              "      <th></th>\n",
              "      <th>ID</th>\n",
              "      <th>Target</th>\n",
              "    </tr>\n",
              "  </thead>\n",
              "  <tbody>\n",
              "    <tr>\n",
              "      <th>0</th>\n",
              "      <td>0</td>\n",
              "      <td>1</td>\n",
              "    </tr>\n",
              "    <tr>\n",
              "      <th>1</th>\n",
              "      <td>1</td>\n",
              "      <td>1</td>\n",
              "    </tr>\n",
              "    <tr>\n",
              "      <th>2</th>\n",
              "      <td>2</td>\n",
              "      <td>1</td>\n",
              "    </tr>\n",
              "    <tr>\n",
              "      <th>3</th>\n",
              "      <td>3</td>\n",
              "      <td>1</td>\n",
              "    </tr>\n",
              "    <tr>\n",
              "      <th>4</th>\n",
              "      <td>4</td>\n",
              "      <td>1</td>\n",
              "    </tr>\n",
              "    <tr>\n",
              "      <th>...</th>\n",
              "      <td>...</td>\n",
              "      <td>...</td>\n",
              "    </tr>\n",
              "    <tr>\n",
              "      <th>115</th>\n",
              "      <td>115</td>\n",
              "      <td>0</td>\n",
              "    </tr>\n",
              "    <tr>\n",
              "      <th>116</th>\n",
              "      <td>116</td>\n",
              "      <td>1</td>\n",
              "    </tr>\n",
              "    <tr>\n",
              "      <th>117</th>\n",
              "      <td>117</td>\n",
              "      <td>0</td>\n",
              "    </tr>\n",
              "    <tr>\n",
              "      <th>118</th>\n",
              "      <td>118</td>\n",
              "      <td>0</td>\n",
              "    </tr>\n",
              "    <tr>\n",
              "      <th>119</th>\n",
              "      <td>119</td>\n",
              "      <td>0</td>\n",
              "    </tr>\n",
              "  </tbody>\n",
              "</table>\n",
              "<p>120 rows × 2 columns</p>\n",
              "</div>\n",
              "    <div class=\"colab-df-buttons\">\n",
              "\n",
              "  <div class=\"colab-df-container\">\n",
              "    <button class=\"colab-df-convert\" onclick=\"convertToInteractive('df-e1d6b95c-22ee-4f4f-8195-9c77e27a1b15')\"\n",
              "            title=\"Convert this dataframe to an interactive table.\"\n",
              "            style=\"display:none;\">\n",
              "\n",
              "  <svg xmlns=\"http://www.w3.org/2000/svg\" height=\"24px\" viewBox=\"0 -960 960 960\">\n",
              "    <path d=\"M120-120v-720h720v720H120Zm60-500h600v-160H180v160Zm220 220h160v-160H400v160Zm0 220h160v-160H400v160ZM180-400h160v-160H180v160Zm440 0h160v-160H620v160ZM180-180h160v-160H180v160Zm440 0h160v-160H620v160Z\"/>\n",
              "  </svg>\n",
              "    </button>\n",
              "\n",
              "  <style>\n",
              "    .colab-df-container {\n",
              "      display:flex;\n",
              "      gap: 12px;\n",
              "    }\n",
              "\n",
              "    .colab-df-convert {\n",
              "      background-color: #E8F0FE;\n",
              "      border: none;\n",
              "      border-radius: 50%;\n",
              "      cursor: pointer;\n",
              "      display: none;\n",
              "      fill: #1967D2;\n",
              "      height: 32px;\n",
              "      padding: 0 0 0 0;\n",
              "      width: 32px;\n",
              "    }\n",
              "\n",
              "    .colab-df-convert:hover {\n",
              "      background-color: #E2EBFA;\n",
              "      box-shadow: 0px 1px 2px rgba(60, 64, 67, 0.3), 0px 1px 3px 1px rgba(60, 64, 67, 0.15);\n",
              "      fill: #174EA6;\n",
              "    }\n",
              "\n",
              "    .colab-df-buttons div {\n",
              "      margin-bottom: 4px;\n",
              "    }\n",
              "\n",
              "    [theme=dark] .colab-df-convert {\n",
              "      background-color: #3B4455;\n",
              "      fill: #D2E3FC;\n",
              "    }\n",
              "\n",
              "    [theme=dark] .colab-df-convert:hover {\n",
              "      background-color: #434B5C;\n",
              "      box-shadow: 0px 1px 3px 1px rgba(0, 0, 0, 0.15);\n",
              "      filter: drop-shadow(0px 1px 2px rgba(0, 0, 0, 0.3));\n",
              "      fill: #FFFFFF;\n",
              "    }\n",
              "  </style>\n",
              "\n",
              "    <script>\n",
              "      const buttonEl =\n",
              "        document.querySelector('#df-e1d6b95c-22ee-4f4f-8195-9c77e27a1b15 button.colab-df-convert');\n",
              "      buttonEl.style.display =\n",
              "        google.colab.kernel.accessAllowed ? 'block' : 'none';\n",
              "\n",
              "      async function convertToInteractive(key) {\n",
              "        const element = document.querySelector('#df-e1d6b95c-22ee-4f4f-8195-9c77e27a1b15');\n",
              "        const dataTable =\n",
              "          await google.colab.kernel.invokeFunction('convertToInteractive',\n",
              "                                                    [key], {});\n",
              "        if (!dataTable) return;\n",
              "\n",
              "        const docLinkHtml = 'Like what you see? Visit the ' +\n",
              "          '<a target=\"_blank\" href=https://colab.research.google.com/notebooks/data_table.ipynb>data table notebook</a>'\n",
              "          + ' to learn more about interactive tables.';\n",
              "        element.innerHTML = '';\n",
              "        dataTable['output_type'] = 'display_data';\n",
              "        await google.colab.output.renderOutput(dataTable, element);\n",
              "        const docLink = document.createElement('div');\n",
              "        docLink.innerHTML = docLinkHtml;\n",
              "        element.appendChild(docLink);\n",
              "      }\n",
              "    </script>\n",
              "  </div>\n",
              "\n",
              "\n",
              "<div id=\"df-7a4e6055-3354-4d21-bade-af107f38f80a\">\n",
              "  <button class=\"colab-df-quickchart\" onclick=\"quickchart('df-7a4e6055-3354-4d21-bade-af107f38f80a')\"\n",
              "            title=\"Suggest charts\"\n",
              "            style=\"display:none;\">\n",
              "\n",
              "<svg xmlns=\"http://www.w3.org/2000/svg\" height=\"24px\"viewBox=\"0 0 24 24\"\n",
              "     width=\"24px\">\n",
              "    <g>\n",
              "        <path d=\"M19 3H5c-1.1 0-2 .9-2 2v14c0 1.1.9 2 2 2h14c1.1 0 2-.9 2-2V5c0-1.1-.9-2-2-2zM9 17H7v-7h2v7zm4 0h-2V7h2v10zm4 0h-2v-4h2v4z\"/>\n",
              "    </g>\n",
              "</svg>\n",
              "  </button>\n",
              "\n",
              "<style>\n",
              "  .colab-df-quickchart {\n",
              "      --bg-color: #E8F0FE;\n",
              "      --fill-color: #1967D2;\n",
              "      --hover-bg-color: #E2EBFA;\n",
              "      --hover-fill-color: #174EA6;\n",
              "      --disabled-fill-color: #AAA;\n",
              "      --disabled-bg-color: #DDD;\n",
              "  }\n",
              "\n",
              "  [theme=dark] .colab-df-quickchart {\n",
              "      --bg-color: #3B4455;\n",
              "      --fill-color: #D2E3FC;\n",
              "      --hover-bg-color: #434B5C;\n",
              "      --hover-fill-color: #FFFFFF;\n",
              "      --disabled-bg-color: #3B4455;\n",
              "      --disabled-fill-color: #666;\n",
              "  }\n",
              "\n",
              "  .colab-df-quickchart {\n",
              "    background-color: var(--bg-color);\n",
              "    border: none;\n",
              "    border-radius: 50%;\n",
              "    cursor: pointer;\n",
              "    display: none;\n",
              "    fill: var(--fill-color);\n",
              "    height: 32px;\n",
              "    padding: 0;\n",
              "    width: 32px;\n",
              "  }\n",
              "\n",
              "  .colab-df-quickchart:hover {\n",
              "    background-color: var(--hover-bg-color);\n",
              "    box-shadow: 0 1px 2px rgba(60, 64, 67, 0.3), 0 1px 3px 1px rgba(60, 64, 67, 0.15);\n",
              "    fill: var(--button-hover-fill-color);\n",
              "  }\n",
              "\n",
              "  .colab-df-quickchart-complete:disabled,\n",
              "  .colab-df-quickchart-complete:disabled:hover {\n",
              "    background-color: var(--disabled-bg-color);\n",
              "    fill: var(--disabled-fill-color);\n",
              "    box-shadow: none;\n",
              "  }\n",
              "\n",
              "  .colab-df-spinner {\n",
              "    border: 2px solid var(--fill-color);\n",
              "    border-color: transparent;\n",
              "    border-bottom-color: var(--fill-color);\n",
              "    animation:\n",
              "      spin 1s steps(1) infinite;\n",
              "  }\n",
              "\n",
              "  @keyframes spin {\n",
              "    0% {\n",
              "      border-color: transparent;\n",
              "      border-bottom-color: var(--fill-color);\n",
              "      border-left-color: var(--fill-color);\n",
              "    }\n",
              "    20% {\n",
              "      border-color: transparent;\n",
              "      border-left-color: var(--fill-color);\n",
              "      border-top-color: var(--fill-color);\n",
              "    }\n",
              "    30% {\n",
              "      border-color: transparent;\n",
              "      border-left-color: var(--fill-color);\n",
              "      border-top-color: var(--fill-color);\n",
              "      border-right-color: var(--fill-color);\n",
              "    }\n",
              "    40% {\n",
              "      border-color: transparent;\n",
              "      border-right-color: var(--fill-color);\n",
              "      border-top-color: var(--fill-color);\n",
              "    }\n",
              "    60% {\n",
              "      border-color: transparent;\n",
              "      border-right-color: var(--fill-color);\n",
              "    }\n",
              "    80% {\n",
              "      border-color: transparent;\n",
              "      border-right-color: var(--fill-color);\n",
              "      border-bottom-color: var(--fill-color);\n",
              "    }\n",
              "    90% {\n",
              "      border-color: transparent;\n",
              "      border-bottom-color: var(--fill-color);\n",
              "    }\n",
              "  }\n",
              "</style>\n",
              "\n",
              "  <script>\n",
              "    async function quickchart(key) {\n",
              "      const quickchartButtonEl =\n",
              "        document.querySelector('#' + key + ' button');\n",
              "      quickchartButtonEl.disabled = true;  // To prevent multiple clicks.\n",
              "      quickchartButtonEl.classList.add('colab-df-spinner');\n",
              "      try {\n",
              "        const charts = await google.colab.kernel.invokeFunction(\n",
              "            'suggestCharts', [key], {});\n",
              "      } catch (error) {\n",
              "        console.error('Error during call to suggestCharts:', error);\n",
              "      }\n",
              "      quickchartButtonEl.classList.remove('colab-df-spinner');\n",
              "      quickchartButtonEl.classList.add('colab-df-quickchart-complete');\n",
              "    }\n",
              "    (() => {\n",
              "      let quickchartButtonEl =\n",
              "        document.querySelector('#df-7a4e6055-3354-4d21-bade-af107f38f80a button');\n",
              "      quickchartButtonEl.style.display =\n",
              "        google.colab.kernel.accessAllowed ? 'block' : 'none';\n",
              "    })();\n",
              "  </script>\n",
              "</div>\n",
              "\n",
              "  <div id=\"id_3a54709d-52be-401e-9af1-4e6da817bbf9\">\n",
              "    <style>\n",
              "      .colab-df-generate {\n",
              "        background-color: #E8F0FE;\n",
              "        border: none;\n",
              "        border-radius: 50%;\n",
              "        cursor: pointer;\n",
              "        display: none;\n",
              "        fill: #1967D2;\n",
              "        height: 32px;\n",
              "        padding: 0 0 0 0;\n",
              "        width: 32px;\n",
              "      }\n",
              "\n",
              "      .colab-df-generate:hover {\n",
              "        background-color: #E2EBFA;\n",
              "        box-shadow: 0px 1px 2px rgba(60, 64, 67, 0.3), 0px 1px 3px 1px rgba(60, 64, 67, 0.15);\n",
              "        fill: #174EA6;\n",
              "      }\n",
              "\n",
              "      [theme=dark] .colab-df-generate {\n",
              "        background-color: #3B4455;\n",
              "        fill: #D2E3FC;\n",
              "      }\n",
              "\n",
              "      [theme=dark] .colab-df-generate:hover {\n",
              "        background-color: #434B5C;\n",
              "        box-shadow: 0px 1px 3px 1px rgba(0, 0, 0, 0.15);\n",
              "        filter: drop-shadow(0px 1px 2px rgba(0, 0, 0, 0.3));\n",
              "        fill: #FFFFFF;\n",
              "      }\n",
              "    </style>\n",
              "    <button class=\"colab-df-generate\" onclick=\"generateWithVariable('submission_df')\"\n",
              "            title=\"Generate code using this dataframe.\"\n",
              "            style=\"display:none;\">\n",
              "\n",
              "  <svg xmlns=\"http://www.w3.org/2000/svg\" height=\"24px\"viewBox=\"0 0 24 24\"\n",
              "       width=\"24px\">\n",
              "    <path d=\"M7,19H8.4L18.45,9,17,7.55,7,17.6ZM5,21V16.75L18.45,3.32a2,2,0,0,1,2.83,0l1.4,1.43a1.91,1.91,0,0,1,.58,1.4,1.91,1.91,0,0,1-.58,1.4L9.25,21ZM18.45,9,17,7.55Zm-12,3A5.31,5.31,0,0,0,4.9,8.1,5.31,5.31,0,0,0,1,6.5,5.31,5.31,0,0,0,4.9,4.9,5.31,5.31,0,0,0,6.5,1,5.31,5.31,0,0,0,8.1,4.9,5.31,5.31,0,0,0,12,6.5,5.46,5.46,0,0,0,6.5,12Z\"/>\n",
              "  </svg>\n",
              "    </button>\n",
              "    <script>\n",
              "      (() => {\n",
              "      const buttonEl =\n",
              "        document.querySelector('#id_3a54709d-52be-401e-9af1-4e6da817bbf9 button.colab-df-generate');\n",
              "      buttonEl.style.display =\n",
              "        google.colab.kernel.accessAllowed ? 'block' : 'none';\n",
              "\n",
              "      buttonEl.onclick = () => {\n",
              "        google.colab.notebook.generateWithVariable('submission_df');\n",
              "      }\n",
              "      })();\n",
              "    </script>\n",
              "  </div>\n",
              "\n",
              "    </div>\n",
              "  </div>\n"
            ],
            "application/vnd.google.colaboratory.intrinsic+json": {
              "type": "dataframe",
              "variable_name": "submission_df",
              "summary": "{\n  \"name\": \"submission_df\",\n  \"rows\": 120,\n  \"fields\": [\n    {\n      \"column\": \"ID\",\n      \"properties\": {\n        \"dtype\": \"number\",\n        \"std\": 34,\n        \"min\": 0,\n        \"max\": 119,\n        \"num_unique_values\": 120,\n        \"samples\": [\n          44,\n          47,\n          4\n        ],\n        \"semantic_type\": \"\",\n        \"description\": \"\"\n      }\n    },\n    {\n      \"column\": \"Target\",\n      \"properties\": {\n        \"dtype\": \"number\",\n        \"std\": 0,\n        \"min\": 0,\n        \"max\": 1,\n        \"num_unique_values\": 2,\n        \"samples\": [\n          0,\n          1\n        ],\n        \"semantic_type\": \"\",\n        \"description\": \"\"\n      }\n    }\n  ]\n}"
            }
          },
          "metadata": {},
          "execution_count": 49
        }
      ]
    },
    {
      "cell_type": "code",
      "source": [
        "submission_df.mean()"
      ],
      "metadata": {
        "colab": {
          "base_uri": "https://localhost:8080/"
        },
        "id": "WUGyGWmv1ybN",
        "outputId": "eb8ab7c2-929d-41aa-c487-3ac6c46c9578"
      },
      "execution_count": 50,
      "outputs": [
        {
          "output_type": "execute_result",
          "data": {
            "text/plain": [
              "ID        59.500000\n",
              "Target     0.516667\n",
              "dtype: float64"
            ]
          },
          "metadata": {},
          "execution_count": 50
        }
      ]
    },
    {
      "cell_type": "code",
      "source": [
        "# csv 파일로 내보내기\n",
        "\n",
        "submission_df.to_csv('submission_05121.csv',index = False)"
      ],
      "metadata": {
        "id": "0WIiSQ8X10rm"
      },
      "execution_count": 51,
      "outputs": []
    }
  ]
}