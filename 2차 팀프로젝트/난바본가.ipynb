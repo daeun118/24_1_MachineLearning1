{
  "nbformat": 4,
  "nbformat_minor": 0,
  "metadata": {
    "colab": {
      "provenance": [],
      "machine_shape": "hm",
      "gpuType": "V28"
    },
    "kernelspec": {
      "name": "python3",
      "display_name": "Python 3"
    },
    "language_info": {
      "name": "python"
    },
    "accelerator": "TPU"
  },
  "cells": [
    {
      "cell_type": "code",
      "source": [
        "from google.colab import drive\n",
        "drive.mount('/content/drive')"
      ],
      "metadata": {
        "colab": {
          "base_uri": "https://localhost:8080/"
        },
        "id": "TVOD7T8NBDrZ",
        "outputId": "ba350860-835e-4a9d-f663-95b70eef40e9"
      },
      "execution_count": 2,
      "outputs": [
        {
          "output_type": "stream",
          "name": "stdout",
          "text": [
            "Mounted at /content/drive\n"
          ]
        }
      ]
    },
    {
      "cell_type": "code",
      "execution_count": 3,
      "metadata": {
        "id": "h8dJkOYdA96T"
      },
      "outputs": [],
      "source": [
        "import numpy as np\n",
        "\n",
        "# 데이터 로드\n",
        "train_data = np.load('/content/drive/MyDrive/team_project2/train.npy', allow_pickle=True).item()\n",
        "test_data = np.load('/content/drive/MyDrive/team_project2/test.npy', allow_pickle=True).item()\n",
        "\n",
        "X_train = train_data['input']\n",
        "y_train = train_data['label']\n",
        "X_test = test_data['input']\n",
        "\n",
        "# 데이터 형태 변경\n",
        "X_train = X_train.squeeze(1)  # (4608, 22, 1125)\n",
        "X_test = X_test.squeeze(1)    # (576, 22, 1125)\n"
      ]
    },
    {
      "cell_type": "code",
      "source": [
        "\n",
        "print(\"정수 라벨(0~3)으로 변환된 라벨 shape:\", y_train.shape)\n",
        ""
      ],
      "metadata": {
        "id": "cmi8z9s-O35U",
        "outputId": "4842ab06-15d8-49f6-dadd-6035ff2d96dd",
        "colab": {
          "base_uri": "https://localhost:8080/"
        }
      },
      "execution_count": 4,
      "outputs": [
        {
          "output_type": "stream",
          "name": "stdout",
          "text": [
            "정수 라벨(0~3)으로 변환된 라벨 shape: (4608, 4)\n"
          ]
        }
      ]
    },
    {
      "cell_type": "code",
      "source": [
        "import pywt\n",
        "import numpy as np\n",
        "\n",
        "def compute_cwt(data, wavelet='morl', scales=np.arange(1, 31)):\n",
        "    cwt_matrices = []\n",
        "    for epoch in data:\n",
        "        cwt_epoch = []\n",
        "        for channel in epoch:\n",
        "            coefficients, _ = pywt.cwt(channel, scales, wavelet)\n",
        "            cwt_epoch.append(coefficients)\n",
        "        cwt_matrices.append(cwt_epoch)\n",
        "    return np.array(cwt_matrices)\n",
        "\n",
        "# CWT를 사용하여 시간-주파수 표현 계산\n",
        "scales = np.arange(1, 31)\n",
        "X_train_cwt = compute_cwt(X_train, scales=scales)\n",
        "X_test_cwt = compute_cwt(X_test, scales=scales)\n",
        "\n",
        "# CNN 입력 형태로 변환\n",
        "X_train_cwt = np.transpose(X_train_cwt, (0, 3, 1, 2))  # (samples, channels, scales, time)\n",
        "X_test_cwt = np.transpose(X_test_cwt, (0, 3, 1, 2))  # (samples, channels, scales, time)\n",
        "\n",
        "# 채널을 마지막 축으로 이동하여 CNN에 맞게 변환\n",
        "X_train_cwt = X_train_cwt.reshape((X_train_cwt.shape[0], X_train_cwt.shape))\n"
      ],
      "metadata": {
        "colab": {
          "base_uri": "https://localhost:8080/",
          "height": 176
        },
        "id": "qbv6K2oZG4T_",
        "outputId": "f826115a-6e84-4e58-d035-ffff92bad89e"
      },
      "execution_count": 8,
      "outputs": [
        {
          "output_type": "error",
          "ename": "TypeError",
          "evalue": "'tuple' object cannot be interpreted as an integer",
          "traceback": [
            "\u001b[0;31m---------------------------------------------------------------------------\u001b[0m",
            "\u001b[0;31mTypeError\u001b[0m                                 Traceback (most recent call last)",
            "\u001b[0;32m<ipython-input-8-6ecfe78160d5>\u001b[0m in \u001b[0;36m<cell line: 24>\u001b[0;34m()\u001b[0m\n\u001b[1;32m     22\u001b[0m \u001b[0;34m\u001b[0m\u001b[0m\n\u001b[1;32m     23\u001b[0m \u001b[0;31m# 채널을 마지막 축으로 이동하여 CNN에 맞게 변환\u001b[0m\u001b[0;34m\u001b[0m\u001b[0;34m\u001b[0m\u001b[0m\n\u001b[0;32m---> 24\u001b[0;31m \u001b[0mX_train_cwt\u001b[0m \u001b[0;34m=\u001b[0m \u001b[0mX_train_cwt\u001b[0m\u001b[0;34m.\u001b[0m\u001b[0mreshape\u001b[0m\u001b[0;34m(\u001b[0m\u001b[0;34m(\u001b[0m\u001b[0mX_train_cwt\u001b[0m\u001b[0;34m.\u001b[0m\u001b[0mshape\u001b[0m\u001b[0;34m[\u001b[0m\u001b[0;36m0\u001b[0m\u001b[0;34m]\u001b[0m\u001b[0;34m,\u001b[0m \u001b[0mX_train_cwt\u001b[0m\u001b[0;34m.\u001b[0m\u001b[0mshape\u001b[0m\u001b[0;34m)\u001b[0m\u001b[0;34m)\u001b[0m\u001b[0;34m\u001b[0m\u001b[0;34m\u001b[0m\u001b[0m\n\u001b[0m",
            "\u001b[0;31mTypeError\u001b[0m: 'tuple' object cannot be interpreted as an integer"
          ]
        }
      ]
    },
    {
      "cell_type": "code",
      "source": [
        "X_train_cwt = X_train_cwt.reshape((X_train_cwt.shape[0], X_train_cwt.shape[1], X_train_cwt.shape[2], X_train_cwt.shape[3]))\n",
        "X_test_cwt = X_test_cwt.reshape((X_test_cwt.shape[0], X_test_cwt.shape[1], X_test_cwt.shape[2], X_test_cwt.shape[3]))"
      ],
      "metadata": {
        "id": "yUfDHxO5X3cS"
      },
      "execution_count": 13,
      "outputs": []
    },
    {
      "cell_type": "code",
      "source": [
        "import tensorflow as tf\n",
        "from tensorflow.keras.models import Sequential\n",
        "from tensorflow.keras.layers import Conv2D, MaxPooling2D, Flatten, Dense, Dropout, BatchNormalization\n",
        "from tensorflow.keras.callbacks import EarlyStopping\n",
        "\n",
        "# 라벨을 원-핫 인코딩\n",
        "\n",
        "\n",
        "# CNN 모델 정의\n",
        "model = Sequential()\n",
        "model.add(Conv2D(32, (3, 3), activation='relu', input_shape=(X_train_cwt.shape[1], X_train_cwt.shape[2], X_train_cwt.shape[3])))\n",
        "model.add(BatchNormalization())\n",
        "model.add(MaxPooling2D((2, 2)))\n",
        "model.add(Dropout(0.25))\n",
        "\n",
        "model.add(Conv2D(64, (3, 3), activation='relu'))\n",
        "model.add(BatchNormalization())\n",
        "model.add(MaxPooling2D((2, 2)))\n",
        "model.add(Dropout(0.25))\n",
        "\n",
        "model.add(Conv2D(128, (3, 3), activation='relu'))\n",
        "model.add(BatchNormalization())\n",
        "model.add(MaxPooling2D((2, 2)))\n",
        "model.add(Dropout(0.25))\n",
        "\n",
        "model.add(Flatten())\n",
        "model.add(Dense(256, activation='relu'))\n",
        "model.add(BatchNormalization())\n",
        "model.add(Dropout(0.5))\n",
        "model.add(Dense(4, activation='softmax'))\n",
        "\n",
        "# 모델 컴파일\n",
        "model.compile(optimizer='adam', loss='categorical_crossentropy', metrics=['accuracy'])\n",
        "\n",
        "# 조기 종료 콜백 정의\n",
        "early_stopping = EarlyStopping(monitor='val_loss', patience=5, restore_best_weights=True)\n",
        "\n",
        "# 모델 학습\n",
        "history = model.fit(X_train_cwt, y_train, epochs=50, batch_size=64, validation_split=0.2, callbacks=[early_stopping])\n"
      ],
      "metadata": {
        "id": "A9KkAvCQKkJA",
        "outputId": "c6a9b9f8-b1d4-475d-cf3f-f2b6305eee8e",
        "colab": {
          "base_uri": "https://localhost:8080/"
        }
      },
      "execution_count": 14,
      "outputs": [
        {
          "output_type": "stream",
          "name": "stdout",
          "text": [
            "Epoch 1/50\n",
            "58/58 [==============================] - 42s 688ms/step - loss: 1.8674 - accuracy: 0.2716 - val_loss: 2.0452 - val_accuracy: 0.2625\n",
            "Epoch 2/50\n",
            "58/58 [==============================] - 36s 616ms/step - loss: 1.5485 - accuracy: 0.3353 - val_loss: 1.6074 - val_accuracy: 0.3145\n",
            "Epoch 3/50\n",
            "58/58 [==============================] - 35s 611ms/step - loss: 1.3987 - accuracy: 0.4031 - val_loss: 1.6141 - val_accuracy: 0.3015\n",
            "Epoch 4/50\n",
            "58/58 [==============================] - 36s 619ms/step - loss: 1.3174 - accuracy: 0.4409 - val_loss: 1.4563 - val_accuracy: 0.3547\n",
            "Epoch 5/50\n",
            "58/58 [==============================] - 36s 628ms/step - loss: 1.2223 - accuracy: 0.4783 - val_loss: 1.5833 - val_accuracy: 0.3091\n",
            "Epoch 6/50\n",
            "58/58 [==============================] - 36s 616ms/step - loss: 1.1347 - accuracy: 0.5220 - val_loss: 1.5142 - val_accuracy: 0.2798\n",
            "Epoch 7/50\n",
            "58/58 [==============================] - 36s 624ms/step - loss: 1.0232 - accuracy: 0.5676 - val_loss: 1.5607 - val_accuracy: 0.3145\n",
            "Epoch 8/50\n",
            "58/58 [==============================] - 36s 623ms/step - loss: 0.9421 - accuracy: 0.6104 - val_loss: 1.7086 - val_accuracy: 0.3286\n",
            "Epoch 9/50\n",
            "58/58 [==============================] - 36s 626ms/step - loss: 0.8651 - accuracy: 0.6546 - val_loss: 1.4859 - val_accuracy: 0.4121\n"
          ]
        }
      ]
    },
    {
      "cell_type": "code",
      "source": [
        "# 테스트 데이터 예측\n",
        "y_test_pred = model.predict(X_test_cwt)\n",
        "y_test_pred_classes = np.argmax(y_test_pred, axis=1)\n",
        "\n",
        "# 예측 결과를 DataFrame으로 변환\n",
        "import pandas as pd\n",
        "df = pd.DataFrame(y_test_pred_classes, columns=['Predicted'])\n",
        "\n",
        "# CSV 파일로 저장\n",
        "df.to_csv('predictions1.csv', index=True)\n"
      ],
      "metadata": {
        "id": "FD1RIg3ZKmqX",
        "outputId": "1b1f4f25-37fd-4375-e8b1-1820b79c1ea1",
        "colab": {
          "base_uri": "https://localhost:8080/"
        }
      },
      "execution_count": 17,
      "outputs": [
        {
          "output_type": "stream",
          "name": "stdout",
          "text": [
            "18/18 [==============================] - 1s 68ms/step\n"
          ]
        }
      ]
    },
    {
      "cell_type": "code",
      "source": [
        "df"
      ],
      "metadata": {
        "id": "dFxMjfV9Kp4y"
      },
      "execution_count": null,
      "outputs": []
    },
    {
      "cell_type": "code",
      "source": [],
      "metadata": {
        "id": "F6L0iEhGQeFl"
      },
      "execution_count": null,
      "outputs": []
    }
  ]
}
