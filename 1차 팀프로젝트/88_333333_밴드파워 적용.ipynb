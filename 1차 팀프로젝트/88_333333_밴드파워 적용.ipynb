{
  "cells": [
    {
      "cell_type": "markdown",
      "metadata": {
        "id": "view-in-github",
        "colab_type": "text"
      },
      "source": [
        "<a href=\"https://colab.research.google.com/github/daeun118/MachineLearning1/blob/main/88_333333_%EB%B0%B4%EB%93%9C%ED%8C%8C%EC%9B%8C%20%EC%A0%81%EC%9A%A9.ipynb\" target=\"_parent\"><img src=\"https://colab.research.google.com/assets/colab-badge.svg\" alt=\"Open In Colab\"/></a>"
      ]
    },
    {
      "cell_type": "code",
      "execution_count": null,
      "metadata": {
        "id": "g-MxpmAJBtUk"
      },
      "outputs": [],
      "source": [
        "import numpy as np\n",
        "import pandas as pd\n",
        "import seaborn as sns\n",
        "import matplotlib.pyplot as plt\n",
        "from sklearn.preprocessing import StandardScaler\n",
        "from sklearn.model_selection import train_test_split\n",
        "from xgboost import XGBClassifier\n",
        "from sklearn.metrics import accuracy_score\n",
        "from sklearn.model_selection import GridSearchCV\n",
        "from sklearn.model_selection import train_test_split\n",
        "from xgboost import XGBClassifier\n"
      ]
    },
    {
      "cell_type": "code",
      "execution_count": null,
      "metadata": {
        "colab": {
          "base_uri": "https://localhost:8080/"
        },
        "id": "H4q46GXCDvWn",
        "outputId": "b57771ff-57d9-4234-8cec-f90572d86824"
      },
      "outputs": [
        {
          "output_type": "stream",
          "name": "stdout",
          "text": [
            "Drive already mounted at /content/drive; to attempt to forcibly remount, call drive.mount(\"/content/drive\", force_remount=True).\n"
          ]
        }
      ],
      "source": [
        "from google.colab import drive\n",
        "drive.mount('/content/drive')\n"
      ]
    },
    {
      "cell_type": "code",
      "execution_count": null,
      "metadata": {
        "id": "Cq0i0C3LBzmH"
      },
      "outputs": [],
      "source": [
        "data = np.load(\"/content/drive/MyDrive/train.npy\", allow_pickle=True)\n",
        "data = data.item()\n",
        "data_input = data['input']\n"
      ]
    },
    {
      "cell_type": "code",
      "execution_count": null,
      "metadata": {
        "id": "3937YE-Q3JYN"
      },
      "outputs": [],
      "source": [
        "labels = data['label']\n"
      ]
    },
    {
      "cell_type": "code",
      "execution_count": null,
      "metadata": {
        "colab": {
          "base_uri": "https://localhost:8080/"
        },
        "id": "QH2gCDxUB752",
        "outputId": "7953f2de-17f1-4d0c-fb06-8c43363ec513"
      },
      "outputs": [
        {
          "output_type": "execute_result",
          "data": {
            "text/plain": [
              "array([[[[-2.8890e+00],\n",
              "         [-7.9550e+00],\n",
              "         [-1.6170e+00],\n",
              "         ...,\n",
              "         [ 1.9430e+00],\n",
              "         [-3.0920e+00],\n",
              "         [-1.7090e+00]],\n",
              "\n",
              "        [[-3.3770e+00],\n",
              "         [-8.9310e+00],\n",
              "         [-1.6170e+00],\n",
              "         ...,\n",
              "         [ 2.9200e+00],\n",
              "         [-3.0920e+00],\n",
              "         [ 2.4400e-01]],\n",
              "\n",
              "        [[-3.3770e+00],\n",
              "         [-8.9310e+00],\n",
              "         [-1.5300e-01],\n",
              "         ...,\n",
              "         [ 3.4080e+00],\n",
              "         [-3.0920e+00],\n",
              "         [ 2.1970e+00]],\n",
              "\n",
              "        ...,\n",
              "\n",
              "        [[ 5.9000e+00],\n",
              "         [ 3.7640e+00],\n",
              "         [-8.9420e+00],\n",
              "         ...,\n",
              "         [-1.0000e-02],\n",
              "         [ 5.2080e+00],\n",
              "         [-1.9775e+01]],\n",
              "\n",
              "        [[ 5.4120e+00],\n",
              "         [ 3.2760e+00],\n",
              "         [-1.0895e+01],\n",
              "         ...,\n",
              "         [-1.0000e-02],\n",
              "         [ 5.2080e+00],\n",
              "         [-2.1240e+01]],\n",
              "\n",
              "        [[ 5.9000e+00],\n",
              "         [ 2.7870e+00],\n",
              "         [-1.1383e+01],\n",
              "         ...,\n",
              "         [-1.0000e-02],\n",
              "         [ 5.6970e+00],\n",
              "         [-2.2217e+01]]],\n",
              "\n",
              "\n",
              "       [[[-3.8660e+00],\n",
              "         [-4.8220e+00],\n",
              "         [-7.7210e+00],\n",
              "         ...,\n",
              "         [-5.0900e-01],\n",
              "         [-4.2010e+00],\n",
              "         [-1.1090e+00]],\n",
              "\n",
              "        [[-4.8420e+00],\n",
              "         [-5.7980e+00],\n",
              "         [-1.0162e+01],\n",
              "         ...,\n",
              "         [-1.4850e+00],\n",
              "         [-4.6900e+00],\n",
              "         [-1.5970e+00]],\n",
              "\n",
              "        [[-6.7950e+00],\n",
              "         [-7.2630e+00],\n",
              "         [-1.1627e+01],\n",
              "         ...,\n",
              "         [-1.9730e+00],\n",
              "         [-6.1540e+00],\n",
              "         [-2.5740e+00]],\n",
              "\n",
              "        ...,\n",
              "\n",
              "        [[-4.6834e+01],\n",
              "         [-2.5330e+01],\n",
              "         [-3.5065e+01],\n",
              "         ...,\n",
              "         [ 1.9330e+00],\n",
              "         [-4.5705e+01],\n",
              "         [-3.5500e+00]],\n",
              "\n",
              "        [[-4.8787e+01],\n",
              "         [-2.8259e+01],\n",
              "         [-3.5065e+01],\n",
              "         ...,\n",
              "         [ 2.4210e+00],\n",
              "         [-4.8147e+01],\n",
              "         [-3.0620e+00]],\n",
              "\n",
              "        [[-5.0741e+01],\n",
              "         [-3.0212e+01],\n",
              "         [-3.5065e+01],\n",
              "         ...,\n",
              "         [ 2.9090e+00],\n",
              "         [-4.9611e+01],\n",
              "         [-3.5500e+00]]],\n",
              "\n",
              "\n",
              "       [[[-1.1600e+00],\n",
              "         [-8.8400e+00],\n",
              "         [-1.3330e+00],\n",
              "         ...,\n",
              "         [ 8.7500e-01],\n",
              "         [-7.8300e-01],\n",
              "         [ 2.6250e+00]],\n",
              "\n",
              "        [[-4.5780e+00],\n",
              "         [-1.0305e+01],\n",
              "         [-4.7510e+00],\n",
              "         ...,\n",
              "         [ 8.7500e-01],\n",
              "         [-4.6900e+00],\n",
              "         [-3.0500e-01]],\n",
              "\n",
              "        [[-6.5310e+00],\n",
              "         [-9.3280e+00],\n",
              "         [-6.7040e+00],\n",
              "         ...,\n",
              "         [-1.0200e-01],\n",
              "         [-6.6430e+00],\n",
              "         [-2.2580e+00]],\n",
              "\n",
              "        ...,\n",
              "\n",
              "        [[ 1.6418e+01],\n",
              "         [ 1.3133e+01],\n",
              "         [ 3.0620e+00],\n",
              "         ...,\n",
              "         [-4.4960e+00],\n",
              "         [ 1.6795e+01],\n",
              "         [ 1.0437e+01]],\n",
              "\n",
              "        [[ 1.5442e+01],\n",
              "         [ 1.2644e+01],\n",
              "         [ 1.3200e-01],\n",
              "         ...,\n",
              "         [-4.0080e+00],\n",
              "         [ 1.5330e+01],\n",
              "         [ 8.9720e+00]],\n",
              "\n",
              "        [[ 1.5442e+01],\n",
              "         [ 1.1180e+01],\n",
              "         [-8.4400e-01],\n",
              "         ...,\n",
              "         [-3.5200e+00],\n",
              "         [ 1.4842e+01],\n",
              "         [ 9.4600e+00]]],\n",
              "\n",
              "\n",
              "       ...,\n",
              "\n",
              "\n",
              "       [[[-1.4950e+00],\n",
              "         [-3.0110e+00],\n",
              "         [-9.0500e-01],\n",
              "         ...,\n",
              "         [-1.5060e+00],\n",
              "         [ 8.2300e+00],\n",
              "         [ 4.9030e+00]],\n",
              "\n",
              "        [[ 9.4600e-01],\n",
              "         [ 3.3370e+00],\n",
              "         [-4.1700e-01],\n",
              "         ...,\n",
              "         [-1.5060e+00],\n",
              "         [ 4.8120e+00],\n",
              "         [ 7.8330e+00]],\n",
              "\n",
              "        [[ 4.8520e+00],\n",
              "         [ 1.0173e+01],\n",
              "         [ 2.5130e+00],\n",
              "         ...,\n",
              "         [-1.5060e+00],\n",
              "         [ 1.8820e+00],\n",
              "         [ 1.1739e+01]],\n",
              "\n",
              "        ...,\n",
              "\n",
              "        [[-1.1749e+01],\n",
              "         [ 3.3370e+00],\n",
              "         [-1.2136e+01],\n",
              "         ...,\n",
              "         [-1.9940e+00],\n",
              "         [-1.5360e+00],\n",
              "         [-8.7690e+00]],\n",
              "\n",
              "        [[-1.0284e+01],\n",
              "         [ 6.7550e+00],\n",
              "         [-1.0671e+01],\n",
              "         ...,\n",
              "         [-1.5060e+00],\n",
              "         [-4.4660e+00],\n",
              "         [-6.3270e+00]],\n",
              "\n",
              "        [[-1.2238e+01],\n",
              "         [ 6.2660e+00],\n",
              "         [-1.0671e+01],\n",
              "         ...,\n",
              "         [-5.2900e-01],\n",
              "         [-6.4190e+00],\n",
              "         [-5.8390e+00]]],\n",
              "\n",
              "\n",
              "       [[[ 5.0860e+00],\n",
              "         [ 5.5540e+00],\n",
              "         [-2.8890e+00],\n",
              "         ...,\n",
              "         [-2.3400e-01],\n",
              "         [ 3.4990e+00],\n",
              "         [ 3.4590e+00]],\n",
              "\n",
              "        [[ 7.0390e+00],\n",
              "         [ 7.0190e+00],\n",
              "         [ 4.9240e+00],\n",
              "         ...,\n",
              "         [ 2.5400e-01],\n",
              "         [ 3.9880e+00],\n",
              "         [ 7.3650e+00]],\n",
              "\n",
              "        [[ 8.9930e+00],\n",
              "         [ 1.0925e+01],\n",
              "         [ 1.4689e+01],\n",
              "         ...,\n",
              "         [ 2.5400e-01],\n",
              "         [ 4.9640e+00],\n",
              "         [ 1.0783e+01]],\n",
              "\n",
              "        ...,\n",
              "\n",
              "        [[-1.0050e+01],\n",
              "         [-6.1650e+00],\n",
              "         [-6.3070e+00],\n",
              "         ...,\n",
              "         [-7.5580e+00],\n",
              "         [-1.2614e+01],\n",
              "         [-2.0955e+01]],\n",
              "\n",
              "        [[-8.0970e+00],\n",
              "         [-2.7470e+00],\n",
              "         [-7.2840e+00],\n",
              "         ...,\n",
              "         [-7.0700e+00],\n",
              "         [-1.0661e+01],\n",
              "         [-1.9979e+01]],\n",
              "\n",
              "        [[-4.1910e+00],\n",
              "         [-2.7470e+00],\n",
              "         [-4.8420e+00],\n",
              "         ...,\n",
              "         [-6.5820e+00],\n",
              "         [-1.0173e+01],\n",
              "         [-1.6561e+01]]],\n",
              "\n",
              "\n",
              "       [[[ 1.6480e+00],\n",
              "         [-1.9630e+00],\n",
              "         [ 1.8210e+00],\n",
              "         ...,\n",
              "         [ 1.8010e+00],\n",
              "         [ 3.7030e+00],\n",
              "         [-4.8800e-01]],\n",
              "\n",
              "        [[-7.9300e-01],\n",
              "         [-1.9630e+00],\n",
              "         [ 1.8210e+00],\n",
              "         ...,\n",
              "         [ 1.8010e+00],\n",
              "         [ 6.6320e+00],\n",
              "         [-1.9530e+00]],\n",
              "\n",
              "        [[-2.2580e+00],\n",
              "         [-9.8700e-01],\n",
              "         [ 1.8210e+00],\n",
              "         ...,\n",
              "         [ 2.2890e+00],\n",
              "         [ 7.6090e+00],\n",
              "         [-3.4180e+00]],\n",
              "\n",
              "        ...,\n",
              "\n",
              "        [[ 1.4343e+01],\n",
              "         [ 2.1474e+01],\n",
              "         [ 1.1587e+01],\n",
              "         ...,\n",
              "         [-5.0350e+00],\n",
              "         [-3.4871e+01],\n",
              "         [-1.9530e+00]],\n",
              "\n",
              "        [[ 1.4343e+01],\n",
              "         [ 2.1474e+01],\n",
              "         [ 1.2563e+01],\n",
              "         ...,\n",
              "         [-5.5240e+00],\n",
              "         [-3.5360e+01],\n",
              "         [-9.7700e-01]],\n",
              "\n",
              "        [[ 1.3855e+01],\n",
              "         [ 2.0498e+01],\n",
              "         [ 1.1098e+01],\n",
              "         ...,\n",
              "         [-5.5240e+00],\n",
              "         [-3.4383e+01],\n",
              "         [-4.8800e-01]]]])"
            ]
          },
          "metadata": {},
          "execution_count": 120
        }
      ],
      "source": [
        "data_input"
      ]
    },
    {
      "cell_type": "code",
      "execution_count": null,
      "metadata": {
        "colab": {
          "base_uri": "https://localhost:8080/"
        },
        "id": "c3hc1wNF5fqJ",
        "outputId": "37b4f503-0860-4277-a851-ecbee76d4a41"
      },
      "outputs": [
        {
          "output_type": "execute_result",
          "data": {
            "text/plain": [
              "(1080,)"
            ]
          },
          "metadata": {},
          "execution_count": 121
        }
      ],
      "source": [
        "labels.shape"
      ]
    },
    {
      "cell_type": "code",
      "execution_count": null,
      "metadata": {
        "id": "lat05SwiKOzj"
      },
      "outputs": [],
      "source": [
        "# 미리 스플릿\n",
        "X_train, X_valid, y_train, y_valid = train_test_split(data_input,labels , test_size=0.2, random_state=156)\n"
      ]
    },
    {
      "cell_type": "code",
      "execution_count": null,
      "metadata": {
        "colab": {
          "base_uri": "https://localhost:8080/"
        },
        "id": "wFfmGj9hFQ9g",
        "outputId": "bebfac8b-9c30-4a66-e3d4-624e0b5ddb2a"
      },
      "outputs": [
        {
          "output_type": "stream",
          "name": "stdout",
          "text": [
            "X_train.shape: (864, 256, 64, 1)\n",
            "X_valid.shape: (216, 256, 64, 1)\n"
          ]
        }
      ],
      "source": [
        "print(\"X_train.shape:\", X_train.shape)\n",
        "print(\"X_valid.shape:\", X_valid.shape)"
      ]
    },
    {
      "cell_type": "markdown",
      "metadata": {
        "id": "t8jskAvGx3r6"
      },
      "source": [
        "# **전처리**\n"
      ]
    },
    {
      "cell_type": "code",
      "execution_count": null,
      "metadata": {
        "colab": {
          "base_uri": "https://localhost:8080/"
        },
        "id": "nxK_0dwkowue",
        "outputId": "25b483f2-0297-497d-9b0f-b36167dcbef4"
      },
      "outputs": [
        {
          "output_type": "execute_result",
          "data": {
            "text/plain": [
              "0.5"
            ]
          },
          "metadata": {},
          "execution_count": 124
        }
      ],
      "source": [
        "y_valid.mean()"
      ]
    },
    {
      "cell_type": "code",
      "execution_count": null,
      "metadata": {
        "colab": {
          "base_uri": "https://localhost:8080/"
        },
        "id": "MfumKD_XMVPT",
        "outputId": "6d8dfad7-7c71-4c09-dc51-fae18fee0377"
      },
      "outputs": [
        {
          "output_type": "execute_result",
          "data": {
            "text/plain": [
              "(864,)"
            ]
          },
          "metadata": {},
          "execution_count": 125
        }
      ],
      "source": [
        "y_train.shape"
      ]
    },
    {
      "cell_type": "code",
      "execution_count": null,
      "metadata": {
        "colab": {
          "base_uri": "https://localhost:8080/"
        },
        "id": "17Rp4I1PX41i",
        "outputId": "e3602d19-1dda-4161-f66f-94ede9d71847"
      },
      "outputs": [
        {
          "output_type": "execute_result",
          "data": {
            "text/plain": [
              "(864, 256, 64, 1)"
            ]
          },
          "metadata": {},
          "execution_count": 126
        }
      ],
      "source": [
        "X_train.shape"
      ]
    },
    {
      "cell_type": "code",
      "execution_count": null,
      "metadata": {
        "colab": {
          "base_uri": "https://localhost:8080/"
        },
        "id": "xOoCU2EqrCg2",
        "outputId": "f29b4e44-9753-4be1-991f-5be48772471f"
      },
      "outputs": [
        {
          "output_type": "execute_result",
          "data": {
            "text/plain": [
              "(864, 64, 256)"
            ]
          },
          "metadata": {},
          "execution_count": 127
        }
      ],
      "source": [
        "# X_train reshape\n",
        "\n",
        "X_train_1 = []\n",
        "for i in range(864):\n",
        "    data_input_m = X_train[i][:][:].squeeze().T\n",
        "    X_train_1.append(data_input_m)\n",
        "\n",
        "input_T_train = np.array(X_train_1)\n",
        "input_T_train.shape\n"
      ]
    },
    {
      "cell_type": "code",
      "execution_count": null,
      "metadata": {
        "colab": {
          "base_uri": "https://localhost:8080/"
        },
        "id": "rbzbShQAMd0T",
        "outputId": "f445b670-57da-44b1-d6ca-36649d0941f1"
      },
      "outputs": [
        {
          "output_type": "execute_result",
          "data": {
            "text/plain": [
              "(216, 64, 256)"
            ]
          },
          "metadata": {},
          "execution_count": 128
        }
      ],
      "source": [
        "# X_valid reshape\n",
        "\n",
        "X_valid_1 = []\n",
        "for i in range(216):\n",
        "    data_input_m = X_valid[i][:][:].squeeze().T\n",
        "    X_valid_1.append(data_input_m)\n",
        "\n",
        "input_T_valid = np.array(X_valid_1)\n",
        "input_T_valid.shape\n"
      ]
    },
    {
      "cell_type": "code",
      "execution_count": null,
      "metadata": {
        "colab": {
          "base_uri": "https://localhost:8080/"
        },
        "id": "_i79vyJhZ1EQ",
        "outputId": "9ad87d8f-041b-4e13-b7b8-12de1ddedf83"
      },
      "outputs": [
        {
          "output_type": "execute_result",
          "data": {
            "text/plain": [
              "(55296, 256)"
            ]
          },
          "metadata": {},
          "execution_count": 129
        }
      ],
      "source": [
        "data_input_train = input_T_train.reshape(864*64,256)\n",
        "data_input_train.shape\n"
      ]
    },
    {
      "cell_type": "code",
      "execution_count": null,
      "metadata": {
        "colab": {
          "base_uri": "https://localhost:8080/"
        },
        "id": "2wGLLS8KZgsz",
        "outputId": "d861a7a0-fba2-459b-b091-3965a5c0eb8e"
      },
      "outputs": [
        {
          "output_type": "execute_result",
          "data": {
            "text/plain": [
              "(13824, 256)"
            ]
          },
          "metadata": {},
          "execution_count": 130
        }
      ],
      "source": [
        "data_input_valid = input_T_valid.reshape(216*64,256)\n",
        "data_input_valid.shape\n"
      ]
    },
    {
      "cell_type": "code",
      "execution_count": null,
      "metadata": {
        "colab": {
          "base_uri": "https://localhost:8080/"
        },
        "id": "8Kr1pth6YC6l",
        "outputId": "783339f5-7111-475b-cb71-b3aba85dd942"
      },
      "outputs": [
        {
          "output_type": "execute_result",
          "data": {
            "text/plain": [
              "(55296,)"
            ]
          },
          "metadata": {},
          "execution_count": 131
        }
      ],
      "source": [
        "# train label 확장\n",
        "\n",
        "repeated_arr_train = []\n",
        "for i in range(len(y_train)):\n",
        "    repeated_arr_train.extend(np.full(64, y_train[i]))\n",
        "\n",
        "labels_train = np.array(repeated_arr_train)\n",
        "labels_train.shape\n"
      ]
    },
    {
      "cell_type": "code",
      "execution_count": null,
      "metadata": {
        "colab": {
          "base_uri": "https://localhost:8080/"
        },
        "id": "myU4-WWcYUys",
        "outputId": "345f084b-c14d-4861-bfa8-9a5ccaf26e0d"
      },
      "outputs": [
        {
          "output_type": "execute_result",
          "data": {
            "text/plain": [
              "(13824,)"
            ]
          },
          "metadata": {},
          "execution_count": 132
        }
      ],
      "source": [
        "# valid label 확장\n",
        "\n",
        "repeated_arr_valid = []\n",
        "for i in range(len(y_valid)):\n",
        "    repeated_arr_valid.extend(np.full(64, y_valid[i]))\n",
        "\n",
        "labels_valid = np.array(repeated_arr_valid)\n",
        "labels_valid.shape\n"
      ]
    },
    {
      "cell_type": "code",
      "execution_count": null,
      "metadata": {
        "colab": {
          "base_uri": "https://localhost:8080/"
        },
        "id": "o5OhPU73pE1U",
        "outputId": "c2c58244-d1fb-44a3-9e8c-f7f9da3544de"
      },
      "outputs": [
        {
          "output_type": "stream",
          "name": "stdout",
          "text": [
            "labels_train.mean(): 0.5\n",
            "labels_valid.mean(): 0.5\n"
          ]
        }
      ],
      "source": [
        "print(\"labels_train.mean():\", labels_train.mean())\n",
        "print(\"labels_valid.mean():\", labels_valid.mean())"
      ]
    },
    {
      "cell_type": "markdown",
      "metadata": {
        "id": "-Og6OjU2Go1H"
      },
      "source": [
        "## 스케일링"
      ]
    },
    {
      "cell_type": "code",
      "execution_count": null,
      "metadata": {
        "id": "rvfSZh1upZtF"
      },
      "outputs": [],
      "source": [
        "# from sklearn.preprocessing import StandardScaler\n",
        "\n",
        "# scaler = StandardScaler()\n",
        "# X_train_scaled = scaler.fit_transform(data_input_train)\n",
        "# X_valid_scaled = scaler.transform(data_input_valid)\n",
        "\n",
        "# print(X_train_scaled.shape)\n",
        "# print(X_valid_scaled.shape)\n"
      ]
    },
    {
      "cell_type": "code",
      "source": [
        "# 노치 필터\n",
        "\n",
        "import numpy as np\n",
        "from scipy.signal import iirnotch, filtfilt\n",
        "\n",
        "def apply_notch_filter(data, notch_freq, fs, quality_factor=30):\n",
        "    \"\"\"\n",
        "    주어진 데이터에 노치 필터를 적용하여 특정 주파수의 잡음을 제거합니다.\n",
        "\n",
        "    :param data: 필터링할 데이터 (numpy 배열)\n",
        "    :param notch_freq: 제거할 잡음의 주파수 (Hz)\n",
        "    :param fs: 샘플링 주파수 (Hz)\n",
        "    :param quality_factor: 노치 필터의 품질 계수 (높을수록 필터의 반응이 좁아집니다)\n",
        "    :return: 필터링된 데이터\n",
        "    \"\"\"\n",
        "    b, a = iirnotch(notch_freq, quality_factor, fs)\n",
        "    filtered_data = filtfilt(b, a, data)\n",
        "    return filtered_data"
      ],
      "metadata": {
        "id": "_O4Y_TkFePS_"
      },
      "execution_count": null,
      "outputs": []
    },
    {
      "cell_type": "code",
      "source": [
        "# 샘플링 주파수 설정 (예: 500 Hz)\n",
        "fs = 500\n",
        "\n",
        "# 노치 필터 적용\n",
        "alpha_band_train = apply_notch_filter(data_input_train, 50, fs)\n",
        "alpha_band_valid = apply_notch_filter(data_input_valid, 50, fs)\n",
        "\n",
        "alpha_band_train = apply_notch_filter(alpha_band_train, 60, fs)\n",
        "alpha_band_valid = apply_notch_filter(alpha_band_valid, 60, fs)\n"
      ],
      "metadata": {
        "id": "zDQ8XGcJeti0"
      },
      "execution_count": null,
      "outputs": []
    },
    {
      "cell_type": "markdown",
      "metadata": {
        "id": "2q3xJUw_GSln"
      },
      "source": [
        "## FFT 변환"
      ]
    },
    {
      "cell_type": "code",
      "execution_count": null,
      "metadata": {
        "id": "X335VAqI-pMq"
      },
      "outputs": [],
      "source": [
        "def fft(eeg_signal, sampling_rate):\n",
        "    \"\"\"\n",
        "    주어진 EEG 신호에 대한 FFT를 계산하고 주파수 및 해당 주파수 성분의 파워를 시각화합니다.\n",
        "\n",
        "    :param eeg_signal: EEG 신호 (1차원 numpy 배열)\n",
        "    :param sampling_rate: 샘플링 주파수 (Hz)\n",
        "    \"\"\"\n",
        "    n = len(eeg_signal)\n",
        "    T = 1 / sampling_rate\n",
        "    yf = np.fft.fft(eeg_signal)\n",
        "    xf = np.fft.fftfreq(n, T)[:n//2]\n",
        "    yf = 2.0/n * np.abs(yf[:n//2])\n",
        "    return yf\n"
      ]
    },
    {
      "cell_type": "code",
      "execution_count": null,
      "metadata": {
        "id": "958_HfHt-tkc"
      },
      "outputs": [],
      "source": [
        "FFT_train = []\n",
        "\n",
        "# X_train_scaled는 (55296, 256) 형태\n",
        "# 여기서 각 행은 전체 EEG 시그널을 나타내며, 이를 FFT 함수에 전달\n",
        "for i in range(55296):\n",
        "    FFT_train.append(fft(alpha_band_train[i], 500))  # 각 행 전체를 fft 함수에 전달\n"
      ]
    },
    {
      "cell_type": "code",
      "execution_count": null,
      "metadata": {
        "id": "K3Cg8ctpYpn1"
      },
      "outputs": [],
      "source": [
        "FFT_valid = []\n",
        "\n",
        "# X_valid_scaled의 형태는 (13824, 256)으로, 이는 216개의 트라이얼 각각에 대해 64개 채널이 있음을 의미합니다.\n",
        "# 따라서, 216 * 64 = 13824 개의 행이 각각 하나의 채널 데이터를 나타냅니다.\n",
        "for i in range(13824):\n",
        "    FFT_valid.append(fft(alpha_band_valid[i], 500))\n",
        "\n"
      ]
    },
    {
      "cell_type": "code",
      "execution_count": null,
      "metadata": {
        "id": "uQQAdcIC_hfl"
      },
      "outputs": [],
      "source": [
        "# 리스트 -> numpy array\n",
        "\n",
        "FFT_train = np.array(FFT_train)\n",
        "FFT_valid = np.array(FFT_valid)\n"
      ]
    },
    {
      "cell_type": "code",
      "execution_count": null,
      "metadata": {
        "colab": {
          "base_uri": "https://localhost:8080/"
        },
        "id": "av8JszJ-ZVal",
        "outputId": "b52f4558-a58c-4f49-a695-0d5be3af5407"
      },
      "outputs": [
        {
          "output_type": "stream",
          "name": "stdout",
          "text": [
            "FFT_train shape: (55296, 128)\n",
            "FFT_valid shape: (13824, 128)\n"
          ]
        }
      ],
      "source": [
        "print(\"FFT_train shape:\", FFT_train.shape)\n",
        "print(\"FFT_valid shape:\", FFT_valid.shape)"
      ]
    },
    {
      "cell_type": "code",
      "execution_count": 185,
      "metadata": {
        "id": "Vb7oMvKSJrs6"
      },
      "outputs": [],
      "source": [
        "import numpy as np\n",
        "\n",
        "def enhanced_band_power(fft_data, sampling_rate):\n",
        "    \"\"\"\n",
        "    주파수 대역을 0.5Hz 간격으로 세분화하여 각 세그먼트의 평균 파워를 계산합니다.\n",
        "\n",
        "    :param fft_data: FFT 결과 (numpy 배열, 각 행이 하나의 채널의 FFT 결과)\n",
        "    :param sampling_rate: 샘플링 주파수 (Hz)\n",
        "    :return: 각 주파수 대역의 평균 파워를 포함하는 numpy 배열\n",
        "    \"\"\"\n",
        "    freqs = np.fft.fftfreq(fft_data.shape[1] * 2, 1 / sampling_rate)[:fft_data.shape[1]]\n",
        "    max_freq = sampling_rate / 2\n",
        "    num_bands = int(max_freq / 1)  # 0.5Hz 간격으로 분할\n",
        "\n",
        "    # 주파수 대역 정의\n",
        "    band_indices = [np.logical_and(freqs >= i*0.5, freqs < (i+1)*0.5) for i in range(num_bands)]\n",
        "\n",
        "    # 각 대역의 평균 파워 계산\n",
        "    band_powers = np.zeros((fft_data.shape[0], num_bands))\n",
        "    for i, idx in enumerate(band_indices):\n",
        "        if np.any(idx):\n",
        "            band_powers[:, i] = np.nanmean(fft_data[:, idx], axis=1)\n",
        "        else:\n",
        "            band_powers[:, i] = 0  # 데이터가 없는 경우 0 할당\n",
        "\n",
        "    return band_powers\n",
        "\n",
        "\n",
        ""
      ]
    },
    {
      "cell_type": "code",
      "execution_count": 186,
      "metadata": {
        "id": "dpwmkZzICC2C",
        "colab": {
          "base_uri": "https://localhost:8080/"
        },
        "outputId": "f03734c3-ed4d-496b-e673-7961e376df3d"
      },
      "outputs": [
        {
          "output_type": "stream",
          "name": "stdout",
          "text": [
            "band_power_train shape: (55296, 250)\n",
            "band_power_valid shape: (13824, 250)\n"
          ]
        }
      ],
      "source": [
        "# FFT_train과 FFT_valid에 band_power 함수 적용\n",
        "band_power_train = np.vstack([enhanced_band_power(FFT_train[i * 64:(i + 1) * 64], 500) for i in range(864)])\n",
        "band_power_valid = np.vstack([enhanced_band_power(FFT_valid[i * 64:(i + 1) * 64], 500) for i in range(216)])\n",
        "\n",
        "print(\"band_power_train shape:\", band_power_train.shape)\n",
        "print(\"band_power_valid shape:\", band_power_valid.shape)\n"
      ]
    },
    {
      "cell_type": "markdown",
      "metadata": {
        "id": "TqIn4XTfHR2j"
      },
      "source": [
        "## FFT 변환 시각화"
      ]
    },
    {
      "cell_type": "code",
      "execution_count": 179,
      "metadata": {
        "id": "4xgXXYlC-JYK"
      },
      "outputs": [],
      "source": [
        "def plot_fft(eeg_signal, sampling_rate):\n",
        "    \"\"\"\n",
        "    주어진 EEG 신호에 대한 FFT를 계산하고 주파수 및 해당 주파수 성분의 파워를 시각화합니다.\n",
        "\n",
        "    :param eeg_signal: EEG 신호 (1차원 numpy 배열)\n",
        "    :param sampling_rate: 샘플링 주파수 (Hz)\n",
        "    \"\"\"\n",
        "    n = len(eeg_signal)\n",
        "    T = 1 / sampling_rate\n",
        "    yf = np.fft.fft(eeg_signal)\n",
        "    xf = np.fft.fftfreq(n, T)[:n//2]\n",
        "    yf = 2.0/n * np.abs(yf[:n//2])\n",
        "\n",
        "    plt.plot(xf, yf)\n",
        "    plt.title('FFT of EEG Signal')\n",
        "    plt.xlabel('Frequency (Hz)')\n",
        "    plt.ylabel('Power')\n",
        "    plt.grid()\n",
        "    plt.show()\n",
        "    return yf\n",
        "# 예시 EEG 신호 (임의의 데이터)"
      ]
    },
    {
      "cell_type": "code",
      "execution_count": 180,
      "metadata": {
        "colab": {
          "base_uri": "https://localhost:8080/",
          "height": 1000
        },
        "id": "taS1fh7WyZj-",
        "outputId": "51bf9c7a-5bbe-4b64-c774-ab1d76776e50"
      },
      "outputs": [
        {
          "output_type": "display_data",
          "data": {
            "text/plain": [
              "<Figure size 640x480 with 1 Axes>"
            ],
            "image/png": "[encoded data removed]"
          },
          "metadata": {}
        },
        {
          "output_type": "execute_result",
          "data": {
            "text/plain": [
              "array([2.32124297e+01, 7.39727351e+00, 3.06894727e+00, 4.42350641e+00,\n",
              "       2.04653686e+00, 3.32333305e+00, 4.95583010e+00, 1.11390852e-01,\n",
              "       1.13541211e+00, 3.76369215e-01, 2.60596953e+00, 2.52410638e+00,\n",
              "       1.42890794e+00, 1.94491529e-01, 8.04532430e-01, 6.31421831e-01,\n",
              "       6.26039264e-01, 7.84921205e-01, 1.20480108e+00, 3.23776881e-01,\n",
              "       8.16760056e-01, 1.17735882e+00, 5.15384908e-01, 5.40246823e-01,\n",
              "       3.38450554e-01, 3.53137652e-01, 4.05031204e-01, 7.37651869e-01,\n",
              "       1.94775045e-01, 5.61499044e-01, 9.28446927e-01, 3.13349934e-01,\n",
              "       2.07703945e-01, 6.71633378e-01, 3.04581567e-01, 1.35989832e-01,\n",
              "       3.99290758e-01, 1.95829168e-01, 5.24845064e-01, 9.11595671e-02,\n",
              "       3.27431677e-01, 3.12425393e-01, 1.09365903e-01, 2.81273513e-01,\n",
              "       1.54512210e-01, 1.93560842e-01, 2.52088120e-01, 9.50604462e-02,\n",
              "       1.12249336e-01, 9.41320129e-02, 8.04821745e-02, 8.88367097e-02,\n",
              "       9.72894315e-02, 7.70925600e-02, 2.92022069e-02, 7.18577886e-02,\n",
              "       6.67591374e-02, 8.74865233e-02, 6.92107382e-02, 4.89738183e-02,\n",
              "       5.69085940e-02, 7.02019149e-02, 6.10273165e-02, 7.53779425e-02,\n",
              "       4.12623332e-02, 7.52577299e-02, 6.08190303e-02, 6.33320799e-02,\n",
              "       5.47261760e-02, 6.25985720e-02, 6.05001720e-02, 5.07925943e-02,\n",
              "       7.47056651e-02, 7.09202604e-02, 6.11053969e-02, 7.55901062e-02,\n",
              "       3.89237501e-02, 7.50027935e-02, 6.11002449e-02, 5.12056497e-02,\n",
              "       6.53731319e-02, 5.36043905e-02, 4.36876314e-02, 4.58562295e-02,\n",
              "       3.53379029e-02, 3.65680384e-02, 7.80409016e-02, 4.80941299e-02,\n",
              "       3.97232144e-02, 3.49628063e-02, 3.12609838e-02, 5.69171602e-02,\n",
              "       6.07893282e-02, 3.48546127e-02, 2.03233708e-02, 2.35258693e-02,\n",
              "       2.87945763e-02, 4.91293603e-02, 2.17188045e-02, 3.65204127e-02,\n",
              "       2.84105687e-02, 6.08280831e-02, 3.75830182e-02, 6.08044037e-02,\n",
              "       4.98752581e-02, 3.98686935e-02, 5.69002031e-02, 7.37963621e-02,\n",
              "       5.26659963e-02, 1.24350315e-02, 6.10558947e-02, 5.87448349e-02,\n",
              "       4.70955985e-02, 5.33358834e-02, 3.27983375e-02, 5.37927774e-02,\n",
              "       3.91078367e-02, 2.12034483e-02, 5.03017730e-02, 3.85370911e-02,\n",
              "       2.94142249e-02, 2.85535847e-02, 2.34640756e-02, 7.02343103e-02,\n",
              "       2.99770767e-02, 1.97125702e-02, 3.90253737e-02, 6.43635911e-02])"
            ]
          },
          "metadata": {},
          "execution_count": 180
        }
      ],
      "source": [
        "plot_fft(input_T_train[0][0], 256)"
      ]
    },
    {
      "cell_type": "markdown",
      "metadata": {
        "id": "obk9eI7E9g0p"
      },
      "source": [
        "## PCA"
      ]
    },
    {
      "cell_type": "code",
      "execution_count": null,
      "metadata": {
        "id": "bZYhl8XO9gR6"
      },
      "outputs": [],
      "source": [
        "# from sklearn.decomposition import PCA\n",
        "\n",
        "# pca = PCA(n_components=90) # pca 모델 생성\n",
        "# pca.fit(X_train_scaled) # pca 모델 학습\n",
        "\n",
        "# X_train_pca = pca.transform(X_train_scaled)\n",
        "# X_valid_pca = pca.transform(X_valid_scaled)\n",
        "\n",
        "# explained_variance_ratio = pca.explained_variance_ratio_\n",
        "# print(\"설명 분산 비율:\", explained_variance_ratio)\n",
        "# print(\"누적 설명 분산 비율:\", sum(explained_variance_ratio))\n",
        "# # 누적 설명 분산 비율이 95% 이상이 되게 n_components 설정"
      ]
    },
    {
      "cell_type": "markdown",
      "metadata": {
        "id": "_MvAvycGOMUc"
      },
      "source": [
        "# **모델 간 성능비교**"
      ]
    },
    {
      "cell_type": "markdown",
      "metadata": {
        "id": "yyktEgvnCbSc"
      },
      "source": [
        "## XGBoost"
      ]
    },
    {
      "cell_type": "code",
      "execution_count": null,
      "metadata": {
        "colab": {
          "base_uri": "https://localhost:8080/"
        },
        "id": "IG64k0czCZPE",
        "outputId": "f3f3096f-6806-4854-ddd0-d1bf9b0b0a78"
      },
      "outputs": [
        {
          "output_type": "stream",
          "name": "stdout",
          "text": [
            "XGBoost train Accuracy: 0.76904296875\n",
            "XGBoost Validation Accuracy: 0.6935763888888888\n",
            "\n",
            "XGBoost y_valid_pred_xg.mean(): 0.5102719907407407\n"
          ]
        }
      ],
      "source": [
        "# from xgboost import XGBClassifier\n",
        "# from sklearn.metrics import accuracy_score\n",
        "\n",
        "# # 모델 초기화\n",
        "# XG_model = XGBClassifier(n_estimators=600, max_depth=15, learning_rate=0.01,\n",
        "#                          subsample=0.7, colsample_bytree=0.5, gamma=1.5, reg_lambda=5,\n",
        "#                          reg_alpha=5, min_child_weight=5, random_state=0)\n",
        "# XG_model.fit(band_power_train, labels_train)\n",
        "\n",
        "# # 예측\n",
        "# y_valid_pred_xg = XG_model.predict(band_power_valid)\n",
        "# y_train_pred_xg = XG_model.predict(band_power_train) # train 정확도 확인용\n",
        "\n",
        "# # accuracy 확인(train/val)\n",
        "# train_accuracy_xg = accuracy_score(labels_train, y_train_pred_xg)\n",
        "# valid_accuracy_xg = accuracy_score(labels_valid, y_valid_pred_xg)\n",
        "\n",
        "# print(\"XGBoost train Accuracy:\", train_accuracy_xg)\n",
        "# print(\"XGBoost Validation Accuracy:\", valid_accuracy_xg)\n",
        "\n",
        "# # y_valid_pred_xg.mean()\n",
        "# print()\n",
        "# print(\"XGBoost y_valid_pred_xg.mean():\", y_valid_pred_xg.mean())\n"
      ]
    },
    {
      "cell_type": "code",
      "source": [
        "# import xgboost as xgb\n",
        "# from xgboost import XGBClassifier\n",
        "# from sklearn.metrics import accuracy_score\n",
        "# import matplotlib.pyplot as plt\n",
        "\n",
        "# # 모델 초기화\n",
        "# XG_model = XGBClassifier(n_estimators=300, max_depth=10, learning_rate=0.1,\n",
        "#                          subsample=0.3, colsample_bytree=0.5, gamma=1.5, reg_lambda=10,\n",
        "#                          reg_alpha=10, min_child_weight=6, random_state=0)\n",
        "\n",
        "# # 학습과 동시에 평가 결과를 저장\n",
        "# eval_set = [(band_power_train, labels_train), (band_power_valid, labels_valid)]\n",
        "\n",
        "# # 모델 훈련\n",
        "# XG_model.fit(band_power_train, labels_train, early_stopping_rounds=50,\n",
        "#               eval_metric=\"logloss\", eval_set=eval_set, verbose=True)\n",
        "\n",
        "# # evals_result_ 속성을 사용해 결과 저장\n",
        "# evals_result = XG_model.evals_result()\n",
        "\n",
        "# # 예측\n",
        "# y_train_pred_xg = XG_model.predict(band_power_train)\n",
        "# y_valid_pred_xg = XG_model.predict(band_power_valid)\n",
        "\n",
        "# # 정확도 계산\n",
        "# train_accuracy_xg = accuracy_score(labels_train, y_train_pred_xg)\n",
        "# valid_accuracy_xg = accuracy_score(labels_valid, y_valid_pred_xg)\n",
        "\n",
        "# print(\"XGBoost Train Accuracy:\", train_accuracy_xg)\n",
        "# print(\"XGBoost Validation Accuracy:\", valid_accuracy_xg)\n",
        "# print(\"XGBoost y_valid_pred_xg.mean():\", y_valid_pred_xg.mean())\n",
        "\n",
        "# # 로스 그래프 그리기\n",
        "# epochs = len(evals_result['validation_0']['logloss'])\n",
        "# x_axis = range(0, epochs)\n",
        "\n",
        "# fig, ax = plt.subplots()\n",
        "# ax.plot(x_axis, evals_result['validation_0']['logloss'], label='Train')\n",
        "# ax.plot(x_axis, evals_result['validation_1']['logloss'], label='Valid')\n",
        "# ax.legend()\n",
        "# plt.ylabel('Log Loss')\n",
        "# plt.title('XGBoost Log Loss')\n",
        "# plt.show()\n",
        "\n"
      ],
      "metadata": {
        "id": "ldQVwpz2Dp8n"
      },
      "execution_count": null,
      "outputs": []
    },
    {
      "cell_type": "code",
      "source": [
        "from xgboost import XGBClassifier\n",
        "from sklearn.metrics import accuracy_score\n",
        "\n",
        "# 모델 초기화\n",
        "XG_model = XGBClassifier(n_estimators=300, max_depth=9, learning_rate=0.1,\n",
        "                         subsample=0.5, colsample_bytree=1, gamma=1.5, reg_lambda=5,\n",
        "                         reg_alpha=5, min_child_weight=8, random_state=0)\n",
        "\n",
        "XG_model.fit(band_power_train, labels_train, early_stopping_rounds=50,\n",
        "              eval_metric=\"logloss\", eval_set=[(band_power_valid, labels_valid)], verbose=True)\n",
        "\n",
        "# 예측\n",
        "y_valid_pred_xg = XG_model.predict(band_power_valid)\n",
        "y_train_pred_xg = XG_model.predict(band_power_train) # train 정확도 확인용\n",
        "\n",
        "# accuracy 확인(train/val)\n",
        "train_accuracy_xg = accuracy_score(labels_train, y_train_pred_xg)\n",
        "valid_accuracy_xg = accuracy_score(labels_valid, y_valid_pred_xg)\n",
        "\n",
        "print(\"XGBoost train Accuracy:\", train_accuracy_xg)\n",
        "print(\"XGBoost Validation Accuracy:\", valid_accuracy_xg)\n",
        "\n",
        "# y_valid_pred_xg.mean()\n",
        "print()\n",
        "print(\"XGBoost y_valid_pred_xg.mean():\", y_valid_pred_xg.mean())\n"
      ],
      "metadata": {
        "colab": {
          "base_uri": "https://localhost:8080/"
        },
        "id": "0nFrLQfRd0dj",
        "outputId": "2a3b3bb9-c902-4c68-e4bf-4101e62426d7"
      },
      "execution_count": 234,
      "outputs": [
        {
          "output_type": "stream",
          "name": "stderr",
          "text": [
            "/usr/local/lib/python3.10/dist-packages/xgboost/sklearn.py:889: UserWarning: `eval_metric` in `fit` method is deprecated for better compatibility with scikit-learn, use `eval_metric` in constructor or`set_params` instead.\n",
            "  warnings.warn(\n",
            "/usr/local/lib/python3.10/dist-packages/xgboost/sklearn.py:889: UserWarning: `early_stopping_rounds` in `fit` method is deprecated for better compatibility with scikit-learn, use `early_stopping_rounds` in constructor or`set_params` instead.\n",
            "  warnings.warn(\n"
          ]
        },
        {
          "output_type": "stream",
          "name": "stdout",
          "text": [
            "[0]\tvalidation_0-logloss:0.68262\n",
            "[1]\tvalidation_0-logloss:0.67328\n",
            "[2]\tvalidation_0-logloss:0.66470\n",
            "[3]\tvalidation_0-logloss:0.65827\n",
            "[4]\tvalidation_0-logloss:0.65230\n",
            "[5]\tvalidation_0-logloss:0.64651\n",
            "[6]\tvalidation_0-logloss:0.64189\n",
            "[7]\tvalidation_0-logloss:0.63757\n",
            "[8]\tvalidation_0-logloss:0.63345\n",
            "[9]\tvalidation_0-logloss:0.63004\n",
            "[10]\tvalidation_0-logloss:0.62653\n",
            "[11]\tvalidation_0-logloss:0.62458\n",
            "[12]\tvalidation_0-logloss:0.62200\n",
            "[13]\tvalidation_0-logloss:0.61958\n",
            "[14]\tvalidation_0-logloss:0.61660\n",
            "[15]\tvalidation_0-logloss:0.61442\n",
            "[16]\tvalidation_0-logloss:0.61306\n",
            "[17]\tvalidation_0-logloss:0.61074\n",
            "[18]\tvalidation_0-logloss:0.60879\n",
            "[19]\tvalidation_0-logloss:0.60715\n",
            "[20]\tvalidation_0-logloss:0.60566\n",
            "[21]\tvalidation_0-logloss:0.60417\n",
            "[22]\tvalidation_0-logloss:0.60272\n",
            "[23]\tvalidation_0-logloss:0.60150\n",
            "[24]\tvalidation_0-logloss:0.60026\n",
            "[25]\tvalidation_0-logloss:0.59941\n",
            "[26]\tvalidation_0-logloss:0.59845\n",
            "[27]\tvalidation_0-logloss:0.59724\n",
            "[28]\tvalidation_0-logloss:0.59631\n",
            "[29]\tvalidation_0-logloss:0.59458\n",
            "[30]\tvalidation_0-logloss:0.59384\n",
            "[31]\tvalidation_0-logloss:0.59269\n",
            "[32]\tvalidation_0-logloss:0.59167\n",
            "[33]\tvalidation_0-logloss:0.59021\n",
            "[34]\tvalidation_0-logloss:0.58954\n",
            "[35]\tvalidation_0-logloss:0.58903\n",
            "[36]\tvalidation_0-logloss:0.58801\n",
            "[37]\tvalidation_0-logloss:0.58689\n",
            "[38]\tvalidation_0-logloss:0.58574\n",
            "[39]\tvalidation_0-logloss:0.58456\n",
            "[40]\tvalidation_0-logloss:0.58360\n",
            "[41]\tvalidation_0-logloss:0.58322\n",
            "[42]\tvalidation_0-logloss:0.58238\n",
            "[43]\tvalidation_0-logloss:0.58152\n",
            "[44]\tvalidation_0-logloss:0.58081\n",
            "[45]\tvalidation_0-logloss:0.58033\n",
            "[46]\tvalidation_0-logloss:0.57949\n",
            "[47]\tvalidation_0-logloss:0.57864\n",
            "[48]\tvalidation_0-logloss:0.57785\n",
            "[49]\tvalidation_0-logloss:0.57709\n",
            "[50]\tvalidation_0-logloss:0.57637\n",
            "[51]\tvalidation_0-logloss:0.57601\n",
            "[52]\tvalidation_0-logloss:0.57510\n",
            "[53]\tvalidation_0-logloss:0.57503\n",
            "[54]\tvalidation_0-logloss:0.57439\n",
            "[55]\tvalidation_0-logloss:0.57376\n",
            "[56]\tvalidation_0-logloss:0.57312\n",
            "[57]\tvalidation_0-logloss:0.57257\n",
            "[58]\tvalidation_0-logloss:0.57179\n",
            "[59]\tvalidation_0-logloss:0.57133\n",
            "[60]\tvalidation_0-logloss:0.57097\n",
            "[61]\tvalidation_0-logloss:0.57014\n",
            "[62]\tvalidation_0-logloss:0.56978\n",
            "[63]\tvalidation_0-logloss:0.56953\n",
            "[64]\tvalidation_0-logloss:0.56919\n",
            "[65]\tvalidation_0-logloss:0.56926\n",
            "[66]\tvalidation_0-logloss:0.56862\n",
            "[67]\tvalidation_0-logloss:0.56817\n",
            "[68]\tvalidation_0-logloss:0.56740\n",
            "[69]\tvalidation_0-logloss:0.56647\n",
            "[70]\tvalidation_0-logloss:0.56654\n",
            "[71]\tvalidation_0-logloss:0.56591\n",
            "[72]\tvalidation_0-logloss:0.56579\n",
            "[73]\tvalidation_0-logloss:0.56506\n",
            "[74]\tvalidation_0-logloss:0.56485\n",
            "[75]\tvalidation_0-logloss:0.56467\n",
            "[76]\tvalidation_0-logloss:0.56463\n",
            "[77]\tvalidation_0-logloss:0.56459\n",
            "[78]\tvalidation_0-logloss:0.56438\n",
            "[79]\tvalidation_0-logloss:0.56422\n",
            "[80]\tvalidation_0-logloss:0.56384\n",
            "[81]\tvalidation_0-logloss:0.56368\n",
            "[82]\tvalidation_0-logloss:0.56340\n",
            "[83]\tvalidation_0-logloss:0.56354\n",
            "[84]\tvalidation_0-logloss:0.56335\n",
            "[85]\tvalidation_0-logloss:0.56305\n",
            "[86]\tvalidation_0-logloss:0.56257\n",
            "[87]\tvalidation_0-logloss:0.56212\n",
            "[88]\tvalidation_0-logloss:0.56199\n",
            "[89]\tvalidation_0-logloss:0.56184\n",
            "[90]\tvalidation_0-logloss:0.56178\n",
            "[91]\tvalidation_0-logloss:0.56139\n",
            "[92]\tvalidation_0-logloss:0.56123\n",
            "[93]\tvalidation_0-logloss:0.56067\n",
            "[94]\tvalidation_0-logloss:0.56029\n",
            "[95]\tvalidation_0-logloss:0.55986\n",
            "[96]\tvalidation_0-logloss:0.55988\n",
            "[97]\tvalidation_0-logloss:0.55988\n",
            "[98]\tvalidation_0-logloss:0.56019\n",
            "[99]\tvalidation_0-logloss:0.55989\n",
            "[100]\tvalidation_0-logloss:0.55983\n",
            "[101]\tvalidation_0-logloss:0.55965\n",
            "[102]\tvalidation_0-logloss:0.55961\n",
            "[103]\tvalidation_0-logloss:0.55951\n",
            "[104]\tvalidation_0-logloss:0.55947\n",
            "[105]\tvalidation_0-logloss:0.55938\n",
            "[106]\tvalidation_0-logloss:0.55939\n",
            "[107]\tvalidation_0-logloss:0.55891\n",
            "[108]\tvalidation_0-logloss:0.55882\n",
            "[109]\tvalidation_0-logloss:0.55869\n",
            "[110]\tvalidation_0-logloss:0.55814\n",
            "[111]\tvalidation_0-logloss:0.55812\n",
            "[112]\tvalidation_0-logloss:0.55803\n",
            "[113]\tvalidation_0-logloss:0.55819\n",
            "[114]\tvalidation_0-logloss:0.55806\n",
            "[115]\tvalidation_0-logloss:0.55791\n",
            "[116]\tvalidation_0-logloss:0.55791\n",
            "[117]\tvalidation_0-logloss:0.55818\n",
            "[118]\tvalidation_0-logloss:0.55798\n",
            "[119]\tvalidation_0-logloss:0.55768\n",
            "[120]\tvalidation_0-logloss:0.55768\n",
            "[121]\tvalidation_0-logloss:0.55759\n",
            "[122]\tvalidation_0-logloss:0.55775\n",
            "[123]\tvalidation_0-logloss:0.55753\n",
            "[124]\tvalidation_0-logloss:0.55753\n",
            "[125]\tvalidation_0-logloss:0.55724\n",
            "[126]\tvalidation_0-logloss:0.55716\n",
            "[127]\tvalidation_0-logloss:0.55686\n",
            "[128]\tvalidation_0-logloss:0.55713\n",
            "[129]\tvalidation_0-logloss:0.55726\n",
            "[130]\tvalidation_0-logloss:0.55694\n",
            "[131]\tvalidation_0-logloss:0.55695\n",
            "[132]\tvalidation_0-logloss:0.55694\n",
            "[133]\tvalidation_0-logloss:0.55687\n",
            "[134]\tvalidation_0-logloss:0.55677\n",
            "[135]\tvalidation_0-logloss:0.55701\n",
            "[136]\tvalidation_0-logloss:0.55703\n",
            "[137]\tvalidation_0-logloss:0.55706\n",
            "[138]\tvalidation_0-logloss:0.55734\n",
            "[139]\tvalidation_0-logloss:0.55740\n",
            "[140]\tvalidation_0-logloss:0.55753\n",
            "[141]\tvalidation_0-logloss:0.55768\n",
            "[142]\tvalidation_0-logloss:0.55745\n",
            "[143]\tvalidation_0-logloss:0.55760\n",
            "[144]\tvalidation_0-logloss:0.55742\n",
            "[145]\tvalidation_0-logloss:0.55742\n",
            "[146]\tvalidation_0-logloss:0.55736\n",
            "[147]\tvalidation_0-logloss:0.55708\n",
            "[148]\tvalidation_0-logloss:0.55706\n",
            "[149]\tvalidation_0-logloss:0.55689\n",
            "[150]\tvalidation_0-logloss:0.55671\n",
            "[151]\tvalidation_0-logloss:0.55668\n",
            "[152]\tvalidation_0-logloss:0.55658\n",
            "[153]\tvalidation_0-logloss:0.55639\n",
            "[154]\tvalidation_0-logloss:0.55639\n",
            "[155]\tvalidation_0-logloss:0.55627\n",
            "[156]\tvalidation_0-logloss:0.55663\n",
            "[157]\tvalidation_0-logloss:0.55647\n",
            "[158]\tvalidation_0-logloss:0.55642\n",
            "[159]\tvalidation_0-logloss:0.55658\n",
            "[160]\tvalidation_0-logloss:0.55664\n",
            "[161]\tvalidation_0-logloss:0.55672\n",
            "[162]\tvalidation_0-logloss:0.55690\n",
            "[163]\tvalidation_0-logloss:0.55680\n",
            "[164]\tvalidation_0-logloss:0.55688\n",
            "[165]\tvalidation_0-logloss:0.55679\n",
            "[166]\tvalidation_0-logloss:0.55688\n",
            "[167]\tvalidation_0-logloss:0.55693\n",
            "[168]\tvalidation_0-logloss:0.55721\n",
            "[169]\tvalidation_0-logloss:0.55741\n",
            "[170]\tvalidation_0-logloss:0.55732\n",
            "[171]\tvalidation_0-logloss:0.55744\n",
            "[172]\tvalidation_0-logloss:0.55724\n",
            "[173]\tvalidation_0-logloss:0.55705\n",
            "[174]\tvalidation_0-logloss:0.55728\n",
            "[175]\tvalidation_0-logloss:0.55717\n",
            "[176]\tvalidation_0-logloss:0.55749\n",
            "[177]\tvalidation_0-logloss:0.55752\n",
            "[178]\tvalidation_0-logloss:0.55759\n",
            "[179]\tvalidation_0-logloss:0.55777\n",
            "[180]\tvalidation_0-logloss:0.55786\n",
            "[181]\tvalidation_0-logloss:0.55779\n",
            "[182]\tvalidation_0-logloss:0.55779\n",
            "[183]\tvalidation_0-logloss:0.55793\n",
            "[184]\tvalidation_0-logloss:0.55793\n",
            "[185]\tvalidation_0-logloss:0.55799\n",
            "[186]\tvalidation_0-logloss:0.55776\n",
            "[187]\tvalidation_0-logloss:0.55752\n",
            "[188]\tvalidation_0-logloss:0.55728\n",
            "[189]\tvalidation_0-logloss:0.55765\n",
            "[190]\tvalidation_0-logloss:0.55778\n",
            "[191]\tvalidation_0-logloss:0.55784\n",
            "[192]\tvalidation_0-logloss:0.55780\n",
            "[193]\tvalidation_0-logloss:0.55762\n",
            "[194]\tvalidation_0-logloss:0.55761\n",
            "[195]\tvalidation_0-logloss:0.55769\n",
            "[196]\tvalidation_0-logloss:0.55761\n",
            "[197]\tvalidation_0-logloss:0.55732\n",
            "[198]\tvalidation_0-logloss:0.55729\n",
            "[199]\tvalidation_0-logloss:0.55704\n",
            "[200]\tvalidation_0-logloss:0.55691\n",
            "[201]\tvalidation_0-logloss:0.55690\n",
            "[202]\tvalidation_0-logloss:0.55663\n",
            "[203]\tvalidation_0-logloss:0.55688\n",
            "[204]\tvalidation_0-logloss:0.55713\n",
            "[205]\tvalidation_0-logloss:0.55737\n",
            "XGBoost train Accuracy: 0.8912760416666666\n",
            "XGBoost Validation Accuracy: 0.7116608796296297\n",
            "\n",
            "XGBoost y_valid_pred_xg.mean(): 0.5031828703703703\n"
          ]
        }
      ]
    },
    {
      "cell_type": "code",
      "source": [
        "from sklearn.metrics import confusion_matrix, f1_score, roc_curve, auc, RocCurveDisplay\n",
        "import matplotlib.pyplot as plt\n",
        "\n",
        "cm = confusion_matrix(labels_valid, y_valid_pred_xg)\n",
        "print(\"Confusion Matrix:\")\n",
        "print(cm)\n"
      ],
      "metadata": {
        "colab": {
          "base_uri": "https://localhost:8080/"
        },
        "id": "o5uewQjrZGvP",
        "outputId": "77033ad1-4673-4d01-96ed-39bd2e746623"
      },
      "execution_count": 235,
      "outputs": [
        {
          "output_type": "stream",
          "name": "stdout",
          "text": [
            "Confusion Matrix:\n",
            "[[4897 2015]\n",
            " [1971 4941]]\n"
          ]
        }
      ]
    },
    {
      "cell_type": "code",
      "source": [
        "fpr, tpr, thresholds = roc_curve(labels_valid, XG_model.predict_proba(band_power_valid)[:, 1])\n",
        "roc_auc = auc(fpr, tpr)\n",
        "\n",
        "print(\"ROC AUC:\", roc_auc)\n",
        "plt.figure()\n",
        "lw = 2\n",
        "plt.plot(fpr, tpr, color='darkorange',\n",
        "         lw=lw, label='ROC curve (area = %0.2f)' % roc_auc)\n",
        "plt.plot([0, 1], [0, 1], color='navy', lw=lw, linestyle='--')\n",
        "plt.xlim([0.0, 1.0])\n",
        "plt.ylim([0.0, 1.05])\n",
        "plt.xlabel('False Positive Rate')\n",
        "plt.ylabel('True Positive Rate')\n",
        "plt.title('Receiver Operating Characteristic')\n",
        "plt.legend(loc=\"lower right\")\n",
        "plt.show()\n"
      ],
      "metadata": {
        "colab": {
          "base_uri": "https://localhost:8080/",
          "height": 491
        },
        "id": "kt0etescZdnL",
        "outputId": "845c5187-7471-446e-b662-203d219832b1"
      },
      "execution_count": 236,
      "outputs": [
        {
          "output_type": "stream",
          "name": "stdout",
          "text": [
            "ROC AUC: 0.7857785009062339\n"
          ]
        },
        {
          "output_type": "display_data",
          "data": {
            "text/plain": [
              "<Figure size 640x480 with 1 Axes>"
            ],
            "image/png": "[encoded data removed]"
          },
          "metadata": {}
        }
      ]
    },
    {
      "cell_type": "markdown",
      "metadata": {
        "id": "g_SX6eoZp80a"
      },
      "source": [
        "## CatBoost"
      ]
    },
    {
      "cell_type": "code",
      "execution_count": null,
      "metadata": {
        "id": "FR_Vlk59qsBT",
        "colab": {
          "base_uri": "https://localhost:8080/"
        },
        "outputId": "3f5d5bec-0b1f-4d56-a345-5f245c99da99"
      },
      "outputs": [
        {
          "output_type": "stream",
          "name": "stdout",
          "text": [
            "Requirement already satisfied: catboost in /usr/local/lib/python3.10/dist-packages (1.2.5)\n",
            "Requirement already satisfied: graphviz in /usr/local/lib/python3.10/dist-packages (from catboost) (0.20.3)\n",
            "Requirement already satisfied: matplotlib in /usr/local/lib/python3.10/dist-packages (from catboost) (3.7.1)\n",
            "Requirement already satisfied: numpy>=1.16.0 in /usr/local/lib/python3.10/dist-packages (from catboost) (1.25.2)\n",
            "Requirement already satisfied: pandas>=0.24 in /usr/local/lib/python3.10/dist-packages (from catboost) (2.0.3)\n",
            "Requirement already satisfied: scipy in /usr/local/lib/python3.10/dist-packages (from catboost) (1.11.4)\n",
            "Requirement already satisfied: plotly in /usr/local/lib/python3.10/dist-packages (from catboost) (5.15.0)\n",
            "Requirement already satisfied: six in /usr/local/lib/python3.10/dist-packages (from catboost) (1.16.0)\n",
            "Requirement already satisfied: python-dateutil>=2.8.2 in /usr/local/lib/python3.10/dist-packages (from pandas>=0.24->catboost) (2.8.2)\n",
            "Requirement already satisfied: pytz>=2020.1 in /usr/local/lib/python3.10/dist-packages (from pandas>=0.24->catboost) (2023.4)\n",
            "Requirement already satisfied: tzdata>=2022.1 in /usr/local/lib/python3.10/dist-packages (from pandas>=0.24->catboost) (2024.1)\n",
            "Requirement already satisfied: contourpy>=1.0.1 in /usr/local/lib/python3.10/dist-packages (from matplotlib->catboost) (1.2.1)\n",
            "Requirement already satisfied: cycler>=0.10 in /usr/local/lib/python3.10/dist-packages (from matplotlib->catboost) (0.12.1)\n",
            "Requirement already satisfied: fonttools>=4.22.0 in /usr/local/lib/python3.10/dist-packages (from matplotlib->catboost) (4.51.0)\n",
            "Requirement already satisfied: kiwisolver>=1.0.1 in /usr/local/lib/python3.10/dist-packages (from matplotlib->catboost) (1.4.5)\n",
            "Requirement already satisfied: packaging>=20.0 in /usr/local/lib/python3.10/dist-packages (from matplotlib->catboost) (24.0)\n",
            "Requirement already satisfied: pillow>=6.2.0 in /usr/local/lib/python3.10/dist-packages (from matplotlib->catboost) (9.4.0)\n",
            "Requirement already satisfied: pyparsing>=2.3.1 in /usr/local/lib/python3.10/dist-packages (from matplotlib->catboost) (3.1.2)\n",
            "Requirement already satisfied: tenacity>=6.2.0 in /usr/local/lib/python3.10/dist-packages (from plotly->catboost) (8.2.3)\n"
          ]
        }
      ],
      "source": [
        "pip install catboost"
      ]
    },
    {
      "cell_type": "code",
      "execution_count": 209,
      "metadata": {
        "id": "N0NGJnp3p_GP",
        "colab": {
          "base_uri": "https://localhost:8080/"
        },
        "outputId": "2533bc8c-52ea-424c-9433-3317ffb34b78"
      },
      "outputs": [
        {
          "output_type": "stream",
          "name": "stdout",
          "text": [
            "CatBoost train Accuracy: 0.7986472800925926\n",
            "CatBoost Validation Accuracy: 0.7103587962962963\n",
            "\n",
            "CatBoost y_valid_pred_cat.mean(): 0.5102719907407407\n"
          ]
        }
      ],
      "source": [
        "from catboost import CatBoostClassifier\n",
        "\n",
        "catboost_model = CatBoostClassifier(\n",
        "    iterations=1000,           # 부스팅 라운드 수\n",
        "    learning_rate=0.03,        # 학습률\n",
        "    depth=6,                   # 트리의 깊이\n",
        "    l2_leaf_reg=3,             # L2 정규화 계수\n",
        "    border_count=32,           # 수치형 피처의 분할 수\n",
        "    loss_function='Logloss',   # 최적화할 손실 함수\n",
        "    random_state=0,            # 결과 재현을 위한 랜덤 시드\n",
        "    verbose=0                  # 학습 중 메시지 출력 설정 (0은 출력 안 함)\n",
        ")\n",
        "\n",
        "catboost_model.fit(band_power_train, labels_train)\n",
        "\n",
        "y_valid_pred_cat = catboost_model.predict(band_power_valid)\n",
        "y_train_pred_cat = catboost_model.predict(band_power_train) # train 정확도 확인용\n",
        "\n",
        "# accuracy 확인(train/val)\n",
        "train_accuracy_cat = accuracy_score(labels_train, y_train_pred_cat)\n",
        "valid_accuracy_cat = accuracy_score(labels_valid, y_valid_pred_cat)\n",
        "\n",
        "print(\"CatBoost train Accuracy:\", train_accuracy_cat)\n",
        "print(\"CatBoost Validation Accuracy:\", valid_accuracy_cat)\n",
        "\n",
        "# y_valid_pred_cat.mean()\n",
        "print()\n",
        "print(\"CatBoost y_valid_pred_cat.mean():\", y_valid_pred_cat.mean())\n"
      ]
    },
    {
      "cell_type": "markdown",
      "metadata": {
        "id": "cQ_V8upixsVj"
      },
      "source": [
        "----"
      ]
    },
    {
      "cell_type": "markdown",
      "source": [
        "## RF"
      ],
      "metadata": {
        "id": "3I39woekljnc"
      }
    },
    {
      "cell_type": "code",
      "source": [
        "from sklearn.ensemble import RandomForestClassifier\n",
        "\n",
        "rf_model = RandomForestClassifier(n_estimators=300, max_depth = 12,\n",
        "                                  min_samples_split= 5, min_samples_leaf =6,  random_state=0)\n",
        "rf_model.fit(band_power_train, labels_train)\n",
        "\n",
        "# 검증 세트에서 예측 수행\n",
        "y_valid_pred_rf = rf_model.predict(band_power_valid)\n",
        "y_train_pred_rf = rf_model.predict(band_power_train) # train 정확도 확인용\n",
        "\n",
        "# 랜덤 포레스트 모델의 정확도 확인\n",
        "train_accuracy_rf = accuracy_score(labels_train, y_train_pred_rf)\n",
        "valid_accuracy_rf = accuracy_score(labels_valid, y_valid_pred_rf)\n",
        "\n",
        "print(\"Random Forest train Accuracy:\", train_accuracy_rf)\n",
        "print(\"Random Forest Validation Accuracy:\", valid_accuracy_rf)\n",
        "\n",
        "# 랜덤 포레스트 모델의 예측값의 평균 확인\n",
        "print()\n",
        "print(\"Random Forest y_valid_pred_rf.mean():\", y_valid_pred_rf.mean())"
      ],
      "metadata": {
        "colab": {
          "base_uri": "https://localhost:8080/"
        },
        "id": "dS_As1-4llSS",
        "outputId": "6e10c45e-2f7e-4b40-bb3c-e181c6bcfce4"
      },
      "execution_count": 212,
      "outputs": [
        {
          "output_type": "stream",
          "name": "stdout",
          "text": [
            "Random Forest train Accuracy: 0.8366608796296297\n",
            "Random Forest Validation Accuracy: 0.6728877314814815\n",
            "\n",
            "Random Forest y_valid_pred_rf.mean(): 0.5130208333333334\n"
          ]
        }
      ]
    },
    {
      "cell_type": "markdown",
      "metadata": {
        "id": "5r5xPg2ye7hd"
      },
      "source": [
        "## 앙상블"
      ]
    },
    {
      "cell_type": "code",
      "execution_count": 213,
      "metadata": {
        "id": "hS7qFXmge86S",
        "colab": {
          "base_uri": "https://localhost:8080/"
        },
        "outputId": "afcf7efe-dc32-4e08-e4b2-3f2d0fb0008a"
      },
      "outputs": [
        {
          "output_type": "stream",
          "name": "stdout",
          "text": [
            "Voting Ensemble Train Accuracy: 0.8376012731481481\n",
            "Voting Ensemble Validation Accuracy: 0.7058738425925926\n"
          ]
        }
      ],
      "source": [
        "from sklearn.ensemble import VotingClassifier\n",
        "\n",
        "# VotingClassifier 초기화\n",
        "voting_clf = VotingClassifier(\n",
        "    estimators=[\n",
        "        ('xgb', XG_model),\n",
        "        ('catboost', catboost_model),\n",
        "        ('rf', rf_model)\n",
        "    ], voting='hard'\n",
        ")\n",
        "\n",
        "# 모델 학습\n",
        "voting_clf.fit(band_power_train, labels_train)\n",
        "\n",
        "# 모델 평가\n",
        "y_train_pred_voting = voting_clf.predict(band_power_train)\n",
        "y_valid_pred_voting = voting_clf.predict(band_power_valid)\n",
        "\n",
        "train_accuracy_voting = accuracy_score(labels_train, y_train_pred_voting)\n",
        "valid_accuracy_voting = accuracy_score(labels_valid, y_valid_pred_voting)\n",
        "\n",
        "print(\"Voting Ensemble Train Accuracy:\", train_accuracy_voting)\n",
        "print(\"Voting Ensemble Validation Accuracy:\", valid_accuracy_voting)\n"
      ]
    },
    {
      "cell_type": "markdown",
      "metadata": {
        "id": "MBWI_T5bxaUT"
      },
      "source": [
        "#*TEST 파일 load 및 csv export*#\n"
      ]
    },
    {
      "cell_type": "code",
      "execution_count": 237,
      "metadata": {
        "id": "YlWTqe8BvA_R"
      },
      "outputs": [],
      "source": [
        "data_test = np.load(\"/content/drive/MyDrive/test.npy\", allow_pickle=True)\n",
        "data_test = data_test.item()\n",
        "data_input_test = data_test['input']"
      ]
    },
    {
      "cell_type": "code",
      "execution_count": 238,
      "metadata": {
        "id": "QyebGRYx33pp",
        "colab": {
          "base_uri": "https://localhost:8080/"
        },
        "outputId": "fb87f9fb-6451-44cf-bb08-1578427e0351"
      },
      "outputs": [
        {
          "output_type": "execute_result",
          "data": {
            "text/plain": [
              "(120, 64, 256)"
            ]
          },
          "metadata": {},
          "execution_count": 238
        }
      ],
      "source": [
        "input_T_test = []\n",
        "for i in range(120):\n",
        "    data_input_m = data_input_test[i][:][:].squeeze().T\n",
        "    input_T_test.append(data_input_m)\n",
        "\n",
        "input_T_test = np.array(input_T_test)\n",
        "input_T_test.shape"
      ]
    },
    {
      "cell_type": "code",
      "execution_count": 239,
      "metadata": {
        "id": "mXF-XgeaYJyp",
        "colab": {
          "base_uri": "https://localhost:8080/"
        },
        "outputId": "46d9cddc-1bc2-404f-ca8f-b3ab9038a8f6"
      },
      "outputs": [
        {
          "output_type": "execute_result",
          "data": {
            "text/plain": [
              "(7680, 256)"
            ]
          },
          "metadata": {},
          "execution_count": 239
        }
      ],
      "source": [
        "data_input_test = input_T_test.reshape(120*64,256)\n",
        "data_input_test.shape"
      ]
    },
    {
      "cell_type": "code",
      "execution_count": null,
      "metadata": {
        "id": "A2Jc3xbuXfRi"
      },
      "outputs": [],
      "source": [
        "# X_test_scaled = scaler.transform(data_input_test)\n",
        "\n",
        "# print(X_test_scaled.shape)"
      ]
    },
    {
      "cell_type": "code",
      "source": [
        "# 샘플링 주파수 설정 (예: 500 Hz)\n",
        "fs = 500\n",
        "\n",
        "# 노치 필터 적용\n",
        "alpha_band_test = apply_notch_filter(data_input_test, 50, fs)\n",
        "\n",
        "alpha_band_test = apply_notch_filter(alpha_band_test, 60, fs)\n"
      ],
      "metadata": {
        "id": "uZdfSjvMtd-3"
      },
      "execution_count": 240,
      "outputs": []
    },
    {
      "cell_type": "code",
      "execution_count": 241,
      "metadata": {
        "id": "ZzmBW1qkDzqq"
      },
      "outputs": [],
      "source": [
        "FFT_test = []\n",
        "\n",
        "# X_valid_scaled의 형태는 (7680, 256)으로, 이는 120개의 트라이얼 각각에 대해 64개 채널이 있음을 의미합니다.\n",
        "# 따라서, 120 * 64 = 7680 개의 행이 각각 하나의 채널 데이터를 나타냅니다.\n",
        "for i in range(7680):\n",
        "    FFT_test.append(fft(data_input_test[i], 500))"
      ]
    },
    {
      "cell_type": "code",
      "execution_count": 242,
      "metadata": {
        "id": "fT7uBpGSZxsy"
      },
      "outputs": [],
      "source": [
        "# 리스트 -> numpy array\n",
        "\n",
        "FFT_test = np.array(FFT_test)"
      ]
    },
    {
      "cell_type": "code",
      "execution_count": 243,
      "metadata": {
        "id": "3czoTVzKZWzR",
        "colab": {
          "base_uri": "https://localhost:8080/"
        },
        "outputId": "bda1abd5-a3e8-4479-d806-cdbc257c2c46"
      },
      "outputs": [
        {
          "output_type": "stream",
          "name": "stdout",
          "text": [
            "band_power_test shape: (7680, 250)\n"
          ]
        }
      ],
      "source": [
        "# FFT_test에 band_power 함수 적용\n",
        "band_power_test = np.vstack([enhanced_band_power(FFT_test[i * 64:(i + 1) * 64], 500) for i in range(120)])\n",
        "\n",
        "\n",
        "print(\"band_power_test shape:\", band_power_test.shape)\n"
      ]
    },
    {
      "cell_type": "code",
      "execution_count": 244,
      "metadata": {
        "id": "nB7KThlkZ4Vp"
      },
      "outputs": [],
      "source": [
        "y_test_pred_xg = XG_model.predict(band_power_test)"
      ]
    },
    {
      "cell_type": "code",
      "execution_count": 245,
      "metadata": {
        "id": "I3CdlCtiEHxL",
        "colab": {
          "base_uri": "https://localhost:8080/"
        },
        "outputId": "02f7515f-d07e-4517-8846-5af2193f5b65"
      },
      "outputs": [
        {
          "output_type": "execute_result",
          "data": {
            "text/plain": [
              "0.5536458333333333"
            ]
          },
          "metadata": {},
          "execution_count": 245
        }
      ],
      "source": [
        "y_test_pred_xg.mean()"
      ]
    },
    {
      "cell_type": "code",
      "execution_count": 246,
      "metadata": {
        "id": "nn4j7Hfh4d11"
      },
      "outputs": [],
      "source": [
        "csv = list(y_test_pred_xg)"
      ]
    },
    {
      "cell_type": "code",
      "execution_count": 247,
      "metadata": {
        "id": "11rqnS1K4o9h",
        "colab": {
          "base_uri": "https://localhost:8080/"
        },
        "outputId": "2f1fa09d-808f-4d65-8cc3-acf59ab88d20"
      },
      "outputs": [
        {
          "output_type": "execute_result",
          "data": {
            "text/plain": [
              "7680"
            ]
          },
          "metadata": {},
          "execution_count": 247
        }
      ],
      "source": [
        "len(csv)"
      ]
    },
    {
      "cell_type": "code",
      "execution_count": 248,
      "metadata": {
        "id": "mAKjjH-X4qAM",
        "colab": {
          "base_uri": "https://localhost:8080/"
        },
        "outputId": "1354e784-70ad-402a-a362-7e06f1eb0a9c"
      },
      "outputs": [
        {
          "output_type": "execute_result",
          "data": {
            "text/plain": [
              "120"
            ]
          },
          "metadata": {},
          "execution_count": 248
        }
      ],
      "source": [
        "answer = []\n",
        "\n",
        "for i in range(120):\n",
        "    pred = []\n",
        "    for s in range(64):\n",
        "        pred.append(csv[i*64+s])\n",
        "    if sum(pred)/len(pred) > 0.55:\n",
        "        answer.append(1)\n",
        "    else:\n",
        "        answer.append(0)\n",
        "\n",
        "len(answer)"
      ]
    },
    {
      "cell_type": "code",
      "execution_count": 249,
      "metadata": {
        "id": "HOLyOFPB9D-z"
      },
      "outputs": [],
      "source": [
        "test_pred = np.array(answer)"
      ]
    },
    {
      "cell_type": "code",
      "execution_count": 250,
      "metadata": {
        "id": "Clt_PK6R9H5T",
        "colab": {
          "base_uri": "https://localhost:8080/"
        },
        "outputId": "017cc45e-535d-43e7-86f6-9b5a7ee79293"
      },
      "outputs": [
        {
          "output_type": "execute_result",
          "data": {
            "text/plain": [
              "0.5166666666666667"
            ]
          },
          "metadata": {},
          "execution_count": 250
        }
      ],
      "source": [
        "test_pred.mean()"
      ]
    },
    {
      "cell_type": "code",
      "execution_count": 251,
      "metadata": {
        "id": "EeWPT2DrAdNU",
        "colab": {
          "base_uri": "https://localhost:8080/",
          "height": 424
        },
        "outputId": "6202365f-40b3-4987-9f20-cac441e910d9"
      },
      "outputs": [
        {
          "output_type": "execute_result",
          "data": {
            "text/plain": [
              "      ID  Target\n",
              "0      0       1\n",
              "1      1       1\n",
              "2      2       1\n",
              "3      3       1\n",
              "4      4       1\n",
              "..   ...     ...\n",
              "115  115       0\n",
              "116  116       1\n",
              "117  117       0\n",
              "118  118       0\n",
              "119  119       0\n",
              "\n",
              "[120 rows x 2 columns]"
            ],
            "text/html": [
              "\n",
              "  <div id=\"df-c75abc67-decb-41f7-8475-68a76e39dbbc\" class=\"colab-df-container\">\n",
              "    <div>\n",
              "<style scoped>\n",
              "    .dataframe tbody tr th:only-of-type {\n",
              "        vertical-align: middle;\n",
              "    }\n",
              "\n",
              "    .dataframe tbody tr th {\n",
              "        vertical-align: top;\n",
              "    }\n",
              "\n",
              "    .dataframe thead th {\n",
              "        text-align: right;\n",
              "    }\n",
              "</style>\n",
              "<table border=\"1\" class=\"dataframe\">\n",
              "  <thead>\n",
              "    <tr style=\"text-align: right;\">\n",
              "      <th></th>\n",
              "      <th>ID</th>\n",
              "      <th>Target</th>\n",
              "    </tr>\n",
              "  </thead>\n",
              "  <tbody>\n",
              "    <tr>\n",
              "      <th>0</th>\n",
              "      <td>0</td>\n",
              "      <td>1</td>\n",
              "    </tr>\n",
              "    <tr>\n",
              "      <th>1</th>\n",
              "      <td>1</td>\n",
              "      <td>1</td>\n",
              "    </tr>\n",
              "    <tr>\n",
              "      <th>2</th>\n",
              "      <td>2</td>\n",
              "      <td>1</td>\n",
              "    </tr>\n",
              "    <tr>\n",
              "      <th>3</th>\n",
              "      <td>3</td>\n",
              "      <td>1</td>\n",
              "    </tr>\n",
              "    <tr>\n",
              "      <th>4</th>\n",
              "      <td>4</td>\n",
              "      <td>1</td>\n",
              "    </tr>\n",
              "    <tr>\n",
              "      <th>...</th>\n",
              "      <td>...</td>\n",
              "      <td>...</td>\n",
              "    </tr>\n",
              "    <tr>\n",
              "      <th>115</th>\n",
              "      <td>115</td>\n",
              "      <td>0</td>\n",
              "    </tr>\n",
              "    <tr>\n",
              "      <th>116</th>\n",
              "      <td>116</td>\n",
              "      <td>1</td>\n",
              "    </tr>\n",
              "    <tr>\n",
              "      <th>117</th>\n",
              "      <td>117</td>\n",
              "      <td>0</td>\n",
              "    </tr>\n",
              "    <tr>\n",
              "      <th>118</th>\n",
              "      <td>118</td>\n",
              "      <td>0</td>\n",
              "    </tr>\n",
              "    <tr>\n",
              "      <th>119</th>\n",
              "      <td>119</td>\n",
              "      <td>0</td>\n",
              "    </tr>\n",
              "  </tbody>\n",
              "</table>\n",
              "<p>120 rows × 2 columns</p>\n",
              "</div>\n",
              "    <div class=\"colab-df-buttons\">\n",
              "\n",
              "  <div class=\"colab-df-container\">\n",
              "    <button class=\"colab-df-convert\" onclick=\"convertToInteractive('df-c75abc67-decb-41f7-8475-68a76e39dbbc')\"\n",
              "            title=\"Convert this dataframe to an interactive table.\"\n",
              "            style=\"display:none;\">\n",
              "\n",
              "  <svg xmlns=\"http://www.w3.org/2000/svg\" height=\"24px\" viewBox=\"0 -960 960 960\">\n",
              "    <path d=\"M120-120v-720h720v720H120Zm60-500h600v-160H180v160Zm220 220h160v-160H400v160Zm0 220h160v-160H400v160ZM180-400h160v-160H180v160Zm440 0h160v-160H620v160ZM180-180h160v-160H180v160Zm440 0h160v-160H620v160Z\"/>\n",
              "  </svg>\n",
              "    </button>\n",
              "\n",
              "  <style>\n",
              "    .colab-df-container {\n",
              "      display:flex;\n",
              "      gap: 12px;\n",
              "    }\n",
              "\n",
              "    .colab-df-convert {\n",
              "      background-color: #E8F0FE;\n",
              "      border: none;\n",
              "      border-radius: 50%;\n",
              "      cursor: pointer;\n",
              "      display: none;\n",
              "      fill: #1967D2;\n",
              "      height: 32px;\n",
              "      padding: 0 0 0 0;\n",
              "      width: 32px;\n",
              "    }\n",
              "\n",
              "    .colab-df-convert:hover {\n",
              "      background-color: #E2EBFA;\n",
              "      box-shadow: 0px 1px 2px rgba(60, 64, 67, 0.3), 0px 1px 3px 1px rgba(60, 64, 67, 0.15);\n",
              "      fill: #174EA6;\n",
              "    }\n",
              "\n",
              "    .colab-df-buttons div {\n",
              "      margin-bottom: 4px;\n",
              "    }\n",
              "\n",
              "    [theme=dark] .colab-df-convert {\n",
              "      background-color: #3B4455;\n",
              "      fill: #D2E3FC;\n",
              "    }\n",
              "\n",
              "    [theme=dark] .colab-df-convert:hover {\n",
              "      background-color: #434B5C;\n",
              "      box-shadow: 0px 1px 3px 1px rgba(0, 0, 0, 0.15);\n",
              "      filter: drop-shadow(0px 1px 2px rgba(0, 0, 0, 0.3));\n",
              "      fill: #FFFFFF;\n",
              "    }\n",
              "  </style>\n",
              "\n",
              "    <script>\n",
              "      const buttonEl =\n",
              "        document.querySelector('#df-c75abc67-decb-41f7-8475-68a76e39dbbc button.colab-df-convert');\n",
              "      buttonEl.style.display =\n",
              "        google.colab.kernel.accessAllowed ? 'block' : 'none';\n",
              "\n",
              "      async function convertToInteractive(key) {\n",
              "        const element = document.querySelector('#df-c75abc67-decb-41f7-8475-68a76e39dbbc');\n",
              "        const dataTable =\n",
              "          await google.colab.kernel.invokeFunction('convertToInteractive',\n",
              "                                                    [key], {});\n",
              "        if (!dataTable) return;\n",
              "\n",
              "        const docLinkHtml = 'Like what you see? Visit the ' +\n",
              "          '<a target=\"_blank\" href=https://colab.research.google.com/notebooks/data_table.ipynb>data table notebook</a>'\n",
              "          + ' to learn more about interactive tables.';\n",
              "        element.innerHTML = '';\n",
              "        dataTable['output_type'] = 'display_data';\n",
              "        await google.colab.output.renderOutput(dataTable, element);\n",
              "        const docLink = document.createElement('div');\n",
              "        docLink.innerHTML = docLinkHtml;\n",
              "        element.appendChild(docLink);\n",
              "      }\n",
              "    </script>\n",
              "  </div>\n",
              "\n",
              "\n",
              "<div id=\"df-a6c22303-7f58-4395-8e40-25527b4c932a\">\n",
              "  <button class=\"colab-df-quickchart\" onclick=\"quickchart('df-a6c22303-7f58-4395-8e40-25527b4c932a')\"\n",
              "            title=\"Suggest charts\"\n",
              "            style=\"display:none;\">\n",
              "\n",
              "<svg xmlns=\"http://www.w3.org/2000/svg\" height=\"24px\"viewBox=\"0 0 24 24\"\n",
              "     width=\"24px\">\n",
              "    <g>\n",
              "        <path d=\"M19 3H5c-1.1 0-2 .9-2 2v14c0 1.1.9 2 2 2h14c1.1 0 2-.9 2-2V5c0-1.1-.9-2-2-2zM9 17H7v-7h2v7zm4 0h-2V7h2v10zm4 0h-2v-4h2v4z\"/>\n",
              "    </g>\n",
              "</svg>\n",
              "  </button>\n",
              "\n",
              "<style>\n",
              "  .colab-df-quickchart {\n",
              "      --bg-color: #E8F0FE;\n",
              "      --fill-color: #1967D2;\n",
              "      --hover-bg-color: #E2EBFA;\n",
              "      --hover-fill-color: #174EA6;\n",
              "      --disabled-fill-color: #AAA;\n",
              "      --disabled-bg-color: #DDD;\n",
              "  }\n",
              "\n",
              "  [theme=dark] .colab-df-quickchart {\n",
              "      --bg-color: #3B4455;\n",
              "      --fill-color: #D2E3FC;\n",
              "      --hover-bg-color: #434B5C;\n",
              "      --hover-fill-color: #FFFFFF;\n",
              "      --disabled-bg-color: #3B4455;\n",
              "      --disabled-fill-color: #666;\n",
              "  }\n",
              "\n",
              "  .colab-df-quickchart {\n",
              "    background-color: var(--bg-color);\n",
              "    border: none;\n",
              "    border-radius: 50%;\n",
              "    cursor: pointer;\n",
              "    display: none;\n",
              "    fill: var(--fill-color);\n",
              "    height: 32px;\n",
              "    padding: 0;\n",
              "    width: 32px;\n",
              "  }\n",
              "\n",
              "  .colab-df-quickchart:hover {\n",
              "    background-color: var(--hover-bg-color);\n",
              "    box-shadow: 0 1px 2px rgba(60, 64, 67, 0.3), 0 1px 3px 1px rgba(60, 64, 67, 0.15);\n",
              "    fill: var(--button-hover-fill-color);\n",
              "  }\n",
              "\n",
              "  .colab-df-quickchart-complete:disabled,\n",
              "  .colab-df-quickchart-complete:disabled:hover {\n",
              "    background-color: var(--disabled-bg-color);\n",
              "    fill: var(--disabled-fill-color);\n",
              "    box-shadow: none;\n",
              "  }\n",
              "\n",
              "  .colab-df-spinner {\n",
              "    border: 2px solid var(--fill-color);\n",
              "    border-color: transparent;\n",
              "    border-bottom-color: var(--fill-color);\n",
              "    animation:\n",
              "      spin 1s steps(1) infinite;\n",
              "  }\n",
              "\n",
              "  @keyframes spin {\n",
              "    0% {\n",
              "      border-color: transparent;\n",
              "      border-bottom-color: var(--fill-color);\n",
              "      border-left-color: var(--fill-color);\n",
              "    }\n",
              "    20% {\n",
              "      border-color: transparent;\n",
              "      border-left-color: var(--fill-color);\n",
              "      border-top-color: var(--fill-color);\n",
              "    }\n",
              "    30% {\n",
              "      border-color: transparent;\n",
              "      border-left-color: var(--fill-color);\n",
              "      border-top-color: var(--fill-color);\n",
              "      border-right-color: var(--fill-color);\n",
              "    }\n",
              "    40% {\n",
              "      border-color: transparent;\n",
              "      border-right-color: var(--fill-color);\n",
              "      border-top-color: var(--fill-color);\n",
              "    }\n",
              "    60% {\n",
              "      border-color: transparent;\n",
              "      border-right-color: var(--fill-color);\n",
              "    }\n",
              "    80% {\n",
              "      border-color: transparent;\n",
              "      border-right-color: var(--fill-color);\n",
              "      border-bottom-color: var(--fill-color);\n",
              "    }\n",
              "    90% {\n",
              "      border-color: transparent;\n",
              "      border-bottom-color: var(--fill-color);\n",
              "    }\n",
              "  }\n",
              "</style>\n",
              "\n",
              "  <script>\n",
              "    async function quickchart(key) {\n",
              "      const quickchartButtonEl =\n",
              "        document.querySelector('#' + key + ' button');\n",
              "      quickchartButtonEl.disabled = true;  // To prevent multiple clicks.\n",
              "      quickchartButtonEl.classList.add('colab-df-spinner');\n",
              "      try {\n",
              "        const charts = await google.colab.kernel.invokeFunction(\n",
              "            'suggestCharts', [key], {});\n",
              "      } catch (error) {\n",
              "        console.error('Error during call to suggestCharts:', error);\n",
              "      }\n",
              "      quickchartButtonEl.classList.remove('colab-df-spinner');\n",
              "      quickchartButtonEl.classList.add('colab-df-quickchart-complete');\n",
              "    }\n",
              "    (() => {\n",
              "      let quickchartButtonEl =\n",
              "        document.querySelector('#df-a6c22303-7f58-4395-8e40-25527b4c932a button');\n",
              "      quickchartButtonEl.style.display =\n",
              "        google.colab.kernel.accessAllowed ? 'block' : 'none';\n",
              "    })();\n",
              "  </script>\n",
              "</div>\n",
              "\n",
              "  <div id=\"id_00a55b03-b100-4403-80b2-745ec24ba69f\">\n",
              "    <style>\n",
              "      .colab-df-generate {\n",
              "        background-color: #E8F0FE;\n",
              "        border: none;\n",
              "        border-radius: 50%;\n",
              "        cursor: pointer;\n",
              "        display: none;\n",
              "        fill: #1967D2;\n",
              "        height: 32px;\n",
              "        padding: 0 0 0 0;\n",
              "        width: 32px;\n",
              "      }\n",
              "\n",
              "      .colab-df-generate:hover {\n",
              "        background-color: #E2EBFA;\n",
              "        box-shadow: 0px 1px 2px rgba(60, 64, 67, 0.3), 0px 1px 3px 1px rgba(60, 64, 67, 0.15);\n",
              "        fill: #174EA6;\n",
              "      }\n",
              "\n",
              "      [theme=dark] .colab-df-generate {\n",
              "        background-color: #3B4455;\n",
              "        fill: #D2E3FC;\n",
              "      }\n",
              "\n",
              "      [theme=dark] .colab-df-generate:hover {\n",
              "        background-color: #434B5C;\n",
              "        box-shadow: 0px 1px 3px 1px rgba(0, 0, 0, 0.15);\n",
              "        filter: drop-shadow(0px 1px 2px rgba(0, 0, 0, 0.3));\n",
              "        fill: #FFFFFF;\n",
              "      }\n",
              "    </style>\n",
              "    <button class=\"colab-df-generate\" onclick=\"generateWithVariable('submission_df')\"\n",
              "            title=\"Generate code using this dataframe.\"\n",
              "            style=\"display:none;\">\n",
              "\n",
              "  <svg xmlns=\"http://www.w3.org/2000/svg\" height=\"24px\"viewBox=\"0 0 24 24\"\n",
              "       width=\"24px\">\n",
              "    <path d=\"M7,19H8.4L18.45,9,17,7.55,7,17.6ZM5,21V16.75L18.45,3.32a2,2,0,0,1,2.83,0l1.4,1.43a1.91,1.91,0,0,1,.58,1.4,1.91,1.91,0,0,1-.58,1.4L9.25,21ZM18.45,9,17,7.55Zm-12,3A5.31,5.31,0,0,0,4.9,8.1,5.31,5.31,0,0,0,1,6.5,5.31,5.31,0,0,0,4.9,4.9,5.31,5.31,0,0,0,6.5,1,5.31,5.31,0,0,0,8.1,4.9,5.31,5.31,0,0,0,12,6.5,5.46,5.46,0,0,0,6.5,12Z\"/>\n",
              "  </svg>\n",
              "    </button>\n",
              "    <script>\n",
              "      (() => {\n",
              "      const buttonEl =\n",
              "        document.querySelector('#id_00a55b03-b100-4403-80b2-745ec24ba69f button.colab-df-generate');\n",
              "      buttonEl.style.display =\n",
              "        google.colab.kernel.accessAllowed ? 'block' : 'none';\n",
              "\n",
              "      buttonEl.onclick = () => {\n",
              "        google.colab.notebook.generateWithVariable('submission_df');\n",
              "      }\n",
              "      })();\n",
              "    </script>\n",
              "  </div>\n",
              "\n",
              "    </div>\n",
              "  </div>\n"
            ],
            "application/vnd.google.colaboratory.intrinsic+json": {
              "type": "dataframe",
              "variable_name": "submission_df",
              "summary": "{\n  \"name\": \"submission_df\",\n  \"rows\": 120,\n  \"fields\": [\n    {\n      \"column\": \"ID\",\n      \"properties\": {\n        \"dtype\": \"number\",\n        \"std\": 34,\n        \"min\": 0,\n        \"max\": 119,\n        \"num_unique_values\": 120,\n        \"samples\": [\n          44,\n          47,\n          4\n        ],\n        \"semantic_type\": \"\",\n        \"description\": \"\"\n      }\n    },\n    {\n      \"column\": \"Target\",\n      \"properties\": {\n        \"dtype\": \"number\",\n        \"std\": 0,\n        \"min\": 0,\n        \"max\": 1,\n        \"num_unique_values\": 2,\n        \"samples\": [\n          0,\n          1\n        ],\n        \"semantic_type\": \"\",\n        \"description\": \"\"\n      }\n    }\n  ]\n}"
            }
          },
          "metadata": {},
          "execution_count": 251
        }
      ],
      "source": [
        "# 제출하기\n",
        "id=np.arange(120)\n",
        "target=answer\n",
        "\n",
        "submission_df=pd.DataFrame({'ID':id, 'Target':target})\n",
        "\n",
        "submission_df"
      ]
    },
    {
      "cell_type": "code",
      "execution_count": 252,
      "metadata": {
        "id": "VbGYdAXwTCy8",
        "colab": {
          "base_uri": "https://localhost:8080/"
        },
        "outputId": "8e82f97f-2e8a-43b6-e2b4-fae39ff8a7ed"
      },
      "outputs": [
        {
          "output_type": "execute_result",
          "data": {
            "text/plain": [
              "ID        59.500000\n",
              "Target     0.516667\n",
              "dtype: float64"
            ]
          },
          "metadata": {},
          "execution_count": 252
        }
      ],
      "source": [
        "submission_df.mean()"
      ]
    },
    {
      "cell_type": "code",
      "execution_count": 254,
      "metadata": {
        "id": "jzhWSNXx9JTV"
      },
      "outputs": [],
      "source": [
        "submission_df.to_csv('submission_05053.csv',index = False)"
      ]
    },
    {
      "cell_type": "code",
      "execution_count": null,
      "metadata": {
        "id": "ugBXAb2gcJoW"
      },
      "outputs": [],
      "source": []
    }
  ],
  "metadata": {
    "colab": {
      "machine_shape": "hm",
      "provenance": [],
      "collapsed_sections": [
        "TqIn4XTfHR2j"
      ],
      "include_colab_link": true
    },
    "kernelspec": {
      "display_name": "Python 3",
      "name": "python3"
    },
    "language_info": {
      "name": "python"
    }
  },
  "nbformat": 4,
  "nbformat_minor": 0
}
