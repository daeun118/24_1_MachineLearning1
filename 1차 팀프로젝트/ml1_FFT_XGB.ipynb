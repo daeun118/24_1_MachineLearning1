{
  "cells": [
    {
      "cell_type": "code",
      "execution_count": 64,
      "metadata": {
        "id": "g-MxpmAJBtUk"
      },
      "outputs": [],
      "source": [
        "import numpy as np\n",
        "import pandas as pd\n",
        "import seaborn as sns\n",
        "import matplotlib.pyplot as plt\n",
        "from sklearn.preprocessing import StandardScaler"
      ]
    },
    {
      "cell_type": "code",
      "execution_count": 65,
      "metadata": {
        "id": "Cq0i0C3LBzmH"
      },
      "outputs": [],
      "source": [
        "data = np.load(\"/content/drive/MyDrive/ml1/train.npy\", allow_pickle=True)\n",
        "data = data.item()\n",
        "data_input = data['input']"
      ]
    },
    {
      "cell_type": "code",
      "execution_count": 66,
      "metadata": {
        "id": "3937YE-Q3JYN"
      },
      "outputs": [],
      "source": [
        "labels = data['label']"
      ]
    },
    {
      "cell_type": "code",
      "execution_count": 67,
      "metadata": {
        "id": "QH2gCDxUB752",
        "colab": {
          "base_uri": "https://localhost:8080/"
        },
        "outputId": "847d0577-c72c-4fb1-a26d-ea0be63c63ed"
      },
      "outputs": [
        {
          "output_type": "execute_result",
          "data": {
            "text/plain": [
              "array([[[[-2.8890e+00],\n",
              "         [-7.9550e+00],\n",
              "         [-1.6170e+00],\n",
              "         ...,\n",
              "         [ 1.9430e+00],\n",
              "         [-3.0920e+00],\n",
              "         [-1.7090e+00]],\n",
              "\n",
              "        [[-3.3770e+00],\n",
              "         [-8.9310e+00],\n",
              "         [-1.6170e+00],\n",
              "         ...,\n",
              "         [ 2.9200e+00],\n",
              "         [-3.0920e+00],\n",
              "         [ 2.4400e-01]],\n",
              "\n",
              "        [[-3.3770e+00],\n",
              "         [-8.9310e+00],\n",
              "         [-1.5300e-01],\n",
              "         ...,\n",
              "         [ 3.4080e+00],\n",
              "         [-3.0920e+00],\n",
              "         [ 2.1970e+00]],\n",
              "\n",
              "        ...,\n",
              "\n",
              "        [[ 5.9000e+00],\n",
              "         [ 3.7640e+00],\n",
              "         [-8.9420e+00],\n",
              "         ...,\n",
              "         [-1.0000e-02],\n",
              "         [ 5.2080e+00],\n",
              "         [-1.9775e+01]],\n",
              "\n",
              "        [[ 5.4120e+00],\n",
              "         [ 3.2760e+00],\n",
              "         [-1.0895e+01],\n",
              "         ...,\n",
              "         [-1.0000e-02],\n",
              "         [ 5.2080e+00],\n",
              "         [-2.1240e+01]],\n",
              "\n",
              "        [[ 5.9000e+00],\n",
              "         [ 2.7870e+00],\n",
              "         [-1.1383e+01],\n",
              "         ...,\n",
              "         [-1.0000e-02],\n",
              "         [ 5.6970e+00],\n",
              "         [-2.2217e+01]]],\n",
              "\n",
              "\n",
              "       [[[-3.8660e+00],\n",
              "         [-4.8220e+00],\n",
              "         [-7.7210e+00],\n",
              "         ...,\n",
              "         [-5.0900e-01],\n",
              "         [-4.2010e+00],\n",
              "         [-1.1090e+00]],\n",
              "\n",
              "        [[-4.8420e+00],\n",
              "         [-5.7980e+00],\n",
              "         [-1.0162e+01],\n",
              "         ...,\n",
              "         [-1.4850e+00],\n",
              "         [-4.6900e+00],\n",
              "         [-1.5970e+00]],\n",
              "\n",
              "        [[-6.7950e+00],\n",
              "         [-7.2630e+00],\n",
              "         [-1.1627e+01],\n",
              "         ...,\n",
              "         [-1.9730e+00],\n",
              "         [-6.1540e+00],\n",
              "         [-2.5740e+00]],\n",
              "\n",
              "        ...,\n",
              "\n",
              "        [[-4.6834e+01],\n",
              "         [-2.5330e+01],\n",
              "         [-3.5065e+01],\n",
              "         ...,\n",
              "         [ 1.9330e+00],\n",
              "         [-4.5705e+01],\n",
              "         [-3.5500e+00]],\n",
              "\n",
              "        [[-4.8787e+01],\n",
              "         [-2.8259e+01],\n",
              "         [-3.5065e+01],\n",
              "         ...,\n",
              "         [ 2.4210e+00],\n",
              "         [-4.8147e+01],\n",
              "         [-3.0620e+00]],\n",
              "\n",
              "        [[-5.0741e+01],\n",
              "         [-3.0212e+01],\n",
              "         [-3.5065e+01],\n",
              "         ...,\n",
              "         [ 2.9090e+00],\n",
              "         [-4.9611e+01],\n",
              "         [-3.5500e+00]]],\n",
              "\n",
              "\n",
              "       [[[-1.1600e+00],\n",
              "         [-8.8400e+00],\n",
              "         [-1.3330e+00],\n",
              "         ...,\n",
              "         [ 8.7500e-01],\n",
              "         [-7.8300e-01],\n",
              "         [ 2.6250e+00]],\n",
              "\n",
              "        [[-4.5780e+00],\n",
              "         [-1.0305e+01],\n",
              "         [-4.7510e+00],\n",
              "         ...,\n",
              "         [ 8.7500e-01],\n",
              "         [-4.6900e+00],\n",
              "         [-3.0500e-01]],\n",
              "\n",
              "        [[-6.5310e+00],\n",
              "         [-9.3280e+00],\n",
              "         [-6.7040e+00],\n",
              "         ...,\n",
              "         [-1.0200e-01],\n",
              "         [-6.6430e+00],\n",
              "         [-2.2580e+00]],\n",
              "\n",
              "        ...,\n",
              "\n",
              "        [[ 1.6418e+01],\n",
              "         [ 1.3133e+01],\n",
              "         [ 3.0620e+00],\n",
              "         ...,\n",
              "         [-4.4960e+00],\n",
              "         [ 1.6795e+01],\n",
              "         [ 1.0437e+01]],\n",
              "\n",
              "        [[ 1.5442e+01],\n",
              "         [ 1.2644e+01],\n",
              "         [ 1.3200e-01],\n",
              "         ...,\n",
              "         [-4.0080e+00],\n",
              "         [ 1.5330e+01],\n",
              "         [ 8.9720e+00]],\n",
              "\n",
              "        [[ 1.5442e+01],\n",
              "         [ 1.1180e+01],\n",
              "         [-8.4400e-01],\n",
              "         ...,\n",
              "         [-3.5200e+00],\n",
              "         [ 1.4842e+01],\n",
              "         [ 9.4600e+00]]],\n",
              "\n",
              "\n",
              "       ...,\n",
              "\n",
              "\n",
              "       [[[-1.4950e+00],\n",
              "         [-3.0110e+00],\n",
              "         [-9.0500e-01],\n",
              "         ...,\n",
              "         [-1.5060e+00],\n",
              "         [ 8.2300e+00],\n",
              "         [ 4.9030e+00]],\n",
              "\n",
              "        [[ 9.4600e-01],\n",
              "         [ 3.3370e+00],\n",
              "         [-4.1700e-01],\n",
              "         ...,\n",
              "         [-1.5060e+00],\n",
              "         [ 4.8120e+00],\n",
              "         [ 7.8330e+00]],\n",
              "\n",
              "        [[ 4.8520e+00],\n",
              "         [ 1.0173e+01],\n",
              "         [ 2.5130e+00],\n",
              "         ...,\n",
              "         [-1.5060e+00],\n",
              "         [ 1.8820e+00],\n",
              "         [ 1.1739e+01]],\n",
              "\n",
              "        ...,\n",
              "\n",
              "        [[-1.1749e+01],\n",
              "         [ 3.3370e+00],\n",
              "         [-1.2136e+01],\n",
              "         ...,\n",
              "         [-1.9940e+00],\n",
              "         [-1.5360e+00],\n",
              "         [-8.7690e+00]],\n",
              "\n",
              "        [[-1.0284e+01],\n",
              "         [ 6.7550e+00],\n",
              "         [-1.0671e+01],\n",
              "         ...,\n",
              "         [-1.5060e+00],\n",
              "         [-4.4660e+00],\n",
              "         [-6.3270e+00]],\n",
              "\n",
              "        [[-1.2238e+01],\n",
              "         [ 6.2660e+00],\n",
              "         [-1.0671e+01],\n",
              "         ...,\n",
              "         [-5.2900e-01],\n",
              "         [-6.4190e+00],\n",
              "         [-5.8390e+00]]],\n",
              "\n",
              "\n",
              "       [[[ 5.0860e+00],\n",
              "         [ 5.5540e+00],\n",
              "         [-2.8890e+00],\n",
              "         ...,\n",
              "         [-2.3400e-01],\n",
              "         [ 3.4990e+00],\n",
              "         [ 3.4590e+00]],\n",
              "\n",
              "        [[ 7.0390e+00],\n",
              "         [ 7.0190e+00],\n",
              "         [ 4.9240e+00],\n",
              "         ...,\n",
              "         [ 2.5400e-01],\n",
              "         [ 3.9880e+00],\n",
              "         [ 7.3650e+00]],\n",
              "\n",
              "        [[ 8.9930e+00],\n",
              "         [ 1.0925e+01],\n",
              "         [ 1.4689e+01],\n",
              "         ...,\n",
              "         [ 2.5400e-01],\n",
              "         [ 4.9640e+00],\n",
              "         [ 1.0783e+01]],\n",
              "\n",
              "        ...,\n",
              "\n",
              "        [[-1.0050e+01],\n",
              "         [-6.1650e+00],\n",
              "         [-6.3070e+00],\n",
              "         ...,\n",
              "         [-7.5580e+00],\n",
              "         [-1.2614e+01],\n",
              "         [-2.0955e+01]],\n",
              "\n",
              "        [[-8.0970e+00],\n",
              "         [-2.7470e+00],\n",
              "         [-7.2840e+00],\n",
              "         ...,\n",
              "         [-7.0700e+00],\n",
              "         [-1.0661e+01],\n",
              "         [-1.9979e+01]],\n",
              "\n",
              "        [[-4.1910e+00],\n",
              "         [-2.7470e+00],\n",
              "         [-4.8420e+00],\n",
              "         ...,\n",
              "         [-6.5820e+00],\n",
              "         [-1.0173e+01],\n",
              "         [-1.6561e+01]]],\n",
              "\n",
              "\n",
              "       [[[ 1.6480e+00],\n",
              "         [-1.9630e+00],\n",
              "         [ 1.8210e+00],\n",
              "         ...,\n",
              "         [ 1.8010e+00],\n",
              "         [ 3.7030e+00],\n",
              "         [-4.8800e-01]],\n",
              "\n",
              "        [[-7.9300e-01],\n",
              "         [-1.9630e+00],\n",
              "         [ 1.8210e+00],\n",
              "         ...,\n",
              "         [ 1.8010e+00],\n",
              "         [ 6.6320e+00],\n",
              "         [-1.9530e+00]],\n",
              "\n",
              "        [[-2.2580e+00],\n",
              "         [-9.8700e-01],\n",
              "         [ 1.8210e+00],\n",
              "         ...,\n",
              "         [ 2.2890e+00],\n",
              "         [ 7.6090e+00],\n",
              "         [-3.4180e+00]],\n",
              "\n",
              "        ...,\n",
              "\n",
              "        [[ 1.4343e+01],\n",
              "         [ 2.1474e+01],\n",
              "         [ 1.1587e+01],\n",
              "         ...,\n",
              "         [-5.0350e+00],\n",
              "         [-3.4871e+01],\n",
              "         [-1.9530e+00]],\n",
              "\n",
              "        [[ 1.4343e+01],\n",
              "         [ 2.1474e+01],\n",
              "         [ 1.2563e+01],\n",
              "         ...,\n",
              "         [-5.5240e+00],\n",
              "         [-3.5360e+01],\n",
              "         [-9.7700e-01]],\n",
              "\n",
              "        [[ 1.3855e+01],\n",
              "         [ 2.0498e+01],\n",
              "         [ 1.1098e+01],\n",
              "         ...,\n",
              "         [-5.5240e+00],\n",
              "         [-3.4383e+01],\n",
              "         [-4.8800e-01]]]])"
            ]
          },
          "metadata": {},
          "execution_count": 67
        }
      ],
      "source": [
        "data_input"
      ]
    },
    {
      "cell_type": "code",
      "execution_count": 68,
      "metadata": {
        "colab": {
          "base_uri": "https://localhost:8080/"
        },
        "id": "c3hc1wNF5fqJ",
        "outputId": "5deb7ecf-8e74-4a1d-ed29-2b2a8ca7a62b"
      },
      "outputs": [
        {
          "output_type": "execute_result",
          "data": {
            "text/plain": [
              "(1080,)"
            ]
          },
          "metadata": {},
          "execution_count": 68
        }
      ],
      "source": [
        "labels.shape"
      ]
    },
    {
      "cell_type": "markdown",
      "metadata": {
        "id": "t8jskAvGx3r6"
      },
      "source": [
        "# 전처리\n"
      ]
    },
    {
      "cell_type": "code",
      "execution_count": 69,
      "metadata": {
        "colab": {
          "base_uri": "https://localhost:8080/"
        },
        "id": "dcI1g_nlDA0d",
        "outputId": "7ee8df14-aa92-4e3c-b173-cf68e7d3545d"
      },
      "outputs": [
        {
          "output_type": "execute_result",
          "data": {
            "text/plain": [
              "array([1., 1., 1., ..., 0., 0., 0.])"
            ]
          },
          "metadata": {},
          "execution_count": 69
        }
      ],
      "source": [
        "labels = data['label']\n",
        "labels.shape\n",
        "repeated_arr = []\n",
        "for i in range(len(labels)):\n",
        "    repeated_arr.extend(np.full(64, labels[i]))\n",
        "\n",
        "labels_1 = np.array(repeated_arr)\n",
        "labels_1\n",
        "\n",
        "\n",
        "\n"
      ]
    },
    {
      "cell_type": "code",
      "execution_count": 70,
      "metadata": {
        "colab": {
          "base_uri": "https://localhost:8080/"
        },
        "id": "d4mgcaQi5spl",
        "outputId": "c6906be0-7d9a-4863-b62f-521508404e81"
      },
      "outputs": [
        {
          "output_type": "execute_result",
          "data": {
            "text/plain": [
              "(69120,)"
            ]
          },
          "metadata": {},
          "execution_count": 70
        }
      ],
      "source": [
        "labels_1.shape"
      ]
    },
    {
      "cell_type": "code",
      "execution_count": 71,
      "metadata": {
        "colab": {
          "base_uri": "https://localhost:8080/"
        },
        "id": "xOoCU2EqrCg2",
        "outputId": "9598e1dc-cde7-4fe9-e645-6ae9ea3fd572"
      },
      "outputs": [
        {
          "output_type": "execute_result",
          "data": {
            "text/plain": [
              "(1080, 64, 256)"
            ]
          },
          "metadata": {},
          "execution_count": 71
        }
      ],
      "source": [
        "input_T = []\n",
        "for i in range(1080):\n",
        "    data_input_m = data_input[i][:][:].squeeze().T\n",
        "    input_T.append(data_input_m)\n",
        "\n",
        "input_T = np.array(input_T)\n",
        "input_T.shape"
      ]
    },
    {
      "cell_type": "code",
      "source": [
        "def fft(eeg_signal, sampling_rate):\n",
        "    \"\"\"\n",
        "    주어진 EEG 신호에 대한 FFT를 계산하고 주파수 및 해당 주파수 성분의 파워를 시각화합니다.\n",
        "\n",
        "    :param eeg_signal: EEG 신호 (1차원 numpy 배열)\n",
        "    :param sampling_rate: 샘플링 주파수 (Hz)\n",
        "    \"\"\"\n",
        "    n = len(eeg_signal)\n",
        "    T = 1 / sampling_rate\n",
        "    yf = np.fft.fft(eeg_signal)\n",
        "    xf = np.fft.fftfreq(n, T)[:n//2]\n",
        "    yf = 2.0/n * np.abs(yf[:n//2])\n",
        "    return yf"
      ],
      "metadata": {
        "id": "X335VAqI-pMq"
      },
      "execution_count": 72,
      "outputs": []
    },
    {
      "cell_type": "code",
      "source": [
        "len(fft(input_T[0][0],256))"
      ],
      "metadata": {
        "id": "GoUPwDwABXZ2",
        "colab": {
          "base_uri": "https://localhost:8080/"
        },
        "outputId": "64d9a423-b3eb-4e30-d59d-3ee37e29a92b"
      },
      "execution_count": 77,
      "outputs": [
        {
          "output_type": "execute_result",
          "data": {
            "text/plain": [
              "128"
            ]
          },
          "metadata": {},
          "execution_count": 77
        }
      ]
    },
    {
      "cell_type": "code",
      "source": [
        "FFT = []\n",
        "\n",
        "for i in  range(1080):\n",
        "    for s in range(64):\n",
        "        FFT.append(fft(input_T[i][s], 256))"
      ],
      "metadata": {
        "id": "958_HfHt-tkc"
      },
      "execution_count": 78,
      "outputs": []
    },
    {
      "cell_type": "code",
      "source": [
        "FFT = np.array(FFT)\n",
        "FFT.shape"
      ],
      "metadata": {
        "id": "uQQAdcIC_hfl",
        "colab": {
          "base_uri": "https://localhost:8080/"
        },
        "outputId": "8df2de39-6d2e-4e8a-9e29-2e5ca0c62731"
      },
      "execution_count": 80,
      "outputs": [
        {
          "output_type": "execute_result",
          "data": {
            "text/plain": [
              "(69120, 128)"
            ]
          },
          "metadata": {},
          "execution_count": 80
        }
      ]
    },
    {
      "cell_type": "code",
      "source": [
        "def plot_fft(eeg_signal, sampling_rate):\n",
        "    \"\"\"\n",
        "    주어진 EEG 신호에 대한 FFT를 계산하고 주파수 및 해당 주파수 성분의 파워를 시각화합니다.\n",
        "\n",
        "    :param eeg_signal: EEG 신호 (1차원 numpy 배열)\n",
        "    :param sampling_rate: 샘플링 주파수 (Hz)\n",
        "    \"\"\"\n",
        "    n = len(eeg_signal)\n",
        "    T = 1 / sampling_rate\n",
        "    yf = np.fft.fft(eeg_signal)\n",
        "    xf = np.fft.fftfreq(n, T)[:n//2]\n",
        "    yf = 2.0/n * np.abs(yf[:n//2])\n",
        "\n",
        "    plt.plot(xf, yf)\n",
        "    plt.title('FFT of EEG Signal')\n",
        "    plt.xlabel('Frequency (Hz)')\n",
        "    plt.ylabel('Power')\n",
        "    plt.grid()\n",
        "    plt.show()\n",
        "    return yf\n",
        "# 예시 EEG 신호 (임의의 데이터)\n",
        "\n",
        "plot_fft(input_T[20][0], 512)"
      ],
      "metadata": {
        "colab": {
          "base_uri": "https://localhost:8080/",
          "height": 940
        },
        "id": "4xgXXYlC-JYK",
        "outputId": "2fda0f55-da10-405e-bf02-9c8ac831b9f9"
      },
      "execution_count": null,
      "outputs": [
        {
          "output_type": "display_data",
          "data": {
            "text/plain": [
              "<Figure size 640x480 with 1 Axes>"
            ],
            "image/png": "[encoded data removed]"
          },
          "metadata": {}
        },
        {
          "output_type": "execute_result",
          "data": {
            "text/plain": [
              "array([4.62085938, 3.99636612, 4.19455065, 6.39716753, 0.81118259,\n",
              "       0.46534749, 1.12135233, 0.93711394, 2.15366918, 1.58015318,\n",
              "       2.16092336, 3.45740178, 3.91408071, 1.45603986, 1.18890703,\n",
              "       0.67371108, 0.45073912, 1.24557915, 0.30602135, 1.34942115,\n",
              "       0.43170319, 1.80923509, 0.83870513, 0.79628902, 2.05633659,\n",
              "       0.54083786, 0.70049107, 0.81305656, 1.89316285, 0.88217712,\n",
              "       0.69184424, 1.66592983, 1.24410149, 0.17369564, 1.10645221,\n",
              "       0.21786382, 0.30431586, 0.9877701 , 0.24470316, 0.88453317,\n",
              "       0.73018449, 0.5141182 , 1.26504391, 0.19684328, 0.42077354,\n",
              "       0.20329249, 0.24426956, 0.25662442, 0.0856791 , 0.04632063,\n",
              "       0.16922712, 0.11823952, 0.05442651, 0.10065391, 0.05839291,\n",
              "       0.08373517, 0.05224769, 0.04681135, 0.04731246, 0.07742593,\n",
              "       0.0384973 , 0.05716735, 0.03572317, 0.05674692, 0.01077234,\n",
              "       0.04866596, 0.05766203, 0.04641183, 0.03720151, 0.04314641,\n",
              "       0.05830555, 0.05266987, 0.05318226, 0.02783451, 0.05182778,\n",
              "       0.02482386, 0.0638408 , 0.01010504, 0.025127  , 0.03201363,\n",
              "       0.02408381, 0.02984133, 0.05075174, 0.0544703 , 0.02830102,\n",
              "       0.05054037, 0.05740876, 0.02920322, 0.03625854, 0.03752156,\n",
              "       0.02271078, 0.03190728, 0.0334384 , 0.03216281, 0.02680119,\n",
              "       0.02662924, 0.01299922, 0.00895667, 0.01591663, 0.02660755,\n",
              "       0.0315328 , 0.03051063, 0.02686841, 0.01661267, 0.01631187,\n",
              "       0.0576557 , 0.03095485, 0.02871919, 0.01241857, 0.0310022 ,\n",
              "       0.03203731, 0.00683255, 0.00901751, 0.05053434, 0.0309101 ,\n",
              "       0.0316897 , 0.04070793, 0.03424805, 0.02204027, 0.01937506,\n",
              "       0.03039335, 0.0433298 , 0.01345122, 0.02899962, 0.03490873,\n",
              "       0.01669555, 0.04076763, 0.01674424])"
            ]
          },
          "metadata": {},
          "execution_count": 63
        }
      ]
    },
    {
      "cell_type": "code",
      "execution_count": null,
      "metadata": {
        "id": "taS1fh7WyZj-"
      },
      "outputs": [],
      "source": [
        "input_T"
      ]
    },
    {
      "cell_type": "code",
      "execution_count": null,
      "metadata": {
        "colab": {
          "base_uri": "https://localhost:8080/"
        },
        "id": "qb4xm9oq2vem",
        "outputId": "f9080103-7fc6-4da3-9c04-175819de74e7"
      },
      "outputs": [
        {
          "data": {
            "text/plain": [
              "(69120, 256)"
            ]
          },
          "execution_count": 10,
          "metadata": {},
          "output_type": "execute_result"
        }
      ],
      "source": [
        "data_input_0 = input_T.reshape(1080*64,256)\n",
        "df = pd.DataFrame(data_input_0)\n",
        "data_input_0.shape"
      ]
    },
    {
      "cell_type": "code",
      "execution_count": null,
      "metadata": {
        "colab": {
          "base_uri": "https://localhost:8080/"
        },
        "id": "jTHX37e37GSL",
        "outputId": "a2a86d6b-1839-4470-99cd-ed122c5ef299"
      },
      "outputs": [
        {
          "data": {
            "text/plain": [
              "2850"
            ]
          },
          "execution_count": 10,
          "metadata": {},
          "output_type": "execute_result"
        }
      ],
      "source": [
        "69120-66270"
      ]
    },
    {
      "cell_type": "code",
      "execution_count": 84,
      "metadata": {
        "id": "WHBiNxr0uoR_"
      },
      "outputs": [],
      "source": [
        "from sklearn.model_selection import train_test_split\n",
        "from xgboost import XGBClassifier\n",
        "from sklearn.metrics import accuracy_score"
      ]
    },
    {
      "cell_type": "code",
      "execution_count": null,
      "metadata": {
        "colab": {
          "background_save": true
        },
        "id": "5DLRF3w-uoL0"
      },
      "outputs": [],
      "source": [
        "from sklearn.model_selection import train_test_split\n",
        "from xgboost import XGBClassifier\n",
        "\n",
        "X_train, X_test, y_train, y_test = train_test_split(data_input_0,labels_1 , test_size=0.2, random_state=156)\n",
        "\n",
        "xgb_wrapper = XGBClassifier(n_estimators = 400, learning_rate = 0.1, max_depth = 3)\n",
        "xgb_wrapper.fit(X_train, y_train)\n",
        "w_preds = xgb_wrapper.predict(X_test)"
      ]
    },
    {
      "cell_type": "markdown",
      "metadata": {
        "id": "cQ_V8upixsVj"
      },
      "source": [
        "----"
      ]
    },
    {
      "cell_type": "code",
      "source": [
        "X_train, X_test, y_train, y_test = train_test_split(FFT,labels_1 , test_size=0.2, random_state=156)\n",
        "\n",
        "\n",
        "\n",
        "xgb_wrapper = XGBClassifier(n_estimators = 400, learning_rate = 0.1, max_depth = 3)\n",
        "xgb_wrapper.fit(X_train, y_train)\n",
        "w_preds = xgb_wrapper.predict(X_test)"
      ],
      "metadata": {
        "id": "jAVYakaRCqfL"
      },
      "execution_count": 83,
      "outputs": []
    },
    {
      "cell_type": "code",
      "source": [
        "accuracy = accuracy_score(y_test, w_preds)\n",
        "print(\"Accuracy:\", accuracy)"
      ],
      "metadata": {
        "colab": {
          "base_uri": "https://localhost:8080/"
        },
        "id": "VHWj4HmwC2xt",
        "outputId": "5e328942-dd0a-48db-8498-3730b2f9b272"
      },
      "execution_count": 85,
      "outputs": [
        {
          "output_type": "stream",
          "name": "stdout",
          "text": [
            "Accuracy: 0.7364004629629629\n"
          ]
        }
      ]
    },
    {
      "cell_type": "markdown",
      "metadata": {
        "id": "MBWI_T5bxaUT"
      },
      "source": [
        "#*TEST 파일 load 및 csv export*#\n"
      ]
    },
    {
      "cell_type": "code",
      "execution_count": 86,
      "metadata": {
        "id": "YlWTqe8BvA_R"
      },
      "outputs": [],
      "source": [
        "data_test = np.load(\"/content/drive/MyDrive/ml1/test.npy\", allow_pickle=True)\n",
        "data_test = data_test.item()\n",
        "data_input_test = data_test['input']"
      ]
    },
    {
      "cell_type": "code",
      "execution_count": 92,
      "metadata": {
        "colab": {
          "base_uri": "https://localhost:8080/"
        },
        "id": "QyebGRYx33pp",
        "outputId": "bbea15a2-810d-4026-e3d7-10eea8bd59cc"
      },
      "outputs": [
        {
          "output_type": "execute_result",
          "data": {
            "text/plain": [
              "(120, 64, 256)"
            ]
          },
          "metadata": {},
          "execution_count": 92
        }
      ],
      "source": [
        "input_test_T = []\n",
        "for i in range(120):\n",
        "    data_input_m = data_input_test[i][:][:].squeeze().T\n",
        "    input_test_T.append(data_input_m)\n",
        "\n",
        "input_test_T = np.array(input_test_T)\n",
        "input_test_T.shape"
      ]
    },
    {
      "cell_type": "code",
      "source": [
        "FFT_test = []\n",
        "\n",
        "for i in  range(120):\n",
        "    for s in range(64):\n",
        "        FFT_test.append(fft(input_test_T[i][s], 256))\n",
        "\n",
        "FFT_test = np.array(FFT_test)\n",
        "FFT_test.shape"
      ],
      "metadata": {
        "colab": {
          "base_uri": "https://localhost:8080/"
        },
        "id": "ZzmBW1qkDzqq",
        "outputId": "c9dae64f-e559-4a38-bf98-2f0afa686637"
      },
      "execution_count": 93,
      "outputs": [
        {
          "output_type": "execute_result",
          "data": {
            "text/plain": [
              "(7680, 128)"
            ]
          },
          "metadata": {},
          "execution_count": 93
        }
      ]
    },
    {
      "cell_type": "code",
      "execution_count": 94,
      "metadata": {
        "id": "rLFbrOS0KCZU"
      },
      "outputs": [],
      "source": [
        "y_pred = xgb_wrapper.predict(FFT_test)"
      ]
    },
    {
      "cell_type": "code",
      "source": [
        "y_pred.mean()"
      ],
      "metadata": {
        "colab": {
          "base_uri": "https://localhost:8080/"
        },
        "id": "I3CdlCtiEHxL",
        "outputId": "a663421f-2d78-40fc-8885-69d0e4ba8838"
      },
      "execution_count": 95,
      "outputs": [
        {
          "output_type": "execute_result",
          "data": {
            "text/plain": [
              "0.555859375"
            ]
          },
          "metadata": {},
          "execution_count": 95
        }
      ]
    },
    {
      "cell_type": "code",
      "execution_count": 97,
      "metadata": {
        "id": "nn4j7Hfh4d11"
      },
      "outputs": [],
      "source": [
        "csv = list(y_pred)"
      ]
    },
    {
      "cell_type": "code",
      "execution_count": null,
      "metadata": {
        "colab": {
          "base_uri": "https://localhost:8080/"
        },
        "id": "Jds_2P8xI-rd",
        "outputId": "8b4e19ff-da19-4d89-e3f2-b3df4c63a028"
      },
      "outputs": [
        {
          "data": {
            "text/plain": [
              "array([1., 1., 1., ..., 0., 0., 0.])"
            ]
          },
          "execution_count": 111,
          "metadata": {},
          "output_type": "execute_result"
        }
      ],
      "source": []
    },
    {
      "cell_type": "code",
      "execution_count": 98,
      "metadata": {
        "colab": {
          "base_uri": "https://localhost:8080/"
        },
        "id": "11rqnS1K4o9h",
        "outputId": "76bc23dd-46ae-40f3-c50c-e5f031b8295c"
      },
      "outputs": [
        {
          "output_type": "execute_result",
          "data": {
            "text/plain": [
              "7680"
            ]
          },
          "metadata": {},
          "execution_count": 98
        }
      ],
      "source": [
        "len(csv)"
      ]
    },
    {
      "cell_type": "code",
      "execution_count": 119,
      "metadata": {
        "colab": {
          "base_uri": "https://localhost:8080/"
        },
        "id": "mAKjjH-X4qAM",
        "outputId": "08c5089a-fa12-40b4-9a4d-8feaeba205e8"
      },
      "outputs": [
        {
          "output_type": "execute_result",
          "data": {
            "text/plain": [
              "120"
            ]
          },
          "metadata": {},
          "execution_count": 119
        }
      ],
      "source": [
        "answer = []\n",
        "\n",
        "for i in range(120):\n",
        "    pred = []\n",
        "    for s in range(64):\n",
        "        pred.append(csv[i*64+s])\n",
        "    if sum(pred)/len(pred) > 0.58:\n",
        "        answer.append(1)\n",
        "    else:\n",
        "        answer.append(0)\n",
        "\n",
        "len(answer)"
      ]
    },
    {
      "cell_type": "code",
      "execution_count": 120,
      "metadata": {
        "id": "HOLyOFPB9D-z"
      },
      "outputs": [],
      "source": [
        "test_pred = np.array(answer)"
      ]
    },
    {
      "cell_type": "code",
      "execution_count": 121,
      "metadata": {
        "colab": {
          "base_uri": "https://localhost:8080/"
        },
        "id": "Clt_PK6R9H5T",
        "outputId": "aa9d191b-7cb8-4398-ff25-c13683d7ac6f"
      },
      "outputs": [
        {
          "output_type": "execute_result",
          "data": {
            "text/plain": [
              "0.5"
            ]
          },
          "metadata": {},
          "execution_count": 121
        }
      ],
      "source": [
        "test_pred.mean()"
      ]
    },
    {
      "cell_type": "code",
      "execution_count": 122,
      "metadata": {
        "colab": {
          "base_uri": "https://localhost:8080/"
        },
        "id": "o0uF7FKv97WN",
        "outputId": "5aa75732-74ad-4a0a-ba3c-a88fa0f9c4de"
      },
      "outputs": [
        {
          "output_type": "stream",
          "name": "stdout",
          "text": [
            "Drive already mounted at /content/drive; to attempt to forcibly remount, call drive.mount(\"/content/drive\", force_remount=True).\n"
          ]
        }
      ],
      "source": [
        "from google.colab import drive\n",
        "drive.mount('/content/drive')"
      ]
    },
    {
      "cell_type": "code",
      "execution_count": 123,
      "metadata": {
        "id": "EeWPT2DrAdNU"
      },
      "outputs": [],
      "source": [
        "df = pd.DataFrame(answer)"
      ]
    },
    {
      "cell_type": "code",
      "source": [
        "df"
      ],
      "metadata": {
        "colab": {
          "base_uri": "https://localhost:8080/",
          "height": 423
        },
        "id": "JKGIgRBlEpOR",
        "outputId": "a4acb0a2-db9d-4a62-c245-cfdf94cabb80"
      },
      "execution_count": 124,
      "outputs": [
        {
          "output_type": "execute_result",
          "data": {
            "text/plain": [
              "     0\n",
              "0    1\n",
              "1    1\n",
              "2    1\n",
              "3    1\n",
              "4    1\n",
              "..  ..\n",
              "115  0\n",
              "116  0\n",
              "117  0\n",
              "118  0\n",
              "119  0\n",
              "\n",
              "[120 rows x 1 columns]"
            ],
            "text/html": [
              "\n",
              "  <div id=\"df-d5ac88ea-ad01-485a-98e1-c50fcc70cac7\" class=\"colab-df-container\">\n",
              "    <div>\n",
              "<style scoped>\n",
              "    .dataframe tbody tr th:only-of-type {\n",
              "        vertical-align: middle;\n",
              "    }\n",
              "\n",
              "    .dataframe tbody tr th {\n",
              "        vertical-align: top;\n",
              "    }\n",
              "\n",
              "    .dataframe thead th {\n",
              "        text-align: right;\n",
              "    }\n",
              "</style>\n",
              "<table border=\"1\" class=\"dataframe\">\n",
              "  <thead>\n",
              "    <tr style=\"text-align: right;\">\n",
              "      <th></th>\n",
              "      <th>0</th>\n",
              "    </tr>\n",
              "  </thead>\n",
              "  <tbody>\n",
              "    <tr>\n",
              "      <th>0</th>\n",
              "      <td>1</td>\n",
              "    </tr>\n",
              "    <tr>\n",
              "      <th>1</th>\n",
              "      <td>1</td>\n",
              "    </tr>\n",
              "    <tr>\n",
              "      <th>2</th>\n",
              "      <td>1</td>\n",
              "    </tr>\n",
              "    <tr>\n",
              "      <th>3</th>\n",
              "      <td>1</td>\n",
              "    </tr>\n",
              "    <tr>\n",
              "      <th>4</th>\n",
              "      <td>1</td>\n",
              "    </tr>\n",
              "    <tr>\n",
              "      <th>...</th>\n",
              "      <td>...</td>\n",
              "    </tr>\n",
              "    <tr>\n",
              "      <th>115</th>\n",
              "      <td>0</td>\n",
              "    </tr>\n",
              "    <tr>\n",
              "      <th>116</th>\n",
              "      <td>0</td>\n",
              "    </tr>\n",
              "    <tr>\n",
              "      <th>117</th>\n",
              "      <td>0</td>\n",
              "    </tr>\n",
              "    <tr>\n",
              "      <th>118</th>\n",
              "      <td>0</td>\n",
              "    </tr>\n",
              "    <tr>\n",
              "      <th>119</th>\n",
              "      <td>0</td>\n",
              "    </tr>\n",
              "  </tbody>\n",
              "</table>\n",
              "<p>120 rows × 1 columns</p>\n",
              "</div>\n",
              "    <div class=\"colab-df-buttons\">\n",
              "\n",
              "  <div class=\"colab-df-container\">\n",
              "    <button class=\"colab-df-convert\" onclick=\"convertToInteractive('df-d5ac88ea-ad01-485a-98e1-c50fcc70cac7')\"\n",
              "            title=\"Convert this dataframe to an interactive table.\"\n",
              "            style=\"display:none;\">\n",
              "\n",
              "  <svg xmlns=\"http://www.w3.org/2000/svg\" height=\"24px\" viewBox=\"0 -960 960 960\">\n",
              "    <path d=\"M120-120v-720h720v720H120Zm60-500h600v-160H180v160Zm220 220h160v-160H400v160Zm0 220h160v-160H400v160ZM180-400h160v-160H180v160Zm440 0h160v-160H620v160ZM180-180h160v-160H180v160Zm440 0h160v-160H620v160Z\"/>\n",
              "  </svg>\n",
              "    </button>\n",
              "\n",
              "  <style>\n",
              "    .colab-df-container {\n",
              "      display:flex;\n",
              "      gap: 12px;\n",
              "    }\n",
              "\n",
              "    .colab-df-convert {\n",
              "      background-color: #E8F0FE;\n",
              "      border: none;\n",
              "      border-radius: 50%;\n",
              "      cursor: pointer;\n",
              "      display: none;\n",
              "      fill: #1967D2;\n",
              "      height: 32px;\n",
              "      padding: 0 0 0 0;\n",
              "      width: 32px;\n",
              "    }\n",
              "\n",
              "    .colab-df-convert:hover {\n",
              "      background-color: #E2EBFA;\n",
              "      box-shadow: 0px 1px 2px rgba(60, 64, 67, 0.3), 0px 1px 3px 1px rgba(60, 64, 67, 0.15);\n",
              "      fill: #174EA6;\n",
              "    }\n",
              "\n",
              "    .colab-df-buttons div {\n",
              "      margin-bottom: 4px;\n",
              "    }\n",
              "\n",
              "    [theme=dark] .colab-df-convert {\n",
              "      background-color: #3B4455;\n",
              "      fill: #D2E3FC;\n",
              "    }\n",
              "\n",
              "    [theme=dark] .colab-df-convert:hover {\n",
              "      background-color: #434B5C;\n",
              "      box-shadow: 0px 1px 3px 1px rgba(0, 0, 0, 0.15);\n",
              "      filter: drop-shadow(0px 1px 2px rgba(0, 0, 0, 0.3));\n",
              "      fill: #FFFFFF;\n",
              "    }\n",
              "  </style>\n",
              "\n",
              "    <script>\n",
              "      const buttonEl =\n",
              "        document.querySelector('#df-d5ac88ea-ad01-485a-98e1-c50fcc70cac7 button.colab-df-convert');\n",
              "      buttonEl.style.display =\n",
              "        google.colab.kernel.accessAllowed ? 'block' : 'none';\n",
              "\n",
              "      async function convertToInteractive(key) {\n",
              "        const element = document.querySelector('#df-d5ac88ea-ad01-485a-98e1-c50fcc70cac7');\n",
              "        const dataTable =\n",
              "          await google.colab.kernel.invokeFunction('convertToInteractive',\n",
              "                                                    [key], {});\n",
              "        if (!dataTable) return;\n",
              "\n",
              "        const docLinkHtml = 'Like what you see? Visit the ' +\n",
              "          '<a target=\"_blank\" href=https://colab.research.google.com/notebooks/data_table.ipynb>data table notebook</a>'\n",
              "          + ' to learn more about interactive tables.';\n",
              "        element.innerHTML = '';\n",
              "        dataTable['output_type'] = 'display_data';\n",
              "        await google.colab.output.renderOutput(dataTable, element);\n",
              "        const docLink = document.createElement('div');\n",
              "        docLink.innerHTML = docLinkHtml;\n",
              "        element.appendChild(docLink);\n",
              "      }\n",
              "    </script>\n",
              "  </div>\n",
              "\n",
              "\n",
              "<div id=\"df-4ec95b79-2d2a-4e6f-ad2e-ae4562455bfc\">\n",
              "  <button class=\"colab-df-quickchart\" onclick=\"quickchart('df-4ec95b79-2d2a-4e6f-ad2e-ae4562455bfc')\"\n",
              "            title=\"Suggest charts\"\n",
              "            style=\"display:none;\">\n",
              "\n",
              "<svg xmlns=\"http://www.w3.org/2000/svg\" height=\"24px\"viewBox=\"0 0 24 24\"\n",
              "     width=\"24px\">\n",
              "    <g>\n",
              "        <path d=\"M19 3H5c-1.1 0-2 .9-2 2v14c0 1.1.9 2 2 2h14c1.1 0 2-.9 2-2V5c0-1.1-.9-2-2-2zM9 17H7v-7h2v7zm4 0h-2V7h2v10zm4 0h-2v-4h2v4z\"/>\n",
              "    </g>\n",
              "</svg>\n",
              "  </button>\n",
              "\n",
              "<style>\n",
              "  .colab-df-quickchart {\n",
              "      --bg-color: #E8F0FE;\n",
              "      --fill-color: #1967D2;\n",
              "      --hover-bg-color: #E2EBFA;\n",
              "      --hover-fill-color: #174EA6;\n",
              "      --disabled-fill-color: #AAA;\n",
              "      --disabled-bg-color: #DDD;\n",
              "  }\n",
              "\n",
              "  [theme=dark] .colab-df-quickchart {\n",
              "      --bg-color: #3B4455;\n",
              "      --fill-color: #D2E3FC;\n",
              "      --hover-bg-color: #434B5C;\n",
              "      --hover-fill-color: #FFFFFF;\n",
              "      --disabled-bg-color: #3B4455;\n",
              "      --disabled-fill-color: #666;\n",
              "  }\n",
              "\n",
              "  .colab-df-quickchart {\n",
              "    background-color: var(--bg-color);\n",
              "    border: none;\n",
              "    border-radius: 50%;\n",
              "    cursor: pointer;\n",
              "    display: none;\n",
              "    fill: var(--fill-color);\n",
              "    height: 32px;\n",
              "    padding: 0;\n",
              "    width: 32px;\n",
              "  }\n",
              "\n",
              "  .colab-df-quickchart:hover {\n",
              "    background-color: var(--hover-bg-color);\n",
              "    box-shadow: 0 1px 2px rgba(60, 64, 67, 0.3), 0 1px 3px 1px rgba(60, 64, 67, 0.15);\n",
              "    fill: var(--button-hover-fill-color);\n",
              "  }\n",
              "\n",
              "  .colab-df-quickchart-complete:disabled,\n",
              "  .colab-df-quickchart-complete:disabled:hover {\n",
              "    background-color: var(--disabled-bg-color);\n",
              "    fill: var(--disabled-fill-color);\n",
              "    box-shadow: none;\n",
              "  }\n",
              "\n",
              "  .colab-df-spinner {\n",
              "    border: 2px solid var(--fill-color);\n",
              "    border-color: transparent;\n",
              "    border-bottom-color: var(--fill-color);\n",
              "    animation:\n",
              "      spin 1s steps(1) infinite;\n",
              "  }\n",
              "\n",
              "  @keyframes spin {\n",
              "    0% {\n",
              "      border-color: transparent;\n",
              "      border-bottom-color: var(--fill-color);\n",
              "      border-left-color: var(--fill-color);\n",
              "    }\n",
              "    20% {\n",
              "      border-color: transparent;\n",
              "      border-left-color: var(--fill-color);\n",
              "      border-top-color: var(--fill-color);\n",
              "    }\n",
              "    30% {\n",
              "      border-color: transparent;\n",
              "      border-left-color: var(--fill-color);\n",
              "      border-top-color: var(--fill-color);\n",
              "      border-right-color: var(--fill-color);\n",
              "    }\n",
              "    40% {\n",
              "      border-color: transparent;\n",
              "      border-right-color: var(--fill-color);\n",
              "      border-top-color: var(--fill-color);\n",
              "    }\n",
              "    60% {\n",
              "      border-color: transparent;\n",
              "      border-right-color: var(--fill-color);\n",
              "    }\n",
              "    80% {\n",
              "      border-color: transparent;\n",
              "      border-right-color: var(--fill-color);\n",
              "      border-bottom-color: var(--fill-color);\n",
              "    }\n",
              "    90% {\n",
              "      border-color: transparent;\n",
              "      border-bottom-color: var(--fill-color);\n",
              "    }\n",
              "  }\n",
              "</style>\n",
              "\n",
              "  <script>\n",
              "    async function quickchart(key) {\n",
              "      const quickchartButtonEl =\n",
              "        document.querySelector('#' + key + ' button');\n",
              "      quickchartButtonEl.disabled = true;  // To prevent multiple clicks.\n",
              "      quickchartButtonEl.classList.add('colab-df-spinner');\n",
              "      try {\n",
              "        const charts = await google.colab.kernel.invokeFunction(\n",
              "            'suggestCharts', [key], {});\n",
              "      } catch (error) {\n",
              "        console.error('Error during call to suggestCharts:', error);\n",
              "      }\n",
              "      quickchartButtonEl.classList.remove('colab-df-spinner');\n",
              "      quickchartButtonEl.classList.add('colab-df-quickchart-complete');\n",
              "    }\n",
              "    (() => {\n",
              "      let quickchartButtonEl =\n",
              "        document.querySelector('#df-4ec95b79-2d2a-4e6f-ad2e-ae4562455bfc button');\n",
              "      quickchartButtonEl.style.display =\n",
              "        google.colab.kernel.accessAllowed ? 'block' : 'none';\n",
              "    })();\n",
              "  </script>\n",
              "</div>\n",
              "\n",
              "  <div id=\"id_325c898c-9cd7-4a06-afec-5683eff48355\">\n",
              "    <style>\n",
              "      .colab-df-generate {\n",
              "        background-color: #E8F0FE;\n",
              "        border: none;\n",
              "        border-radius: 50%;\n",
              "        cursor: pointer;\n",
              "        display: none;\n",
              "        fill: #1967D2;\n",
              "        height: 32px;\n",
              "        padding: 0 0 0 0;\n",
              "        width: 32px;\n",
              "      }\n",
              "\n",
              "      .colab-df-generate:hover {\n",
              "        background-color: #E2EBFA;\n",
              "        box-shadow: 0px 1px 2px rgba(60, 64, 67, 0.3), 0px 1px 3px 1px rgba(60, 64, 67, 0.15);\n",
              "        fill: #174EA6;\n",
              "      }\n",
              "\n",
              "      [theme=dark] .colab-df-generate {\n",
              "        background-color: #3B4455;\n",
              "        fill: #D2E3FC;\n",
              "      }\n",
              "\n",
              "      [theme=dark] .colab-df-generate:hover {\n",
              "        background-color: #434B5C;\n",
              "        box-shadow: 0px 1px 3px 1px rgba(0, 0, 0, 0.15);\n",
              "        filter: drop-shadow(0px 1px 2px rgba(0, 0, 0, 0.3));\n",
              "        fill: #FFFFFF;\n",
              "      }\n",
              "    </style>\n",
              "    <button class=\"colab-df-generate\" onclick=\"generateWithVariable('df')\"\n",
              "            title=\"Generate code using this dataframe.\"\n",
              "            style=\"display:none;\">\n",
              "\n",
              "  <svg xmlns=\"http://www.w3.org/2000/svg\" height=\"24px\"viewBox=\"0 0 24 24\"\n",
              "       width=\"24px\">\n",
              "    <path d=\"M7,19H8.4L18.45,9,17,7.55,7,17.6ZM5,21V16.75L18.45,3.32a2,2,0,0,1,2.83,0l1.4,1.43a1.91,1.91,0,0,1,.58,1.4,1.91,1.91,0,0,1-.58,1.4L9.25,21ZM18.45,9,17,7.55Zm-12,3A5.31,5.31,0,0,0,4.9,8.1,5.31,5.31,0,0,0,1,6.5,5.31,5.31,0,0,0,4.9,4.9,5.31,5.31,0,0,0,6.5,1,5.31,5.31,0,0,0,8.1,4.9,5.31,5.31,0,0,0,12,6.5,5.46,5.46,0,0,0,6.5,12Z\"/>\n",
              "  </svg>\n",
              "    </button>\n",
              "    <script>\n",
              "      (() => {\n",
              "      const buttonEl =\n",
              "        document.querySelector('#id_325c898c-9cd7-4a06-afec-5683eff48355 button.colab-df-generate');\n",
              "      buttonEl.style.display =\n",
              "        google.colab.kernel.accessAllowed ? 'block' : 'none';\n",
              "\n",
              "      buttonEl.onclick = () => {\n",
              "        google.colab.notebook.generateWithVariable('df');\n",
              "      }\n",
              "      })();\n",
              "    </script>\n",
              "  </div>\n",
              "\n",
              "    </div>\n",
              "  </div>\n"
            ],
            "application/vnd.google.colaboratory.intrinsic+json": {
              "type": "dataframe",
              "variable_name": "df",
              "summary": "{\n  \"name\": \"df\",\n  \"rows\": 120,\n  \"fields\": [\n    {\n      \"column\": 0,\n      \"properties\": {\n        \"dtype\": \"number\",\n        \"std\": 0,\n        \"min\": 0,\n        \"max\": 1,\n        \"num_unique_values\": 2,\n        \"samples\": [\n          0,\n          1\n        ],\n        \"semantic_type\": \"\",\n        \"description\": \"\"\n      }\n    }\n  ]\n}"
            }
          },
          "metadata": {},
          "execution_count": 124
        }
      ]
    },
    {
      "cell_type": "code",
      "execution_count": 125,
      "metadata": {
        "id": "jzhWSNXx9JTV"
      },
      "outputs": [],
      "source": [
        "df.to_csv('submission_14.csv',index = True)"
      ]
    },
    {
      "cell_type": "code",
      "execution_count": null,
      "metadata": {
        "id": "ugBXAb2gcJoW"
      },
      "outputs": [],
      "source": []
    }
  ],
  "metadata": {
    "accelerator": "GPU",
    "colab": {
      "gpuType": "T4",
      "machine_shape": "hm",
      "provenance": []
    },
    "kernelspec": {
      "display_name": "Python 3",
      "name": "python3"
    },
    "language_info": {
      "name": "python"
    }
  },
  "nbformat": 4,
  "nbformat_minor": 0
}
