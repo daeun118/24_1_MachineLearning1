{
  "nbformat": 4,
  "nbformat_minor": 0,
  "metadata": {
    "colab": {
      "provenance": [],
      "machine_shape": "hm",
      "gpuType": "T4"
    },
    "kernelspec": {
      "name": "python3",
      "display_name": "Python 3"
    },
    "language_info": {
      "name": "python"
    },
    "accelerator": "GPU"
  },
  "cells": [
    {
      "cell_type": "code",
      "execution_count": null,
      "metadata": {
        "id": "g-MxpmAJBtUk"
      },
      "outputs": [],
      "source": [
        "import numpy as np\n",
        "import pandas as pd\n",
        "import seaborn as sns\n",
        "import matplotlib.pyplot as plt\n",
        "from sklearn.preprocessing import StandardScaler"
      ]
    },
    {
      "cell_type": "code",
      "source": [
        "data = np.load(\"/content/drive/MyDrive/ml1/train.npy\", allow_pickle=True)\n",
        "data = data.item()\n",
        "data_input = data['input']"
      ],
      "metadata": {
        "id": "Cq0i0C3LBzmH"
      },
      "execution_count": null,
      "outputs": []
    },
    {
      "cell_type": "code",
      "source": [
        "labels = data['label']"
      ],
      "metadata": {
        "id": "3937YE-Q3JYN"
      },
      "execution_count": null,
      "outputs": []
    },
    {
      "cell_type": "code",
      "source": [
        "data_input.shape"
      ],
      "metadata": {
        "colab": {
          "base_uri": "https://localhost:8080/"
        },
        "id": "QH2gCDxUB752",
        "outputId": "07a4ee09-8ea2-4256-b7a5-caaa7aa76149"
      },
      "execution_count": null,
      "outputs": [
        {
          "output_type": "execute_result",
          "data": {
            "text/plain": [
              "(1080, 256, 64, 1)"
            ]
          },
          "metadata": {},
          "execution_count": 16
        }
      ]
    },
    {
      "cell_type": "code",
      "source": [
        "labels"
      ],
      "metadata": {
        "colab": {
          "base_uri": "https://localhost:8080/"
        },
        "id": "c3hc1wNF5fqJ",
        "outputId": "9e1f089a-1134-481f-b872-bd335a47967a"
      },
      "execution_count": null,
      "outputs": [
        {
          "output_type": "execute_result",
          "data": {
            "text/plain": [
              "array([1., 1., 1., ..., 0., 0., 0.])"
            ]
          },
          "metadata": {},
          "execution_count": 17
        }
      ]
    },
    {
      "cell_type": "markdown",
      "source": [
        "# 전처리\n"
      ],
      "metadata": {
        "id": "t8jskAvGx3r6"
      }
    },
    {
      "cell_type": "code",
      "source": [
        "labels = data['label']\n",
        "labels.shape\n",
        "repeated_arr = []\n",
        "for i in range(len(labels)):\n",
        "    repeated_arr.extend(np.full(64, labels[i]))\n",
        "\n",
        "labels_1 = np.array(repeated_arr)\n",
        "labels_1\n",
        "\n",
        "\n",
        "\n"
      ],
      "metadata": {
        "id": "dcI1g_nlDA0d",
        "colab": {
          "base_uri": "https://localhost:8080/"
        },
        "outputId": "4b08e4e1-848d-4025-a95d-35ecaff5f676"
      },
      "execution_count": null,
      "outputs": [
        {
          "output_type": "execute_result",
          "data": {
            "text/plain": [
              "array([1., 1., 1., ..., 0., 0., 0.])"
            ]
          },
          "metadata": {},
          "execution_count": 56
        }
      ]
    },
    {
      "cell_type": "code",
      "source": [
        "labels_1.shape"
      ],
      "metadata": {
        "colab": {
          "base_uri": "https://localhost:8080/"
        },
        "id": "d4mgcaQi5spl",
        "outputId": "8e78637c-0c2f-4b95-9123-cfc71f79a42a"
      },
      "execution_count": null,
      "outputs": [
        {
          "output_type": "execute_result",
          "data": {
            "text/plain": [
              "(69120,)"
            ]
          },
          "metadata": {},
          "execution_count": 19
        }
      ]
    },
    {
      "cell_type": "code",
      "source": [
        "input_T = []\n",
        "for i in range(1080):\n",
        "    data_input_m = data_input[i][:][:].squeeze().T\n",
        "    input_T.append(data_input_m)\n",
        "\n",
        "input_T = np.array(input_T)\n",
        "input_T.shape"
      ],
      "metadata": {
        "id": "xOoCU2EqrCg2",
        "colab": {
          "base_uri": "https://localhost:8080/"
        },
        "outputId": "27038697-6927-4f6a-b368-c7f91d5f7f5d"
      },
      "execution_count": null,
      "outputs": [
        {
          "output_type": "execute_result",
          "data": {
            "text/plain": [
              "(1080, 64, 256)"
            ]
          },
          "metadata": {},
          "execution_count": 20
        }
      ]
    },
    {
      "cell_type": "code",
      "source": [],
      "metadata": {
        "id": "taS1fh7WyZj-"
      },
      "execution_count": null,
      "outputs": []
    },
    {
      "cell_type": "code",
      "source": [
        "data_input_0 = input_T.reshape(1080*64,256)\n",
        "df = pd.DataFrame(data_input_0)\n",
        "data_input_0.shape"
      ],
      "metadata": {
        "colab": {
          "base_uri": "https://localhost:8080/"
        },
        "id": "qb4xm9oq2vem",
        "outputId": "62569198-caf0-41fa-c742-aeb639338391"
      },
      "execution_count": null,
      "outputs": [
        {
          "output_type": "execute_result",
          "data": {
            "text/plain": [
              "(69120, 256)"
            ]
          },
          "metadata": {},
          "execution_count": 97
        }
      ]
    },
    {
      "cell_type": "code",
      "source": [
        "69120-66270"
      ],
      "metadata": {
        "colab": {
          "base_uri": "https://localhost:8080/"
        },
        "id": "jTHX37e37GSL",
        "outputId": "a89fc4b1-afe7-45d7-ee51-2a14cf6eaa5c"
      },
      "execution_count": null,
      "outputs": [
        {
          "output_type": "execute_result",
          "data": {
            "text/plain": [
              "2850"
            ]
          },
          "metadata": {},
          "execution_count": 80
        }
      ]
    },
    {
      "cell_type": "code",
      "source": [
        "import pandas as pd\n",
        "\n",
        "\n",
        "\n",
        "# IQR 계산\n",
        "q1 = df[0].quantile(0.25)\n",
        "q3 = df[0].quantile(0.75)\n",
        "iqr = q3 - q1\n",
        "\n",
        "# 이상치 범위 설정\n",
        "lower_bound = q1 - 1.5 * iqr\n",
        "upper_bound = q3 + 1.5 * iqr\n",
        "\n",
        "# 이상치 찾기\n",
        "outliers = df[(df[0] <= lower_bound) | (df[0] >= upper_bound)]\n",
        "\n",
        "\n",
        "\n",
        "\n",
        "\n",
        "\n",
        "row_index = outliers.index.tolist()"
      ],
      "metadata": {
        "id": "Jv1fOycWy8kS"
      },
      "execution_count": null,
      "outputs": []
    },
    {
      "cell_type": "code",
      "source": [
        "max(row_index)"
      ],
      "metadata": {
        "colab": {
          "base_uri": "https://localhost:8080/"
        },
        "id": "xG0OnkQM6O1q",
        "outputId": "f1607ac3-19d6-402f-bd19-e17a6447a57d"
      },
      "execution_count": null,
      "outputs": [
        {
          "output_type": "execute_result",
          "data": {
            "text/plain": [
              "69069"
            ]
          },
          "metadata": {},
          "execution_count": 85
        }
      ]
    },
    {
      "cell_type": "code",
      "source": [
        "len(row_index)"
      ],
      "metadata": {
        "colab": {
          "base_uri": "https://localhost:8080/"
        },
        "id": "peSPwnV-2Xap",
        "outputId": "8df4727b-0e34-47af-a945-aa9539d760c1"
      },
      "execution_count": null,
      "outputs": [
        {
          "output_type": "execute_result",
          "data": {
            "text/plain": [
              "2939"
            ]
          },
          "metadata": {},
          "execution_count": 86
        }
      ]
    },
    {
      "cell_type": "code",
      "source": [
        "data_input_list = list(data_input_0)\n",
        "label_list = list(labels_1)"
      ],
      "metadata": {
        "id": "jClPcBJf6Dys"
      },
      "execution_count": null,
      "outputs": []
    },
    {
      "cell_type": "code",
      "source": [
        "print(len(data_input_list),len(label_list))"
      ],
      "metadata": {
        "colab": {
          "base_uri": "https://localhost:8080/"
        },
        "id": "EpXwqsFP65sa",
        "outputId": "a361ef77-649c-4aee-b6f6-738dd91e95a5"
      },
      "execution_count": null,
      "outputs": [
        {
          "output_type": "stream",
          "name": "stdout",
          "text": [
            "66181 66181\n"
          ]
        }
      ]
    },
    {
      "cell_type": "code",
      "source": [
        "for i in reversed(row_index):\n",
        "    data_input_list.pop(i)\n",
        "    label_list.pop(i)"
      ],
      "metadata": {
        "id": "6ilNBME30yKh"
      },
      "execution_count": null,
      "outputs": []
    },
    {
      "cell_type": "code",
      "source": [
        "data_input_cut = np.array(data_input_list)\n",
        "labels_cut = np.array(label_list)"
      ],
      "metadata": {
        "id": "dSgnxVQb5QiT"
      },
      "execution_count": null,
      "outputs": []
    },
    {
      "cell_type": "markdown",
      "source": [
        "정규화\n"
      ],
      "metadata": {
        "id": "taBxCZdLyLUz"
      }
    },
    {
      "cell_type": "code",
      "source": [
        "sclaer = StandardScaler()\n",
        "\n",
        "data_input_1 = sclaer.fit_transform(data_input_0)"
      ],
      "metadata": {
        "id": "qheKR_IPtI8R"
      },
      "execution_count": null,
      "outputs": []
    },
    {
      "cell_type": "code",
      "source": [
        "labels_1.mean()"
      ],
      "metadata": {
        "colab": {
          "base_uri": "https://localhost:8080/"
        },
        "id": "S7efTY845UB_",
        "outputId": "889ee12f-9acd-480d-dfe1-be37862aac5f"
      },
      "execution_count": null,
      "outputs": [
        {
          "output_type": "execute_result",
          "data": {
            "text/plain": [
              "0.5"
            ]
          },
          "metadata": {},
          "execution_count": 11
        }
      ]
    },
    {
      "cell_type": "code",
      "source": [
        "plt.boxplot(data_input_1)\n",
        "\n",
        "plt.show()"
      ],
      "metadata": {
        "id": "iM7TvNdwx7uG"
      },
      "execution_count": null,
      "outputs": []
    },
    {
      "cell_type": "code",
      "source": [
        "labels_cut.mean()"
      ],
      "metadata": {
        "colab": {
          "base_uri": "https://localhost:8080/"
        },
        "id": "boL3pFZ8JOTv",
        "outputId": "832bcb78-19fb-4954-a31d-fd11a85b22af"
      },
      "execution_count": null,
      "outputs": [
        {
          "output_type": "execute_result",
          "data": {
            "text/plain": [
              "0.5039815052658618"
            ]
          },
          "metadata": {},
          "execution_count": 116
        }
      ]
    },
    {
      "cell_type": "markdown",
      "source": [
        "----\n"
      ],
      "metadata": {
        "id": "66rE_m5oxP6O"
      }
    },
    {
      "cell_type": "markdown",
      "source": [
        "----"
      ],
      "metadata": {
        "id": "WUgyIZs4xP3Z"
      }
    },
    {
      "cell_type": "markdown",
      "source": [
        "-----"
      ],
      "metadata": {
        "id": "-bGqY4aAxP0W"
      }
    },
    {
      "cell_type": "markdown",
      "source": [
        "----"
      ],
      "metadata": {
        "id": "lmfkxV2gxPxp"
      }
    },
    {
      "cell_type": "markdown",
      "source": [
        "----"
      ],
      "metadata": {
        "id": "nlXY4lI3xPvB"
      }
    },
    {
      "cell_type": "markdown",
      "source": [
        "----"
      ],
      "metadata": {
        "id": "gOo3OnVxxPnM"
      }
    },
    {
      "cell_type": "markdown",
      "source": [
        "----"
      ],
      "metadata": {
        "id": "D2eBmtpOxPkW"
      }
    },
    {
      "cell_type": "markdown",
      "source": [
        "# 학습\n"
      ],
      "metadata": {
        "id": "2YNvyrUNxoM-"
      }
    },
    {
      "cell_type": "code",
      "source": [
        "X = data_input_cut\n",
        "y = labels_cut"
      ],
      "metadata": {
        "id": "q9oAP4HD88AA"
      },
      "execution_count": null,
      "outputs": []
    },
    {
      "cell_type": "code",
      "source": [
        "from sklearn.ensemble import GradientBoostingClassifier\n",
        "from sklearn.metrics import accuracy_score\n",
        "\n",
        "# 그래디언트 부스팅 모델 초기화 및 설정\n",
        "gb_model = GradientBoostingClassifier(n_estimators=300, learning_rate=0.03, max_depth=9, subsample=0.7, min_samples_leaf=3, random_state=0)\n",
        "\n",
        "\n",
        "\n",
        "\n",
        "\n",
        "# 모델 학습\n",
        "gb_model.fit(X, y)\n",
        "\n",
        "# 테스트 데이터에 대한 예측\n",
        "\n",
        "y2_train_hat = gb_model.predict(X)\n",
        "\n",
        "# 정확도 평가\n",
        "\n",
        "\n",
        "train_accuracy = accuracy_score(y, y2_train_hat)\n",
        "print(\"train 데이터 정확도:\", train_accuracy )\n",
        "\n"
      ],
      "metadata": {
        "colab": {
          "base_uri": "https://localhost:8080/"
        },
        "id": "nIbdwbKU86FX",
        "outputId": "ab9e24b3-9f46-438a-b673-5bb29a54efff"
      },
      "execution_count": null,
      "outputs": [
        {
          "output_type": "stream",
          "name": "stdout",
          "text": [
            "train 데이터 정확도: 0.9788307822486817\n"
          ]
        }
      ]
    },
    {
      "cell_type": "code",
      "source": [
        "# 라이브러리 설치\n",
        "import numpy as np\n",
        "import pandas as pd\n",
        "from sklearn.ensemble import RandomForestClassifier\n",
        "from sklearn.model_selection import train_test_split\n",
        "from sklearn.metrics import accuracy_score\n",
        "\n",
        "# 데이터 준비\n",
        "\n",
        "X = data_input_cut\n",
        "y = labels_cut\n",
        "\n",
        "\n",
        "\n",
        "\n",
        "\n",
        "# 모델 생성\n",
        "model = RandomForestClassifier(n_estimators=100)\n",
        "\n",
        "# 모델 학습\n",
        "model.fit(X, y)\n",
        "\n",
        "# 모델 평가\n"
      ],
      "metadata": {
        "colab": {
          "base_uri": "https://localhost:8080/"
        },
        "id": "uc-h6GTmrp5V",
        "outputId": "b5be9ab2-97bf-4add-a84c-f500ee204677"
      },
      "execution_count": null,
      "outputs": [
        {
          "output_type": "stream",
          "name": "stdout",
          "text": [
            "Accuracy: 0.9999565972222222\n"
          ]
        },
        {
          "output_type": "execute_result",
          "data": {
            "text/plain": [
              "array([1., 1., 1., ..., 0., 0., 0.])"
            ]
          },
          "metadata": {},
          "execution_count": 22
        }
      ]
    },
    {
      "cell_type": "code",
      "source": [
        "answer_0 = []\n",
        "\n",
        "for i in range(120):\n",
        "    pred_0 = []\n",
        "    for s in range(64):\n",
        "        pred_0.append(y_pred_0[i*64+s])\n",
        "    if sum(pred_0)/len(pred_0) > 0.5:\n",
        "        answer_0.append(1)\n",
        "    else:\n",
        "        answer_0.append(0)\n",
        "\n",
        "len(answer_0)\n",
        "\n",
        "y_test_120 = []\n",
        "for i in range(120):\n",
        "    y_test_0 = []\n",
        "    for s in range(64):\n",
        "        y_test_0.append(y_test[i*64+s])\n",
        "    if sum(y_test_0)/len(y_test_0) > 0.5:\n",
        "        y_test_120.append(1)\n",
        "    else:\n",
        "        y_test_120.append(0)\n"
      ],
      "metadata": {
        "id": "nCGpENvG7lcA"
      },
      "execution_count": null,
      "outputs": []
    },
    {
      "cell_type": "markdown",
      "source": [
        "----\n"
      ],
      "metadata": {
        "id": "rWFUEnKfxZbs"
      }
    },
    {
      "cell_type": "markdown",
      "source": [
        "----"
      ],
      "metadata": {
        "id": "PonKrk9bxseZ"
      }
    },
    {
      "cell_type": "markdown",
      "source": [
        "----"
      ],
      "metadata": {
        "id": "WCWzn0w4xsbt"
      }
    },
    {
      "cell_type": "markdown",
      "source": [
        "----"
      ],
      "metadata": {
        "id": "cQ_V8upixsVj"
      }
    },
    {
      "cell_type": "markdown",
      "source": [
        "#*TEST 파일 load 및 csv export*#\n"
      ],
      "metadata": {
        "id": "MBWI_T5bxaUT"
      }
    },
    {
      "cell_type": "code",
      "source": [
        "data_test = np.load(\"/content/drive/MyDrive/ml1/test.npy\", allow_pickle=True)\n",
        "data_test = data_test.item()\n",
        "data_input_test = data_test['input']"
      ],
      "metadata": {
        "id": "YlWTqe8BvA_R"
      },
      "execution_count": null,
      "outputs": []
    },
    {
      "cell_type": "code",
      "source": [
        "input_test_T = []\n",
        "for i in range(120):\n",
        "    data_input_m = data_input_test[i][:][:].squeeze().T\n",
        "    input_test_T.append(data_input_m)\n",
        "\n",
        "input_test_T = np.array(input_test_T)\n",
        "input_test_T.shape"
      ],
      "metadata": {
        "id": "QyebGRYx33pp",
        "colab": {
          "base_uri": "https://localhost:8080/"
        },
        "outputId": "2fc47ff9-7390-4f19-954f-df8cf03c406e"
      },
      "execution_count": null,
      "outputs": [
        {
          "output_type": "execute_result",
          "data": {
            "text/plain": [
              "(120, 64, 256)"
            ]
          },
          "metadata": {},
          "execution_count": 106
        }
      ]
    },
    {
      "cell_type": "code",
      "source": [
        "data_input_0_test = data_input_test.reshape(120*64,256)\n",
        "data_input_1_test = sclaer.fit_transform(data_input_0_test)"
      ],
      "metadata": {
        "id": "vPdSGTeh3754"
      },
      "execution_count": null,
      "outputs": []
    },
    {
      "cell_type": "code",
      "source": [
        "data_input_1_test.shape"
      ],
      "metadata": {
        "colab": {
          "base_uri": "https://localhost:8080/"
        },
        "id": "UGD63dJ-4DL_",
        "outputId": "3f978b36-3eb7-46a7-cda9-c784d9a1c026"
      },
      "execution_count": null,
      "outputs": [
        {
          "output_type": "execute_result",
          "data": {
            "text/plain": [
              "(7680, 256)"
            ]
          },
          "metadata": {},
          "execution_count": 117
        }
      ]
    },
    {
      "cell_type": "code",
      "source": [
        "y_pred = gb_model.predict(data_input_0_test)"
      ],
      "metadata": {
        "id": "GNdLJk314VGF"
      },
      "execution_count": null,
      "outputs": []
    },
    {
      "cell_type": "code",
      "source": [
        "y_pred"
      ],
      "metadata": {
        "colab": {
          "base_uri": "https://localhost:8080/"
        },
        "id": "6-2nTMx24cyP",
        "outputId": "42169902-e561-4f18-d2e1-702051810940"
      },
      "execution_count": null,
      "outputs": [
        {
          "output_type": "execute_result",
          "data": {
            "text/plain": [
              "array([1., 1., 1., ..., 1., 1., 0.])"
            ]
          },
          "metadata": {},
          "execution_count": 130
        }
      ]
    },
    {
      "cell_type": "code",
      "source": [
        "y_pred.mean()"
      ],
      "metadata": {
        "colab": {
          "base_uri": "https://localhost:8080/"
        },
        "id": "rLFbrOS0KCZU",
        "outputId": "6dd3f179-1425-4090-a4ad-07591f1cdf06"
      },
      "execution_count": null,
      "outputs": [
        {
          "output_type": "execute_result",
          "data": {
            "text/plain": [
              "0.823828125"
            ]
          },
          "metadata": {},
          "execution_count": 131
        }
      ]
    },
    {
      "cell_type": "code",
      "source": [
        "csv = list(y_pred)"
      ],
      "metadata": {
        "id": "nn4j7Hfh4d11"
      },
      "execution_count": null,
      "outputs": []
    },
    {
      "cell_type": "code",
      "source": [],
      "metadata": {
        "colab": {
          "base_uri": "https://localhost:8080/"
        },
        "id": "Jds_2P8xI-rd",
        "outputId": "8b4e19ff-da19-4d89-e3f2-b3df4c63a028"
      },
      "execution_count": null,
      "outputs": [
        {
          "output_type": "execute_result",
          "data": {
            "text/plain": [
              "array([1., 1., 1., ..., 0., 0., 0.])"
            ]
          },
          "metadata": {},
          "execution_count": 111
        }
      ]
    },
    {
      "cell_type": "code",
      "source": [
        "len(csv)"
      ],
      "metadata": {
        "colab": {
          "base_uri": "https://localhost:8080/"
        },
        "id": "11rqnS1K4o9h",
        "outputId": "94fbb2f4-365c-41d9-d476-061d9fafb33d"
      },
      "execution_count": null,
      "outputs": [
        {
          "output_type": "execute_result",
          "data": {
            "text/plain": [
              "7680"
            ]
          },
          "metadata": {},
          "execution_count": 134
        }
      ]
    },
    {
      "cell_type": "code",
      "source": [
        "answer = []\n",
        "\n",
        "for i in range(120):\n",
        "    pred = []\n",
        "    for s in range(64):\n",
        "        pred.append(csv[i*64+s])\n",
        "    if sum(pred)/len(pred) > 0.5:\n",
        "        answer.append(1)\n",
        "    else:\n",
        "        answer.append(0)\n",
        "\n",
        "len(answer)"
      ],
      "metadata": {
        "colab": {
          "base_uri": "https://localhost:8080/"
        },
        "id": "mAKjjH-X4qAM",
        "outputId": "2b855267-079d-4266-bc49-06c153eb3a39"
      },
      "execution_count": null,
      "outputs": [
        {
          "output_type": "execute_result",
          "data": {
            "text/plain": [
              "120"
            ]
          },
          "metadata": {},
          "execution_count": 135
        }
      ]
    },
    {
      "cell_type": "code",
      "source": [
        "test_pred = np.array(answer)"
      ],
      "metadata": {
        "id": "HOLyOFPB9D-z"
      },
      "execution_count": null,
      "outputs": []
    },
    {
      "cell_type": "code",
      "source": [
        "test_pred"
      ],
      "metadata": {
        "colab": {
          "base_uri": "https://localhost:8080/"
        },
        "id": "Clt_PK6R9H5T",
        "outputId": "bbcfc6eb-f4fd-4dcb-cb95-7b4015060189"
      },
      "execution_count": null,
      "outputs": [
        {
          "output_type": "execute_result",
          "data": {
            "text/plain": [
              "array([1, 1, 1, 1, 1, 1, 1, 1, 1, 1, 1, 1, 1, 1, 1, 1, 1, 1, 1, 1, 1, 1,\n",
              "       1, 1, 1, 1, 1, 1, 1, 1, 1, 1, 1, 1, 1, 1, 1, 1, 1, 1, 1, 1, 1, 1,\n",
              "       1, 1, 1, 1, 1, 1, 1, 1, 1, 1, 1, 1, 1, 1, 1, 1, 1, 1, 1, 1, 1, 1,\n",
              "       1, 1, 1, 1, 1, 1, 1, 1, 1, 1, 1, 1, 1, 1, 1, 1, 1, 1, 1, 1, 1, 1,\n",
              "       1, 1, 1, 1, 1, 1, 1, 1, 1, 1, 1, 1, 1, 1, 1, 1, 1, 1, 1, 1, 0, 1,\n",
              "       1, 1, 1, 1, 1, 1, 1, 1, 1, 0])"
            ]
          },
          "metadata": {},
          "execution_count": 137
        }
      ]
    },
    {
      "cell_type": "code",
      "source": [
        "from google.colab import drive\n",
        "drive.mount('/content/drive')"
      ],
      "metadata": {
        "colab": {
          "base_uri": "https://localhost:8080/"
        },
        "id": "o0uF7FKv97WN",
        "outputId": "f7cf052d-fbe1-467b-aa8c-43497dd92a94"
      },
      "execution_count": null,
      "outputs": [
        {
          "output_type": "stream",
          "name": "stdout",
          "text": [
            "Drive already mounted at /content/drive; to attempt to forcibly remount, call drive.mount(\"/content/drive\", force_remount=True).\n"
          ]
        }
      ]
    },
    {
      "cell_type": "code",
      "source": [
        "df = pd.DataFrame(answer)"
      ],
      "metadata": {
        "id": "EeWPT2DrAdNU"
      },
      "execution_count": null,
      "outputs": []
    },
    {
      "cell_type": "code",
      "source": [
        "df.to_csv('submission_11.csv',index = True)"
      ],
      "metadata": {
        "id": "jzhWSNXx9JTV"
      },
      "execution_count": null,
      "outputs": []
    },
    {
      "cell_type": "code",
      "source": [],
      "metadata": {
        "id": "ugBXAb2gcJoW"
      },
      "execution_count": null,
      "outputs": []
    }
  ]
}
