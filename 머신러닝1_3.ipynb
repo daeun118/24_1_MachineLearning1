{
  "nbformat": 4,
  "nbformat_minor": 0,
  "metadata": {
    "colab": {
      "provenance": [],
      "authorship_tag": "ABX9TyP8mPnf8SWjgu8PqJbwJPU+",
      "include_colab_link": true
    },
    "kernelspec": {
      "name": "python3",
      "display_name": "Python 3"
    },
    "language_info": {
      "name": "python"
    }
  },
  "cells": [
    {
      "cell_type": "markdown",
      "metadata": {
        "id": "view-in-github",
        "colab_type": "text"
      },
      "source": [
        "<a href=\"https://colab.research.google.com/github/daeun118/MachineLearning1/blob/main/%EB%A8%B8%EC%8B%A0%EB%9F%AC%EB%8B%9D1_3.ipynb\" target=\"_parent\"><img src=\"https://colab.research.google.com/assets/colab-badge.svg\" alt=\"Open In Colab\"/></a>"
      ]
    },
    {
      "cell_type": "markdown",
      "source": [
        "랜덤포레스트로 피쳐 중요도 확인 후 피쳐 삭제->svm사용하여 모델 구축"
      ],
      "metadata": {
        "id": "f2vt-HdkLn_5"
      }
    },
    {
      "cell_type": "code",
      "execution_count": 1,
      "metadata": {
        "id": "j50WqrPBDEFv"
      },
      "outputs": [],
      "source": [
        "import pandas as pd\n",
        "import numpy as np\n",
        "import seaborn as sns\n",
        "import matplotlib.pyplot as plt\n",
        "from sklearn.preprocessing import StandardScaler"
      ]
    },
    {
      "cell_type": "code",
      "source": [
        "from google.colab import drive\n",
        "drive.mount('/content/drive')"
      ],
      "metadata": {
        "colab": {
          "base_uri": "https://localhost:8080/"
        },
        "id": "OY628oTZDQpY",
        "outputId": "6f6a3e2d-75ec-41ce-94c9-e6b15477ba6b"
      },
      "execution_count": 2,
      "outputs": [
        {
          "output_type": "stream",
          "name": "stdout",
          "text": [
            "Mounted at /content/drive\n"
          ]
        }
      ]
    },
    {
      "cell_type": "code",
      "source": [
        "data=np.load('/content/drive/MyDrive/train.npy', allow_pickle='TRUE')\n",
        "data=data.item()\n",
        "input_data = data['input']\n",
        "input_data"
      ],
      "metadata": {
        "id": "es5T2QlTDY7H",
        "colab": {
          "base_uri": "https://localhost:8080/"
        },
        "outputId": "8138cb0f-be61-4c4a-da9f-aaf1ae6cff1b"
      },
      "execution_count": 3,
      "outputs": [
        {
          "output_type": "execute_result",
          "data": {
            "text/plain": [
              "array([[[[-2.8890e+00],\n",
              "         [-7.9550e+00],\n",
              "         [-1.6170e+00],\n",
              "         ...,\n",
              "         [ 1.9430e+00],\n",
              "         [-3.0920e+00],\n",
              "         [-1.7090e+00]],\n",
              "\n",
              "        [[-3.3770e+00],\n",
              "         [-8.9310e+00],\n",
              "         [-1.6170e+00],\n",
              "         ...,\n",
              "         [ 2.9200e+00],\n",
              "         [-3.0920e+00],\n",
              "         [ 2.4400e-01]],\n",
              "\n",
              "        [[-3.3770e+00],\n",
              "         [-8.9310e+00],\n",
              "         [-1.5300e-01],\n",
              "         ...,\n",
              "         [ 3.4080e+00],\n",
              "         [-3.0920e+00],\n",
              "         [ 2.1970e+00]],\n",
              "\n",
              "        ...,\n",
              "\n",
              "        [[ 5.9000e+00],\n",
              "         [ 3.7640e+00],\n",
              "         [-8.9420e+00],\n",
              "         ...,\n",
              "         [-1.0000e-02],\n",
              "         [ 5.2080e+00],\n",
              "         [-1.9775e+01]],\n",
              "\n",
              "        [[ 5.4120e+00],\n",
              "         [ 3.2760e+00],\n",
              "         [-1.0895e+01],\n",
              "         ...,\n",
              "         [-1.0000e-02],\n",
              "         [ 5.2080e+00],\n",
              "         [-2.1240e+01]],\n",
              "\n",
              "        [[ 5.9000e+00],\n",
              "         [ 2.7870e+00],\n",
              "         [-1.1383e+01],\n",
              "         ...,\n",
              "         [-1.0000e-02],\n",
              "         [ 5.6970e+00],\n",
              "         [-2.2217e+01]]],\n",
              "\n",
              "\n",
              "       [[[-3.8660e+00],\n",
              "         [-4.8220e+00],\n",
              "         [-7.7210e+00],\n",
              "         ...,\n",
              "         [-5.0900e-01],\n",
              "         [-4.2010e+00],\n",
              "         [-1.1090e+00]],\n",
              "\n",
              "        [[-4.8420e+00],\n",
              "         [-5.7980e+00],\n",
              "         [-1.0162e+01],\n",
              "         ...,\n",
              "         [-1.4850e+00],\n",
              "         [-4.6900e+00],\n",
              "         [-1.5970e+00]],\n",
              "\n",
              "        [[-6.7950e+00],\n",
              "         [-7.2630e+00],\n",
              "         [-1.1627e+01],\n",
              "         ...,\n",
              "         [-1.9730e+00],\n",
              "         [-6.1540e+00],\n",
              "         [-2.5740e+00]],\n",
              "\n",
              "        ...,\n",
              "\n",
              "        [[-4.6834e+01],\n",
              "         [-2.5330e+01],\n",
              "         [-3.5065e+01],\n",
              "         ...,\n",
              "         [ 1.9330e+00],\n",
              "         [-4.5705e+01],\n",
              "         [-3.5500e+00]],\n",
              "\n",
              "        [[-4.8787e+01],\n",
              "         [-2.8259e+01],\n",
              "         [-3.5065e+01],\n",
              "         ...,\n",
              "         [ 2.4210e+00],\n",
              "         [-4.8147e+01],\n",
              "         [-3.0620e+00]],\n",
              "\n",
              "        [[-5.0741e+01],\n",
              "         [-3.0212e+01],\n",
              "         [-3.5065e+01],\n",
              "         ...,\n",
              "         [ 2.9090e+00],\n",
              "         [-4.9611e+01],\n",
              "         [-3.5500e+00]]],\n",
              "\n",
              "\n",
              "       [[[-1.1600e+00],\n",
              "         [-8.8400e+00],\n",
              "         [-1.3330e+00],\n",
              "         ...,\n",
              "         [ 8.7500e-01],\n",
              "         [-7.8300e-01],\n",
              "         [ 2.6250e+00]],\n",
              "\n",
              "        [[-4.5780e+00],\n",
              "         [-1.0305e+01],\n",
              "         [-4.7510e+00],\n",
              "         ...,\n",
              "         [ 8.7500e-01],\n",
              "         [-4.6900e+00],\n",
              "         [-3.0500e-01]],\n",
              "\n",
              "        [[-6.5310e+00],\n",
              "         [-9.3280e+00],\n",
              "         [-6.7040e+00],\n",
              "         ...,\n",
              "         [-1.0200e-01],\n",
              "         [-6.6430e+00],\n",
              "         [-2.2580e+00]],\n",
              "\n",
              "        ...,\n",
              "\n",
              "        [[ 1.6418e+01],\n",
              "         [ 1.3133e+01],\n",
              "         [ 3.0620e+00],\n",
              "         ...,\n",
              "         [-4.4960e+00],\n",
              "         [ 1.6795e+01],\n",
              "         [ 1.0437e+01]],\n",
              "\n",
              "        [[ 1.5442e+01],\n",
              "         [ 1.2644e+01],\n",
              "         [ 1.3200e-01],\n",
              "         ...,\n",
              "         [-4.0080e+00],\n",
              "         [ 1.5330e+01],\n",
              "         [ 8.9720e+00]],\n",
              "\n",
              "        [[ 1.5442e+01],\n",
              "         [ 1.1180e+01],\n",
              "         [-8.4400e-01],\n",
              "         ...,\n",
              "         [-3.5200e+00],\n",
              "         [ 1.4842e+01],\n",
              "         [ 9.4600e+00]]],\n",
              "\n",
              "\n",
              "       ...,\n",
              "\n",
              "\n",
              "       [[[-1.4950e+00],\n",
              "         [-3.0110e+00],\n",
              "         [-9.0500e-01],\n",
              "         ...,\n",
              "         [-1.5060e+00],\n",
              "         [ 8.2300e+00],\n",
              "         [ 4.9030e+00]],\n",
              "\n",
              "        [[ 9.4600e-01],\n",
              "         [ 3.3370e+00],\n",
              "         [-4.1700e-01],\n",
              "         ...,\n",
              "         [-1.5060e+00],\n",
              "         [ 4.8120e+00],\n",
              "         [ 7.8330e+00]],\n",
              "\n",
              "        [[ 4.8520e+00],\n",
              "         [ 1.0173e+01],\n",
              "         [ 2.5130e+00],\n",
              "         ...,\n",
              "         [-1.5060e+00],\n",
              "         [ 1.8820e+00],\n",
              "         [ 1.1739e+01]],\n",
              "\n",
              "        ...,\n",
              "\n",
              "        [[-1.1749e+01],\n",
              "         [ 3.3370e+00],\n",
              "         [-1.2136e+01],\n",
              "         ...,\n",
              "         [-1.9940e+00],\n",
              "         [-1.5360e+00],\n",
              "         [-8.7690e+00]],\n",
              "\n",
              "        [[-1.0284e+01],\n",
              "         [ 6.7550e+00],\n",
              "         [-1.0671e+01],\n",
              "         ...,\n",
              "         [-1.5060e+00],\n",
              "         [-4.4660e+00],\n",
              "         [-6.3270e+00]],\n",
              "\n",
              "        [[-1.2238e+01],\n",
              "         [ 6.2660e+00],\n",
              "         [-1.0671e+01],\n",
              "         ...,\n",
              "         [-5.2900e-01],\n",
              "         [-6.4190e+00],\n",
              "         [-5.8390e+00]]],\n",
              "\n",
              "\n",
              "       [[[ 5.0860e+00],\n",
              "         [ 5.5540e+00],\n",
              "         [-2.8890e+00],\n",
              "         ...,\n",
              "         [-2.3400e-01],\n",
              "         [ 3.4990e+00],\n",
              "         [ 3.4590e+00]],\n",
              "\n",
              "        [[ 7.0390e+00],\n",
              "         [ 7.0190e+00],\n",
              "         [ 4.9240e+00],\n",
              "         ...,\n",
              "         [ 2.5400e-01],\n",
              "         [ 3.9880e+00],\n",
              "         [ 7.3650e+00]],\n",
              "\n",
              "        [[ 8.9930e+00],\n",
              "         [ 1.0925e+01],\n",
              "         [ 1.4689e+01],\n",
              "         ...,\n",
              "         [ 2.5400e-01],\n",
              "         [ 4.9640e+00],\n",
              "         [ 1.0783e+01]],\n",
              "\n",
              "        ...,\n",
              "\n",
              "        [[-1.0050e+01],\n",
              "         [-6.1650e+00],\n",
              "         [-6.3070e+00],\n",
              "         ...,\n",
              "         [-7.5580e+00],\n",
              "         [-1.2614e+01],\n",
              "         [-2.0955e+01]],\n",
              "\n",
              "        [[-8.0970e+00],\n",
              "         [-2.7470e+00],\n",
              "         [-7.2840e+00],\n",
              "         ...,\n",
              "         [-7.0700e+00],\n",
              "         [-1.0661e+01],\n",
              "         [-1.9979e+01]],\n",
              "\n",
              "        [[-4.1910e+00],\n",
              "         [-2.7470e+00],\n",
              "         [-4.8420e+00],\n",
              "         ...,\n",
              "         [-6.5820e+00],\n",
              "         [-1.0173e+01],\n",
              "         [-1.6561e+01]]],\n",
              "\n",
              "\n",
              "       [[[ 1.6480e+00],\n",
              "         [-1.9630e+00],\n",
              "         [ 1.8210e+00],\n",
              "         ...,\n",
              "         [ 1.8010e+00],\n",
              "         [ 3.7030e+00],\n",
              "         [-4.8800e-01]],\n",
              "\n",
              "        [[-7.9300e-01],\n",
              "         [-1.9630e+00],\n",
              "         [ 1.8210e+00],\n",
              "         ...,\n",
              "         [ 1.8010e+00],\n",
              "         [ 6.6320e+00],\n",
              "         [-1.9530e+00]],\n",
              "\n",
              "        [[-2.2580e+00],\n",
              "         [-9.8700e-01],\n",
              "         [ 1.8210e+00],\n",
              "         ...,\n",
              "         [ 2.2890e+00],\n",
              "         [ 7.6090e+00],\n",
              "         [-3.4180e+00]],\n",
              "\n",
              "        ...,\n",
              "\n",
              "        [[ 1.4343e+01],\n",
              "         [ 2.1474e+01],\n",
              "         [ 1.1587e+01],\n",
              "         ...,\n",
              "         [-5.0350e+00],\n",
              "         [-3.4871e+01],\n",
              "         [-1.9530e+00]],\n",
              "\n",
              "        [[ 1.4343e+01],\n",
              "         [ 2.1474e+01],\n",
              "         [ 1.2563e+01],\n",
              "         ...,\n",
              "         [-5.5240e+00],\n",
              "         [-3.5360e+01],\n",
              "         [-9.7700e-01]],\n",
              "\n",
              "        [[ 1.3855e+01],\n",
              "         [ 2.0498e+01],\n",
              "         [ 1.1098e+01],\n",
              "         ...,\n",
              "         [-5.5240e+00],\n",
              "         [-3.4383e+01],\n",
              "         [-4.8800e-01]]]])"
            ]
          },
          "metadata": {},
          "execution_count": 3
        }
      ]
    },
    {
      "cell_type": "code",
      "source": [
        "labels = data['label']\n",
        "labels.shape"
      ],
      "metadata": {
        "colab": {
          "base_uri": "https://localhost:8080/"
        },
        "id": "Jz7FT9COEXUa",
        "outputId": "38266d6e-dcfd-46e4-937d-22b7472c2133"
      },
      "execution_count": 4,
      "outputs": [
        {
          "output_type": "execute_result",
          "data": {
            "text/plain": [
              "(1080,)"
            ]
          },
          "metadata": {},
          "execution_count": 4
        }
      ]
    },
    {
      "cell_type": "code",
      "source": [
        "# label 데이터 확장\n",
        "\n",
        "labels = data['label']\n",
        "labels.shape\n",
        "repeated_arr = []\n",
        "for i in range(len(labels)):\n",
        "    repeated_arr.extend(np.full(64, labels[i]))\n",
        "\n",
        "labels_1 = np.array(repeated_arr)\n",
        "labels_1.shape"
      ],
      "metadata": {
        "colab": {
          "base_uri": "https://localhost:8080/"
        },
        "id": "ifg_5Y5TIXOt",
        "outputId": "99c80fcc-08bd-40a8-f547-ca833c9cb5e9"
      },
      "execution_count": 5,
      "outputs": [
        {
          "output_type": "execute_result",
          "data": {
            "text/plain": [
              "(69120,)"
            ]
          },
          "metadata": {},
          "execution_count": 5
        }
      ]
    },
    {
      "cell_type": "code",
      "source": [
        "input_data.shape"
      ],
      "metadata": {
        "colab": {
          "base_uri": "https://localhost:8080/"
        },
        "id": "AgpXAIt-EcjR",
        "outputId": "b051ef2a-f19b-411b-a3bd-7a40741b0c2d"
      },
      "execution_count": 6,
      "outputs": [
        {
          "output_type": "execute_result",
          "data": {
            "text/plain": [
              "(1080, 256, 64, 1)"
            ]
          },
          "metadata": {},
          "execution_count": 6
        }
      ]
    },
    {
      "cell_type": "code",
      "source": [
        "input_data[0][:][:].squeeze().shape"
      ],
      "metadata": {
        "colab": {
          "base_uri": "https://localhost:8080/"
        },
        "id": "btTWZHuHJAYz",
        "outputId": "7817f58c-9d1e-4808-c3e4-439789e3c1bb"
      },
      "execution_count": 7,
      "outputs": [
        {
          "output_type": "execute_result",
          "data": {
            "text/plain": [
              "(256, 64)"
            ]
          },
          "metadata": {},
          "execution_count": 7
        }
      ]
    },
    {
      "cell_type": "code",
      "source": [
        "input_T = []\n",
        "for i in range(1080):\n",
        "    input_data_m = input_data[i][:][:].squeeze().T # 1080개 돌면서 squeeze -> (256, 64), 전치 -> (64, 256)\n",
        "    input_T.append(input_data_m) # 빈 리스트에 추가\n",
        "\n",
        "input_T = np.array(input_T)\n",
        "input_T.shape"
      ],
      "metadata": {
        "colab": {
          "base_uri": "https://localhost:8080/"
        },
        "id": "WXYPqvgQFAMC",
        "outputId": "c88d6666-6dce-4053-e504-68491c267b4c"
      },
      "execution_count": 8,
      "outputs": [
        {
          "output_type": "execute_result",
          "data": {
            "text/plain": [
              "(1080, 64, 256)"
            ]
          },
          "metadata": {},
          "execution_count": 8
        }
      ]
    },
    {
      "cell_type": "code",
      "source": [
        "# input data 스케일링\n",
        "\n",
        "sclaer = StandardScaler()\n",
        "input_data_0 = input_T.reshape(1080*64,256)\n",
        "input_data_1 = sclaer.fit_transform(input_data_0)"
      ],
      "metadata": {
        "id": "Q4UtfAQjEyjU"
      },
      "execution_count": 9,
      "outputs": []
    },
    {
      "cell_type": "code",
      "source": [
        "input_data_1.shape"
      ],
      "metadata": {
        "colab": {
          "base_uri": "https://localhost:8080/"
        },
        "id": "oDzua2AOLsmS",
        "outputId": "7be8133a-2757-4080-f45c-32b7c7706c93"
      },
      "execution_count": 10,
      "outputs": [
        {
          "output_type": "execute_result",
          "data": {
            "text/plain": [
              "(69120, 256)"
            ]
          },
          "metadata": {},
          "execution_count": 10
        }
      ]
    },
    {
      "cell_type": "code",
      "source": [
        "from sklearn.model_selection import train_test_split\n",
        "\n",
        "# 데이터 준비\n",
        "\n",
        "X = input_data_1\n",
        "y = labels_1\n",
        "\n",
        "# data split\n",
        "\n",
        "X_train, X_test, y_train, y_test = train_test_split(X, y, test_size=0.2, random_state=0)"
      ],
      "metadata": {
        "id": "BYi90rRvMSzA"
      },
      "execution_count": 11,
      "outputs": []
    },
    {
      "cell_type": "code",
      "source": [
        "print(\"X_train 데이터 수\", X_train.shape)\n",
        "print(\"X_test 데이터 수\", X_test.shape)"
      ],
      "metadata": {
        "colab": {
          "base_uri": "https://localhost:8080/"
        },
        "id": "WlMQNOv0M7Sd",
        "outputId": "f6dfc40f-b9b9-4044-e6bb-29bb03f641b5"
      },
      "execution_count": 12,
      "outputs": [
        {
          "output_type": "stream",
          "name": "stdout",
          "text": [
            "X_train 데이터 수 (55296, 256)\n",
            "X_test 데이터 수 (13824, 256)\n"
          ]
        }
      ]
    },
    {
      "cell_type": "code",
      "source": [
        "from sklearn.ensemble import RandomForestClassifier\n",
        "from sklearn.metrics import accuracy_score\n",
        "\n",
        "# 모델 생성\n",
        "model = RandomForestClassifier(n_estimators=100, random_state=0)\n",
        "\n",
        "# 모델 학습\n",
        "model.fit(X_train, y_train)\n",
        "\n",
        "# 모델 평가\n",
        "y_pred = model.predict(X_test)\n",
        "accuracy = accuracy_score(y_test, y_pred)\n",
        "print(\"Accuracy:\", accuracy)\n",
        "y_pred\n",
        "\n",
        "\n",
        "# 피처 중요도 결과 리스트에서 0.004 이상의 값과 해당 값의 인덱스를 출력\n",
        "feature_importances = model.feature_importances_\n",
        "important_features = [idx for idx, importance in enumerate(feature_importances) if importance >= 0.004]\n",
        "input_data_1_selected = input_data_1[:, important_features]\n",
        "\n",
        "# 결과 출력\n",
        "print(\"새로운 데이터셋 모양:\", input_data_1_selected.shape)\n",
        "\n",
        "# # 결과 출력\n",
        "# for idx, importance in important_features:\n",
        "#     print(\"인덱스:\", idx, \"중요도:\", importance)\n"
      ],
      "metadata": {
        "colab": {
          "base_uri": "https://localhost:8080/"
        },
        "id": "DmATkvJtRN3P",
        "outputId": "1e90eeb2-e6cd-44dc-938d-69df72f52a64"
      },
      "execution_count": 13,
      "outputs": [
        {
          "output_type": "stream",
          "name": "stdout",
          "text": [
            "Accuracy: 0.8459924768518519\n",
            "새로운 데이터셋 모양: (69120, 90)\n"
          ]
        }
      ]
    },
    {
      "cell_type": "code",
      "source": [
        "# 피쳐 삭제한 input data - split\n",
        "\n",
        "X2 = input_data_1_selected\n",
        "y2 = labels_1\n",
        "\n",
        "X2_train, X2_test, y2_train, y2_test = train_test_split(X2, y2, test_size=0.2, random_state=0)"
      ],
      "metadata": {
        "id": "NKzDwd5ff6sV"
      },
      "execution_count": 14,
      "outputs": []
    },
    {
      "cell_type": "code",
      "source": [
        "from sklearn.ensemble import GradientBoostingClassifier\n",
        "from sklearn.metrics import accuracy_score\n",
        "\n",
        "# 그래디언트 부스팅 모델 초기화 및 설정\n",
        "gb_model = GradientBoostingClassifier(n_estimators=300, learning_rate=0.03, max_depth=9, subsample=0.7, min_samples_leaf=3, random_state=0)\n",
        "\n",
        "# 모델 학습\n",
        "gb_model.fit(X2_train, y2_train)\n",
        "\n",
        "# 테스트 데이터에 대한 예측\n",
        "y2_pred = gb_model.predict(X2_test)\n",
        "y2_train_hat = gb_model.predict(X2_train)\n",
        "\n",
        "# 정확도 평가\n",
        "accuracy = accuracy_score(y2_test, y2_pred)\n",
        "train_accuracy = accuracy_score(y2_train, y2_train_hat)\n",
        "print(\"train 데이터 정확도:\", train_accuracy )\n",
        "print(\"테스트 데이터 정확도:\", accuracy)\n"
      ],
      "metadata": {
        "colab": {
          "base_uri": "https://localhost:8080/"
        },
        "id": "oMJwQE8f-Vua",
        "outputId": "e8340f89-80c6-435f-866d-8b26dc58ea8a"
      },
      "execution_count": 30,
      "outputs": [
        {
          "output_type": "stream",
          "name": "stdout",
          "text": [
            "train 데이터 정확도: 0.9634874131944444\n",
            "테스트 데이터 정확도: 0.8158275462962963\n"
          ]
        }
      ]
    },
    {
      "cell_type": "code",
      "source": [
        "# from sklearn.svm import SVC\n",
        "\n",
        "# # RBF 커널을 사용하는 SVM 모델 훈련\n",
        "# svm_model = SVC(kernel='rbf', C=1, gamma='scale', random_state=42)\n",
        "# svm_model.fit(X2_train, y2_train)\n",
        "\n",
        "# # 테스트 세트로 모델 평가\n",
        "# y2_pred = svm_model.predict(X2_test)\n",
        "# accuracy = accuracy_score(y2_test, y2_pred)\n",
        "# print(\"Accuracy:\", accuracy)\n",
        "# y2_pred"
      ],
      "metadata": {
        "id": "-V5YgBhWiBWo"
      },
      "execution_count": 16,
      "outputs": []
    },
    {
      "cell_type": "markdown",
      "source": [
        "## 제출용"
      ],
      "metadata": {
        "id": "XOxUnbH1wMYw"
      }
    },
    {
      "cell_type": "code",
      "source": [
        "# 진짜 테스트 데이터 로드\n",
        "\n",
        "data_test=np.load('/content/drive/MyDrive/test.npy', allow_pickle='TRUE')\n",
        "data_test = data_test.item()\n",
        "data_input_test = data_test['input']\n"
      ],
      "metadata": {
        "id": "z7DIvYfhnyR0"
      },
      "execution_count": 17,
      "outputs": []
    },
    {
      "cell_type": "code",
      "source": [
        "\n",
        "input_test_T = []\n",
        "for i in range(120):\n",
        "    data_input_m = data_input_test[i][:][:].squeeze().T\n",
        "    input_test_T.append(data_input_m)\n",
        "\n",
        "input_test_T = np.array(input_test_T)\n",
        "input_test_T.shape\n"
      ],
      "metadata": {
        "id": "wFXf-Legn9qj",
        "colab": {
          "base_uri": "https://localhost:8080/"
        },
        "outputId": "e45d0ea4-960b-46b5-9630-08e91fa19247"
      },
      "execution_count": 31,
      "outputs": [
        {
          "output_type": "execute_result",
          "data": {
            "text/plain": [
              "(120, 64, 256)"
            ]
          },
          "metadata": {},
          "execution_count": 31
        }
      ]
    },
    {
      "cell_type": "code",
      "source": [
        "data_input_0_test = data_input_test.reshape(120*64,256)\n",
        "data_input_1_test = sclaer.fit_transform(data_input_0_test)"
      ],
      "metadata": {
        "id": "xgEP8dPjoRHd"
      },
      "execution_count": 32,
      "outputs": []
    },
    {
      "cell_type": "code",
      "source": [
        "\n",
        "data_input_1_test.shape"
      ],
      "metadata": {
        "id": "DPy8TxStoeew",
        "colab": {
          "base_uri": "https://localhost:8080/"
        },
        "outputId": "1cdeaf2c-72d9-4edd-c1af-ea7f0f6093ad"
      },
      "execution_count": 33,
      "outputs": [
        {
          "output_type": "execute_result",
          "data": {
            "text/plain": [
              "(7680, 256)"
            ]
          },
          "metadata": {},
          "execution_count": 33
        }
      ]
    },
    {
      "cell_type": "code",
      "source": [
        "# 테스트 데이터 - 중요도 낮은 피쳐 제거\n",
        "\n",
        "data_input_1_test_del = data_input_1_test[:, important_features]\n",
        "data_input_1_test_del.shape"
      ],
      "metadata": {
        "id": "uPRD-g2Zo2xi",
        "colab": {
          "base_uri": "https://localhost:8080/"
        },
        "outputId": "d6618986-221a-415b-9c2d-9b06f871ef59"
      },
      "execution_count": 34,
      "outputs": [
        {
          "output_type": "execute_result",
          "data": {
            "text/plain": [
              "(7680, 90)"
            ]
          },
          "metadata": {},
          "execution_count": 34
        }
      ]
    },
    {
      "cell_type": "code",
      "source": [
        "\n",
        "y_pred = gb_model.predict(data_input_1_test_del)\n",
        "\n",
        "y_pred.mean()\n"
      ],
      "metadata": {
        "id": "ZCDuJDO5ogBh",
        "colab": {
          "base_uri": "https://localhost:8080/"
        },
        "outputId": "03c9729c-28e8-4642-8478-6178c2bad8ff"
      },
      "execution_count": 35,
      "outputs": [
        {
          "output_type": "execute_result",
          "data": {
            "text/plain": [
              "0.6834635416666667"
            ]
          },
          "metadata": {},
          "execution_count": 35
        }
      ]
    },
    {
      "cell_type": "code",
      "source": [
        "y_pred.shape"
      ],
      "metadata": {
        "id": "yn42vFsEpb0b",
        "colab": {
          "base_uri": "https://localhost:8080/"
        },
        "outputId": "3c4459a8-a32e-482b-a1b7-eaf91ad75757"
      },
      "execution_count": 23,
      "outputs": [
        {
          "output_type": "execute_result",
          "data": {
            "text/plain": [
              "(7680,)"
            ]
          },
          "metadata": {},
          "execution_count": 23
        }
      ]
    },
    {
      "cell_type": "code",
      "source": [
        "\n",
        "answer = []\n",
        "\n",
        "for i in range(120):\n",
        "    pred = []\n",
        "    for s in range(64):\n",
        "        pred.append(y_pred[i*64+s])\n",
        "    if sum(pred)/len(pred) > 0.65: # 64개씩 그룹지어서 다수결 방식. 임계값 지정\n",
        "        answer.append(1)\n",
        "    else:\n",
        "        answer.append(0)\n",
        "\n",
        "len(answer)"
      ],
      "metadata": {
        "id": "vPUKHKYAsYK5",
        "colab": {
          "base_uri": "https://localhost:8080/"
        },
        "outputId": "9e85e52c-08d2-430c-c0ea-2d93365d4524"
      },
      "execution_count": 36,
      "outputs": [
        {
          "output_type": "execute_result",
          "data": {
            "text/plain": [
              "120"
            ]
          },
          "metadata": {},
          "execution_count": 36
        }
      ]
    },
    {
      "cell_type": "code",
      "source": [
        "sum(answer)/len(answer)"
      ],
      "metadata": {
        "id": "qz99vS05trNV",
        "colab": {
          "base_uri": "https://localhost:8080/"
        },
        "outputId": "43f2db87-16f0-4a4c-ceab-90a392cb5f9e"
      },
      "execution_count": 37,
      "outputs": [
        {
          "output_type": "execute_result",
          "data": {
            "text/plain": [
              "0.6"
            ]
          },
          "metadata": {},
          "execution_count": 37
        }
      ]
    },
    {
      "cell_type": "code",
      "source": [
        "# 제출하기\n",
        "id=np.arange(120)\n",
        "target=answer\n",
        "\n",
        "submission_df=pd.DataFrame({'ID':id, 'Target':target})\n",
        "\n",
        "submission_df"
      ],
      "metadata": {
        "id": "ePCIsMGVqcSn",
        "colab": {
          "base_uri": "https://localhost:8080/",
          "height": 423
        },
        "outputId": "03035e3b-e007-4722-b17b-9e93c7e10f9c"
      },
      "execution_count": 38,
      "outputs": [
        {
          "output_type": "execute_result",
          "data": {
            "text/plain": [
              "      ID  Target\n",
              "0      0       1\n",
              "1      1       0\n",
              "2      2       1\n",
              "3      3       0\n",
              "4      4       0\n",
              "..   ...     ...\n",
              "115  115       0\n",
              "116  116       1\n",
              "117  117       0\n",
              "118  118       0\n",
              "119  119       0\n",
              "\n",
              "[120 rows x 2 columns]"
            ],
            "text/html": [
              "\n",
              "  <div id=\"df-f13d562a-894e-4c2f-b044-4a9a9bbdf704\" class=\"colab-df-container\">\n",
              "    <div>\n",
              "<style scoped>\n",
              "    .dataframe tbody tr th:only-of-type {\n",
              "        vertical-align: middle;\n",
              "    }\n",
              "\n",
              "    .dataframe tbody tr th {\n",
              "        vertical-align: top;\n",
              "    }\n",
              "\n",
              "    .dataframe thead th {\n",
              "        text-align: right;\n",
              "    }\n",
              "</style>\n",
              "<table border=\"1\" class=\"dataframe\">\n",
              "  <thead>\n",
              "    <tr style=\"text-align: right;\">\n",
              "      <th></th>\n",
              "      <th>ID</th>\n",
              "      <th>Target</th>\n",
              "    </tr>\n",
              "  </thead>\n",
              "  <tbody>\n",
              "    <tr>\n",
              "      <th>0</th>\n",
              "      <td>0</td>\n",
              "      <td>1</td>\n",
              "    </tr>\n",
              "    <tr>\n",
              "      <th>1</th>\n",
              "      <td>1</td>\n",
              "      <td>0</td>\n",
              "    </tr>\n",
              "    <tr>\n",
              "      <th>2</th>\n",
              "      <td>2</td>\n",
              "      <td>1</td>\n",
              "    </tr>\n",
              "    <tr>\n",
              "      <th>3</th>\n",
              "      <td>3</td>\n",
              "      <td>0</td>\n",
              "    </tr>\n",
              "    <tr>\n",
              "      <th>4</th>\n",
              "      <td>4</td>\n",
              "      <td>0</td>\n",
              "    </tr>\n",
              "    <tr>\n",
              "      <th>...</th>\n",
              "      <td>...</td>\n",
              "      <td>...</td>\n",
              "    </tr>\n",
              "    <tr>\n",
              "      <th>115</th>\n",
              "      <td>115</td>\n",
              "      <td>0</td>\n",
              "    </tr>\n",
              "    <tr>\n",
              "      <th>116</th>\n",
              "      <td>116</td>\n",
              "      <td>1</td>\n",
              "    </tr>\n",
              "    <tr>\n",
              "      <th>117</th>\n",
              "      <td>117</td>\n",
              "      <td>0</td>\n",
              "    </tr>\n",
              "    <tr>\n",
              "      <th>118</th>\n",
              "      <td>118</td>\n",
              "      <td>0</td>\n",
              "    </tr>\n",
              "    <tr>\n",
              "      <th>119</th>\n",
              "      <td>119</td>\n",
              "      <td>0</td>\n",
              "    </tr>\n",
              "  </tbody>\n",
              "</table>\n",
              "<p>120 rows × 2 columns</p>\n",
              "</div>\n",
              "    <div class=\"colab-df-buttons\">\n",
              "\n",
              "  <div class=\"colab-df-container\">\n",
              "    <button class=\"colab-df-convert\" onclick=\"convertToInteractive('df-f13d562a-894e-4c2f-b044-4a9a9bbdf704')\"\n",
              "            title=\"Convert this dataframe to an interactive table.\"\n",
              "            style=\"display:none;\">\n",
              "\n",
              "  <svg xmlns=\"http://www.w3.org/2000/svg\" height=\"24px\" viewBox=\"0 -960 960 960\">\n",
              "    <path d=\"M120-120v-720h720v720H120Zm60-500h600v-160H180v160Zm220 220h160v-160H400v160Zm0 220h160v-160H400v160ZM180-400h160v-160H180v160Zm440 0h160v-160H620v160ZM180-180h160v-160H180v160Zm440 0h160v-160H620v160Z\"/>\n",
              "  </svg>\n",
              "    </button>\n",
              "\n",
              "  <style>\n",
              "    .colab-df-container {\n",
              "      display:flex;\n",
              "      gap: 12px;\n",
              "    }\n",
              "\n",
              "    .colab-df-convert {\n",
              "      background-color: #E8F0FE;\n",
              "      border: none;\n",
              "      border-radius: 50%;\n",
              "      cursor: pointer;\n",
              "      display: none;\n",
              "      fill: #1967D2;\n",
              "      height: 32px;\n",
              "      padding: 0 0 0 0;\n",
              "      width: 32px;\n",
              "    }\n",
              "\n",
              "    .colab-df-convert:hover {\n",
              "      background-color: #E2EBFA;\n",
              "      box-shadow: 0px 1px 2px rgba(60, 64, 67, 0.3), 0px 1px 3px 1px rgba(60, 64, 67, 0.15);\n",
              "      fill: #174EA6;\n",
              "    }\n",
              "\n",
              "    .colab-df-buttons div {\n",
              "      margin-bottom: 4px;\n",
              "    }\n",
              "\n",
              "    [theme=dark] .colab-df-convert {\n",
              "      background-color: #3B4455;\n",
              "      fill: #D2E3FC;\n",
              "    }\n",
              "\n",
              "    [theme=dark] .colab-df-convert:hover {\n",
              "      background-color: #434B5C;\n",
              "      box-shadow: 0px 1px 3px 1px rgba(0, 0, 0, 0.15);\n",
              "      filter: drop-shadow(0px 1px 2px rgba(0, 0, 0, 0.3));\n",
              "      fill: #FFFFFF;\n",
              "    }\n",
              "  </style>\n",
              "\n",
              "    <script>\n",
              "      const buttonEl =\n",
              "        document.querySelector('#df-f13d562a-894e-4c2f-b044-4a9a9bbdf704 button.colab-df-convert');\n",
              "      buttonEl.style.display =\n",
              "        google.colab.kernel.accessAllowed ? 'block' : 'none';\n",
              "\n",
              "      async function convertToInteractive(key) {\n",
              "        const element = document.querySelector('#df-f13d562a-894e-4c2f-b044-4a9a9bbdf704');\n",
              "        const dataTable =\n",
              "          await google.colab.kernel.invokeFunction('convertToInteractive',\n",
              "                                                    [key], {});\n",
              "        if (!dataTable) return;\n",
              "\n",
              "        const docLinkHtml = 'Like what you see? Visit the ' +\n",
              "          '<a target=\"_blank\" href=https://colab.research.google.com/notebooks/data_table.ipynb>data table notebook</a>'\n",
              "          + ' to learn more about interactive tables.';\n",
              "        element.innerHTML = '';\n",
              "        dataTable['output_type'] = 'display_data';\n",
              "        await google.colab.output.renderOutput(dataTable, element);\n",
              "        const docLink = document.createElement('div');\n",
              "        docLink.innerHTML = docLinkHtml;\n",
              "        element.appendChild(docLink);\n",
              "      }\n",
              "    </script>\n",
              "  </div>\n",
              "\n",
              "\n",
              "<div id=\"df-7830f8f2-c7e8-4970-8a41-d9d9a6a51714\">\n",
              "  <button class=\"colab-df-quickchart\" onclick=\"quickchart('df-7830f8f2-c7e8-4970-8a41-d9d9a6a51714')\"\n",
              "            title=\"Suggest charts\"\n",
              "            style=\"display:none;\">\n",
              "\n",
              "<svg xmlns=\"http://www.w3.org/2000/svg\" height=\"24px\"viewBox=\"0 0 24 24\"\n",
              "     width=\"24px\">\n",
              "    <g>\n",
              "        <path d=\"M19 3H5c-1.1 0-2 .9-2 2v14c0 1.1.9 2 2 2h14c1.1 0 2-.9 2-2V5c0-1.1-.9-2-2-2zM9 17H7v-7h2v7zm4 0h-2V7h2v10zm4 0h-2v-4h2v4z\"/>\n",
              "    </g>\n",
              "</svg>\n",
              "  </button>\n",
              "\n",
              "<style>\n",
              "  .colab-df-quickchart {\n",
              "      --bg-color: #E8F0FE;\n",
              "      --fill-color: #1967D2;\n",
              "      --hover-bg-color: #E2EBFA;\n",
              "      --hover-fill-color: #174EA6;\n",
              "      --disabled-fill-color: #AAA;\n",
              "      --disabled-bg-color: #DDD;\n",
              "  }\n",
              "\n",
              "  [theme=dark] .colab-df-quickchart {\n",
              "      --bg-color: #3B4455;\n",
              "      --fill-color: #D2E3FC;\n",
              "      --hover-bg-color: #434B5C;\n",
              "      --hover-fill-color: #FFFFFF;\n",
              "      --disabled-bg-color: #3B4455;\n",
              "      --disabled-fill-color: #666;\n",
              "  }\n",
              "\n",
              "  .colab-df-quickchart {\n",
              "    background-color: var(--bg-color);\n",
              "    border: none;\n",
              "    border-radius: 50%;\n",
              "    cursor: pointer;\n",
              "    display: none;\n",
              "    fill: var(--fill-color);\n",
              "    height: 32px;\n",
              "    padding: 0;\n",
              "    width: 32px;\n",
              "  }\n",
              "\n",
              "  .colab-df-quickchart:hover {\n",
              "    background-color: var(--hover-bg-color);\n",
              "    box-shadow: 0 1px 2px rgba(60, 64, 67, 0.3), 0 1px 3px 1px rgba(60, 64, 67, 0.15);\n",
              "    fill: var(--button-hover-fill-color);\n",
              "  }\n",
              "\n",
              "  .colab-df-quickchart-complete:disabled,\n",
              "  .colab-df-quickchart-complete:disabled:hover {\n",
              "    background-color: var(--disabled-bg-color);\n",
              "    fill: var(--disabled-fill-color);\n",
              "    box-shadow: none;\n",
              "  }\n",
              "\n",
              "  .colab-df-spinner {\n",
              "    border: 2px solid var(--fill-color);\n",
              "    border-color: transparent;\n",
              "    border-bottom-color: var(--fill-color);\n",
              "    animation:\n",
              "      spin 1s steps(1) infinite;\n",
              "  }\n",
              "\n",
              "  @keyframes spin {\n",
              "    0% {\n",
              "      border-color: transparent;\n",
              "      border-bottom-color: var(--fill-color);\n",
              "      border-left-color: var(--fill-color);\n",
              "    }\n",
              "    20% {\n",
              "      border-color: transparent;\n",
              "      border-left-color: var(--fill-color);\n",
              "      border-top-color: var(--fill-color);\n",
              "    }\n",
              "    30% {\n",
              "      border-color: transparent;\n",
              "      border-left-color: var(--fill-color);\n",
              "      border-top-color: var(--fill-color);\n",
              "      border-right-color: var(--fill-color);\n",
              "    }\n",
              "    40% {\n",
              "      border-color: transparent;\n",
              "      border-right-color: var(--fill-color);\n",
              "      border-top-color: var(--fill-color);\n",
              "    }\n",
              "    60% {\n",
              "      border-color: transparent;\n",
              "      border-right-color: var(--fill-color);\n",
              "    }\n",
              "    80% {\n",
              "      border-color: transparent;\n",
              "      border-right-color: var(--fill-color);\n",
              "      border-bottom-color: var(--fill-color);\n",
              "    }\n",
              "    90% {\n",
              "      border-color: transparent;\n",
              "      border-bottom-color: var(--fill-color);\n",
              "    }\n",
              "  }\n",
              "</style>\n",
              "\n",
              "  <script>\n",
              "    async function quickchart(key) {\n",
              "      const quickchartButtonEl =\n",
              "        document.querySelector('#' + key + ' button');\n",
              "      quickchartButtonEl.disabled = true;  // To prevent multiple clicks.\n",
              "      quickchartButtonEl.classList.add('colab-df-spinner');\n",
              "      try {\n",
              "        const charts = await google.colab.kernel.invokeFunction(\n",
              "            'suggestCharts', [key], {});\n",
              "      } catch (error) {\n",
              "        console.error('Error during call to suggestCharts:', error);\n",
              "      }\n",
              "      quickchartButtonEl.classList.remove('colab-df-spinner');\n",
              "      quickchartButtonEl.classList.add('colab-df-quickchart-complete');\n",
              "    }\n",
              "    (() => {\n",
              "      let quickchartButtonEl =\n",
              "        document.querySelector('#df-7830f8f2-c7e8-4970-8a41-d9d9a6a51714 button');\n",
              "      quickchartButtonEl.style.display =\n",
              "        google.colab.kernel.accessAllowed ? 'block' : 'none';\n",
              "    })();\n",
              "  </script>\n",
              "</div>\n",
              "\n",
              "  <div id=\"id_3866c2fe-da47-439e-8ae9-c694ec69d0c0\">\n",
              "    <style>\n",
              "      .colab-df-generate {\n",
              "        background-color: #E8F0FE;\n",
              "        border: none;\n",
              "        border-radius: 50%;\n",
              "        cursor: pointer;\n",
              "        display: none;\n",
              "        fill: #1967D2;\n",
              "        height: 32px;\n",
              "        padding: 0 0 0 0;\n",
              "        width: 32px;\n",
              "      }\n",
              "\n",
              "      .colab-df-generate:hover {\n",
              "        background-color: #E2EBFA;\n",
              "        box-shadow: 0px 1px 2px rgba(60, 64, 67, 0.3), 0px 1px 3px 1px rgba(60, 64, 67, 0.15);\n",
              "        fill: #174EA6;\n",
              "      }\n",
              "\n",
              "      [theme=dark] .colab-df-generate {\n",
              "        background-color: #3B4455;\n",
              "        fill: #D2E3FC;\n",
              "      }\n",
              "\n",
              "      [theme=dark] .colab-df-generate:hover {\n",
              "        background-color: #434B5C;\n",
              "        box-shadow: 0px 1px 3px 1px rgba(0, 0, 0, 0.15);\n",
              "        filter: drop-shadow(0px 1px 2px rgba(0, 0, 0, 0.3));\n",
              "        fill: #FFFFFF;\n",
              "      }\n",
              "    </style>\n",
              "    <button class=\"colab-df-generate\" onclick=\"generateWithVariable('submission_df')\"\n",
              "            title=\"Generate code using this dataframe.\"\n",
              "            style=\"display:none;\">\n",
              "\n",
              "  <svg xmlns=\"http://www.w3.org/2000/svg\" height=\"24px\"viewBox=\"0 0 24 24\"\n",
              "       width=\"24px\">\n",
              "    <path d=\"M7,19H8.4L18.45,9,17,7.55,7,17.6ZM5,21V16.75L18.45,3.32a2,2,0,0,1,2.83,0l1.4,1.43a1.91,1.91,0,0,1,.58,1.4,1.91,1.91,0,0,1-.58,1.4L9.25,21ZM18.45,9,17,7.55Zm-12,3A5.31,5.31,0,0,0,4.9,8.1,5.31,5.31,0,0,0,1,6.5,5.31,5.31,0,0,0,4.9,4.9,5.31,5.31,0,0,0,6.5,1,5.31,5.31,0,0,0,8.1,4.9,5.31,5.31,0,0,0,12,6.5,5.46,5.46,0,0,0,6.5,12Z\"/>\n",
              "  </svg>\n",
              "    </button>\n",
              "    <script>\n",
              "      (() => {\n",
              "      const buttonEl =\n",
              "        document.querySelector('#id_3866c2fe-da47-439e-8ae9-c694ec69d0c0 button.colab-df-generate');\n",
              "      buttonEl.style.display =\n",
              "        google.colab.kernel.accessAllowed ? 'block' : 'none';\n",
              "\n",
              "      buttonEl.onclick = () => {\n",
              "        google.colab.notebook.generateWithVariable('submission_df');\n",
              "      }\n",
              "      })();\n",
              "    </script>\n",
              "  </div>\n",
              "\n",
              "    </div>\n",
              "  </div>\n"
            ],
            "application/vnd.google.colaboratory.intrinsic+json": {
              "type": "dataframe",
              "variable_name": "submission_df",
              "summary": "{\n  \"name\": \"submission_df\",\n  \"rows\": 120,\n  \"fields\": [\n    {\n      \"column\": \"ID\",\n      \"properties\": {\n        \"dtype\": \"number\",\n        \"std\": 34,\n        \"min\": 0,\n        \"max\": 119,\n        \"num_unique_values\": 120,\n        \"samples\": [\n          44,\n          47,\n          4\n        ],\n        \"semantic_type\": \"\",\n        \"description\": \"\"\n      }\n    },\n    {\n      \"column\": \"Target\",\n      \"properties\": {\n        \"dtype\": \"number\",\n        \"std\": 0,\n        \"min\": 0,\n        \"max\": 1,\n        \"num_unique_values\": 2,\n        \"samples\": [\n          0,\n          1\n        ],\n        \"semantic_type\": \"\",\n        \"description\": \"\"\n      }\n    }\n  ]\n}"
            }
          },
          "metadata": {},
          "execution_count": 38
        }
      ]
    },
    {
      "cell_type": "code",
      "source": [
        "submission_df.to_csv('submission8.csv', index=False)"
      ],
      "metadata": {
        "id": "IWuRQLF7uFq0"
      },
      "execution_count": 39,
      "outputs": []
    }
  ]
}