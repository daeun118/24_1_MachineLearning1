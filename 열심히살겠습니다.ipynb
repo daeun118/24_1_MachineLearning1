{
  "nbformat": 4,
  "nbformat_minor": 0,
  "metadata": {
    "colab": {
      "provenance": []
    },
    "kernelspec": {
      "name": "python3",
      "display_name": "Python 3"
    },
    "language_info": {
      "name": "python"
    }
  },
  "cells": [
    {
      "cell_type": "markdown",
      "metadata": {
        "id": "view-in-github"
      },
      "source": [
        "<a href=\"https://colab.research.google.com/github/daeun118/MachineLearning1/blob/main/%EB%A8%B8%EC%8B%A0%EB%9F%AC%EB%8B%9D1_1%EC%B0%A8%ED%8C%80%ED%94%8C_%EC%A0%95%EB%A6%AC%EB%B3%B8.ipynb\" target=\"_parent\"><img src=\"https://colab.research.google.com/assets/colab-badge.svg\" alt=\"Open In Colab\"/></a>"
      ]
    },
    {
      "cell_type": "code",
      "execution_count": null,
      "metadata": {
        "id": "AK8nYggmxE2A"
      },
      "outputs": [],
      "source": [
        "import numpy as np\n",
        "import pandas as pd\n",
        "import seaborn as sns\n",
        "import matplotlib.pyplot as plt\n",
        "from sklearn.preprocessing import StandardScaler\n",
        "from sklearn.model_selection import train_test_split\n",
        "from xgboost import XGBClassifier\n",
        "from sklearn.metrics import accuracy_score\n",
        "from sklearn.model_selection import GridSearchCV\n",
        "from sklearn.model_selection import train_test_split\n",
        "from xgboost import XGBClassifier\n"
      ]
    },
    {
      "cell_type": "code",
      "source": [
        "# 구글드라이브 마운트\n",
        "from google.colab import drive\n",
        "drive.mount('/content/drive')"
      ],
      "metadata": {
        "colab": {
          "base_uri": "https://localhost:8080/"
        },
        "id": "w8TsqSyXxJpa",
        "outputId": "fc517630-356f-4347-ac6a-48911c8226af"
      },
      "execution_count": null,
      "outputs": [
        {
          "output_type": "stream",
          "name": "stdout",
          "text": [
            "Drive already mounted at /content/drive; to attempt to forcibly remount, call drive.mount(\"/content/drive\", force_remount=True).\n"
          ]
        }
      ]
    },
    {
      "cell_type": "code",
      "source": [
        "data = np.load(\"/content/drive/MyDrive/ml1/train.npy\", allow_pickle=True)\n",
        "data = data.item()\n",
        "data_input = data['input']"
      ],
      "metadata": {
        "id": "sgOR-u0KxPbY"
      },
      "execution_count": null,
      "outputs": []
    },
    {
      "cell_type": "code",
      "source": [
        "labels = data['label']"
      ],
      "metadata": {
        "id": "cbgm1BTcxRPh"
      },
      "execution_count": null,
      "outputs": []
    },
    {
      "cell_type": "code",
      "source": [
        "data_input"
      ],
      "metadata": {
        "colab": {
          "base_uri": "https://localhost:8080/"
        },
        "collapsed": true,
        "id": "A2-ax9E6xTn8",
        "outputId": "f2b2d79f-c7b2-4746-f7ca-d24bef5c17bf"
      },
      "execution_count": null,
      "outputs": [
        {
          "output_type": "execute_result",
          "data": {
            "text/plain": [
              "array([[[[-2.8890e+00],\n",
              "         [-7.9550e+00],\n",
              "         [-1.6170e+00],\n",
              "         ...,\n",
              "         [ 1.9430e+00],\n",
              "         [-3.0920e+00],\n",
              "         [-1.7090e+00]],\n",
              "\n",
              "        [[-3.3770e+00],\n",
              "         [-8.9310e+00],\n",
              "         [-1.6170e+00],\n",
              "         ...,\n",
              "         [ 2.9200e+00],\n",
              "         [-3.0920e+00],\n",
              "         [ 2.4400e-01]],\n",
              "\n",
              "        [[-3.3770e+00],\n",
              "         [-8.9310e+00],\n",
              "         [-1.5300e-01],\n",
              "         ...,\n",
              "         [ 3.4080e+00],\n",
              "         [-3.0920e+00],\n",
              "         [ 2.1970e+00]],\n",
              "\n",
              "        ...,\n",
              "\n",
              "        [[ 5.9000e+00],\n",
              "         [ 3.7640e+00],\n",
              "         [-8.9420e+00],\n",
              "         ...,\n",
              "         [-1.0000e-02],\n",
              "         [ 5.2080e+00],\n",
              "         [-1.9775e+01]],\n",
              "\n",
              "        [[ 5.4120e+00],\n",
              "         [ 3.2760e+00],\n",
              "         [-1.0895e+01],\n",
              "         ...,\n",
              "         [-1.0000e-02],\n",
              "         [ 5.2080e+00],\n",
              "         [-2.1240e+01]],\n",
              "\n",
              "        [[ 5.9000e+00],\n",
              "         [ 2.7870e+00],\n",
              "         [-1.1383e+01],\n",
              "         ...,\n",
              "         [-1.0000e-02],\n",
              "         [ 5.6970e+00],\n",
              "         [-2.2217e+01]]],\n",
              "\n",
              "\n",
              "       [[[-3.8660e+00],\n",
              "         [-4.8220e+00],\n",
              "         [-7.7210e+00],\n",
              "         ...,\n",
              "         [-5.0900e-01],\n",
              "         [-4.2010e+00],\n",
              "         [-1.1090e+00]],\n",
              "\n",
              "        [[-4.8420e+00],\n",
              "         [-5.7980e+00],\n",
              "         [-1.0162e+01],\n",
              "         ...,\n",
              "         [-1.4850e+00],\n",
              "         [-4.6900e+00],\n",
              "         [-1.5970e+00]],\n",
              "\n",
              "        [[-6.7950e+00],\n",
              "         [-7.2630e+00],\n",
              "         [-1.1627e+01],\n",
              "         ...,\n",
              "         [-1.9730e+00],\n",
              "         [-6.1540e+00],\n",
              "         [-2.5740e+00]],\n",
              "\n",
              "        ...,\n",
              "\n",
              "        [[-4.6834e+01],\n",
              "         [-2.5330e+01],\n",
              "         [-3.5065e+01],\n",
              "         ...,\n",
              "         [ 1.9330e+00],\n",
              "         [-4.5705e+01],\n",
              "         [-3.5500e+00]],\n",
              "\n",
              "        [[-4.8787e+01],\n",
              "         [-2.8259e+01],\n",
              "         [-3.5065e+01],\n",
              "         ...,\n",
              "         [ 2.4210e+00],\n",
              "         [-4.8147e+01],\n",
              "         [-3.0620e+00]],\n",
              "\n",
              "        [[-5.0741e+01],\n",
              "         [-3.0212e+01],\n",
              "         [-3.5065e+01],\n",
              "         ...,\n",
              "         [ 2.9090e+00],\n",
              "         [-4.9611e+01],\n",
              "         [-3.5500e+00]]],\n",
              "\n",
              "\n",
              "       [[[-1.1600e+00],\n",
              "         [-8.8400e+00],\n",
              "         [-1.3330e+00],\n",
              "         ...,\n",
              "         [ 8.7500e-01],\n",
              "         [-7.8300e-01],\n",
              "         [ 2.6250e+00]],\n",
              "\n",
              "        [[-4.5780e+00],\n",
              "         [-1.0305e+01],\n",
              "         [-4.7510e+00],\n",
              "         ...,\n",
              "         [ 8.7500e-01],\n",
              "         [-4.6900e+00],\n",
              "         [-3.0500e-01]],\n",
              "\n",
              "        [[-6.5310e+00],\n",
              "         [-9.3280e+00],\n",
              "         [-6.7040e+00],\n",
              "         ...,\n",
              "         [-1.0200e-01],\n",
              "         [-6.6430e+00],\n",
              "         [-2.2580e+00]],\n",
              "\n",
              "        ...,\n",
              "\n",
              "        [[ 1.6418e+01],\n",
              "         [ 1.3133e+01],\n",
              "         [ 3.0620e+00],\n",
              "         ...,\n",
              "         [-4.4960e+00],\n",
              "         [ 1.6795e+01],\n",
              "         [ 1.0437e+01]],\n",
              "\n",
              "        [[ 1.5442e+01],\n",
              "         [ 1.2644e+01],\n",
              "         [ 1.3200e-01],\n",
              "         ...,\n",
              "         [-4.0080e+00],\n",
              "         [ 1.5330e+01],\n",
              "         [ 8.9720e+00]],\n",
              "\n",
              "        [[ 1.5442e+01],\n",
              "         [ 1.1180e+01],\n",
              "         [-8.4400e-01],\n",
              "         ...,\n",
              "         [-3.5200e+00],\n",
              "         [ 1.4842e+01],\n",
              "         [ 9.4600e+00]]],\n",
              "\n",
              "\n",
              "       ...,\n",
              "\n",
              "\n",
              "       [[[-1.4950e+00],\n",
              "         [-3.0110e+00],\n",
              "         [-9.0500e-01],\n",
              "         ...,\n",
              "         [-1.5060e+00],\n",
              "         [ 8.2300e+00],\n",
              "         [ 4.9030e+00]],\n",
              "\n",
              "        [[ 9.4600e-01],\n",
              "         [ 3.3370e+00],\n",
              "         [-4.1700e-01],\n",
              "         ...,\n",
              "         [-1.5060e+00],\n",
              "         [ 4.8120e+00],\n",
              "         [ 7.8330e+00]],\n",
              "\n",
              "        [[ 4.8520e+00],\n",
              "         [ 1.0173e+01],\n",
              "         [ 2.5130e+00],\n",
              "         ...,\n",
              "         [-1.5060e+00],\n",
              "         [ 1.8820e+00],\n",
              "         [ 1.1739e+01]],\n",
              "\n",
              "        ...,\n",
              "\n",
              "        [[-1.1749e+01],\n",
              "         [ 3.3370e+00],\n",
              "         [-1.2136e+01],\n",
              "         ...,\n",
              "         [-1.9940e+00],\n",
              "         [-1.5360e+00],\n",
              "         [-8.7690e+00]],\n",
              "\n",
              "        [[-1.0284e+01],\n",
              "         [ 6.7550e+00],\n",
              "         [-1.0671e+01],\n",
              "         ...,\n",
              "         [-1.5060e+00],\n",
              "         [-4.4660e+00],\n",
              "         [-6.3270e+00]],\n",
              "\n",
              "        [[-1.2238e+01],\n",
              "         [ 6.2660e+00],\n",
              "         [-1.0671e+01],\n",
              "         ...,\n",
              "         [-5.2900e-01],\n",
              "         [-6.4190e+00],\n",
              "         [-5.8390e+00]]],\n",
              "\n",
              "\n",
              "       [[[ 5.0860e+00],\n",
              "         [ 5.5540e+00],\n",
              "         [-2.8890e+00],\n",
              "         ...,\n",
              "         [-2.3400e-01],\n",
              "         [ 3.4990e+00],\n",
              "         [ 3.4590e+00]],\n",
              "\n",
              "        [[ 7.0390e+00],\n",
              "         [ 7.0190e+00],\n",
              "         [ 4.9240e+00],\n",
              "         ...,\n",
              "         [ 2.5400e-01],\n",
              "         [ 3.9880e+00],\n",
              "         [ 7.3650e+00]],\n",
              "\n",
              "        [[ 8.9930e+00],\n",
              "         [ 1.0925e+01],\n",
              "         [ 1.4689e+01],\n",
              "         ...,\n",
              "         [ 2.5400e-01],\n",
              "         [ 4.9640e+00],\n",
              "         [ 1.0783e+01]],\n",
              "\n",
              "        ...,\n",
              "\n",
              "        [[-1.0050e+01],\n",
              "         [-6.1650e+00],\n",
              "         [-6.3070e+00],\n",
              "         ...,\n",
              "         [-7.5580e+00],\n",
              "         [-1.2614e+01],\n",
              "         [-2.0955e+01]],\n",
              "\n",
              "        [[-8.0970e+00],\n",
              "         [-2.7470e+00],\n",
              "         [-7.2840e+00],\n",
              "         ...,\n",
              "         [-7.0700e+00],\n",
              "         [-1.0661e+01],\n",
              "         [-1.9979e+01]],\n",
              "\n",
              "        [[-4.1910e+00],\n",
              "         [-2.7470e+00],\n",
              "         [-4.8420e+00],\n",
              "         ...,\n",
              "         [-6.5820e+00],\n",
              "         [-1.0173e+01],\n",
              "         [-1.6561e+01]]],\n",
              "\n",
              "\n",
              "       [[[ 1.6480e+00],\n",
              "         [-1.9630e+00],\n",
              "         [ 1.8210e+00],\n",
              "         ...,\n",
              "         [ 1.8010e+00],\n",
              "         [ 3.7030e+00],\n",
              "         [-4.8800e-01]],\n",
              "\n",
              "        [[-7.9300e-01],\n",
              "         [-1.9630e+00],\n",
              "         [ 1.8210e+00],\n",
              "         ...,\n",
              "         [ 1.8010e+00],\n",
              "         [ 6.6320e+00],\n",
              "         [-1.9530e+00]],\n",
              "\n",
              "        [[-2.2580e+00],\n",
              "         [-9.8700e-01],\n",
              "         [ 1.8210e+00],\n",
              "         ...,\n",
              "         [ 2.2890e+00],\n",
              "         [ 7.6090e+00],\n",
              "         [-3.4180e+00]],\n",
              "\n",
              "        ...,\n",
              "\n",
              "        [[ 1.4343e+01],\n",
              "         [ 2.1474e+01],\n",
              "         [ 1.1587e+01],\n",
              "         ...,\n",
              "         [-5.0350e+00],\n",
              "         [-3.4871e+01],\n",
              "         [-1.9530e+00]],\n",
              "\n",
              "        [[ 1.4343e+01],\n",
              "         [ 2.1474e+01],\n",
              "         [ 1.2563e+01],\n",
              "         ...,\n",
              "         [-5.5240e+00],\n",
              "         [-3.5360e+01],\n",
              "         [-9.7700e-01]],\n",
              "\n",
              "        [[ 1.3855e+01],\n",
              "         [ 2.0498e+01],\n",
              "         [ 1.1098e+01],\n",
              "         ...,\n",
              "         [-5.5240e+00],\n",
              "         [-3.4383e+01],\n",
              "         [-4.8800e-01]]]])"
            ]
          },
          "metadata": {},
          "execution_count": 217
        }
      ]
    },
    {
      "cell_type": "code",
      "source": [
        "labels.shape"
      ],
      "metadata": {
        "colab": {
          "base_uri": "https://localhost:8080/"
        },
        "id": "bgP3Mo-mxUKY",
        "outputId": "904ebe17-9b41-42b0-a0e6-a8a4837ff468"
      },
      "execution_count": null,
      "outputs": [
        {
          "output_type": "execute_result",
          "data": {
            "text/plain": [
              "(1080,)"
            ]
          },
          "metadata": {},
          "execution_count": 218
        }
      ]
    },
    {
      "cell_type": "code",
      "source": [
        "# 미리 스플릿\n",
        "X_train, X_test, y_train, y_test = train_test_split(data_input,labels , test_size=0.2, random_state=156)"
      ],
      "metadata": {
        "id": "UPypYA81xZRV"
      },
      "execution_count": null,
      "outputs": []
    },
    {
      "cell_type": "code",
      "source": [
        "print(\"X_train.shape:\", X_train.shape)\n",
        "print(\"X_valid.shape:\", X_test.shape)"
      ],
      "metadata": {
        "colab": {
          "base_uri": "https://localhost:8080/"
        },
        "id": "_YZnf0Drxbvr",
        "outputId": "22be94cb-35f1-4b8f-b7f9-19a62abd6ed4"
      },
      "execution_count": null,
      "outputs": [
        {
          "output_type": "stream",
          "name": "stdout",
          "text": [
            "X_train.shape: (864, 256, 64, 1)\n",
            "X_valid.shape: (216, 256, 64, 1)\n"
          ]
        }
      ]
    },
    {
      "cell_type": "markdown",
      "source": [
        "# 전처리"
      ],
      "metadata": {
        "id": "R3mHP60pxoPR"
      }
    },
    {
      "cell_type": "code",
      "source": [
        "y_test.mean()"
      ],
      "metadata": {
        "colab": {
          "base_uri": "https://localhost:8080/"
        },
        "id": "tuu-ciuLxpfP",
        "outputId": "3140ef5a-59a8-4c66-a9ff-2ae6cd136e90"
      },
      "execution_count": null,
      "outputs": [
        {
          "output_type": "execute_result",
          "data": {
            "text/plain": [
              "0.5"
            ]
          },
          "metadata": {},
          "execution_count": 221
        }
      ]
    },
    {
      "cell_type": "code",
      "source": [
        "y_train.shape"
      ],
      "metadata": {
        "colab": {
          "base_uri": "https://localhost:8080/"
        },
        "id": "mPftn35KxrAC",
        "outputId": "f4a45faa-7383-40bd-9e17-06e68f19df14"
      },
      "execution_count": null,
      "outputs": [
        {
          "output_type": "execute_result",
          "data": {
            "text/plain": [
              "(864,)"
            ]
          },
          "metadata": {},
          "execution_count": 222
        }
      ]
    },
    {
      "cell_type": "code",
      "source": [
        "# X_train reshape\n",
        "\n",
        "X_train_1 = []\n",
        "for i in range(864):\n",
        "    data_input_m = X_train[i][:][:].squeeze().T\n",
        "    X_train_1.append(data_input_m)\n",
        "\n",
        "input_T_train = np.array(X_train_1)\n",
        "input_T_train.shape"
      ],
      "metadata": {
        "colab": {
          "base_uri": "https://localhost:8080/"
        },
        "id": "Dk_dS4ruxt3P",
        "outputId": "b6195aac-642a-4647-c0c1-4b654382027f"
      },
      "execution_count": null,
      "outputs": [
        {
          "output_type": "execute_result",
          "data": {
            "text/plain": [
              "(864, 64, 256)"
            ]
          },
          "metadata": {},
          "execution_count": 223
        }
      ]
    },
    {
      "cell_type": "code",
      "source": [
        "# X_valid reshape\n",
        "\n",
        "X_test_1 = []\n",
        "for i in range(216):\n",
        "    data_input_m = X_test[i][:][:].squeeze().T\n",
        "    X_test_1.append(data_input_m)\n",
        "\n",
        "input_T_test = np.array(X_test_1)\n",
        "input_T_test.shape"
      ],
      "metadata": {
        "colab": {
          "base_uri": "https://localhost:8080/"
        },
        "id": "vZ-OU2LSxxBg",
        "outputId": "cd58c038-2a0c-4740-e51e-6355a2051606"
      },
      "execution_count": null,
      "outputs": [
        {
          "output_type": "execute_result",
          "data": {
            "text/plain": [
              "(216, 64, 256)"
            ]
          },
          "metadata": {},
          "execution_count": 224
        }
      ]
    },
    {
      "cell_type": "code",
      "source": [
        "data_input_train = input_T_train.reshape(864*64,256)\n",
        "data_input_test= input_T_test.reshape(216*64,256)\n",
        "\n",
        "print(\"data_input_train shape:\", data_input_train.shape)\n",
        "print(\"data_input_test shape:\", data_input_test.shape)"
      ],
      "metadata": {
        "colab": {
          "base_uri": "https://localhost:8080/"
        },
        "id": "UCuq_cSnx46r",
        "outputId": "937df4b3-36f3-43ed-e91e-0c88ba7f3a17"
      },
      "execution_count": null,
      "outputs": [
        {
          "output_type": "stream",
          "name": "stdout",
          "text": [
            "data_input_train shape: (55296, 256)\n",
            "data_input_test shape: (13824, 256)\n"
          ]
        }
      ]
    },
    {
      "cell_type": "code",
      "source": [
        "# train label 확장\n",
        "\n",
        "repeated_arr_train = []\n",
        "for i in range(len(y_train)):\n",
        "    repeated_arr_train.extend(np.full(64, y_train[i]))\n",
        "\n",
        "labels_train = np.array(repeated_arr_train)\n",
        "labels_train.shape\n"
      ],
      "metadata": {
        "colab": {
          "base_uri": "https://localhost:8080/"
        },
        "id": "9N7pHcTjyKoj",
        "outputId": "640f0783-2c9f-49e3-be18-e28dfac71c19"
      },
      "execution_count": null,
      "outputs": [
        {
          "output_type": "execute_result",
          "data": {
            "text/plain": [
              "(55296,)"
            ]
          },
          "metadata": {},
          "execution_count": 226
        }
      ]
    },
    {
      "cell_type": "code",
      "source": [
        "# valid label 확장\n",
        "\n",
        "repeated_arr_test = []\n",
        "for i in range(len(y_test)):\n",
        "    repeated_arr_test.extend(np.full(64, y_test[i]))\n",
        "\n",
        "labels_test = np.array(repeated_arr_test)\n",
        "labels_test.shape"
      ],
      "metadata": {
        "colab": {
          "base_uri": "https://localhost:8080/"
        },
        "id": "TG05uhXXyL3R",
        "outputId": "aa616c5f-a370-4b63-f083-7ad5d7ab170e"
      },
      "execution_count": null,
      "outputs": [
        {
          "output_type": "execute_result",
          "data": {
            "text/plain": [
              "(13824,)"
            ]
          },
          "metadata": {},
          "execution_count": 227
        }
      ]
    },
    {
      "cell_type": "code",
      "source": [
        "print(\"labels_train.mean():\", labels_train.mean())\n",
        "print(\"labels_test.mean():\", labels_test.mean())"
      ],
      "metadata": {
        "colab": {
          "base_uri": "https://localhost:8080/"
        },
        "id": "U__4kL_kyOvc",
        "outputId": "ca174b44-4350-4f94-f39e-24805193d730"
      },
      "execution_count": null,
      "outputs": [
        {
          "output_type": "stream",
          "name": "stdout",
          "text": [
            "labels_train.mean(): 0.5\n",
            "labels_test.mean(): 0.5\n"
          ]
        }
      ]
    },
    {
      "cell_type": "markdown",
      "source": [
        "## 노치 필터"
      ],
      "metadata": {
        "id": "lFsvJKPiyQla"
      }
    },
    {
      "cell_type": "code",
      "source": [
        "# 노치 필터\n",
        "\n",
        "import numpy as np\n",
        "from scipy.signal import iirnotch, filtfilt\n",
        "\n",
        "def apply_notch_filter(data, notch_freq, fs, quality_factor=30):\n",
        "    \"\"\"\n",
        "    주어진 데이터에 노치 필터를 적용하여 특정 주파수의 잡음을 제거합니다.\n",
        "\n",
        "    :param data: 필터링할 데이터 (numpy 배열)\n",
        "    :param notch_freq: 제거할 잡음의 주파수 (Hz)\n",
        "    :param fs: 샘플링 주파수 (Hz)\n",
        "    :param quality_factor: 노치 필터의 품질 계수 (높을수록 필터의 반응이 좁아집니다)\n",
        "    :return: 필터링된 데이터\n",
        "    \"\"\"\n",
        "    b, a = iirnotch(notch_freq, quality_factor, fs)\n",
        "    filtered_data = filtfilt(b, a, data)\n",
        "    return filtered_data"
      ],
      "metadata": {
        "id": "O4lkVp-IyTTx"
      },
      "execution_count": null,
      "outputs": []
    },
    {
      "cell_type": "code",
      "source": [
        "# 샘플링 주파수 설정\n",
        "fs = 256\n",
        "\n",
        "# 노치 필터 적용\n",
        "# 특정 주파수의 전력선 잡음 필터링 - 국가에 따라 주로 50 또는 60 헤르츠\n",
        "\n",
        "notch_band_train = apply_notch_filter(data_input_train, 60, fs)\n",
        "notch_band_test = apply_notch_filter(data_input_test, 60, fs)\n",
        "\n",
        "# notch_band_train = apply_notch_filter(notch_band_train, 60, fs)\n",
        "# notch_band_valid = apply_notch_filter(notch_band_test, 60, fs)"
      ],
      "metadata": {
        "id": "f2fJEyqyydGr"
      },
      "execution_count": null,
      "outputs": []
    },
    {
      "cell_type": "markdown",
      "source": [
        "## FFT 변환"
      ],
      "metadata": {
        "id": "72dIRumFzA3e"
      }
    },
    {
      "cell_type": "code",
      "source": [
        "def fft(eeg_signal, sampling_rate):\n",
        "    \"\"\"\n",
        "    주어진 EEG 신호에 대한 FFT를 계산하고 주파수 및 해당 주파수 성분의 파워를 시각화합니다.\n",
        "\n",
        "    :param eeg_signal: EEG 신호 (1차원 numpy 배열)\n",
        "    :param sampling_rate: 샘플링 주파수 (Hz)\n",
        "    \"\"\"\n",
        "    n = len(eeg_signal)\n",
        "    T = 1 / sampling_rate\n",
        "    yf = np.fft.fft(eeg_signal)\n",
        "    xf = np.fft.fftfreq(n, T)[:n//2]\n",
        "    yf = 2.0/n * np.abs(yf[:n//2])\n",
        "    return yf"
      ],
      "metadata": {
        "id": "AgPPethCzAff"
      },
      "execution_count": null,
      "outputs": []
    },
    {
      "cell_type": "code",
      "source": [
        "# train 데이터에 FFT 적용\n",
        "\n",
        "FFT_train = []\n",
        "\n",
        "# 여기서 각 행은 전체 EEG 시그널을 나타내며, 이를 FFT 함수에 전달\n",
        "for i in range(55296):\n",
        "    FFT_train.append(fft(notch_band_train[i], 500))  # 각 행 전체를 fft 함수에 전달"
      ],
      "metadata": {
        "id": "7dQuo1LizElR"
      },
      "execution_count": null,
      "outputs": []
    },
    {
      "cell_type": "code",
      "source": [
        "# valid 데이터에 FFT 적용\n",
        "\n",
        "FFT_test = []\n",
        "\n",
        "# 따라서, 216 * 64 = 13824 개의 행이 각각 하나의 채널 데이터를 나타냅니다.\n",
        "for i in range(13824):\n",
        "    FFT_test.append(fft(notch_band_test[i], 500))"
      ],
      "metadata": {
        "id": "0C29YJblzLA2"
      },
      "execution_count": null,
      "outputs": []
    },
    {
      "cell_type": "code",
      "source": [
        "# 리스트 -> numpy array\n",
        "\n",
        "FFT_train = np.array(FFT_train)\n",
        "FFT_test = np.array(FFT_test)"
      ],
      "metadata": {
        "id": "tabdbpdIzQ5E"
      },
      "execution_count": null,
      "outputs": []
    },
    {
      "cell_type": "code",
      "source": [
        "print(\"FFT_train shape:\", FFT_train.shape)\n",
        "print(\"FFT_valid shape:\", FFT_test.shape)"
      ],
      "metadata": {
        "colab": {
          "base_uri": "https://localhost:8080/"
        },
        "id": "3w5-n7gazTTU",
        "outputId": "8db0bd6e-9760-4584-c4f3-5ec2d755763c"
      },
      "execution_count": null,
      "outputs": [
        {
          "output_type": "stream",
          "name": "stdout",
          "text": [
            "FFT_train shape: (55296, 128)\n",
            "FFT_valid shape: (13824, 128)\n"
          ]
        }
      ]
    },
    {
      "cell_type": "markdown",
      "source": [
        "## band power"
      ],
      "metadata": {
        "id": "pLReWfDmz9_K"
      }
    },
    {
      "cell_type": "code",
      "source": [
        "# band power 함수 정의\n",
        "\n",
        "def enhanced_band_power(fft_data, sampling_rate):\n",
        "    \"\"\"\n",
        "    주파수 대역을 0.5Hz 간격으로 세분화하여 각 세그먼트의 평균 파워를 계산합니다.\n",
        "\n",
        "    :param fft_data: FFT 결과 (numpy 배열, 각 행이 하나의 채널의 FFT 결과)\n",
        "    :param sampling_rate: 샘플링 주파수 (Hz)\n",
        "    :return: 각 주파수 대역의 평균 파워를 포함하는 numpy 배열\n",
        "    \"\"\"\n",
        "    freqs = np.fft.fftfreq(fft_data.shape[1] * 2, 1 / sampling_rate)[:fft_data.shape[1]]\n",
        "    max_freq = sampling_rate / 2\n",
        "    num_bands = int(max_freq / 1)  # 0.5Hz 간격으로 분할\n",
        "\n",
        "    # 주파수 대역 정의\n",
        "    band_indices = [np.logical_and(freqs >= i*0.5, freqs < (i+1)*0.5) for i in range(num_bands)]\n",
        "\n",
        "    # 각 대역의 평균 파워 계산\n",
        "    band_powers = np.zeros((fft_data.shape[0], num_bands))\n",
        "    for i, idx in enumerate(band_indices):\n",
        "        if np.any(idx):\n",
        "            band_powers[:, i] = np.nanmean(fft_data[:, idx], axis=1)\n",
        "        else:\n",
        "            band_powers[:, i] = 0  # 데이터가 없는 경우 0 할당\n",
        "\n",
        "    return band_powers"
      ],
      "metadata": {
        "id": "iq33eSIC0Ayx"
      },
      "execution_count": null,
      "outputs": []
    },
    {
      "cell_type": "code",
      "source": [
        "# FFT_train과 FFT_valid에 band_power 함수 적용\n",
        "band_power_train = np.vstack([enhanced_band_power(FFT_train[i * 64:(i + 1) * 64], 500) for i in range(864)])\n",
        "band_power_test = np.vstack([enhanced_band_power(FFT_test[i * 64:(i + 1) * 64], 500) for i in range(216)])\n",
        "\n",
        "print(\"band_power_train shape:\", band_power_train.shape)\n",
        "print(\"band_power_valid shape:\", band_power_test.shape)\n"
      ],
      "metadata": {
        "colab": {
          "base_uri": "https://localhost:8080/"
        },
        "id": "f-98XacV0FtO",
        "outputId": "ab4f25ad-02e3-4672-ff75-16549c232117"
      },
      "execution_count": null,
      "outputs": [
        {
          "output_type": "stream",
          "name": "stdout",
          "text": [
            "band_power_train shape: (55296, 250)\n",
            "band_power_valid shape: (13824, 250)\n"
          ]
        }
      ]
    },
    {
      "cell_type": "code",
      "source": [
        "from sklearn.preprocessing import StandardScaler\n",
        "\n",
        "# 스케일링\n",
        "scaler = StandardScaler()\n",
        "band_power_train = scaler.fit_transform(band_power_train)\n",
        "band_power_test = scaler.transform(band_power_test)"
      ],
      "metadata": {
        "id": "Myg8UnbrbDC5"
      },
      "execution_count": null,
      "outputs": []
    },
    {
      "cell_type": "code",
      "source": [],
      "metadata": {
        "id": "5B2h6P9eeNUJ"
      },
      "execution_count": null,
      "outputs": []
    },
    {
      "cell_type": "markdown",
      "source": [
        "# 모델링"
      ],
      "metadata": {
        "id": "01afjHyf0NJa"
      }
    },
    {
      "cell_type": "code",
      "source": [
        "# XGBoost\n",
        "\n",
        "\n",
        "from xgboost import XGBClassifier\n",
        "from sklearn.metrics import accuracy_score\n",
        "\n",
        "# 모델 초기화\n",
        "XG_model = XGBClassifier(n_estimators=300, max_depth=9, learning_rate=0.1,\n",
        "                         subsample=0.5, colsample_bytree=1, gamma=1.5, reg_lambda=5,\n",
        "                         reg_alpha=5, min_child_weight=8, random_state=0)\n",
        "\n",
        "XG_model.fit(band_power_train, labels_train, early_stopping_rounds=50,\n",
        "              eval_metric=\"logloss\", eval_set=[(band_power_test, labels_test)], verbose=True)\n",
        "\n",
        "# 예측\n",
        "y_test_pred_xg = XG_model.predict(band_power_test)\n",
        "y_train_pred_xg = XG_model.predict(band_power_train) # train 정확도 확인용\n",
        "\n",
        "# accuracy 확인(train/val)\n",
        "train_accuracy_xg = accuracy_score(labels_train, y_train_pred_xg)\n",
        "test_accuracy_xg = accuracy_score(labels_test, y_test_pred_xg)\n",
        "\n",
        "print(\"XGBoost train Accuracy:\", train_accuracy_xg)\n",
        "print(\"XGBoost Validation Accuracy:\", test_accuracy_xg)\n",
        "\n",
        "# y_valid_pred_xg.mean()\n",
        "print()\n",
        "print(\"XGBoost y_valid_pred_xg.mean():\", y_test_pred_xg.mean())"
      ],
      "metadata": {
        "colab": {
          "base_uri": "https://localhost:8080/"
        },
        "collapsed": true,
        "id": "EdVCU5780OqQ",
        "outputId": "fb268056-0d5e-4a0b-93fd-6da91e5b15b5"
      },
      "execution_count": null,
      "outputs": [
        {
          "output_type": "stream",
          "name": "stderr",
          "text": [
            "/usr/local/lib/python3.10/dist-packages/xgboost/sklearn.py:889: UserWarning: `eval_metric` in `fit` method is deprecated for better compatibility with scikit-learn, use `eval_metric` in constructor or`set_params` instead.\n",
            "  warnings.warn(\n",
            "/usr/local/lib/python3.10/dist-packages/xgboost/sklearn.py:889: UserWarning: `early_stopping_rounds` in `fit` method is deprecated for better compatibility with scikit-learn, use `early_stopping_rounds` in constructor or`set_params` instead.\n",
            "  warnings.warn(\n"
          ]
        },
        {
          "output_type": "stream",
          "name": "stdout",
          "text": [
            "[0]\tvalidation_0-logloss:0.68288\n",
            "[1]\tvalidation_0-logloss:0.67370\n",
            "[2]\tvalidation_0-logloss:0.66544\n",
            "[3]\tvalidation_0-logloss:0.65933\n",
            "[4]\tvalidation_0-logloss:0.65357\n",
            "[5]\tvalidation_0-logloss:0.64775\n",
            "[6]\tvalidation_0-logloss:0.64311\n",
            "[7]\tvalidation_0-logloss:0.63845\n",
            "[8]\tvalidation_0-logloss:0.63467\n",
            "[9]\tvalidation_0-logloss:0.63026\n",
            "[10]\tvalidation_0-logloss:0.62705\n",
            "[11]\tvalidation_0-logloss:0.62431\n",
            "[12]\tvalidation_0-logloss:0.62193\n",
            "[13]\tvalidation_0-logloss:0.61951\n",
            "[14]\tvalidation_0-logloss:0.61708\n",
            "[15]\tvalidation_0-logloss:0.61466\n",
            "[16]\tvalidation_0-logloss:0.61269\n",
            "[17]\tvalidation_0-logloss:0.61092\n",
            "[18]\tvalidation_0-logloss:0.60880\n",
            "[19]\tvalidation_0-logloss:0.60715\n",
            "[20]\tvalidation_0-logloss:0.60566\n",
            "[21]\tvalidation_0-logloss:0.60414\n",
            "[22]\tvalidation_0-logloss:0.60204\n",
            "[23]\tvalidation_0-logloss:0.60086\n",
            "[24]\tvalidation_0-logloss:0.59945\n",
            "[25]\tvalidation_0-logloss:0.59807\n",
            "[26]\tvalidation_0-logloss:0.59712\n",
            "[27]\tvalidation_0-logloss:0.59572\n",
            "[28]\tvalidation_0-logloss:0.59426\n",
            "[29]\tvalidation_0-logloss:0.59281\n",
            "[30]\tvalidation_0-logloss:0.59146\n",
            "[31]\tvalidation_0-logloss:0.59024\n",
            "[32]\tvalidation_0-logloss:0.58933\n",
            "[33]\tvalidation_0-logloss:0.58865\n",
            "[34]\tvalidation_0-logloss:0.58779\n",
            "[35]\tvalidation_0-logloss:0.58683\n",
            "[36]\tvalidation_0-logloss:0.58588\n",
            "[37]\tvalidation_0-logloss:0.58488\n",
            "[38]\tvalidation_0-logloss:0.58383\n",
            "[39]\tvalidation_0-logloss:0.58300\n",
            "[40]\tvalidation_0-logloss:0.58223\n",
            "[41]\tvalidation_0-logloss:0.58160\n",
            "[42]\tvalidation_0-logloss:0.58113\n",
            "[43]\tvalidation_0-logloss:0.57975\n",
            "[44]\tvalidation_0-logloss:0.57908\n",
            "[45]\tvalidation_0-logloss:0.57788\n",
            "[46]\tvalidation_0-logloss:0.57734\n",
            "[47]\tvalidation_0-logloss:0.57667\n",
            "[48]\tvalidation_0-logloss:0.57591\n",
            "[49]\tvalidation_0-logloss:0.57525\n",
            "[50]\tvalidation_0-logloss:0.57474\n",
            "[51]\tvalidation_0-logloss:0.57409\n",
            "[52]\tvalidation_0-logloss:0.57398\n",
            "[53]\tvalidation_0-logloss:0.57332\n",
            "[54]\tvalidation_0-logloss:0.57278\n",
            "[55]\tvalidation_0-logloss:0.57239\n",
            "[56]\tvalidation_0-logloss:0.57194\n",
            "[57]\tvalidation_0-logloss:0.57171\n",
            "[58]\tvalidation_0-logloss:0.57135\n",
            "[59]\tvalidation_0-logloss:0.57129\n",
            "[60]\tvalidation_0-logloss:0.57087\n",
            "[61]\tvalidation_0-logloss:0.57043\n",
            "[62]\tvalidation_0-logloss:0.56970\n",
            "[63]\tvalidation_0-logloss:0.56900\n",
            "[64]\tvalidation_0-logloss:0.56886\n",
            "[65]\tvalidation_0-logloss:0.56857\n",
            "[66]\tvalidation_0-logloss:0.56828\n",
            "[67]\tvalidation_0-logloss:0.56751\n",
            "[68]\tvalidation_0-logloss:0.56693\n",
            "[69]\tvalidation_0-logloss:0.56641\n",
            "[70]\tvalidation_0-logloss:0.56637\n",
            "[71]\tvalidation_0-logloss:0.56560\n",
            "[72]\tvalidation_0-logloss:0.56537\n",
            "[73]\tvalidation_0-logloss:0.56551\n",
            "[74]\tvalidation_0-logloss:0.56517\n",
            "[75]\tvalidation_0-logloss:0.56469\n",
            "[76]\tvalidation_0-logloss:0.56386\n",
            "[77]\tvalidation_0-logloss:0.56361\n",
            "[78]\tvalidation_0-logloss:0.56328\n",
            "[79]\tvalidation_0-logloss:0.56314\n",
            "[80]\tvalidation_0-logloss:0.56287\n",
            "[81]\tvalidation_0-logloss:0.56298\n",
            "[82]\tvalidation_0-logloss:0.56261\n",
            "[83]\tvalidation_0-logloss:0.56242\n",
            "[84]\tvalidation_0-logloss:0.56232\n",
            "[85]\tvalidation_0-logloss:0.56166\n",
            "[86]\tvalidation_0-logloss:0.56126\n",
            "[87]\tvalidation_0-logloss:0.56103\n",
            "[88]\tvalidation_0-logloss:0.56094\n",
            "[89]\tvalidation_0-logloss:0.56084\n",
            "[90]\tvalidation_0-logloss:0.56058\n",
            "[91]\tvalidation_0-logloss:0.56019\n",
            "[92]\tvalidation_0-logloss:0.56000\n",
            "[93]\tvalidation_0-logloss:0.55958\n",
            "[94]\tvalidation_0-logloss:0.55932\n",
            "[95]\tvalidation_0-logloss:0.55873\n",
            "[96]\tvalidation_0-logloss:0.55861\n",
            "[97]\tvalidation_0-logloss:0.55845\n",
            "[98]\tvalidation_0-logloss:0.55809\n",
            "[99]\tvalidation_0-logloss:0.55794\n",
            "[100]\tvalidation_0-logloss:0.55825\n",
            "[101]\tvalidation_0-logloss:0.55757\n",
            "[102]\tvalidation_0-logloss:0.55759\n",
            "[103]\tvalidation_0-logloss:0.55745\n",
            "[104]\tvalidation_0-logloss:0.55731\n",
            "[105]\tvalidation_0-logloss:0.55735\n",
            "[106]\tvalidation_0-logloss:0.55721\n",
            "[107]\tvalidation_0-logloss:0.55679\n",
            "[108]\tvalidation_0-logloss:0.55678\n",
            "[109]\tvalidation_0-logloss:0.55667\n",
            "[110]\tvalidation_0-logloss:0.55656\n",
            "[111]\tvalidation_0-logloss:0.55652\n",
            "[112]\tvalidation_0-logloss:0.55655\n",
            "[113]\tvalidation_0-logloss:0.55639\n",
            "[114]\tvalidation_0-logloss:0.55630\n",
            "[115]\tvalidation_0-logloss:0.55628\n",
            "[116]\tvalidation_0-logloss:0.55626\n",
            "[117]\tvalidation_0-logloss:0.55649\n",
            "[118]\tvalidation_0-logloss:0.55666\n",
            "[119]\tvalidation_0-logloss:0.55672\n",
            "[120]\tvalidation_0-logloss:0.55656\n",
            "[121]\tvalidation_0-logloss:0.55637\n",
            "[122]\tvalidation_0-logloss:0.55620\n",
            "[123]\tvalidation_0-logloss:0.55627\n",
            "[124]\tvalidation_0-logloss:0.55635\n",
            "[125]\tvalidation_0-logloss:0.55608\n",
            "[126]\tvalidation_0-logloss:0.55594\n",
            "[127]\tvalidation_0-logloss:0.55573\n",
            "[128]\tvalidation_0-logloss:0.55544\n",
            "[129]\tvalidation_0-logloss:0.55535\n",
            "[130]\tvalidation_0-logloss:0.55529\n",
            "[131]\tvalidation_0-logloss:0.55522\n",
            "[132]\tvalidation_0-logloss:0.55508\n",
            "[133]\tvalidation_0-logloss:0.55530\n",
            "[134]\tvalidation_0-logloss:0.55514\n",
            "[135]\tvalidation_0-logloss:0.55506\n",
            "[136]\tvalidation_0-logloss:0.55525\n",
            "[137]\tvalidation_0-logloss:0.55537\n",
            "[138]\tvalidation_0-logloss:0.55508\n",
            "[139]\tvalidation_0-logloss:0.55516\n",
            "[140]\tvalidation_0-logloss:0.55520\n",
            "[141]\tvalidation_0-logloss:0.55509\n",
            "[142]\tvalidation_0-logloss:0.55521\n",
            "[143]\tvalidation_0-logloss:0.55547\n",
            "[144]\tvalidation_0-logloss:0.55528\n",
            "[145]\tvalidation_0-logloss:0.55513\n",
            "[146]\tvalidation_0-logloss:0.55514\n",
            "[147]\tvalidation_0-logloss:0.55513\n",
            "[148]\tvalidation_0-logloss:0.55533\n",
            "[149]\tvalidation_0-logloss:0.55494\n",
            "[150]\tvalidation_0-logloss:0.55505\n",
            "[151]\tvalidation_0-logloss:0.55492\n",
            "[152]\tvalidation_0-logloss:0.55456\n",
            "[153]\tvalidation_0-logloss:0.55449\n",
            "[154]\tvalidation_0-logloss:0.55430\n",
            "[155]\tvalidation_0-logloss:0.55436\n",
            "[156]\tvalidation_0-logloss:0.55454\n",
            "[157]\tvalidation_0-logloss:0.55463\n",
            "[158]\tvalidation_0-logloss:0.55447\n",
            "[159]\tvalidation_0-logloss:0.55432\n",
            "[160]\tvalidation_0-logloss:0.55428\n",
            "[161]\tvalidation_0-logloss:0.55450\n",
            "[162]\tvalidation_0-logloss:0.55456\n",
            "[163]\tvalidation_0-logloss:0.55435\n",
            "[164]\tvalidation_0-logloss:0.55417\n",
            "[165]\tvalidation_0-logloss:0.55402\n",
            "[166]\tvalidation_0-logloss:0.55429\n",
            "[167]\tvalidation_0-logloss:0.55440\n",
            "[168]\tvalidation_0-logloss:0.55461\n",
            "[169]\tvalidation_0-logloss:0.55442\n",
            "[170]\tvalidation_0-logloss:0.55416\n",
            "[171]\tvalidation_0-logloss:0.55403\n",
            "[172]\tvalidation_0-logloss:0.55389\n",
            "[173]\tvalidation_0-logloss:0.55386\n",
            "[174]\tvalidation_0-logloss:0.55370\n",
            "[175]\tvalidation_0-logloss:0.55364\n",
            "[176]\tvalidation_0-logloss:0.55379\n",
            "[177]\tvalidation_0-logloss:0.55368\n",
            "[178]\tvalidation_0-logloss:0.55361\n",
            "[179]\tvalidation_0-logloss:0.55389\n",
            "[180]\tvalidation_0-logloss:0.55403\n",
            "[181]\tvalidation_0-logloss:0.55400\n",
            "[182]\tvalidation_0-logloss:0.55403\n",
            "[183]\tvalidation_0-logloss:0.55425\n",
            "[184]\tvalidation_0-logloss:0.55411\n",
            "[185]\tvalidation_0-logloss:0.55423\n",
            "[186]\tvalidation_0-logloss:0.55414\n",
            "[187]\tvalidation_0-logloss:0.55401\n",
            "[188]\tvalidation_0-logloss:0.55386\n",
            "[189]\tvalidation_0-logloss:0.55380\n",
            "[190]\tvalidation_0-logloss:0.55402\n",
            "[191]\tvalidation_0-logloss:0.55400\n",
            "[192]\tvalidation_0-logloss:0.55417\n",
            "[193]\tvalidation_0-logloss:0.55427\n",
            "[194]\tvalidation_0-logloss:0.55450\n",
            "[195]\tvalidation_0-logloss:0.55434\n",
            "[196]\tvalidation_0-logloss:0.55432\n",
            "[197]\tvalidation_0-logloss:0.55447\n",
            "[198]\tvalidation_0-logloss:0.55463\n",
            "[199]\tvalidation_0-logloss:0.55481\n",
            "[200]\tvalidation_0-logloss:0.55513\n",
            "[201]\tvalidation_0-logloss:0.55512\n",
            "[202]\tvalidation_0-logloss:0.55523\n",
            "[203]\tvalidation_0-logloss:0.55531\n",
            "[204]\tvalidation_0-logloss:0.55555\n",
            "[205]\tvalidation_0-logloss:0.55559\n",
            "[206]\tvalidation_0-logloss:0.55542\n",
            "[207]\tvalidation_0-logloss:0.55518\n",
            "[208]\tvalidation_0-logloss:0.55511\n",
            "[209]\tvalidation_0-logloss:0.55514\n",
            "[210]\tvalidation_0-logloss:0.55514\n",
            "[211]\tvalidation_0-logloss:0.55555\n",
            "[212]\tvalidation_0-logloss:0.55535\n",
            "[213]\tvalidation_0-logloss:0.55504\n",
            "[214]\tvalidation_0-logloss:0.55509\n",
            "[215]\tvalidation_0-logloss:0.55505\n",
            "[216]\tvalidation_0-logloss:0.55494\n",
            "[217]\tvalidation_0-logloss:0.55483\n",
            "[218]\tvalidation_0-logloss:0.55503\n",
            "[219]\tvalidation_0-logloss:0.55494\n",
            "[220]\tvalidation_0-logloss:0.55482\n",
            "[221]\tvalidation_0-logloss:0.55490\n",
            "[222]\tvalidation_0-logloss:0.55468\n",
            "[223]\tvalidation_0-logloss:0.55463\n",
            "[224]\tvalidation_0-logloss:0.55457\n",
            "[225]\tvalidation_0-logloss:0.55446\n",
            "[226]\tvalidation_0-logloss:0.55472\n",
            "[227]\tvalidation_0-logloss:0.55466\n",
            "[228]\tvalidation_0-logloss:0.55454\n",
            "XGBoost train Accuracy: 0.9018192997685185\n",
            "XGBoost Validation Accuracy: 0.7167245370370371\n",
            "\n",
            "XGBoost y_valid_pred_xg.mean(): 0.5083912037037037\n"
          ]
        }
      ]
    },
    {
      "cell_type": "code",
      "source": [
        "from google.colab import drive\n",
        "drive.mount('/content/drive')"
      ],
      "metadata": {
        "colab": {
          "base_uri": "https://localhost:8080/"
        },
        "id": "E_WRWyLTZLZz",
        "outputId": "85698672-eecd-4c32-f54a-23ddbeda76d3"
      },
      "execution_count": null,
      "outputs": [
        {
          "output_type": "stream",
          "name": "stdout",
          "text": [
            "Drive already mounted at /content/drive; to attempt to forcibly remount, call drive.mount(\"/content/drive\", force_remount=True).\n"
          ]
        }
      ]
    },
    {
      "cell_type": "markdown",
      "source": [
        "## 혼동행렬"
      ],
      "metadata": {
        "id": "t40hFdFR0cv9"
      }
    },
    {
      "cell_type": "code",
      "source": [
        "\n",
        "from sklearn.metrics import confusion_matrix, f1_score, roc_curve, auc, RocCurveDisplay\n",
        "import matplotlib.pyplot as plt\n",
        "\n",
        "cm = confusion_matrix(labels_test, y_test_pred_xg)\n",
        "print(\"Confusion Matrix:\")\n",
        "print(cm)\n"
      ],
      "metadata": {
        "colab": {
          "base_uri": "https://localhost:8080/"
        },
        "id": "v1C4yCZ90bbR",
        "outputId": "732b8da0-41a6-4ac9-80a8-fa2f7bb9743d"
      },
      "execution_count": null,
      "outputs": [
        {
          "output_type": "stream",
          "name": "stdout",
          "text": [
            "Confusion Matrix:\n",
            "[[4896 2016]\n",
            " [1900 5012]]\n"
          ]
        }
      ]
    },
    {
      "cell_type": "code",
      "source": [
        "t=0\n",
        "acc = []\n",
        "tt = []\n",
        "while(t<=1):\n",
        "\n",
        "    answer = []\n",
        "\n",
        "    for i in range(216):\n",
        "        pred = []\n",
        "        for s in range(64):\n",
        "            pred.append(y_test_pred_xg[i*64+s])\n",
        "        if sum(pred)/len(pred) >=t:\n",
        "            answer.append(1)\n",
        "        else:\n",
        "            answer.append(0)\n",
        "    print(accuracy_score(y_test, answer), t)\n",
        "    tt.append(t)\n",
        "    acc.append(accuracy_score(y_test, answer))\n",
        "    t+=0.001"
      ],
      "metadata": {
        "colab": {
          "base_uri": "https://localhost:8080/"
        },
        "id": "aEw6jjtOceTv",
        "outputId": "87fb6262-af0c-4cf8-84af-5e3e5e892291"
      },
      "execution_count": null,
      "outputs": [
        {
          "output_type": "stream",
          "name": "stdout",
          "text": [
            "0.5 0\n",
            "0.5 0.001\n",
            "0.5 0.002\n",
            "0.5 0.003\n",
            "0.5 0.004\n",
            "0.5 0.005\n",
            "0.5 0.006\n",
            "0.5 0.007\n",
            "0.5 0.008\n",
            "0.5 0.009000000000000001\n",
            "0.5 0.010000000000000002\n",
            "0.5 0.011000000000000003\n",
            "0.5 0.012000000000000004\n",
            "0.5 0.013000000000000005\n",
            "0.5 0.014000000000000005\n",
            "0.5 0.015000000000000006\n",
            "0.5138888888888888 0.016000000000000007\n",
            "0.5138888888888888 0.017000000000000008\n",
            "0.5138888888888888 0.01800000000000001\n",
            "0.5138888888888888 0.01900000000000001\n",
            "0.5138888888888888 0.02000000000000001\n",
            "0.5138888888888888 0.02100000000000001\n",
            "0.5138888888888888 0.022000000000000013\n",
            "0.5138888888888888 0.023000000000000013\n",
            "0.5138888888888888 0.024000000000000014\n",
            "0.5138888888888888 0.025000000000000015\n",
            "0.5138888888888888 0.026000000000000016\n",
            "0.5138888888888888 0.027000000000000017\n",
            "0.5138888888888888 0.028000000000000018\n",
            "0.5138888888888888 0.02900000000000002\n",
            "0.5138888888888888 0.03000000000000002\n",
            "0.5138888888888888 0.03100000000000002\n",
            "0.5185185185185185 0.03200000000000002\n",
            "0.5185185185185185 0.03300000000000002\n",
            "0.5185185185185185 0.03400000000000002\n",
            "0.5185185185185185 0.035000000000000024\n",
            "0.5185185185185185 0.036000000000000025\n",
            "0.5185185185185185 0.037000000000000026\n",
            "0.5185185185185185 0.03800000000000003\n",
            "0.5185185185185185 0.03900000000000003\n",
            "0.5185185185185185 0.04000000000000003\n",
            "0.5185185185185185 0.04100000000000003\n",
            "0.5185185185185185 0.04200000000000003\n",
            "0.5185185185185185 0.04300000000000003\n",
            "0.5185185185185185 0.04400000000000003\n",
            "0.5185185185185185 0.04500000000000003\n",
            "0.5185185185185185 0.046000000000000034\n",
            "0.5277777777777778 0.047000000000000035\n",
            "0.5277777777777778 0.048000000000000036\n",
            "0.5277777777777778 0.04900000000000004\n",
            "0.5277777777777778 0.05000000000000004\n",
            "0.5277777777777778 0.05100000000000004\n",
            "0.5277777777777778 0.05200000000000004\n",
            "0.5277777777777778 0.05300000000000004\n",
            "0.5277777777777778 0.05400000000000004\n",
            "0.5277777777777778 0.05500000000000004\n",
            "0.5277777777777778 0.05600000000000004\n",
            "0.5277777777777778 0.057000000000000044\n",
            "0.5277777777777778 0.058000000000000045\n",
            "0.5277777777777778 0.059000000000000045\n",
            "0.5277777777777778 0.060000000000000046\n",
            "0.5277777777777778 0.06100000000000005\n",
            "0.5277777777777778 0.06200000000000005\n",
            "0.5555555555555556 0.06300000000000004\n",
            "0.5555555555555556 0.06400000000000004\n",
            "0.5555555555555556 0.06500000000000004\n",
            "0.5555555555555556 0.06600000000000004\n",
            "0.5555555555555556 0.06700000000000005\n",
            "0.5555555555555556 0.06800000000000005\n",
            "0.5555555555555556 0.06900000000000005\n",
            "0.5555555555555556 0.07000000000000005\n",
            "0.5555555555555556 0.07100000000000005\n",
            "0.5555555555555556 0.07200000000000005\n",
            "0.5555555555555556 0.07300000000000005\n",
            "0.5555555555555556 0.07400000000000005\n",
            "0.5555555555555556 0.07500000000000005\n",
            "0.5555555555555556 0.07600000000000005\n",
            "0.5555555555555556 0.07700000000000005\n",
            "0.5555555555555556 0.07800000000000006\n",
            "0.5694444444444444 0.07900000000000006\n",
            "0.5694444444444444 0.08000000000000006\n",
            "0.5694444444444444 0.08100000000000006\n",
            "0.5694444444444444 0.08200000000000006\n",
            "0.5694444444444444 0.08300000000000006\n",
            "0.5694444444444444 0.08400000000000006\n",
            "0.5694444444444444 0.08500000000000006\n",
            "0.5694444444444444 0.08600000000000006\n",
            "0.5694444444444444 0.08700000000000006\n",
            "0.5694444444444444 0.08800000000000006\n",
            "0.5694444444444444 0.08900000000000007\n",
            "0.5694444444444444 0.09000000000000007\n",
            "0.5694444444444444 0.09100000000000007\n",
            "0.5694444444444444 0.09200000000000007\n",
            "0.5694444444444444 0.09300000000000007\n",
            "0.5972222222222222 0.09400000000000007\n",
            "0.5972222222222222 0.09500000000000007\n",
            "0.5972222222222222 0.09600000000000007\n",
            "0.5972222222222222 0.09700000000000007\n",
            "0.5972222222222222 0.09800000000000007\n",
            "0.5972222222222222 0.09900000000000007\n",
            "0.5972222222222222 0.10000000000000007\n",
            "0.5972222222222222 0.10100000000000008\n",
            "0.5972222222222222 0.10200000000000008\n",
            "0.5972222222222222 0.10300000000000008\n",
            "0.5972222222222222 0.10400000000000008\n",
            "0.5972222222222222 0.10500000000000008\n",
            "0.5972222222222222 0.10600000000000008\n",
            "0.5972222222222222 0.10700000000000008\n",
            "0.5972222222222222 0.10800000000000008\n",
            "0.5972222222222222 0.10900000000000008\n",
            "0.5972222222222222 0.11000000000000008\n",
            "0.5972222222222222 0.11100000000000008\n",
            "0.5972222222222222 0.11200000000000009\n",
            "0.5972222222222222 0.11300000000000009\n",
            "0.5972222222222222 0.11400000000000009\n",
            "0.5972222222222222 0.11500000000000009\n",
            "0.5972222222222222 0.11600000000000009\n",
            "0.5972222222222222 0.11700000000000009\n",
            "0.5972222222222222 0.11800000000000009\n",
            "0.5972222222222222 0.11900000000000009\n",
            "0.5972222222222222 0.12000000000000009\n",
            "0.5972222222222222 0.1210000000000001\n",
            "0.5972222222222222 0.1220000000000001\n",
            "0.5972222222222222 0.1230000000000001\n",
            "0.5972222222222222 0.1240000000000001\n",
            "0.6111111111111112 0.12500000000000008\n",
            "0.6111111111111112 0.12600000000000008\n",
            "0.6111111111111112 0.12700000000000009\n",
            "0.6111111111111112 0.12800000000000009\n",
            "0.6111111111111112 0.1290000000000001\n",
            "0.6111111111111112 0.1300000000000001\n",
            "0.6111111111111112 0.1310000000000001\n",
            "0.6111111111111112 0.1320000000000001\n",
            "0.6111111111111112 0.1330000000000001\n",
            "0.6111111111111112 0.1340000000000001\n",
            "0.6111111111111112 0.1350000000000001\n",
            "0.6111111111111112 0.1360000000000001\n",
            "0.6111111111111112 0.1370000000000001\n",
            "0.6111111111111112 0.1380000000000001\n",
            "0.6111111111111112 0.1390000000000001\n",
            "0.6111111111111112 0.1400000000000001\n",
            "0.6157407407407407 0.1410000000000001\n",
            "0.6157407407407407 0.1420000000000001\n",
            "0.6157407407407407 0.1430000000000001\n",
            "0.6157407407407407 0.1440000000000001\n",
            "0.6157407407407407 0.1450000000000001\n",
            "0.6157407407407407 0.1460000000000001\n",
            "0.6157407407407407 0.1470000000000001\n",
            "0.6157407407407407 0.1480000000000001\n",
            "0.6157407407407407 0.1490000000000001\n",
            "0.6157407407407407 0.1500000000000001\n",
            "0.6157407407407407 0.1510000000000001\n",
            "0.6157407407407407 0.1520000000000001\n",
            "0.6157407407407407 0.1530000000000001\n",
            "0.6157407407407407 0.1540000000000001\n",
            "0.6157407407407407 0.1550000000000001\n",
            "0.6157407407407407 0.1560000000000001\n",
            "0.6388888888888888 0.1570000000000001\n",
            "0.6388888888888888 0.1580000000000001\n",
            "0.6388888888888888 0.1590000000000001\n",
            "0.6388888888888888 0.16000000000000011\n",
            "0.6388888888888888 0.16100000000000012\n",
            "0.6388888888888888 0.16200000000000012\n",
            "0.6388888888888888 0.16300000000000012\n",
            "0.6388888888888888 0.16400000000000012\n",
            "0.6388888888888888 0.16500000000000012\n",
            "0.6388888888888888 0.16600000000000012\n",
            "0.6388888888888888 0.16700000000000012\n",
            "0.6388888888888888 0.16800000000000012\n",
            "0.6388888888888888 0.16900000000000012\n",
            "0.6388888888888888 0.17000000000000012\n",
            "0.6388888888888888 0.17100000000000012\n",
            "0.6527777777777778 0.17200000000000013\n",
            "0.6527777777777778 0.17300000000000013\n",
            "0.6527777777777778 0.17400000000000013\n",
            "0.6527777777777778 0.17500000000000013\n",
            "0.6527777777777778 0.17600000000000013\n",
            "0.6527777777777778 0.17700000000000013\n",
            "0.6527777777777778 0.17800000000000013\n",
            "0.6527777777777778 0.17900000000000013\n",
            "0.6527777777777778 0.18000000000000013\n",
            "0.6527777777777778 0.18100000000000013\n",
            "0.6527777777777778 0.18200000000000013\n",
            "0.6527777777777778 0.18300000000000013\n",
            "0.6527777777777778 0.18400000000000014\n",
            "0.6527777777777778 0.18500000000000014\n",
            "0.6527777777777778 0.18600000000000014\n",
            "0.6527777777777778 0.18700000000000014\n",
            "0.6620370370370371 0.18800000000000014\n",
            "0.6620370370370371 0.18900000000000014\n",
            "0.6620370370370371 0.19000000000000014\n",
            "0.6620370370370371 0.19100000000000014\n",
            "0.6620370370370371 0.19200000000000014\n",
            "0.6620370370370371 0.19300000000000014\n",
            "0.6620370370370371 0.19400000000000014\n",
            "0.6620370370370371 0.19500000000000015\n",
            "0.6620370370370371 0.19600000000000015\n",
            "0.6620370370370371 0.19700000000000015\n",
            "0.6620370370370371 0.19800000000000015\n",
            "0.6620370370370371 0.19900000000000015\n",
            "0.6620370370370371 0.20000000000000015\n",
            "0.6620370370370371 0.20100000000000015\n",
            "0.6620370370370371 0.20200000000000015\n",
            "0.6620370370370371 0.20300000000000015\n",
            "0.6851851851851852 0.20400000000000015\n",
            "0.6851851851851852 0.20500000000000015\n",
            "0.6851851851851852 0.20600000000000016\n",
            "0.6851851851851852 0.20700000000000016\n",
            "0.6851851851851852 0.20800000000000016\n",
            "0.6851851851851852 0.20900000000000016\n",
            "0.6851851851851852 0.21000000000000016\n",
            "0.6851851851851852 0.21100000000000016\n",
            "0.6851851851851852 0.21200000000000016\n",
            "0.6851851851851852 0.21300000000000016\n",
            "0.6851851851851852 0.21400000000000016\n",
            "0.6851851851851852 0.21500000000000016\n",
            "0.6851851851851852 0.21600000000000016\n",
            "0.6851851851851852 0.21700000000000016\n",
            "0.6851851851851852 0.21800000000000017\n",
            "0.6944444444444444 0.21900000000000017\n",
            "0.6944444444444444 0.22000000000000017\n",
            "0.6944444444444444 0.22100000000000017\n",
            "0.6944444444444444 0.22200000000000017\n",
            "0.6944444444444444 0.22300000000000017\n",
            "0.6944444444444444 0.22400000000000017\n",
            "0.6944444444444444 0.22500000000000017\n",
            "0.6944444444444444 0.22600000000000017\n",
            "0.6944444444444444 0.22700000000000017\n",
            "0.6944444444444444 0.22800000000000017\n",
            "0.6944444444444444 0.22900000000000018\n",
            "0.6944444444444444 0.23000000000000018\n",
            "0.6944444444444444 0.23100000000000018\n",
            "0.6944444444444444 0.23200000000000018\n",
            "0.6944444444444444 0.23300000000000018\n",
            "0.6944444444444444 0.23400000000000018\n",
            "0.7037037037037037 0.23500000000000018\n",
            "0.7037037037037037 0.23600000000000018\n",
            "0.7037037037037037 0.23700000000000018\n",
            "0.7037037037037037 0.23800000000000018\n",
            "0.7037037037037037 0.23900000000000018\n",
            "0.7037037037037037 0.24000000000000019\n",
            "0.7037037037037037 0.2410000000000002\n",
            "0.7037037037037037 0.2420000000000002\n",
            "0.7037037037037037 0.2430000000000002\n",
            "0.7037037037037037 0.2440000000000002\n",
            "0.7037037037037037 0.2450000000000002\n",
            "0.7037037037037037 0.2460000000000002\n",
            "0.7037037037037037 0.2470000000000002\n",
            "0.7037037037037037 0.2480000000000002\n",
            "0.7037037037037037 0.2490000000000002\n",
            "0.7268518518518519 0.25000000000000017\n",
            "0.7268518518518519 0.25100000000000017\n",
            "0.7268518518518519 0.25200000000000017\n",
            "0.7268518518518519 0.25300000000000017\n",
            "0.7268518518518519 0.25400000000000017\n",
            "0.7268518518518519 0.25500000000000017\n",
            "0.7268518518518519 0.25600000000000017\n",
            "0.7268518518518519 0.2570000000000002\n",
            "0.7268518518518519 0.2580000000000002\n",
            "0.7268518518518519 0.2590000000000002\n",
            "0.7268518518518519 0.2600000000000002\n",
            "0.7268518518518519 0.2610000000000002\n",
            "0.7268518518518519 0.2620000000000002\n",
            "0.7268518518518519 0.2630000000000002\n",
            "0.7268518518518519 0.2640000000000002\n",
            "0.7268518518518519 0.2650000000000002\n",
            "0.7453703703703703 0.2660000000000002\n",
            "0.7453703703703703 0.2670000000000002\n",
            "0.7453703703703703 0.2680000000000002\n",
            "0.7453703703703703 0.2690000000000002\n",
            "0.7453703703703703 0.2700000000000002\n",
            "0.7453703703703703 0.2710000000000002\n",
            "0.7453703703703703 0.2720000000000002\n",
            "0.7453703703703703 0.2730000000000002\n",
            "0.7453703703703703 0.2740000000000002\n",
            "0.7453703703703703 0.2750000000000002\n",
            "0.7453703703703703 0.2760000000000002\n",
            "0.7453703703703703 0.2770000000000002\n",
            "0.7453703703703703 0.2780000000000002\n",
            "0.7453703703703703 0.2790000000000002\n",
            "0.7453703703703703 0.2800000000000002\n",
            "0.7453703703703703 0.2810000000000002\n",
            "0.7824074074074074 0.2820000000000002\n",
            "0.7824074074074074 0.2830000000000002\n",
            "0.7824074074074074 0.2840000000000002\n",
            "0.7824074074074074 0.2850000000000002\n",
            "0.7824074074074074 0.2860000000000002\n",
            "0.7824074074074074 0.2870000000000002\n",
            "0.7824074074074074 0.2880000000000002\n",
            "0.7824074074074074 0.2890000000000002\n",
            "0.7824074074074074 0.2900000000000002\n",
            "0.7824074074074074 0.2910000000000002\n",
            "0.7824074074074074 0.2920000000000002\n",
            "0.7824074074074074 0.2930000000000002\n",
            "0.7824074074074074 0.2940000000000002\n",
            "0.7824074074074074 0.2950000000000002\n",
            "0.7824074074074074 0.2960000000000002\n",
            "0.7916666666666666 0.2970000000000002\n",
            "0.7916666666666666 0.2980000000000002\n",
            "0.7916666666666666 0.2990000000000002\n",
            "0.7916666666666666 0.3000000000000002\n",
            "0.7916666666666666 0.3010000000000002\n",
            "0.7916666666666666 0.3020000000000002\n",
            "0.7916666666666666 0.3030000000000002\n",
            "0.7916666666666666 0.3040000000000002\n",
            "0.7916666666666666 0.3050000000000002\n",
            "0.7916666666666666 0.3060000000000002\n",
            "0.7916666666666666 0.3070000000000002\n",
            "0.7916666666666666 0.3080000000000002\n",
            "0.7916666666666666 0.3090000000000002\n",
            "0.7916666666666666 0.3100000000000002\n",
            "0.7916666666666666 0.3110000000000002\n",
            "0.7916666666666666 0.3120000000000002\n",
            "0.7962962962962963 0.3130000000000002\n",
            "0.7962962962962963 0.3140000000000002\n",
            "0.7962962962962963 0.3150000000000002\n",
            "0.7962962962962963 0.3160000000000002\n",
            "0.7962962962962963 0.3170000000000002\n",
            "0.7962962962962963 0.3180000000000002\n",
            "0.7962962962962963 0.31900000000000023\n",
            "0.7962962962962963 0.32000000000000023\n",
            "0.7962962962962963 0.32100000000000023\n",
            "0.7962962962962963 0.32200000000000023\n",
            "0.7962962962962963 0.32300000000000023\n",
            "0.7962962962962963 0.32400000000000023\n",
            "0.7962962962962963 0.32500000000000023\n",
            "0.7962962962962963 0.32600000000000023\n",
            "0.7962962962962963 0.32700000000000023\n",
            "0.7962962962962963 0.32800000000000024\n",
            "0.8009259259259259 0.32900000000000024\n",
            "0.8009259259259259 0.33000000000000024\n",
            "0.8009259259259259 0.33100000000000024\n",
            "0.8009259259259259 0.33200000000000024\n",
            "0.8009259259259259 0.33300000000000024\n",
            "0.8009259259259259 0.33400000000000024\n",
            "0.8009259259259259 0.33500000000000024\n",
            "0.8009259259259259 0.33600000000000024\n",
            "0.8009259259259259 0.33700000000000024\n",
            "0.8009259259259259 0.33800000000000024\n",
            "0.8009259259259259 0.33900000000000025\n",
            "0.8009259259259259 0.34000000000000025\n",
            "0.8009259259259259 0.34100000000000025\n",
            "0.8009259259259259 0.34200000000000025\n",
            "0.8009259259259259 0.34300000000000025\n",
            "0.8148148148148148 0.34400000000000025\n",
            "0.8148148148148148 0.34500000000000025\n",
            "0.8148148148148148 0.34600000000000025\n",
            "0.8148148148148148 0.34700000000000025\n",
            "0.8148148148148148 0.34800000000000025\n",
            "0.8148148148148148 0.34900000000000025\n",
            "0.8148148148148148 0.35000000000000026\n",
            "0.8148148148148148 0.35100000000000026\n",
            "0.8148148148148148 0.35200000000000026\n",
            "0.8148148148148148 0.35300000000000026\n",
            "0.8148148148148148 0.35400000000000026\n",
            "0.8148148148148148 0.35500000000000026\n",
            "0.8148148148148148 0.35600000000000026\n",
            "0.8148148148148148 0.35700000000000026\n",
            "0.8148148148148148 0.35800000000000026\n",
            "0.8148148148148148 0.35900000000000026\n",
            "0.8148148148148148 0.36000000000000026\n",
            "0.8148148148148148 0.36100000000000027\n",
            "0.8148148148148148 0.36200000000000027\n",
            "0.8148148148148148 0.36300000000000027\n",
            "0.8148148148148148 0.36400000000000027\n",
            "0.8148148148148148 0.36500000000000027\n",
            "0.8148148148148148 0.36600000000000027\n",
            "0.8148148148148148 0.36700000000000027\n",
            "0.8148148148148148 0.36800000000000027\n",
            "0.8148148148148148 0.36900000000000027\n",
            "0.8148148148148148 0.3700000000000003\n",
            "0.8148148148148148 0.3710000000000003\n",
            "0.8148148148148148 0.3720000000000003\n",
            "0.8148148148148148 0.3730000000000003\n",
            "0.8148148148148148 0.3740000000000003\n",
            "0.8287037037037037 0.3750000000000003\n",
            "0.8287037037037037 0.3760000000000003\n",
            "0.8287037037037037 0.3770000000000003\n",
            "0.8287037037037037 0.3780000000000003\n",
            "0.8287037037037037 0.3790000000000003\n",
            "0.8287037037037037 0.3800000000000003\n",
            "0.8287037037037037 0.3810000000000003\n",
            "0.8287037037037037 0.3820000000000003\n",
            "0.8287037037037037 0.3830000000000003\n",
            "0.8287037037037037 0.3840000000000003\n",
            "0.8287037037037037 0.3850000000000003\n",
            "0.8287037037037037 0.3860000000000003\n",
            "0.8287037037037037 0.3870000000000003\n",
            "0.8287037037037037 0.3880000000000003\n",
            "0.8287037037037037 0.3890000000000003\n",
            "0.8287037037037037 0.3900000000000003\n",
            "0.8379629629629629 0.3910000000000003\n",
            "0.8379629629629629 0.3920000000000003\n",
            "0.8379629629629629 0.3930000000000003\n",
            "0.8379629629629629 0.3940000000000003\n",
            "0.8379629629629629 0.3950000000000003\n",
            "0.8379629629629629 0.3960000000000003\n",
            "0.8379629629629629 0.3970000000000003\n",
            "0.8379629629629629 0.3980000000000003\n",
            "0.8379629629629629 0.3990000000000003\n",
            "0.8379629629629629 0.4000000000000003\n",
            "0.8379629629629629 0.4010000000000003\n",
            "0.8379629629629629 0.4020000000000003\n",
            "0.8379629629629629 0.4030000000000003\n",
            "0.8379629629629629 0.4040000000000003\n",
            "0.8379629629629629 0.4050000000000003\n",
            "0.8379629629629629 0.4060000000000003\n",
            "0.8472222222222222 0.4070000000000003\n",
            "0.8472222222222222 0.4080000000000003\n",
            "0.8472222222222222 0.4090000000000003\n",
            "0.8472222222222222 0.4100000000000003\n",
            "0.8472222222222222 0.4110000000000003\n",
            "0.8472222222222222 0.4120000000000003\n",
            "0.8472222222222222 0.4130000000000003\n",
            "0.8472222222222222 0.4140000000000003\n",
            "0.8472222222222222 0.4150000000000003\n",
            "0.8472222222222222 0.4160000000000003\n",
            "0.8472222222222222 0.4170000000000003\n",
            "0.8472222222222222 0.4180000000000003\n",
            "0.8472222222222222 0.4190000000000003\n",
            "0.8472222222222222 0.4200000000000003\n",
            "0.8472222222222222 0.4210000000000003\n",
            "0.8611111111111112 0.4220000000000003\n",
            "0.8611111111111112 0.4230000000000003\n",
            "0.8611111111111112 0.4240000000000003\n",
            "0.8611111111111112 0.4250000000000003\n",
            "0.8611111111111112 0.4260000000000003\n",
            "0.8611111111111112 0.4270000000000003\n",
            "0.8611111111111112 0.4280000000000003\n",
            "0.8611111111111112 0.4290000000000003\n",
            "0.8611111111111112 0.4300000000000003\n",
            "0.8611111111111112 0.4310000000000003\n",
            "0.8611111111111112 0.43200000000000033\n",
            "0.8611111111111112 0.43300000000000033\n",
            "0.8611111111111112 0.43400000000000033\n",
            "0.8611111111111112 0.43500000000000033\n",
            "0.8611111111111112 0.43600000000000033\n",
            "0.8611111111111112 0.43700000000000033\n",
            "0.8703703703703703 0.43800000000000033\n",
            "0.8703703703703703 0.43900000000000033\n",
            "0.8703703703703703 0.44000000000000034\n",
            "0.8703703703703703 0.44100000000000034\n",
            "0.8703703703703703 0.44200000000000034\n",
            "0.8703703703703703 0.44300000000000034\n",
            "0.8703703703703703 0.44400000000000034\n",
            "0.8703703703703703 0.44500000000000034\n",
            "0.8703703703703703 0.44600000000000034\n",
            "0.8703703703703703 0.44700000000000034\n",
            "0.8703703703703703 0.44800000000000034\n",
            "0.8703703703703703 0.44900000000000034\n",
            "0.8703703703703703 0.45000000000000034\n",
            "0.8703703703703703 0.45100000000000035\n",
            "0.8703703703703703 0.45200000000000035\n",
            "0.8703703703703703 0.45300000000000035\n",
            "0.8703703703703703 0.45400000000000035\n",
            "0.8703703703703703 0.45500000000000035\n",
            "0.8703703703703703 0.45600000000000035\n",
            "0.8703703703703703 0.45700000000000035\n",
            "0.8703703703703703 0.45800000000000035\n",
            "0.8703703703703703 0.45900000000000035\n",
            "0.8703703703703703 0.46000000000000035\n",
            "0.8703703703703703 0.46100000000000035\n",
            "0.8703703703703703 0.46200000000000035\n",
            "0.8703703703703703 0.46300000000000036\n",
            "0.8703703703703703 0.46400000000000036\n",
            "0.8703703703703703 0.46500000000000036\n",
            "0.8703703703703703 0.46600000000000036\n",
            "0.8703703703703703 0.46700000000000036\n",
            "0.8703703703703703 0.46800000000000036\n",
            "0.8657407407407407 0.46900000000000036\n",
            "0.8657407407407407 0.47000000000000036\n",
            "0.8657407407407407 0.47100000000000036\n",
            "0.8657407407407407 0.47200000000000036\n",
            "0.8657407407407407 0.47300000000000036\n",
            "0.8657407407407407 0.47400000000000037\n",
            "0.8657407407407407 0.47500000000000037\n",
            "0.8657407407407407 0.47600000000000037\n",
            "0.8657407407407407 0.47700000000000037\n",
            "0.8657407407407407 0.47800000000000037\n",
            "0.8657407407407407 0.47900000000000037\n",
            "0.8657407407407407 0.48000000000000037\n",
            "0.8657407407407407 0.48100000000000037\n",
            "0.8657407407407407 0.4820000000000004\n",
            "0.8657407407407407 0.4830000000000004\n",
            "0.8657407407407407 0.4840000000000004\n",
            "0.875 0.4850000000000004\n",
            "0.875 0.4860000000000004\n",
            "0.875 0.4870000000000004\n",
            "0.875 0.4880000000000004\n",
            "0.875 0.4890000000000004\n",
            "0.875 0.4900000000000004\n",
            "0.875 0.4910000000000004\n",
            "0.875 0.4920000000000004\n",
            "0.875 0.4930000000000004\n",
            "0.875 0.4940000000000004\n",
            "0.875 0.4950000000000004\n",
            "0.875 0.4960000000000004\n",
            "0.875 0.4970000000000004\n",
            "0.875 0.4980000000000004\n",
            "0.875 0.4990000000000004\n",
            "0.875 0.5000000000000003\n",
            "0.875 0.5010000000000003\n",
            "0.875 0.5020000000000003\n",
            "0.875 0.5030000000000003\n",
            "0.875 0.5040000000000003\n",
            "0.875 0.5050000000000003\n",
            "0.875 0.5060000000000003\n",
            "0.875 0.5070000000000003\n",
            "0.875 0.5080000000000003\n",
            "0.875 0.5090000000000003\n",
            "0.875 0.5100000000000003\n",
            "0.875 0.5110000000000003\n",
            "0.875 0.5120000000000003\n",
            "0.875 0.5130000000000003\n",
            "0.875 0.5140000000000003\n",
            "0.875 0.5150000000000003\n",
            "0.8611111111111112 0.5160000000000003\n",
            "0.8611111111111112 0.5170000000000003\n",
            "0.8611111111111112 0.5180000000000003\n",
            "0.8611111111111112 0.5190000000000003\n",
            "0.8611111111111112 0.5200000000000004\n",
            "0.8611111111111112 0.5210000000000004\n",
            "0.8611111111111112 0.5220000000000004\n",
            "0.8611111111111112 0.5230000000000004\n",
            "0.8611111111111112 0.5240000000000004\n",
            "0.8611111111111112 0.5250000000000004\n",
            "0.8611111111111112 0.5260000000000004\n",
            "0.8611111111111112 0.5270000000000004\n",
            "0.8611111111111112 0.5280000000000004\n",
            "0.8611111111111112 0.5290000000000004\n",
            "0.8611111111111112 0.5300000000000004\n",
            "0.8611111111111112 0.5310000000000004\n",
            "0.8657407407407407 0.5320000000000004\n",
            "0.8657407407407407 0.5330000000000004\n",
            "0.8657407407407407 0.5340000000000004\n",
            "0.8657407407407407 0.5350000000000004\n",
            "0.8657407407407407 0.5360000000000004\n",
            "0.8657407407407407 0.5370000000000004\n",
            "0.8657407407407407 0.5380000000000004\n",
            "0.8657407407407407 0.5390000000000004\n",
            "0.8657407407407407 0.5400000000000004\n",
            "0.8657407407407407 0.5410000000000004\n",
            "0.8657407407407407 0.5420000000000004\n",
            "0.8657407407407407 0.5430000000000004\n",
            "0.8657407407407407 0.5440000000000004\n",
            "0.8657407407407407 0.5450000000000004\n",
            "0.8657407407407407 0.5460000000000004\n",
            "0.8657407407407407 0.5470000000000004\n",
            "0.8657407407407407 0.5480000000000004\n",
            "0.8657407407407407 0.5490000000000004\n",
            "0.8657407407407407 0.5500000000000004\n",
            "0.8657407407407407 0.5510000000000004\n",
            "0.8657407407407407 0.5520000000000004\n",
            "0.8657407407407407 0.5530000000000004\n",
            "0.8657407407407407 0.5540000000000004\n",
            "0.8657407407407407 0.5550000000000004\n",
            "0.8657407407407407 0.5560000000000004\n",
            "0.8657407407407407 0.5570000000000004\n",
            "0.8657407407407407 0.5580000000000004\n",
            "0.8657407407407407 0.5590000000000004\n",
            "0.8657407407407407 0.5600000000000004\n",
            "0.8657407407407407 0.5610000000000004\n",
            "0.8657407407407407 0.5620000000000004\n",
            "0.8472222222222222 0.5630000000000004\n",
            "0.8472222222222222 0.5640000000000004\n",
            "0.8472222222222222 0.5650000000000004\n",
            "0.8472222222222222 0.5660000000000004\n",
            "0.8472222222222222 0.5670000000000004\n",
            "0.8472222222222222 0.5680000000000004\n",
            "0.8472222222222222 0.5690000000000004\n",
            "0.8472222222222222 0.5700000000000004\n",
            "0.8472222222222222 0.5710000000000004\n",
            "0.8472222222222222 0.5720000000000004\n",
            "0.8472222222222222 0.5730000000000004\n",
            "0.8472222222222222 0.5740000000000004\n",
            "0.8472222222222222 0.5750000000000004\n",
            "0.8472222222222222 0.5760000000000004\n",
            "0.8472222222222222 0.5770000000000004\n",
            "0.8472222222222222 0.5780000000000004\n",
            "0.8564814814814815 0.5790000000000004\n",
            "0.8564814814814815 0.5800000000000004\n",
            "0.8564814814814815 0.5810000000000004\n",
            "0.8564814814814815 0.5820000000000004\n",
            "0.8564814814814815 0.5830000000000004\n",
            "0.8564814814814815 0.5840000000000004\n",
            "0.8564814814814815 0.5850000000000004\n",
            "0.8564814814814815 0.5860000000000004\n",
            "0.8564814814814815 0.5870000000000004\n",
            "0.8564814814814815 0.5880000000000004\n",
            "0.8564814814814815 0.5890000000000004\n",
            "0.8564814814814815 0.5900000000000004\n",
            "0.8564814814814815 0.5910000000000004\n",
            "0.8564814814814815 0.5920000000000004\n",
            "0.8564814814814815 0.5930000000000004\n",
            "0.8564814814814815 0.5940000000000004\n",
            "0.8564814814814815 0.5950000000000004\n",
            "0.8564814814814815 0.5960000000000004\n",
            "0.8564814814814815 0.5970000000000004\n",
            "0.8564814814814815 0.5980000000000004\n",
            "0.8564814814814815 0.5990000000000004\n",
            "0.8564814814814815 0.6000000000000004\n",
            "0.8564814814814815 0.6010000000000004\n",
            "0.8564814814814815 0.6020000000000004\n",
            "0.8564814814814815 0.6030000000000004\n",
            "0.8564814814814815 0.6040000000000004\n",
            "0.8564814814814815 0.6050000000000004\n",
            "0.8564814814814815 0.6060000000000004\n",
            "0.8564814814814815 0.6070000000000004\n",
            "0.8564814814814815 0.6080000000000004\n",
            "0.8564814814814815 0.6090000000000004\n",
            "0.8472222222222222 0.6100000000000004\n",
            "0.8472222222222222 0.6110000000000004\n",
            "0.8472222222222222 0.6120000000000004\n",
            "0.8472222222222222 0.6130000000000004\n",
            "0.8472222222222222 0.6140000000000004\n",
            "0.8472222222222222 0.6150000000000004\n",
            "0.8472222222222222 0.6160000000000004\n",
            "0.8472222222222222 0.6170000000000004\n",
            "0.8472222222222222 0.6180000000000004\n",
            "0.8472222222222222 0.6190000000000004\n",
            "0.8472222222222222 0.6200000000000004\n",
            "0.8472222222222222 0.6210000000000004\n",
            "0.8472222222222222 0.6220000000000004\n",
            "0.8472222222222222 0.6230000000000004\n",
            "0.8472222222222222 0.6240000000000004\n",
            "0.8564814814814815 0.6250000000000004\n",
            "0.8564814814814815 0.6260000000000004\n",
            "0.8564814814814815 0.6270000000000004\n",
            "0.8564814814814815 0.6280000000000004\n",
            "0.8564814814814815 0.6290000000000004\n",
            "0.8564814814814815 0.6300000000000004\n",
            "0.8564814814814815 0.6310000000000004\n",
            "0.8564814814814815 0.6320000000000005\n",
            "0.8564814814814815 0.6330000000000005\n",
            "0.8564814814814815 0.6340000000000005\n",
            "0.8564814814814815 0.6350000000000005\n",
            "0.8564814814814815 0.6360000000000005\n",
            "0.8564814814814815 0.6370000000000005\n",
            "0.8564814814814815 0.6380000000000005\n",
            "0.8564814814814815 0.6390000000000005\n",
            "0.8564814814814815 0.6400000000000005\n",
            "0.8425925925925926 0.6410000000000005\n",
            "0.8425925925925926 0.6420000000000005\n",
            "0.8425925925925926 0.6430000000000005\n",
            "0.8425925925925926 0.6440000000000005\n",
            "0.8425925925925926 0.6450000000000005\n",
            "0.8425925925925926 0.6460000000000005\n",
            "0.8425925925925926 0.6470000000000005\n",
            "0.8425925925925926 0.6480000000000005\n",
            "0.8425925925925926 0.6490000000000005\n",
            "0.8425925925925926 0.6500000000000005\n",
            "0.8425925925925926 0.6510000000000005\n",
            "0.8425925925925926 0.6520000000000005\n",
            "0.8425925925925926 0.6530000000000005\n",
            "0.8425925925925926 0.6540000000000005\n",
            "0.8425925925925926 0.6550000000000005\n",
            "0.8425925925925926 0.6560000000000005\n",
            "0.8333333333333334 0.6570000000000005\n",
            "0.8333333333333334 0.6580000000000005\n",
            "0.8333333333333334 0.6590000000000005\n",
            "0.8333333333333334 0.6600000000000005\n",
            "0.8333333333333334 0.6610000000000005\n",
            "0.8333333333333334 0.6620000000000005\n",
            "0.8333333333333334 0.6630000000000005\n",
            "0.8333333333333334 0.6640000000000005\n",
            "0.8333333333333334 0.6650000000000005\n",
            "0.8333333333333334 0.6660000000000005\n",
            "0.8333333333333334 0.6670000000000005\n",
            "0.8333333333333334 0.6680000000000005\n",
            "0.8333333333333334 0.6690000000000005\n",
            "0.8333333333333334 0.6700000000000005\n",
            "0.8333333333333334 0.6710000000000005\n",
            "0.8194444444444444 0.6720000000000005\n",
            "0.8194444444444444 0.6730000000000005\n",
            "0.8194444444444444 0.6740000000000005\n",
            "0.8194444444444444 0.6750000000000005\n",
            "0.8194444444444444 0.6760000000000005\n",
            "0.8194444444444444 0.6770000000000005\n",
            "0.8194444444444444 0.6780000000000005\n",
            "0.8194444444444444 0.6790000000000005\n",
            "0.8194444444444444 0.6800000000000005\n",
            "0.8194444444444444 0.6810000000000005\n",
            "0.8194444444444444 0.6820000000000005\n",
            "0.8194444444444444 0.6830000000000005\n",
            "0.8194444444444444 0.6840000000000005\n",
            "0.8194444444444444 0.6850000000000005\n",
            "0.8194444444444444 0.6860000000000005\n",
            "0.8194444444444444 0.6870000000000005\n",
            "0.8055555555555556 0.6880000000000005\n",
            "0.8055555555555556 0.6890000000000005\n",
            "0.8055555555555556 0.6900000000000005\n",
            "0.8055555555555556 0.6910000000000005\n",
            "0.8055555555555556 0.6920000000000005\n",
            "0.8055555555555556 0.6930000000000005\n",
            "0.8055555555555556 0.6940000000000005\n",
            "0.8055555555555556 0.6950000000000005\n",
            "0.8055555555555556 0.6960000000000005\n",
            "0.8055555555555556 0.6970000000000005\n",
            "0.8055555555555556 0.6980000000000005\n",
            "0.8055555555555556 0.6990000000000005\n",
            "0.8055555555555556 0.7000000000000005\n",
            "0.8055555555555556 0.7010000000000005\n",
            "0.8055555555555556 0.7020000000000005\n",
            "0.8055555555555556 0.7030000000000005\n",
            "0.8009259259259259 0.7040000000000005\n",
            "0.8009259259259259 0.7050000000000005\n",
            "0.8009259259259259 0.7060000000000005\n",
            "0.8009259259259259 0.7070000000000005\n",
            "0.8009259259259259 0.7080000000000005\n",
            "0.8009259259259259 0.7090000000000005\n",
            "0.8009259259259259 0.7100000000000005\n",
            "0.8009259259259259 0.7110000000000005\n",
            "0.8009259259259259 0.7120000000000005\n",
            "0.8009259259259259 0.7130000000000005\n",
            "0.8009259259259259 0.7140000000000005\n",
            "0.8009259259259259 0.7150000000000005\n",
            "0.8009259259259259 0.7160000000000005\n",
            "0.8009259259259259 0.7170000000000005\n",
            "0.8009259259259259 0.7180000000000005\n",
            "0.7777777777777778 0.7190000000000005\n",
            "0.7777777777777778 0.7200000000000005\n",
            "0.7777777777777778 0.7210000000000005\n",
            "0.7777777777777778 0.7220000000000005\n",
            "0.7777777777777778 0.7230000000000005\n",
            "0.7777777777777778 0.7240000000000005\n",
            "0.7777777777777778 0.7250000000000005\n",
            "0.7777777777777778 0.7260000000000005\n",
            "0.7777777777777778 0.7270000000000005\n",
            "0.7777777777777778 0.7280000000000005\n",
            "0.7777777777777778 0.7290000000000005\n",
            "0.7777777777777778 0.7300000000000005\n",
            "0.7777777777777778 0.7310000000000005\n",
            "0.7777777777777778 0.7320000000000005\n",
            "0.7777777777777778 0.7330000000000005\n",
            "0.7777777777777778 0.7340000000000005\n",
            "0.7546296296296297 0.7350000000000005\n",
            "0.7546296296296297 0.7360000000000005\n",
            "0.7546296296296297 0.7370000000000005\n",
            "0.7546296296296297 0.7380000000000005\n",
            "0.7546296296296297 0.7390000000000005\n",
            "0.7546296296296297 0.7400000000000005\n",
            "0.7546296296296297 0.7410000000000005\n",
            "0.7546296296296297 0.7420000000000005\n",
            "0.7546296296296297 0.7430000000000005\n",
            "0.7546296296296297 0.7440000000000005\n",
            "0.7546296296296297 0.7450000000000006\n",
            "0.7546296296296297 0.7460000000000006\n",
            "0.7546296296296297 0.7470000000000006\n",
            "0.7546296296296297 0.7480000000000006\n",
            "0.7546296296296297 0.7490000000000006\n",
            "0.7407407407407407 0.7500000000000006\n",
            "0.7407407407407407 0.7510000000000006\n",
            "0.7407407407407407 0.7520000000000006\n",
            "0.7407407407407407 0.7530000000000006\n",
            "0.7407407407407407 0.7540000000000006\n",
            "0.7407407407407407 0.7550000000000006\n",
            "0.7407407407407407 0.7560000000000006\n",
            "0.7407407407407407 0.7570000000000006\n",
            "0.7407407407407407 0.7580000000000006\n",
            "0.7407407407407407 0.7590000000000006\n",
            "0.7407407407407407 0.7600000000000006\n",
            "0.7407407407407407 0.7610000000000006\n",
            "0.7407407407407407 0.7620000000000006\n",
            "0.7407407407407407 0.7630000000000006\n",
            "0.7407407407407407 0.7640000000000006\n",
            "0.7407407407407407 0.7650000000000006\n",
            "0.7129629629629629 0.7660000000000006\n",
            "0.7129629629629629 0.7670000000000006\n",
            "0.7129629629629629 0.7680000000000006\n",
            "0.7129629629629629 0.7690000000000006\n",
            "0.7129629629629629 0.7700000000000006\n",
            "0.7129629629629629 0.7710000000000006\n",
            "0.7129629629629629 0.7720000000000006\n",
            "0.7129629629629629 0.7730000000000006\n",
            "0.7129629629629629 0.7740000000000006\n",
            "0.7129629629629629 0.7750000000000006\n",
            "0.7129629629629629 0.7760000000000006\n",
            "0.7129629629629629 0.7770000000000006\n",
            "0.7129629629629629 0.7780000000000006\n",
            "0.7129629629629629 0.7790000000000006\n",
            "0.7129629629629629 0.7800000000000006\n",
            "0.7129629629629629 0.7810000000000006\n",
            "0.6944444444444444 0.7820000000000006\n",
            "0.6944444444444444 0.7830000000000006\n",
            "0.6944444444444444 0.7840000000000006\n",
            "0.6944444444444444 0.7850000000000006\n",
            "0.6944444444444444 0.7860000000000006\n",
            "0.6944444444444444 0.7870000000000006\n",
            "0.6944444444444444 0.7880000000000006\n",
            "0.6944444444444444 0.7890000000000006\n",
            "0.6944444444444444 0.7900000000000006\n",
            "0.6944444444444444 0.7910000000000006\n",
            "0.6944444444444444 0.7920000000000006\n",
            "0.6944444444444444 0.7930000000000006\n",
            "0.6944444444444444 0.7940000000000006\n",
            "0.6944444444444444 0.7950000000000006\n",
            "0.6944444444444444 0.7960000000000006\n",
            "0.6898148148148148 0.7970000000000006\n",
            "0.6898148148148148 0.7980000000000006\n",
            "0.6898148148148148 0.7990000000000006\n",
            "0.6898148148148148 0.8000000000000006\n",
            "0.6898148148148148 0.8010000000000006\n",
            "0.6898148148148148 0.8020000000000006\n",
            "0.6898148148148148 0.8030000000000006\n",
            "0.6898148148148148 0.8040000000000006\n",
            "0.6898148148148148 0.8050000000000006\n",
            "0.6898148148148148 0.8060000000000006\n",
            "0.6898148148148148 0.8070000000000006\n",
            "0.6898148148148148 0.8080000000000006\n",
            "0.6898148148148148 0.8090000000000006\n",
            "0.6898148148148148 0.8100000000000006\n",
            "0.6898148148148148 0.8110000000000006\n",
            "0.6898148148148148 0.8120000000000006\n",
            "0.6712962962962963 0.8130000000000006\n",
            "0.6712962962962963 0.8140000000000006\n",
            "0.6712962962962963 0.8150000000000006\n",
            "0.6712962962962963 0.8160000000000006\n",
            "0.6712962962962963 0.8170000000000006\n",
            "0.6712962962962963 0.8180000000000006\n",
            "0.6712962962962963 0.8190000000000006\n",
            "0.6712962962962963 0.8200000000000006\n",
            "0.6712962962962963 0.8210000000000006\n",
            "0.6712962962962963 0.8220000000000006\n",
            "0.6712962962962963 0.8230000000000006\n",
            "0.6712962962962963 0.8240000000000006\n",
            "0.6712962962962963 0.8250000000000006\n",
            "0.6712962962962963 0.8260000000000006\n",
            "0.6712962962962963 0.8270000000000006\n",
            "0.6712962962962963 0.8280000000000006\n",
            "0.6342592592592593 0.8290000000000006\n",
            "0.6342592592592593 0.8300000000000006\n",
            "0.6342592592592593 0.8310000000000006\n",
            "0.6342592592592593 0.8320000000000006\n",
            "0.6342592592592593 0.8330000000000006\n",
            "0.6342592592592593 0.8340000000000006\n",
            "0.6342592592592593 0.8350000000000006\n",
            "0.6342592592592593 0.8360000000000006\n",
            "0.6342592592592593 0.8370000000000006\n",
            "0.6342592592592593 0.8380000000000006\n",
            "0.6342592592592593 0.8390000000000006\n",
            "0.6342592592592593 0.8400000000000006\n",
            "0.6342592592592593 0.8410000000000006\n",
            "0.6342592592592593 0.8420000000000006\n",
            "0.6342592592592593 0.8430000000000006\n",
            "0.6296296296296297 0.8440000000000006\n",
            "0.6296296296296297 0.8450000000000006\n",
            "0.6296296296296297 0.8460000000000006\n",
            "0.6296296296296297 0.8470000000000006\n",
            "0.6296296296296297 0.8480000000000006\n",
            "0.6296296296296297 0.8490000000000006\n",
            "0.6296296296296297 0.8500000000000006\n",
            "0.6296296296296297 0.8510000000000006\n",
            "0.6296296296296297 0.8520000000000006\n",
            "0.6296296296296297 0.8530000000000006\n",
            "0.6296296296296297 0.8540000000000006\n",
            "0.6296296296296297 0.8550000000000006\n",
            "0.6296296296296297 0.8560000000000006\n",
            "0.6296296296296297 0.8570000000000007\n",
            "0.6296296296296297 0.8580000000000007\n",
            "0.6296296296296297 0.8590000000000007\n",
            "0.6157407407407407 0.8600000000000007\n",
            "0.6157407407407407 0.8610000000000007\n",
            "0.6157407407407407 0.8620000000000007\n",
            "0.6157407407407407 0.8630000000000007\n",
            "0.6157407407407407 0.8640000000000007\n",
            "0.6157407407407407 0.8650000000000007\n",
            "0.6157407407407407 0.8660000000000007\n",
            "0.6157407407407407 0.8670000000000007\n",
            "0.6157407407407407 0.8680000000000007\n",
            "0.6157407407407407 0.8690000000000007\n",
            "0.6157407407407407 0.8700000000000007\n",
            "0.6157407407407407 0.8710000000000007\n",
            "0.6157407407407407 0.8720000000000007\n",
            "0.6157407407407407 0.8730000000000007\n",
            "0.6157407407407407 0.8740000000000007\n",
            "0.5972222222222222 0.8750000000000007\n",
            "0.5972222222222222 0.8760000000000007\n",
            "0.5972222222222222 0.8770000000000007\n",
            "0.5972222222222222 0.8780000000000007\n",
            "0.5972222222222222 0.8790000000000007\n",
            "0.5972222222222222 0.8800000000000007\n",
            "0.5972222222222222 0.8810000000000007\n",
            "0.5972222222222222 0.8820000000000007\n",
            "0.5972222222222222 0.8830000000000007\n",
            "0.5972222222222222 0.8840000000000007\n",
            "0.5972222222222222 0.8850000000000007\n",
            "0.5972222222222222 0.8860000000000007\n",
            "0.5972222222222222 0.8870000000000007\n",
            "0.5972222222222222 0.8880000000000007\n",
            "0.5972222222222222 0.8890000000000007\n",
            "0.5972222222222222 0.8900000000000007\n",
            "0.5787037037037037 0.8910000000000007\n",
            "0.5787037037037037 0.8920000000000007\n",
            "0.5787037037037037 0.8930000000000007\n",
            "0.5787037037037037 0.8940000000000007\n",
            "0.5787037037037037 0.8950000000000007\n",
            "0.5787037037037037 0.8960000000000007\n",
            "0.5787037037037037 0.8970000000000007\n",
            "0.5787037037037037 0.8980000000000007\n",
            "0.5787037037037037 0.8990000000000007\n",
            "0.5787037037037037 0.9000000000000007\n",
            "0.5787037037037037 0.9010000000000007\n",
            "0.5787037037037037 0.9020000000000007\n",
            "0.5787037037037037 0.9030000000000007\n",
            "0.5787037037037037 0.9040000000000007\n",
            "0.5787037037037037 0.9050000000000007\n",
            "0.5787037037037037 0.9060000000000007\n",
            "0.5648148148148148 0.9070000000000007\n",
            "0.5648148148148148 0.9080000000000007\n",
            "0.5648148148148148 0.9090000000000007\n",
            "0.5648148148148148 0.9100000000000007\n",
            "0.5648148148148148 0.9110000000000007\n",
            "0.5648148148148148 0.9120000000000007\n",
            "0.5648148148148148 0.9130000000000007\n",
            "0.5648148148148148 0.9140000000000007\n",
            "0.5648148148148148 0.9150000000000007\n",
            "0.5648148148148148 0.9160000000000007\n",
            "0.5648148148148148 0.9170000000000007\n",
            "0.5648148148148148 0.9180000000000007\n",
            "0.5648148148148148 0.9190000000000007\n",
            "0.5648148148148148 0.9200000000000007\n",
            "0.5648148148148148 0.9210000000000007\n",
            "0.5416666666666666 0.9220000000000007\n",
            "0.5416666666666666 0.9230000000000007\n",
            "0.5416666666666666 0.9240000000000007\n",
            "0.5416666666666666 0.9250000000000007\n",
            "0.5416666666666666 0.9260000000000007\n",
            "0.5416666666666666 0.9270000000000007\n",
            "0.5416666666666666 0.9280000000000007\n",
            "0.5416666666666666 0.9290000000000007\n",
            "0.5416666666666666 0.9300000000000007\n",
            "0.5416666666666666 0.9310000000000007\n",
            "0.5416666666666666 0.9320000000000007\n",
            "0.5416666666666666 0.9330000000000007\n",
            "0.5416666666666666 0.9340000000000007\n",
            "0.5416666666666666 0.9350000000000007\n",
            "0.5416666666666666 0.9360000000000007\n",
            "0.5416666666666666 0.9370000000000007\n",
            "0.5277777777777778 0.9380000000000007\n",
            "0.5277777777777778 0.9390000000000007\n",
            "0.5277777777777778 0.9400000000000007\n",
            "0.5277777777777778 0.9410000000000007\n",
            "0.5277777777777778 0.9420000000000007\n",
            "0.5277777777777778 0.9430000000000007\n",
            "0.5277777777777778 0.9440000000000007\n",
            "0.5277777777777778 0.9450000000000007\n",
            "0.5277777777777778 0.9460000000000007\n",
            "0.5277777777777778 0.9470000000000007\n",
            "0.5277777777777778 0.9480000000000007\n",
            "0.5277777777777778 0.9490000000000007\n",
            "0.5277777777777778 0.9500000000000007\n",
            "0.5277777777777778 0.9510000000000007\n",
            "0.5277777777777778 0.9520000000000007\n",
            "0.5277777777777778 0.9530000000000007\n",
            "0.5185185185185185 0.9540000000000007\n",
            "0.5185185185185185 0.9550000000000007\n",
            "0.5185185185185185 0.9560000000000007\n",
            "0.5185185185185185 0.9570000000000007\n",
            "0.5185185185185185 0.9580000000000007\n",
            "0.5185185185185185 0.9590000000000007\n",
            "0.5185185185185185 0.9600000000000007\n",
            "0.5185185185185185 0.9610000000000007\n",
            "0.5185185185185185 0.9620000000000007\n",
            "0.5185185185185185 0.9630000000000007\n",
            "0.5185185185185185 0.9640000000000007\n",
            "0.5185185185185185 0.9650000000000007\n",
            "0.5185185185185185 0.9660000000000007\n",
            "0.5185185185185185 0.9670000000000007\n",
            "0.5185185185185185 0.9680000000000007\n",
            "0.5092592592592593 0.9690000000000007\n",
            "0.5092592592592593 0.9700000000000008\n",
            "0.5092592592592593 0.9710000000000008\n",
            "0.5092592592592593 0.9720000000000008\n",
            "0.5092592592592593 0.9730000000000008\n",
            "0.5092592592592593 0.9740000000000008\n",
            "0.5092592592592593 0.9750000000000008\n",
            "0.5092592592592593 0.9760000000000008\n",
            "0.5092592592592593 0.9770000000000008\n",
            "0.5092592592592593 0.9780000000000008\n",
            "0.5092592592592593 0.9790000000000008\n",
            "0.5092592592592593 0.9800000000000008\n",
            "0.5092592592592593 0.9810000000000008\n",
            "0.5092592592592593 0.9820000000000008\n",
            "0.5092592592592593 0.9830000000000008\n",
            "0.5092592592592593 0.9840000000000008\n",
            "0.5046296296296297 0.9850000000000008\n",
            "0.5046296296296297 0.9860000000000008\n",
            "0.5046296296296297 0.9870000000000008\n",
            "0.5046296296296297 0.9880000000000008\n",
            "0.5046296296296297 0.9890000000000008\n",
            "0.5046296296296297 0.9900000000000008\n",
            "0.5046296296296297 0.9910000000000008\n",
            "0.5046296296296297 0.9920000000000008\n",
            "0.5046296296296297 0.9930000000000008\n",
            "0.5046296296296297 0.9940000000000008\n",
            "0.5046296296296297 0.9950000000000008\n",
            "0.5046296296296297 0.9960000000000008\n",
            "0.5046296296296297 0.9970000000000008\n",
            "0.5046296296296297 0.9980000000000008\n",
            "0.5046296296296297 0.9990000000000008\n"
          ]
        }
      ]
    },
    {
      "cell_type": "code",
      "source": [],
      "metadata": {
        "id": "grBldocWizyI"
      },
      "execution_count": null,
      "outputs": []
    },
    {
      "cell_type": "markdown",
      "source": [
        "## ROC 커브"
      ],
      "metadata": {
        "id": "oFSc8VWO0fNR"
      }
    },
    {
      "cell_type": "code",
      "source": [
        "\n",
        "fpr, tpr, thresholds = roc_curve(labels_test, XG_model.predict_proba(band_power_test)[:, 1])\n",
        "roc_auc = auc(fpr, tpr)\n",
        "\n",
        "print(\"ROC AUC:\", roc_auc)\n",
        "plt.figure()\n",
        "lw = 2\n",
        "plt.plot(fpr, tpr, color='darkorange',\n",
        "         lw=lw, label='ROC curve (area = %0.2f)' % roc_auc)\n",
        "plt.plot([0, 1], [0, 1], color='navy', lw=lw, linestyle='--')\n",
        "plt.xlim([0.0, 1.0])\n",
        "plt.ylim([0.0, 1.05])\n",
        "plt.xlabel('False Positive Rate')\n",
        "plt.ylabel('True Positive Rate')\n",
        "plt.title('Receiver Operating Characteristic')\n",
        "plt.legend(loc=\"lower right\")\n",
        "plt.show()"
      ],
      "metadata": {
        "colab": {
          "base_uri": "https://localhost:8080/",
          "height": 489
        },
        "id": "R6JWhPfk0iIb",
        "outputId": "0d315187-bb80-491c-d0a9-7ba39d0b1844"
      },
      "execution_count": null,
      "outputs": [
        {
          "output_type": "stream",
          "name": "stdout",
          "text": [
            "ROC AUC: 0.7892319897728857\n"
          ]
        },
        {
          "output_type": "display_data",
          "data": {
            "text/plain": [
              "<Figure size 640x480 with 1 Axes>"
            ],
            "image/png": "[encoded data removed]"
          },
          "metadata": {}
        }
      ]
    },
    {
      "cell_type": "code",
      "source": [
        "plt.figure()\n",
        "lw = 2\n",
        "plt.plot(tt, acc, color='darkorange')\n",
        "\n",
        "plt.xlim([0.0, 1.0])\n",
        "plt.ylim([0.0, 1.05])\n",
        "plt.xlabel('th')\n",
        "plt.ylabel('acc')\n",
        "plt.show()"
      ],
      "metadata": {
        "colab": {
          "base_uri": "https://localhost:8080/",
          "height": 449
        },
        "id": "sUVEE49yf6Rn",
        "outputId": "40d4e346-ec98-469e-9b93-433f572f9eef"
      },
      "execution_count": null,
      "outputs": [
        {
          "output_type": "display_data",
          "data": {
            "text/plain": [
              "<Figure size 640x480 with 1 Axes>"
            ],
            "image/png": "[encoded data removed]"
          },
          "metadata": {}
        }
      ]
    },
    {
      "cell_type": "code",
      "source": [
        "\n",
        "answer = []\n",
        "\n",
        "for i in range(216):\n",
        "    pred = []\n",
        "    for s in range(64):\n",
        "        pred.append(y_test_pred_xg[i*64+s])\n",
        "    if sum(pred)/len(pred) >=0.45:\n",
        "        answer.append(1)\n",
        "    else:\n",
        "        answer.append(0)\n",
        "print(accuracy_score(y_test, answer))"
      ],
      "metadata": {
        "colab": {
          "base_uri": "https://localhost:8080/"
        },
        "id": "OFevCfbti1ez",
        "outputId": "104918e4-cce8-402f-e331-3b85c35d6609"
      },
      "execution_count": null,
      "outputs": [
        {
          "output_type": "stream",
          "name": "stdout",
          "text": [
            "0.8703703703703703\n"
          ]
        }
      ]
    },
    {
      "cell_type": "code",
      "source": [
        "from sklearn.metrics import confusion_matrix, f1_score, roc_curve, auc, RocCurveDisplay\n",
        "import matplotlib.pyplot as plt\n",
        "\n",
        "cm = confusion_matrix(y_test, answer)\n",
        "print(\"Confusion Matrix:\")\n",
        "print(cm)"
      ],
      "metadata": {
        "colab": {
          "base_uri": "https://localhost:8080/"
        },
        "id": "uDSbrIHeiois",
        "outputId": "dccfaeed-d576-4742-e7bd-94b5cb64ae0e"
      },
      "execution_count": null,
      "outputs": [
        {
          "output_type": "stream",
          "name": "stdout",
          "text": [
            "Confusion Matrix:\n",
            "[[ 84  24]\n",
            " [  4 104]]\n"
          ]
        }
      ]
    },
    {
      "cell_type": "code",
      "source": [],
      "metadata": {
        "id": "OpPfAj6_jUIr"
      },
      "execution_count": null,
      "outputs": []
    },
    {
      "cell_type": "markdown",
      "source": [
        "# Test Data에 적용"
      ],
      "metadata": {
        "id": "OJQvMVwB0nb1"
      }
    },
    {
      "cell_type": "code",
      "source": [
        "# test 파일 로드\n",
        "data_test = np.load(\"/content/drive/MyDrive/ml1/test.npy\", allow_pickle=True)\n",
        "data_test = data_test.item()\n",
        "data_input_test = data_test['input']"
      ],
      "metadata": {
        "id": "6lWdIJFp0qHJ"
      },
      "execution_count": null,
      "outputs": []
    },
    {
      "cell_type": "code",
      "source": [
        "# 전치\n",
        "\n",
        "input_T_test = []\n",
        "for i in range(120):\n",
        "    data_input_m = data_input_test[i][:][:].squeeze().T\n",
        "    input_T_test.append(data_input_m)\n",
        "\n",
        "input_T_test = np.array(input_T_test)\n",
        "input_T_test.shape"
      ],
      "metadata": {
        "colab": {
          "base_uri": "https://localhost:8080/"
        },
        "id": "kATXjUxh0vhI",
        "outputId": "14b0b12e-6039-4e1f-b782-1b08d6a8e086"
      },
      "execution_count": null,
      "outputs": [
        {
          "output_type": "execute_result",
          "data": {
            "text/plain": [
              "(120, 64, 256)"
            ]
          },
          "metadata": {},
          "execution_count": 245
        }
      ]
    },
    {
      "cell_type": "code",
      "source": [
        "data_input_test = input_T_test.reshape(120*64,256)\n",
        "data_input_test.shape"
      ],
      "metadata": {
        "colab": {
          "base_uri": "https://localhost:8080/"
        },
        "id": "kl_aOJ5P04_2",
        "outputId": "4d38ef59-1951-43e5-d0f5-4cd268d4c1af"
      },
      "execution_count": null,
      "outputs": [
        {
          "output_type": "execute_result",
          "data": {
            "text/plain": [
              "(7680, 256)"
            ]
          },
          "metadata": {},
          "execution_count": 246
        }
      ]
    },
    {
      "cell_type": "code",
      "source": [
        "# 샘플링 주파수 설정 (예: 500 Hz)\n",
        "fs = 256\n",
        "\n",
        "# 노치 필터 적용\n",
        "notch_band_test = apply_notch_filter(data_input_test, 60, fs)\n"
      ],
      "metadata": {
        "id": "1zLL1Iwz06Aa"
      },
      "execution_count": null,
      "outputs": []
    },
    {
      "cell_type": "code",
      "source": [
        "FFT_test = []\n",
        "\n",
        "for i in range(7680):\n",
        "    FFT_test.append(fft(data_input_test[i], 500))"
      ],
      "metadata": {
        "id": "dU28aM-A1Boo"
      },
      "execution_count": null,
      "outputs": []
    },
    {
      "cell_type": "code",
      "source": [
        "# 리스트 -> numpy array\n",
        "\n",
        "FFT_test = np.array(FFT_test)"
      ],
      "metadata": {
        "id": "ILDY4zR51HPH"
      },
      "execution_count": null,
      "outputs": []
    },
    {
      "cell_type": "code",
      "source": [
        "# FFT_test에 band_power 함수 적용\n",
        "band_power_test_test = np.vstack([enhanced_band_power(FFT_test[i * 64:(i + 1) * 64], 500) for i in range(120)])\n",
        "\n",
        "print(\"band_power_test shape:\", band_power_test_test.shape)"
      ],
      "metadata": {
        "colab": {
          "base_uri": "https://localhost:8080/"
        },
        "id": "taGRcrzv1JQY",
        "outputId": "0b0ee4de-51fa-4834-ab7d-d477bc8e5404"
      },
      "execution_count": null,
      "outputs": [
        {
          "output_type": "stream",
          "name": "stdout",
          "text": [
            "band_power_test shape: (7680, 250)\n"
          ]
        }
      ]
    },
    {
      "cell_type": "code",
      "source": [
        "band_power_test_test = scaler.transform(band_power_test_test)"
      ],
      "metadata": {
        "id": "hdVub9XqdSEo"
      },
      "execution_count": null,
      "outputs": []
    },
    {
      "cell_type": "code",
      "source": [
        "# predict\n",
        "\n",
        "y_test_pred_xg_test = XG_model.predict(band_power_test_test)\n",
        "print(\"y_test_pred_xg mean:\", y_test_pred_xg.mean())"
      ],
      "metadata": {
        "colab": {
          "base_uri": "https://localhost:8080/"
        },
        "id": "Z9M2DONU1LzK",
        "outputId": "76b037f9-b18d-4281-803a-581c8ec1c1b2"
      },
      "execution_count": null,
      "outputs": [
        {
          "output_type": "stream",
          "name": "stdout",
          "text": [
            "y_test_pred_xg mean: 0.5083912037037037\n"
          ]
        }
      ]
    },
    {
      "cell_type": "code",
      "source": [
        "csv = list(y_test_pred_xg_test)\n",
        "len(csv)"
      ],
      "metadata": {
        "colab": {
          "base_uri": "https://localhost:8080/"
        },
        "id": "2p-s5Wp_1d9n",
        "outputId": "fc4a8331-7f84-47a6-9778-161a40a9aeb6"
      },
      "execution_count": null,
      "outputs": [
        {
          "output_type": "execute_result",
          "data": {
            "text/plain": [
              "7680"
            ]
          },
          "metadata": {},
          "execution_count": 253
        }
      ]
    },
    {
      "cell_type": "code",
      "source": [
        "# 64개씩 1그룹. 다수결로 라벨 결정\n",
        "\n",
        "answer = []\n",
        "\n",
        "for i in range(120):\n",
        "    pred = []\n",
        "    for s in range(64):\n",
        "        pred.append(csv[i*64+s])\n",
        "    if sum(pred)/len(pred) > 0.56:\n",
        "        answer.append(1)\n",
        "    else:\n",
        "        answer.append(0)\n",
        "\n",
        "len(answer)"
      ],
      "metadata": {
        "colab": {
          "base_uri": "https://localhost:8080/"
        },
        "id": "tieoJTLM1jbv",
        "outputId": "6050a216-cc03-491e-9628-f2397e379098"
      },
      "execution_count": null,
      "outputs": [
        {
          "output_type": "execute_result",
          "data": {
            "text/plain": [
              "120"
            ]
          },
          "metadata": {},
          "execution_count": 254
        }
      ]
    },
    {
      "cell_type": "code",
      "source": [
        "test_pred = np.array(answer)\n",
        "test_pred.mean()"
      ],
      "metadata": {
        "colab": {
          "base_uri": "https://localhost:8080/"
        },
        "id": "btkW4LMs1q-g",
        "outputId": "91742e35-baeb-400e-e141-60253561a577"
      },
      "execution_count": null,
      "outputs": [
        {
          "output_type": "execute_result",
          "data": {
            "text/plain": [
              "0.5416666666666666"
            ]
          },
          "metadata": {},
          "execution_count": 255
        }
      ]
    },
    {
      "cell_type": "code",
      "source": [
        "# 제출하기\n",
        "\n",
        "id=np.arange(120)\n",
        "target=answer\n",
        "\n",
        "submission_df=pd.DataFrame({'ID':id, 'Target':target})\n",
        "\n",
        "submission_df"
      ],
      "metadata": {
        "colab": {
          "base_uri": "https://localhost:8080/",
          "height": 424
        },
        "id": "PIANMRR_1uHL",
        "outputId": "60385880-3808-48dc-e56d-4bf95e819135"
      },
      "execution_count": null,
      "outputs": [
        {
          "output_type": "execute_result",
          "data": {
            "text/plain": [
              "      ID  Target\n",
              "0      0       1\n",
              "1      1       1\n",
              "2      2       0\n",
              "3      3       1\n",
              "4      4       1\n",
              "..   ...     ...\n",
              "115  115       0\n",
              "116  116       1\n",
              "117  117       0\n",
              "118  118       0\n",
              "119  119       0\n",
              "\n",
              "[120 rows x 2 columns]"
            ],
            "text/html": [
              "\n",
              "  <div id=\"df-7e8cfc4e-3991-49a0-b994-f1da77a00157\" class=\"colab-df-container\">\n",
              "    <div>\n",
              "<style scoped>\n",
              "    .dataframe tbody tr th:only-of-type {\n",
              "        vertical-align: middle;\n",
              "    }\n",
              "\n",
              "    .dataframe tbody tr th {\n",
              "        vertical-align: top;\n",
              "    }\n",
              "\n",
              "    .dataframe thead th {\n",
              "        text-align: right;\n",
              "    }\n",
              "</style>\n",
              "<table border=\"1\" class=\"dataframe\">\n",
              "  <thead>\n",
              "    <tr style=\"text-align: right;\">\n",
              "      <th></th>\n",
              "      <th>ID</th>\n",
              "      <th>Target</th>\n",
              "    </tr>\n",
              "  </thead>\n",
              "  <tbody>\n",
              "    <tr>\n",
              "      <th>0</th>\n",
              "      <td>0</td>\n",
              "      <td>1</td>\n",
              "    </tr>\n",
              "    <tr>\n",
              "      <th>1</th>\n",
              "      <td>1</td>\n",
              "      <td>1</td>\n",
              "    </tr>\n",
              "    <tr>\n",
              "      <th>2</th>\n",
              "      <td>2</td>\n",
              "      <td>0</td>\n",
              "    </tr>\n",
              "    <tr>\n",
              "      <th>3</th>\n",
              "      <td>3</td>\n",
              "      <td>1</td>\n",
              "    </tr>\n",
              "    <tr>\n",
              "      <th>4</th>\n",
              "      <td>4</td>\n",
              "      <td>1</td>\n",
              "    </tr>\n",
              "    <tr>\n",
              "      <th>...</th>\n",
              "      <td>...</td>\n",
              "      <td>...</td>\n",
              "    </tr>\n",
              "    <tr>\n",
              "      <th>115</th>\n",
              "      <td>115</td>\n",
              "      <td>0</td>\n",
              "    </tr>\n",
              "    <tr>\n",
              "      <th>116</th>\n",
              "      <td>116</td>\n",
              "      <td>1</td>\n",
              "    </tr>\n",
              "    <tr>\n",
              "      <th>117</th>\n",
              "      <td>117</td>\n",
              "      <td>0</td>\n",
              "    </tr>\n",
              "    <tr>\n",
              "      <th>118</th>\n",
              "      <td>118</td>\n",
              "      <td>0</td>\n",
              "    </tr>\n",
              "    <tr>\n",
              "      <th>119</th>\n",
              "      <td>119</td>\n",
              "      <td>0</td>\n",
              "    </tr>\n",
              "  </tbody>\n",
              "</table>\n",
              "<p>120 rows × 2 columns</p>\n",
              "</div>\n",
              "    <div class=\"colab-df-buttons\">\n",
              "\n",
              "  <div class=\"colab-df-container\">\n",
              "    <button class=\"colab-df-convert\" onclick=\"convertToInteractive('df-7e8cfc4e-3991-49a0-b994-f1da77a00157')\"\n",
              "            title=\"Convert this dataframe to an interactive table.\"\n",
              "            style=\"display:none;\">\n",
              "\n",
              "  <svg xmlns=\"http://www.w3.org/2000/svg\" height=\"24px\" viewBox=\"0 -960 960 960\">\n",
              "    <path d=\"M120-120v-720h720v720H120Zm60-500h600v-160H180v160Zm220 220h160v-160H400v160Zm0 220h160v-160H400v160ZM180-400h160v-160H180v160Zm440 0h160v-160H620v160ZM180-180h160v-160H180v160Zm440 0h160v-160H620v160Z\"/>\n",
              "  </svg>\n",
              "    </button>\n",
              "\n",
              "  <style>\n",
              "    .colab-df-container {\n",
              "      display:flex;\n",
              "      gap: 12px;\n",
              "    }\n",
              "\n",
              "    .colab-df-convert {\n",
              "      background-color: #E8F0FE;\n",
              "      border: none;\n",
              "      border-radius: 50%;\n",
              "      cursor: pointer;\n",
              "      display: none;\n",
              "      fill: #1967D2;\n",
              "      height: 32px;\n",
              "      padding: 0 0 0 0;\n",
              "      width: 32px;\n",
              "    }\n",
              "\n",
              "    .colab-df-convert:hover {\n",
              "      background-color: #E2EBFA;\n",
              "      box-shadow: 0px 1px 2px rgba(60, 64, 67, 0.3), 0px 1px 3px 1px rgba(60, 64, 67, 0.15);\n",
              "      fill: #174EA6;\n",
              "    }\n",
              "\n",
              "    .colab-df-buttons div {\n",
              "      margin-bottom: 4px;\n",
              "    }\n",
              "\n",
              "    [theme=dark] .colab-df-convert {\n",
              "      background-color: #3B4455;\n",
              "      fill: #D2E3FC;\n",
              "    }\n",
              "\n",
              "    [theme=dark] .colab-df-convert:hover {\n",
              "      background-color: #434B5C;\n",
              "      box-shadow: 0px 1px 3px 1px rgba(0, 0, 0, 0.15);\n",
              "      filter: drop-shadow(0px 1px 2px rgba(0, 0, 0, 0.3));\n",
              "      fill: #FFFFFF;\n",
              "    }\n",
              "  </style>\n",
              "\n",
              "    <script>\n",
              "      const buttonEl =\n",
              "        document.querySelector('#df-7e8cfc4e-3991-49a0-b994-f1da77a00157 button.colab-df-convert');\n",
              "      buttonEl.style.display =\n",
              "        google.colab.kernel.accessAllowed ? 'block' : 'none';\n",
              "\n",
              "      async function convertToInteractive(key) {\n",
              "        const element = document.querySelector('#df-7e8cfc4e-3991-49a0-b994-f1da77a00157');\n",
              "        const dataTable =\n",
              "          await google.colab.kernel.invokeFunction('convertToInteractive',\n",
              "                                                    [key], {});\n",
              "        if (!dataTable) return;\n",
              "\n",
              "        const docLinkHtml = 'Like what you see? Visit the ' +\n",
              "          '<a target=\"_blank\" href=https://colab.research.google.com/notebooks/data_table.ipynb>data table notebook</a>'\n",
              "          + ' to learn more about interactive tables.';\n",
              "        element.innerHTML = '';\n",
              "        dataTable['output_type'] = 'display_data';\n",
              "        await google.colab.output.renderOutput(dataTable, element);\n",
              "        const docLink = document.createElement('div');\n",
              "        docLink.innerHTML = docLinkHtml;\n",
              "        element.appendChild(docLink);\n",
              "      }\n",
              "    </script>\n",
              "  </div>\n",
              "\n",
              "\n",
              "<div id=\"df-d1362e8e-8e5d-4fe3-888d-3e4909d885af\">\n",
              "  <button class=\"colab-df-quickchart\" onclick=\"quickchart('df-d1362e8e-8e5d-4fe3-888d-3e4909d885af')\"\n",
              "            title=\"Suggest charts\"\n",
              "            style=\"display:none;\">\n",
              "\n",
              "<svg xmlns=\"http://www.w3.org/2000/svg\" height=\"24px\"viewBox=\"0 0 24 24\"\n",
              "     width=\"24px\">\n",
              "    <g>\n",
              "        <path d=\"M19 3H5c-1.1 0-2 .9-2 2v14c0 1.1.9 2 2 2h14c1.1 0 2-.9 2-2V5c0-1.1-.9-2-2-2zM9 17H7v-7h2v7zm4 0h-2V7h2v10zm4 0h-2v-4h2v4z\"/>\n",
              "    </g>\n",
              "</svg>\n",
              "  </button>\n",
              "\n",
              "<style>\n",
              "  .colab-df-quickchart {\n",
              "      --bg-color: #E8F0FE;\n",
              "      --fill-color: #1967D2;\n",
              "      --hover-bg-color: #E2EBFA;\n",
              "      --hover-fill-color: #174EA6;\n",
              "      --disabled-fill-color: #AAA;\n",
              "      --disabled-bg-color: #DDD;\n",
              "  }\n",
              "\n",
              "  [theme=dark] .colab-df-quickchart {\n",
              "      --bg-color: #3B4455;\n",
              "      --fill-color: #D2E3FC;\n",
              "      --hover-bg-color: #434B5C;\n",
              "      --hover-fill-color: #FFFFFF;\n",
              "      --disabled-bg-color: #3B4455;\n",
              "      --disabled-fill-color: #666;\n",
              "  }\n",
              "\n",
              "  .colab-df-quickchart {\n",
              "    background-color: var(--bg-color);\n",
              "    border: none;\n",
              "    border-radius: 50%;\n",
              "    cursor: pointer;\n",
              "    display: none;\n",
              "    fill: var(--fill-color);\n",
              "    height: 32px;\n",
              "    padding: 0;\n",
              "    width: 32px;\n",
              "  }\n",
              "\n",
              "  .colab-df-quickchart:hover {\n",
              "    background-color: var(--hover-bg-color);\n",
              "    box-shadow: 0 1px 2px rgba(60, 64, 67, 0.3), 0 1px 3px 1px rgba(60, 64, 67, 0.15);\n",
              "    fill: var(--button-hover-fill-color);\n",
              "  }\n",
              "\n",
              "  .colab-df-quickchart-complete:disabled,\n",
              "  .colab-df-quickchart-complete:disabled:hover {\n",
              "    background-color: var(--disabled-bg-color);\n",
              "    fill: var(--disabled-fill-color);\n",
              "    box-shadow: none;\n",
              "  }\n",
              "\n",
              "  .colab-df-spinner {\n",
              "    border: 2px solid var(--fill-color);\n",
              "    border-color: transparent;\n",
              "    border-bottom-color: var(--fill-color);\n",
              "    animation:\n",
              "      spin 1s steps(1) infinite;\n",
              "  }\n",
              "\n",
              "  @keyframes spin {\n",
              "    0% {\n",
              "      border-color: transparent;\n",
              "      border-bottom-color: var(--fill-color);\n",
              "      border-left-color: var(--fill-color);\n",
              "    }\n",
              "    20% {\n",
              "      border-color: transparent;\n",
              "      border-left-color: var(--fill-color);\n",
              "      border-top-color: var(--fill-color);\n",
              "    }\n",
              "    30% {\n",
              "      border-color: transparent;\n",
              "      border-left-color: var(--fill-color);\n",
              "      border-top-color: var(--fill-color);\n",
              "      border-right-color: var(--fill-color);\n",
              "    }\n",
              "    40% {\n",
              "      border-color: transparent;\n",
              "      border-right-color: var(--fill-color);\n",
              "      border-top-color: var(--fill-color);\n",
              "    }\n",
              "    60% {\n",
              "      border-color: transparent;\n",
              "      border-right-color: var(--fill-color);\n",
              "    }\n",
              "    80% {\n",
              "      border-color: transparent;\n",
              "      border-right-color: var(--fill-color);\n",
              "      border-bottom-color: var(--fill-color);\n",
              "    }\n",
              "    90% {\n",
              "      border-color: transparent;\n",
              "      border-bottom-color: var(--fill-color);\n",
              "    }\n",
              "  }\n",
              "</style>\n",
              "\n",
              "  <script>\n",
              "    async function quickchart(key) {\n",
              "      const quickchartButtonEl =\n",
              "        document.querySelector('#' + key + ' button');\n",
              "      quickchartButtonEl.disabled = true;  // To prevent multiple clicks.\n",
              "      quickchartButtonEl.classList.add('colab-df-spinner');\n",
              "      try {\n",
              "        const charts = await google.colab.kernel.invokeFunction(\n",
              "            'suggestCharts', [key], {});\n",
              "      } catch (error) {\n",
              "        console.error('Error during call to suggestCharts:', error);\n",
              "      }\n",
              "      quickchartButtonEl.classList.remove('colab-df-spinner');\n",
              "      quickchartButtonEl.classList.add('colab-df-quickchart-complete');\n",
              "    }\n",
              "    (() => {\n",
              "      let quickchartButtonEl =\n",
              "        document.querySelector('#df-d1362e8e-8e5d-4fe3-888d-3e4909d885af button');\n",
              "      quickchartButtonEl.style.display =\n",
              "        google.colab.kernel.accessAllowed ? 'block' : 'none';\n",
              "    })();\n",
              "  </script>\n",
              "</div>\n",
              "\n",
              "  <div id=\"id_7afdc83e-f160-428f-aaad-c398266427df\">\n",
              "    <style>\n",
              "      .colab-df-generate {\n",
              "        background-color: #E8F0FE;\n",
              "        border: none;\n",
              "        border-radius: 50%;\n",
              "        cursor: pointer;\n",
              "        display: none;\n",
              "        fill: #1967D2;\n",
              "        height: 32px;\n",
              "        padding: 0 0 0 0;\n",
              "        width: 32px;\n",
              "      }\n",
              "\n",
              "      .colab-df-generate:hover {\n",
              "        background-color: #E2EBFA;\n",
              "        box-shadow: 0px 1px 2px rgba(60, 64, 67, 0.3), 0px 1px 3px 1px rgba(60, 64, 67, 0.15);\n",
              "        fill: #174EA6;\n",
              "      }\n",
              "\n",
              "      [theme=dark] .colab-df-generate {\n",
              "        background-color: #3B4455;\n",
              "        fill: #D2E3FC;\n",
              "      }\n",
              "\n",
              "      [theme=dark] .colab-df-generate:hover {\n",
              "        background-color: #434B5C;\n",
              "        box-shadow: 0px 1px 3px 1px rgba(0, 0, 0, 0.15);\n",
              "        filter: drop-shadow(0px 1px 2px rgba(0, 0, 0, 0.3));\n",
              "        fill: #FFFFFF;\n",
              "      }\n",
              "    </style>\n",
              "    <button class=\"colab-df-generate\" onclick=\"generateWithVariable('submission_df')\"\n",
              "            title=\"Generate code using this dataframe.\"\n",
              "            style=\"display:none;\">\n",
              "\n",
              "  <svg xmlns=\"http://www.w3.org/2000/svg\" height=\"24px\"viewBox=\"0 0 24 24\"\n",
              "       width=\"24px\">\n",
              "    <path d=\"M7,19H8.4L18.45,9,17,7.55,7,17.6ZM5,21V16.75L18.45,3.32a2,2,0,0,1,2.83,0l1.4,1.43a1.91,1.91,0,0,1,.58,1.4,1.91,1.91,0,0,1-.58,1.4L9.25,21ZM18.45,9,17,7.55Zm-12,3A5.31,5.31,0,0,0,4.9,8.1,5.31,5.31,0,0,0,1,6.5,5.31,5.31,0,0,0,4.9,4.9,5.31,5.31,0,0,0,6.5,1,5.31,5.31,0,0,0,8.1,4.9,5.31,5.31,0,0,0,12,6.5,5.46,5.46,0,0,0,6.5,12Z\"/>\n",
              "  </svg>\n",
              "    </button>\n",
              "    <script>\n",
              "      (() => {\n",
              "      const buttonEl =\n",
              "        document.querySelector('#id_7afdc83e-f160-428f-aaad-c398266427df button.colab-df-generate');\n",
              "      buttonEl.style.display =\n",
              "        google.colab.kernel.accessAllowed ? 'block' : 'none';\n",
              "\n",
              "      buttonEl.onclick = () => {\n",
              "        google.colab.notebook.generateWithVariable('submission_df');\n",
              "      }\n",
              "      })();\n",
              "    </script>\n",
              "  </div>\n",
              "\n",
              "    </div>\n",
              "  </div>\n"
            ],
            "application/vnd.google.colaboratory.intrinsic+json": {
              "type": "dataframe",
              "variable_name": "submission_df",
              "summary": "{\n  \"name\": \"submission_df\",\n  \"rows\": 120,\n  \"fields\": [\n    {\n      \"column\": \"ID\",\n      \"properties\": {\n        \"dtype\": \"number\",\n        \"std\": 34,\n        \"min\": 0,\n        \"max\": 119,\n        \"num_unique_values\": 120,\n        \"samples\": [\n          44,\n          47,\n          4\n        ],\n        \"semantic_type\": \"\",\n        \"description\": \"\"\n      }\n    },\n    {\n      \"column\": \"Target\",\n      \"properties\": {\n        \"dtype\": \"number\",\n        \"std\": 0,\n        \"min\": 0,\n        \"max\": 1,\n        \"num_unique_values\": 2,\n        \"samples\": [\n          0,\n          1\n        ],\n        \"semantic_type\": \"\",\n        \"description\": \"\"\n      }\n    }\n  ]\n}"
            }
          },
          "metadata": {},
          "execution_count": 256
        }
      ]
    },
    {
      "cell_type": "code",
      "source": [
        "submission_df.mean()"
      ],
      "metadata": {
        "colab": {
          "base_uri": "https://localhost:8080/"
        },
        "id": "WUGyGWmv1ybN",
        "outputId": "51dedb80-e37f-4d53-d796-749785faf513"
      },
      "execution_count": null,
      "outputs": [
        {
          "output_type": "execute_result",
          "data": {
            "text/plain": [
              "ID        59.500000\n",
              "Target     0.541667\n",
              "dtype: float64"
            ]
          },
          "metadata": {},
          "execution_count": 257
        }
      ]
    },
    {
      "cell_type": "code",
      "source": [
        "# csv 파일로 내보내기\n",
        "\n",
        "submission_df.to_csv('submission_05129.csv',index = False)"
      ],
      "metadata": {
        "id": "0WIiSQ8X10rm"
      },
      "execution_count": null,
      "outputs": []
    },
    {
      "cell_type": "code",
      "source": [],
      "metadata": {
        "id": "wXFTqHz3doA_"
      },
      "execution_count": null,
      "outputs": []
    }
  ]
}